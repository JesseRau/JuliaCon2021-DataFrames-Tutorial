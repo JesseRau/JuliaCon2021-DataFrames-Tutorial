{
 "cells": [
  {
   "cell_type": "markdown",
   "id": "d52afe38",
   "metadata": {},
   "source": [
    "## JuliaCon 2021: [DataFrames.jl](https://github.com/JuliaData/DataFrames.jl) 1.5 tutorial for Julia 1.9\n",
    "\n",
    "### [Bogumił Kamiński](http://bogumilkaminski.pl/about/)"
   ]
  },
  {
   "cell_type": "markdown",
   "id": "4c76a224",
   "metadata": {},
   "source": [
    "## Before you start\n",
    "\n",
    "In this tutorial we will use the following statistical concepts:\n",
    "\n",
    "* [confidence intervals](https://en.wikipedia.org/wiki/Confidence_interval)\n",
    "* [density estimators](https://en.wikipedia.org/wiki/Density_estimation)\n",
    "* [probit model](https://en.wikipedia.org/wiki/Probit_model)\n",
    "* [bootstrapping](https://en.wikipedia.org/wiki/Bootstrapping_(statistics))\n",
    "\n",
    "If you want to follow the material smoothly it is recommended that you review them before continuing."
   ]
  },
  {
   "cell_type": "markdown",
   "id": "0e146d08",
   "metadata": {},
   "source": [
    "The objective of the tutorial is to give you an overview of the ecosystem. This means that I will show many things but will not discuss them deeply."
   ]
  },
  {
   "cell_type": "markdown",
   "id": "f5f34908",
   "metadata": {},
   "source": [
    "The tutorial was developed and tested under Julia 1.8.2 and should be run with Project.toml and Manifest.toml files present in the working directory of the notebook (the files are provided in the https://github.com/bkamins/Julia-DataFrames-Tutorial repository)."
   ]
  },
  {
   "cell_type": "markdown",
   "id": "c15f51a4",
   "metadata": {},
   "source": [
    "Load the packages we will use:"
   ]
  },
  {
   "cell_type": "code",
   "execution_count": 1,
   "id": "17f829f6",
   "metadata": {},
   "outputs": [],
   "source": [
    "using Bootstrap\n",
    "using CSV\n",
    "using CategoricalArrays\n",
    "using Chain\n",
    "using DataFrames\n",
    "import Downloads\n",
    "using GLM\n",
    "using Plots\n",
    "using Random\n",
    "using StatsPlots\n",
    "using Statistics"
   ]
  },
  {
   "cell_type": "markdown",
   "id": "817c9b66",
   "metadata": {},
   "source": [
    "## Data preprocessing"
   ]
  },
  {
   "cell_type": "markdown",
   "id": "1932e1fa",
   "metadata": {},
   "source": [
    "Download the file we will work with to our working directory. Note that in Julia 1.6 the `download` function is deprecated in Base, so we use the `Downloads` module that is guaraneed to stay stable in the future."
   ]
  },
  {
   "cell_type": "code",
   "execution_count": 2,
   "id": "03d78f18",
   "metadata": {},
   "outputs": [
    {
     "data": {
      "text/plain": [
       "\"participation.csv\""
      ]
     },
     "execution_count": 2,
     "metadata": {},
     "output_type": "execute_result"
    }
   ],
   "source": [
    "Downloads.download(\"https://vincentarelbundock.github.io/Rdatasets/csv/Ecdat/Participation.csv\", \"participation.csv\")"
   ]
  },
  {
   "cell_type": "markdown",
   "id": "cc309205",
   "metadata": {},
   "source": [
    "We will work with the classic *participation.csv* data.\n",
    "\n",
    "The description of the data set can be found here: https://vincentarelbundock.github.io/Rdatasets/doc/Ecdat/Participation.html."
   ]
  },
  {
   "cell_type": "code",
   "execution_count": 3,
   "id": "e861458e",
   "metadata": {},
   "outputs": [
    {
     "data": {
      "text/plain": [
       "873-element Vector{String}:\n",
       " \"\\\"\\\",\\\"lfp\\\",\\\"lnnlinc\\\",\\\"age\\\",\\\"educ\\\",\\\"nyc\\\",\\\"noc\\\",\\\"foreign\\\"\"\n",
       " \"\\\"1\\\",\\\"no\\\",10.787497,3,8,1,1,\\\"no\\\"\"\n",
       " \"\\\"2\\\",\\\"yes\\\",10.524251,4.5,8,0,1,\\\"no\\\"\"\n",
       " \"\\\"3\\\",\\\"no\\\",10.968578,4.6,9,0,0,\\\"no\\\"\"\n",
       " \"\\\"4\\\",\\\"no\\\",11.104999,3.1,11,2,0,\\\"no\\\"\"\n",
       " \"\\\"5\\\",\\\"no\\\",11.10847,4.4,12,0,2,\\\"no\\\"\"\n",
       " \"\\\"6\\\",\\\"yes\\\",11.028254,4.2,12,0,1,\\\"no\\\"\"\n",
       " \"\\\"7\\\",\\\"no\\\",11.454707,5.1,8,0,0,\\\"no\\\"\"\n",
       " \"\\\"8\\\",\\\"yes\\\",10.490918,3.2,8,0,2,\\\"no\\\"\"\n",
       " \"\\\"9\\\",\\\"no\\\",10.62474,3.9,12,0,0,\\\"no\\\"\"\n",
       " \"\\\"10\\\",\\\"no\\\",10.48642,4.3,11,0,2,\\\"no\\\"\"\n",
       " \"\\\"11\\\",\\\"no\\\",10.660618,4.5,11,0,2,\\\"no\\\"\"\n",
       " \"\\\"12\\\",\\\"no\\\",10.467589,6,12,0,0,\\\"no\\\"\"\n",
       " ⋮\n",
       " \"\\\"861\\\",\\\"yes\\\",10.528899,3.4,9,1,1,\\\"yes\\\"\"\n",
       " \"\\\"862\\\",\\\"yes\\\",10.468534,3.3,6,0,2,\\\"yes\\\"\"\n",
       " \"\\\"863\\\",\\\"no\\\",11.110955,3.5,10,1,1,\\\"yes\\\"\"\n",
       " \"\\\"864\\\",\\\"no\\\",10.471365,5.1,9,0,1,\\\"yes\\\"\"\n",
       " \"\\\"865\\\",\\\"no\\\",10.147503,4.1,5,1,0,\\\"yes\\\"\"\n",
       " \"\\\"866\\\",\\\"yes\\\",10.69323,3.5,9,0,2,\\\"yes\\\"\"\n",
       " \"\\\"867\\\",\\\"yes\\\",10.027595,4.2,14,0,0,\\\"yes\\\"\"\n",
       " \"\\\"868\\\",\\\"no\\\",10.597393,2.4,4,2,1,\\\"yes\\\"\"\n",
       " \"\\\"869\\\",\\\"yes\\\",10.377773,4.8,8,0,0,\\\"yes\\\"\"\n",
       " \"\\\"870\\\",\\\"no\\\",10.13374,2.4,6,2,0,\\\"yes\\\"\"\n",
       " \"\\\"871\\\",\\\"yes\\\",10.932351,4.1,10,0,1,\\\"yes\\\"\"\n",
       " \"\\\"872\\\",\\\"no\\\",11.220691,5.1,10,0,0,\\\"yes\\\"\""
      ]
     },
     "execution_count": 3,
     "metadata": {},
     "output_type": "execute_result"
    }
   ],
   "source": [
    "readlines(\"participation.csv\")"
   ]
  },
  {
   "cell_type": "markdown",
   "id": "793ac352",
   "metadata": {},
   "source": [
    "Our objective is to build a model predicting the `:lfp` variable (labor force participation)."
   ]
  },
  {
   "cell_type": "markdown",
   "id": "46ffdb56",
   "metadata": {},
   "source": [
    "First read in the data into a data frame:"
   ]
  },
  {
   "cell_type": "code",
   "execution_count": 4,
   "id": "52586b96",
   "metadata": {},
   "outputs": [
    {
     "data": {
      "text/html": [
       "<div><div style = \"float: left;\"><span>872×8 DataFrame</span></div><div style = \"float: right;\"><span style = \"font-style: italic;\">847 rows omitted</span></div><div style = \"clear: both;\"></div></div><div class = \"data-frame\" style = \"overflow-x: scroll;\"><table class = \"data-frame\" style = \"margin-bottom: 6px;\"><thead><tr class = \"header\"><th class = \"rowNumber\" style = \"font-weight: bold; text-align: right;\">Row</th><th style = \"text-align: left;\">Column1</th><th style = \"text-align: left;\">lfp</th><th style = \"text-align: left;\">lnnlinc</th><th style = \"text-align: left;\">age</th><th style = \"text-align: left;\">educ</th><th style = \"text-align: left;\">nyc</th><th style = \"text-align: left;\">noc</th><th style = \"text-align: left;\">foreign</th></tr><tr class = \"subheader headerLastRow\"><th class = \"rowNumber\" style = \"font-weight: bold; text-align: right;\"></th><th title = \"Int64\" style = \"text-align: left;\">Int64</th><th title = \"String3\" style = \"text-align: left;\">String3</th><th title = \"Float64\" style = \"text-align: left;\">Float64</th><th title = \"Float64\" style = \"text-align: left;\">Float64</th><th title = \"Int64\" style = \"text-align: left;\">Int64</th><th title = \"Int64\" style = \"text-align: left;\">Int64</th><th title = \"Int64\" style = \"text-align: left;\">Int64</th><th title = \"String3\" style = \"text-align: left;\">String3</th></tr></thead><tbody><tr><td class = \"rowNumber\" style = \"font-weight: bold; text-align: right;\">1</td><td style = \"text-align: right;\">1</td><td style = \"text-align: left;\">no</td><td style = \"text-align: right;\">10.7875</td><td style = \"text-align: right;\">3.0</td><td style = \"text-align: right;\">8</td><td style = \"text-align: right;\">1</td><td style = \"text-align: right;\">1</td><td style = \"text-align: left;\">no</td></tr><tr><td class = \"rowNumber\" style = \"font-weight: bold; text-align: right;\">2</td><td style = \"text-align: right;\">2</td><td style = \"text-align: left;\">yes</td><td style = \"text-align: right;\">10.5243</td><td style = \"text-align: right;\">4.5</td><td style = \"text-align: right;\">8</td><td style = \"text-align: right;\">0</td><td style = \"text-align: right;\">1</td><td style = \"text-align: left;\">no</td></tr><tr><td class = \"rowNumber\" style = \"font-weight: bold; text-align: right;\">3</td><td style = \"text-align: right;\">3</td><td style = \"text-align: left;\">no</td><td style = \"text-align: right;\">10.9686</td><td style = \"text-align: right;\">4.6</td><td style = \"text-align: right;\">9</td><td style = \"text-align: right;\">0</td><td style = \"text-align: right;\">0</td><td style = \"text-align: left;\">no</td></tr><tr><td class = \"rowNumber\" style = \"font-weight: bold; text-align: right;\">4</td><td style = \"text-align: right;\">4</td><td style = \"text-align: left;\">no</td><td style = \"text-align: right;\">11.105</td><td style = \"text-align: right;\">3.1</td><td style = \"text-align: right;\">11</td><td style = \"text-align: right;\">2</td><td style = \"text-align: right;\">0</td><td style = \"text-align: left;\">no</td></tr><tr><td class = \"rowNumber\" style = \"font-weight: bold; text-align: right;\">5</td><td style = \"text-align: right;\">5</td><td style = \"text-align: left;\">no</td><td style = \"text-align: right;\">11.1085</td><td style = \"text-align: right;\">4.4</td><td style = \"text-align: right;\">12</td><td style = \"text-align: right;\">0</td><td style = \"text-align: right;\">2</td><td style = \"text-align: left;\">no</td></tr><tr><td class = \"rowNumber\" style = \"font-weight: bold; text-align: right;\">6</td><td style = \"text-align: right;\">6</td><td style = \"text-align: left;\">yes</td><td style = \"text-align: right;\">11.0283</td><td style = \"text-align: right;\">4.2</td><td style = \"text-align: right;\">12</td><td style = \"text-align: right;\">0</td><td style = \"text-align: right;\">1</td><td style = \"text-align: left;\">no</td></tr><tr><td class = \"rowNumber\" style = \"font-weight: bold; text-align: right;\">7</td><td style = \"text-align: right;\">7</td><td style = \"text-align: left;\">no</td><td style = \"text-align: right;\">11.4547</td><td style = \"text-align: right;\">5.1</td><td style = \"text-align: right;\">8</td><td style = \"text-align: right;\">0</td><td style = \"text-align: right;\">0</td><td style = \"text-align: left;\">no</td></tr><tr><td class = \"rowNumber\" style = \"font-weight: bold; text-align: right;\">8</td><td style = \"text-align: right;\">8</td><td style = \"text-align: left;\">yes</td><td style = \"text-align: right;\">10.4909</td><td style = \"text-align: right;\">3.2</td><td style = \"text-align: right;\">8</td><td style = \"text-align: right;\">0</td><td style = \"text-align: right;\">2</td><td style = \"text-align: left;\">no</td></tr><tr><td class = \"rowNumber\" style = \"font-weight: bold; text-align: right;\">9</td><td style = \"text-align: right;\">9</td><td style = \"text-align: left;\">no</td><td style = \"text-align: right;\">10.6247</td><td style = \"text-align: right;\">3.9</td><td style = \"text-align: right;\">12</td><td style = \"text-align: right;\">0</td><td style = \"text-align: right;\">0</td><td style = \"text-align: left;\">no</td></tr><tr><td class = \"rowNumber\" style = \"font-weight: bold; text-align: right;\">10</td><td style = \"text-align: right;\">10</td><td style = \"text-align: left;\">no</td><td style = \"text-align: right;\">10.4864</td><td style = \"text-align: right;\">4.3</td><td style = \"text-align: right;\">11</td><td style = \"text-align: right;\">0</td><td style = \"text-align: right;\">2</td><td style = \"text-align: left;\">no</td></tr><tr><td class = \"rowNumber\" style = \"font-weight: bold; text-align: right;\">11</td><td style = \"text-align: right;\">11</td><td style = \"text-align: left;\">no</td><td style = \"text-align: right;\">10.6606</td><td style = \"text-align: right;\">4.5</td><td style = \"text-align: right;\">11</td><td style = \"text-align: right;\">0</td><td style = \"text-align: right;\">2</td><td style = \"text-align: left;\">no</td></tr><tr><td class = \"rowNumber\" style = \"font-weight: bold; text-align: right;\">12</td><td style = \"text-align: right;\">12</td><td style = \"text-align: left;\">no</td><td style = \"text-align: right;\">10.4676</td><td style = \"text-align: right;\">6.0</td><td style = \"text-align: right;\">12</td><td style = \"text-align: right;\">0</td><td style = \"text-align: right;\">0</td><td style = \"text-align: left;\">no</td></tr><tr><td class = \"rowNumber\" style = \"font-weight: bold; text-align: right;\">13</td><td style = \"text-align: right;\">13</td><td style = \"text-align: left;\">no</td><td style = \"text-align: right;\">11.2296</td><td style = \"text-align: right;\">3.3</td><td style = \"text-align: right;\">11</td><td style = \"text-align: right;\">2</td><td style = \"text-align: right;\">0</td><td style = \"text-align: left;\">no</td></tr><tr><td style = \"text-align: right;\">&vellip;</td><td style = \"text-align: right;\">&vellip;</td><td style = \"text-align: right;\">&vellip;</td><td style = \"text-align: right;\">&vellip;</td><td style = \"text-align: right;\">&vellip;</td><td style = \"text-align: right;\">&vellip;</td><td style = \"text-align: right;\">&vellip;</td><td style = \"text-align: right;\">&vellip;</td><td style = \"text-align: right;\">&vellip;</td></tr><tr><td class = \"rowNumber\" style = \"font-weight: bold; text-align: right;\">861</td><td style = \"text-align: right;\">861</td><td style = \"text-align: left;\">yes</td><td style = \"text-align: right;\">10.5289</td><td style = \"text-align: right;\">3.4</td><td style = \"text-align: right;\">9</td><td style = \"text-align: right;\">1</td><td style = \"text-align: right;\">1</td><td style = \"text-align: left;\">yes</td></tr><tr><td class = \"rowNumber\" style = \"font-weight: bold; text-align: right;\">862</td><td style = \"text-align: right;\">862</td><td style = \"text-align: left;\">yes</td><td style = \"text-align: right;\">10.4685</td><td style = \"text-align: right;\">3.3</td><td style = \"text-align: right;\">6</td><td style = \"text-align: right;\">0</td><td style = \"text-align: right;\">2</td><td style = \"text-align: left;\">yes</td></tr><tr><td class = \"rowNumber\" style = \"font-weight: bold; text-align: right;\">863</td><td style = \"text-align: right;\">863</td><td style = \"text-align: left;\">no</td><td style = \"text-align: right;\">11.111</td><td style = \"text-align: right;\">3.5</td><td style = \"text-align: right;\">10</td><td style = \"text-align: right;\">1</td><td style = \"text-align: right;\">1</td><td style = \"text-align: left;\">yes</td></tr><tr><td class = \"rowNumber\" style = \"font-weight: bold; text-align: right;\">864</td><td style = \"text-align: right;\">864</td><td style = \"text-align: left;\">no</td><td style = \"text-align: right;\">10.4714</td><td style = \"text-align: right;\">5.1</td><td style = \"text-align: right;\">9</td><td style = \"text-align: right;\">0</td><td style = \"text-align: right;\">1</td><td style = \"text-align: left;\">yes</td></tr><tr><td class = \"rowNumber\" style = \"font-weight: bold; text-align: right;\">865</td><td style = \"text-align: right;\">865</td><td style = \"text-align: left;\">no</td><td style = \"text-align: right;\">10.1475</td><td style = \"text-align: right;\">4.1</td><td style = \"text-align: right;\">5</td><td style = \"text-align: right;\">1</td><td style = \"text-align: right;\">0</td><td style = \"text-align: left;\">yes</td></tr><tr><td class = \"rowNumber\" style = \"font-weight: bold; text-align: right;\">866</td><td style = \"text-align: right;\">866</td><td style = \"text-align: left;\">yes</td><td style = \"text-align: right;\">10.6932</td><td style = \"text-align: right;\">3.5</td><td style = \"text-align: right;\">9</td><td style = \"text-align: right;\">0</td><td style = \"text-align: right;\">2</td><td style = \"text-align: left;\">yes</td></tr><tr><td class = \"rowNumber\" style = \"font-weight: bold; text-align: right;\">867</td><td style = \"text-align: right;\">867</td><td style = \"text-align: left;\">yes</td><td style = \"text-align: right;\">10.0276</td><td style = \"text-align: right;\">4.2</td><td style = \"text-align: right;\">14</td><td style = \"text-align: right;\">0</td><td style = \"text-align: right;\">0</td><td style = \"text-align: left;\">yes</td></tr><tr><td class = \"rowNumber\" style = \"font-weight: bold; text-align: right;\">868</td><td style = \"text-align: right;\">868</td><td style = \"text-align: left;\">no</td><td style = \"text-align: right;\">10.5974</td><td style = \"text-align: right;\">2.4</td><td style = \"text-align: right;\">4</td><td style = \"text-align: right;\">2</td><td style = \"text-align: right;\">1</td><td style = \"text-align: left;\">yes</td></tr><tr><td class = \"rowNumber\" style = \"font-weight: bold; text-align: right;\">869</td><td style = \"text-align: right;\">869</td><td style = \"text-align: left;\">yes</td><td style = \"text-align: right;\">10.3778</td><td style = \"text-align: right;\">4.8</td><td style = \"text-align: right;\">8</td><td style = \"text-align: right;\">0</td><td style = \"text-align: right;\">0</td><td style = \"text-align: left;\">yes</td></tr><tr><td class = \"rowNumber\" style = \"font-weight: bold; text-align: right;\">870</td><td style = \"text-align: right;\">870</td><td style = \"text-align: left;\">no</td><td style = \"text-align: right;\">10.1337</td><td style = \"text-align: right;\">2.4</td><td style = \"text-align: right;\">6</td><td style = \"text-align: right;\">2</td><td style = \"text-align: right;\">0</td><td style = \"text-align: left;\">yes</td></tr><tr><td class = \"rowNumber\" style = \"font-weight: bold; text-align: right;\">871</td><td style = \"text-align: right;\">871</td><td style = \"text-align: left;\">yes</td><td style = \"text-align: right;\">10.9324</td><td style = \"text-align: right;\">4.1</td><td style = \"text-align: right;\">10</td><td style = \"text-align: right;\">0</td><td style = \"text-align: right;\">1</td><td style = \"text-align: left;\">yes</td></tr><tr><td class = \"rowNumber\" style = \"font-weight: bold; text-align: right;\">872</td><td style = \"text-align: right;\">872</td><td style = \"text-align: left;\">no</td><td style = \"text-align: right;\">11.2207</td><td style = \"text-align: right;\">5.1</td><td style = \"text-align: right;\">10</td><td style = \"text-align: right;\">0</td><td style = \"text-align: right;\">0</td><td style = \"text-align: left;\">yes</td></tr></tbody></table></div>"
      ],
      "text/latex": [
       "\\begin{tabular}{r|cccccccc}\n",
       "\t& Column1 & lfp & lnnlinc & age & educ & nyc & noc & foreign\\\\\n",
       "\t\\hline\n",
       "\t& Int64 & String3 & Float64 & Float64 & Int64 & Int64 & Int64 & String3\\\\\n",
       "\t\\hline\n",
       "\t1 & 1 & no & 10.7875 & 3.0 & 8 & 1 & 1 & no \\\\\n",
       "\t2 & 2 & yes & 10.5243 & 4.5 & 8 & 0 & 1 & no \\\\\n",
       "\t3 & 3 & no & 10.9686 & 4.6 & 9 & 0 & 0 & no \\\\\n",
       "\t4 & 4 & no & 11.105 & 3.1 & 11 & 2 & 0 & no \\\\\n",
       "\t5 & 5 & no & 11.1085 & 4.4 & 12 & 0 & 2 & no \\\\\n",
       "\t6 & 6 & yes & 11.0283 & 4.2 & 12 & 0 & 1 & no \\\\\n",
       "\t7 & 7 & no & 11.4547 & 5.1 & 8 & 0 & 0 & no \\\\\n",
       "\t8 & 8 & yes & 10.4909 & 3.2 & 8 & 0 & 2 & no \\\\\n",
       "\t9 & 9 & no & 10.6247 & 3.9 & 12 & 0 & 0 & no \\\\\n",
       "\t10 & 10 & no & 10.4864 & 4.3 & 11 & 0 & 2 & no \\\\\n",
       "\t11 & 11 & no & 10.6606 & 4.5 & 11 & 0 & 2 & no \\\\\n",
       "\t12 & 12 & no & 10.4676 & 6.0 & 12 & 0 & 0 & no \\\\\n",
       "\t13 & 13 & no & 11.2296 & 3.3 & 11 & 2 & 0 & no \\\\\n",
       "\t14 & 14 & no & 11.9065 & 5.6 & 14 & 0 & 0 & no \\\\\n",
       "\t15 & 15 & no & 11.5016 & 5.6 & 11 & 0 & 0 & no \\\\\n",
       "\t16 & 16 & no & 11.2935 & 4.7 & 11 & 0 & 1 & no \\\\\n",
       "\t17 & 17 & no & 10.8613 & 5.0 & 8 & 0 & 0 & no \\\\\n",
       "\t18 & 18 & yes & 11.844 & 3.9 & 12 & 0 & 0 & no \\\\\n",
       "\t19 & 19 & no & 11.0486 & 4.7 & 8 & 0 & 1 & no \\\\\n",
       "\t20 & 20 & yes & 10.9578 & 5.3 & 11 & 0 & 0 & no \\\\\n",
       "\t21 & 21 & no & 10.8601 & 2.9 & 19 & 0 & 0 & no \\\\\n",
       "\t22 & 22 & yes & 11.1081 & 4.6 & 11 & 0 & 1 & no \\\\\n",
       "\t23 & 23 & no & 10.8486 & 4.4 & 8 & 0 & 2 & no \\\\\n",
       "\t24 & 24 & no & 10.4824 & 2.0 & 12 & 1 & 0 & no \\\\\n",
       "\t25 & 25 & yes & 10.484 & 5.4 & 8 & 0 & 0 & no \\\\\n",
       "\t26 & 26 & yes & 10.6012 & 4.7 & 8 & 0 & 0 & no \\\\\n",
       "\t27 & 27 & no & 10.5406 & 2.8 & 9 & 2 & 0 & no \\\\\n",
       "\t28 & 28 & no & 11.2243 & 4.7 & 8 & 0 & 1 & no \\\\\n",
       "\t29 & 29 & yes & 10.8411 & 4.9 & 12 & 0 & 0 & no \\\\\n",
       "\t30 & 30 & no & 10.5663 & 3.0 & 11 & 0 & 1 & no \\\\\n",
       "\t$\\dots$ & $\\dots$ & $\\dots$ & $\\dots$ & $\\dots$ & $\\dots$ & $\\dots$ & $\\dots$ & $\\dots$ \\\\\n",
       "\\end{tabular}\n"
      ],
      "text/plain": [
       "\u001b[1m872×8 DataFrame\u001b[0m\n",
       "\u001b[1m Row \u001b[0m│\u001b[1m Column1 \u001b[0m\u001b[1m lfp     \u001b[0m\u001b[1m lnnlinc \u001b[0m\u001b[1m age     \u001b[0m\u001b[1m educ  \u001b[0m\u001b[1m nyc   \u001b[0m\u001b[1m noc   \u001b[0m\u001b[1m foreign \u001b[0m\n",
       "     │\u001b[90m Int64   \u001b[0m\u001b[90m String3 \u001b[0m\u001b[90m Float64 \u001b[0m\u001b[90m Float64 \u001b[0m\u001b[90m Int64 \u001b[0m\u001b[90m Int64 \u001b[0m\u001b[90m Int64 \u001b[0m\u001b[90m String3 \u001b[0m\n",
       "─────┼──────────────────────────────────────────────────────────────────\n",
       "   1 │       1  no       10.7875      3.0      8      1      1  no\n",
       "   2 │       2  yes      10.5243      4.5      8      0      1  no\n",
       "   3 │       3  no       10.9686      4.6      9      0      0  no\n",
       "   4 │       4  no       11.105       3.1     11      2      0  no\n",
       "   5 │       5  no       11.1085      4.4     12      0      2  no\n",
       "   6 │       6  yes      11.0283      4.2     12      0      1  no\n",
       "   7 │       7  no       11.4547      5.1      8      0      0  no\n",
       "   8 │       8  yes      10.4909      3.2      8      0      2  no\n",
       "   9 │       9  no       10.6247      3.9     12      0      0  no\n",
       "  10 │      10  no       10.4864      4.3     11      0      2  no\n",
       "  11 │      11  no       10.6606      4.5     11      0      2  no\n",
       "  ⋮  │    ⋮        ⋮        ⋮        ⋮       ⋮      ⋮      ⋮       ⋮\n",
       " 863 │     863  no       11.111       3.5     10      1      1  yes\n",
       " 864 │     864  no       10.4714      5.1      9      0      1  yes\n",
       " 865 │     865  no       10.1475      4.1      5      1      0  yes\n",
       " 866 │     866  yes      10.6932      3.5      9      0      2  yes\n",
       " 867 │     867  yes      10.0276      4.2     14      0      0  yes\n",
       " 868 │     868  no       10.5974      2.4      4      2      1  yes\n",
       " 869 │     869  yes      10.3778      4.8      8      0      0  yes\n",
       " 870 │     870  no       10.1337      2.4      6      2      0  yes\n",
       " 871 │     871  yes      10.9324      4.1     10      0      1  yes\n",
       " 872 │     872  no       11.2207      5.1     10      0      0  yes\n",
       "\u001b[36m                                                        851 rows omitted\u001b[0m"
      ]
     },
     "execution_count": 4,
     "metadata": {},
     "output_type": "execute_result"
    }
   ],
   "source": [
    "df_raw = CSV.read(\"participation.csv\", DataFrame)"
   ]
  },
  {
   "cell_type": "markdown",
   "id": "92c5f692",
   "metadata": {},
   "source": [
    "Inspect the contents of the data set to make sure it got loaded correctly:"
   ]
  },
  {
   "cell_type": "code",
   "execution_count": 5,
   "id": "983c1fa5",
   "metadata": {},
   "outputs": [
    {
     "data": {
      "text/html": [
       "<div><div style = \"float: left;\"><span>8×7 DataFrame</span></div><div style = \"clear: both;\"></div></div><div class = \"data-frame\" style = \"overflow-x: scroll;\"><table class = \"data-frame\" style = \"margin-bottom: 6px;\"><thead><tr class = \"header\"><th class = \"rowNumber\" style = \"font-weight: bold; text-align: right;\">Row</th><th style = \"text-align: left;\">variable</th><th style = \"text-align: left;\">mean</th><th style = \"text-align: left;\">min</th><th style = \"text-align: left;\">median</th><th style = \"text-align: left;\">max</th><th style = \"text-align: left;\">nmissing</th><th style = \"text-align: left;\">eltype</th></tr><tr class = \"subheader headerLastRow\"><th class = \"rowNumber\" style = \"font-weight: bold; text-align: right;\"></th><th title = \"Symbol\" style = \"text-align: left;\">Symbol</th><th title = \"Union{Nothing, Float64}\" style = \"text-align: left;\">Union…</th><th title = \"Any\" style = \"text-align: left;\">Any</th><th title = \"Union{Nothing, Float64}\" style = \"text-align: left;\">Union…</th><th title = \"Any\" style = \"text-align: left;\">Any</th><th title = \"Int64\" style = \"text-align: left;\">Int64</th><th title = \"DataType\" style = \"text-align: left;\">DataType</th></tr></thead><tbody><tr><td class = \"rowNumber\" style = \"font-weight: bold; text-align: right;\">1</td><td style = \"text-align: left;\">Column1</td><td style = \"text-align: left;\">436.5</td><td style = \"text-align: left;\">1</td><td style = \"text-align: left;\">436.5</td><td style = \"text-align: left;\">872</td><td style = \"text-align: right;\">0</td><td style = \"text-align: left;\">Int64</td></tr><tr><td class = \"rowNumber\" style = \"font-weight: bold; text-align: right;\">2</td><td style = \"text-align: left;\">lfp</td><td style = \"font-style: italic; text-align: left;\"></td><td style = \"text-align: left;\">no</td><td style = \"font-style: italic; text-align: left;\"></td><td style = \"text-align: left;\">yes</td><td style = \"text-align: right;\">0</td><td style = \"text-align: left;\">String3</td></tr><tr><td class = \"rowNumber\" style = \"font-weight: bold; text-align: right;\">3</td><td style = \"text-align: left;\">lnnlinc</td><td style = \"text-align: left;\">10.6856</td><td style = \"text-align: left;\">7.1869</td><td style = \"text-align: left;\">10.6431</td><td style = \"text-align: left;\">12.3757</td><td style = \"text-align: right;\">0</td><td style = \"text-align: left;\">Float64</td></tr><tr><td class = \"rowNumber\" style = \"font-weight: bold; text-align: right;\">4</td><td style = \"text-align: left;\">age</td><td style = \"text-align: left;\">3.99553</td><td style = \"text-align: left;\">2.0</td><td style = \"text-align: left;\">3.9</td><td style = \"text-align: left;\">6.2</td><td style = \"text-align: right;\">0</td><td style = \"text-align: left;\">Float64</td></tr><tr><td class = \"rowNumber\" style = \"font-weight: bold; text-align: right;\">5</td><td style = \"text-align: left;\">educ</td><td style = \"text-align: left;\">9.30734</td><td style = \"text-align: left;\">1</td><td style = \"text-align: left;\">9.0</td><td style = \"text-align: left;\">21</td><td style = \"text-align: right;\">0</td><td style = \"text-align: left;\">Int64</td></tr><tr><td class = \"rowNumber\" style = \"font-weight: bold; text-align: right;\">6</td><td style = \"text-align: left;\">nyc</td><td style = \"text-align: left;\">0.311927</td><td style = \"text-align: left;\">0</td><td style = \"text-align: left;\">0.0</td><td style = \"text-align: left;\">3</td><td style = \"text-align: right;\">0</td><td style = \"text-align: left;\">Int64</td></tr><tr><td class = \"rowNumber\" style = \"font-weight: bold; text-align: right;\">7</td><td style = \"text-align: left;\">noc</td><td style = \"text-align: left;\">0.982798</td><td style = \"text-align: left;\">0</td><td style = \"text-align: left;\">1.0</td><td style = \"text-align: left;\">6</td><td style = \"text-align: right;\">0</td><td style = \"text-align: left;\">Int64</td></tr><tr><td class = \"rowNumber\" style = \"font-weight: bold; text-align: right;\">8</td><td style = \"text-align: left;\">foreign</td><td style = \"font-style: italic; text-align: left;\"></td><td style = \"text-align: left;\">no</td><td style = \"font-style: italic; text-align: left;\"></td><td style = \"text-align: left;\">yes</td><td style = \"text-align: right;\">0</td><td style = \"text-align: left;\">String3</td></tr></tbody></table></div>"
      ],
      "text/latex": [
       "\\begin{tabular}{r|ccccccc}\n",
       "\t& variable & mean & min & median & max & nmissing & eltype\\\\\n",
       "\t\\hline\n",
       "\t& Symbol & Union… & Any & Union… & Any & Int64 & DataType\\\\\n",
       "\t\\hline\n",
       "\t1 & Column1 & 436.5 & 1 & 436.5 & 872 & 0 & Int64 \\\\\n",
       "\t2 & lfp &  & no &  & yes & 0 & String3 \\\\\n",
       "\t3 & lnnlinc & 10.6856 & 7.1869 & 10.6431 & 12.3757 & 0 & Float64 \\\\\n",
       "\t4 & age & 3.99553 & 2.0 & 3.9 & 6.2 & 0 & Float64 \\\\\n",
       "\t5 & educ & 9.30734 & 1 & 9.0 & 21 & 0 & Int64 \\\\\n",
       "\t6 & nyc & 0.311927 & 0 & 0.0 & 3 & 0 & Int64 \\\\\n",
       "\t7 & noc & 0.982798 & 0 & 1.0 & 6 & 0 & Int64 \\\\\n",
       "\t8 & foreign &  & no &  & yes & 0 & String3 \\\\\n",
       "\\end{tabular}\n"
      ],
      "text/plain": [
       "\u001b[1m8×7 DataFrame\u001b[0m\n",
       "\u001b[1m Row \u001b[0m│\u001b[1m variable \u001b[0m\u001b[1m mean     \u001b[0m\u001b[1m min    \u001b[0m\u001b[1m median  \u001b[0m\u001b[1m max     \u001b[0m\u001b[1m nmissing \u001b[0m\u001b[1m eltype   \u001b[0m\n",
       "     │\u001b[90m Symbol   \u001b[0m\u001b[90m Union…   \u001b[0m\u001b[90m Any    \u001b[0m\u001b[90m Union…  \u001b[0m\u001b[90m Any     \u001b[0m\u001b[90m Int64    \u001b[0m\u001b[90m DataType \u001b[0m\n",
       "─────┼──────────────────────────────────────────────────────────────────\n",
       "   1 │ Column1   436.5     1       436.5    872             0  Int64\n",
       "   2 │ lfp      \u001b[90m          \u001b[0m no     \u001b[90m         \u001b[0m yes             0  String3\n",
       "   3 │ lnnlinc   10.6856   7.1869  10.6431  12.3757         0  Float64\n",
       "   4 │ age       3.99553   2.0     3.9      6.2             0  Float64\n",
       "   5 │ educ      9.30734   1       9.0      21              0  Int64\n",
       "   6 │ nyc       0.311927  0       0.0      3               0  Int64\n",
       "   7 │ noc       0.982798  0       1.0      6               0  Int64\n",
       "   8 │ foreign  \u001b[90m          \u001b[0m no     \u001b[90m         \u001b[0m yes             0  String3"
      ]
     },
     "execution_count": 5,
     "metadata": {},
     "output_type": "execute_result"
    }
   ],
   "source": [
    "describe(df_raw)"
   ]
  },
  {
   "cell_type": "markdown",
   "id": "494399ae",
   "metadata": {},
   "source": [
    "Now transform the data set. We use the `select` function and perform the following transformations:\n",
    "* recode `:lfp` variable from text to binary;\n",
    "* add square of `:age` column;\n",
    "* change `:foreign` column to be categorical;\n",
    "* all other columns are left as they are.\n",
    "\n",
    "The general syntax of column transformation options is:\n",
    "```\n",
    "source columns => transformation => target columns name\n",
    "```\n",
    "(the `transformation` and `target columns name` can be dropped)\n",
    "\n",
    "Also note the `ByRow` wrapper which tells `select` to perform the operation row-wise (by default operations are performed on whole columns).\n",
    "\n",
    "In [this post](https://bkamins.github.io/julialang/2020/12/24/minilanguage.html) you can find an explanation of the most typical cases of supported transformation specifications."
   ]
  },
  {
   "cell_type": "code",
   "execution_count": 6,
   "id": "01bc9d07",
   "metadata": {},
   "outputs": [
    {
     "data": {
      "text/html": [
       "<div><div style = \"float: left;\"><span>872×8 DataFrame</span></div><div style = \"float: right;\"><span style = \"font-style: italic;\">847 rows omitted</span></div><div style = \"clear: both;\"></div></div><div class = \"data-frame\" style = \"overflow-x: scroll;\"><table class = \"data-frame\" style = \"margin-bottom: 6px;\"><thead><tr class = \"header\"><th class = \"rowNumber\" style = \"font-weight: bold; text-align: right;\">Row</th><th style = \"text-align: left;\">lfp</th><th style = \"text-align: left;\">lnnlinc</th><th style = \"text-align: left;\">age</th><th style = \"text-align: left;\">age²</th><th style = \"text-align: left;\">educ</th><th style = \"text-align: left;\">nyc</th><th style = \"text-align: left;\">noc</th><th style = \"text-align: left;\">foreign</th></tr><tr class = \"subheader headerLastRow\"><th class = \"rowNumber\" style = \"font-weight: bold; text-align: right;\"></th><th title = \"Int64\" style = \"text-align: left;\">Int64</th><th title = \"Float64\" style = \"text-align: left;\">Float64</th><th title = \"Float64\" style = \"text-align: left;\">Float64</th><th title = \"Float64\" style = \"text-align: left;\">Float64</th><th title = \"Int64\" style = \"text-align: left;\">Int64</th><th title = \"Int64\" style = \"text-align: left;\">Int64</th><th title = \"Int64\" style = \"text-align: left;\">Int64</th><th title = \"CategoricalValue{String3, UInt32}\" style = \"text-align: left;\">Cat…</th></tr></thead><tbody><tr><td class = \"rowNumber\" style = \"font-weight: bold; text-align: right;\">1</td><td style = \"text-align: right;\">0</td><td style = \"text-align: right;\">10.7875</td><td style = \"text-align: right;\">3.0</td><td style = \"text-align: right;\">9.0</td><td style = \"text-align: right;\">8</td><td style = \"text-align: right;\">1</td><td style = \"text-align: right;\">1</td><td style = \"text-align: left;\">no</td></tr><tr><td class = \"rowNumber\" style = \"font-weight: bold; text-align: right;\">2</td><td style = \"text-align: right;\">1</td><td style = \"text-align: right;\">10.5243</td><td style = \"text-align: right;\">4.5</td><td style = \"text-align: right;\">20.25</td><td style = \"text-align: right;\">8</td><td style = \"text-align: right;\">0</td><td style = \"text-align: right;\">1</td><td style = \"text-align: left;\">no</td></tr><tr><td class = \"rowNumber\" style = \"font-weight: bold; text-align: right;\">3</td><td style = \"text-align: right;\">0</td><td style = \"text-align: right;\">10.9686</td><td style = \"text-align: right;\">4.6</td><td style = \"text-align: right;\">21.16</td><td style = \"text-align: right;\">9</td><td style = \"text-align: right;\">0</td><td style = \"text-align: right;\">0</td><td style = \"text-align: left;\">no</td></tr><tr><td class = \"rowNumber\" style = \"font-weight: bold; text-align: right;\">4</td><td style = \"text-align: right;\">0</td><td style = \"text-align: right;\">11.105</td><td style = \"text-align: right;\">3.1</td><td style = \"text-align: right;\">9.61</td><td style = \"text-align: right;\">11</td><td style = \"text-align: right;\">2</td><td style = \"text-align: right;\">0</td><td style = \"text-align: left;\">no</td></tr><tr><td class = \"rowNumber\" style = \"font-weight: bold; text-align: right;\">5</td><td style = \"text-align: right;\">0</td><td style = \"text-align: right;\">11.1085</td><td style = \"text-align: right;\">4.4</td><td style = \"text-align: right;\">19.36</td><td style = \"text-align: right;\">12</td><td style = \"text-align: right;\">0</td><td style = \"text-align: right;\">2</td><td style = \"text-align: left;\">no</td></tr><tr><td class = \"rowNumber\" style = \"font-weight: bold; text-align: right;\">6</td><td style = \"text-align: right;\">1</td><td style = \"text-align: right;\">11.0283</td><td style = \"text-align: right;\">4.2</td><td style = \"text-align: right;\">17.64</td><td style = \"text-align: right;\">12</td><td style = \"text-align: right;\">0</td><td style = \"text-align: right;\">1</td><td style = \"text-align: left;\">no</td></tr><tr><td class = \"rowNumber\" style = \"font-weight: bold; text-align: right;\">7</td><td style = \"text-align: right;\">0</td><td style = \"text-align: right;\">11.4547</td><td style = \"text-align: right;\">5.1</td><td style = \"text-align: right;\">26.01</td><td style = \"text-align: right;\">8</td><td style = \"text-align: right;\">0</td><td style = \"text-align: right;\">0</td><td style = \"text-align: left;\">no</td></tr><tr><td class = \"rowNumber\" style = \"font-weight: bold; text-align: right;\">8</td><td style = \"text-align: right;\">1</td><td style = \"text-align: right;\">10.4909</td><td style = \"text-align: right;\">3.2</td><td style = \"text-align: right;\">10.24</td><td style = \"text-align: right;\">8</td><td style = \"text-align: right;\">0</td><td style = \"text-align: right;\">2</td><td style = \"text-align: left;\">no</td></tr><tr><td class = \"rowNumber\" style = \"font-weight: bold; text-align: right;\">9</td><td style = \"text-align: right;\">0</td><td style = \"text-align: right;\">10.6247</td><td style = \"text-align: right;\">3.9</td><td style = \"text-align: right;\">15.21</td><td style = \"text-align: right;\">12</td><td style = \"text-align: right;\">0</td><td style = \"text-align: right;\">0</td><td style = \"text-align: left;\">no</td></tr><tr><td class = \"rowNumber\" style = \"font-weight: bold; text-align: right;\">10</td><td style = \"text-align: right;\">0</td><td style = \"text-align: right;\">10.4864</td><td style = \"text-align: right;\">4.3</td><td style = \"text-align: right;\">18.49</td><td style = \"text-align: right;\">11</td><td style = \"text-align: right;\">0</td><td style = \"text-align: right;\">2</td><td style = \"text-align: left;\">no</td></tr><tr><td class = \"rowNumber\" style = \"font-weight: bold; text-align: right;\">11</td><td style = \"text-align: right;\">0</td><td style = \"text-align: right;\">10.6606</td><td style = \"text-align: right;\">4.5</td><td style = \"text-align: right;\">20.25</td><td style = \"text-align: right;\">11</td><td style = \"text-align: right;\">0</td><td style = \"text-align: right;\">2</td><td style = \"text-align: left;\">no</td></tr><tr><td class = \"rowNumber\" style = \"font-weight: bold; text-align: right;\">12</td><td style = \"text-align: right;\">0</td><td style = \"text-align: right;\">10.4676</td><td style = \"text-align: right;\">6.0</td><td style = \"text-align: right;\">36.0</td><td style = \"text-align: right;\">12</td><td style = \"text-align: right;\">0</td><td style = \"text-align: right;\">0</td><td style = \"text-align: left;\">no</td></tr><tr><td class = \"rowNumber\" style = \"font-weight: bold; text-align: right;\">13</td><td style = \"text-align: right;\">0</td><td style = \"text-align: right;\">11.2296</td><td style = \"text-align: right;\">3.3</td><td style = \"text-align: right;\">10.89</td><td style = \"text-align: right;\">11</td><td style = \"text-align: right;\">2</td><td style = \"text-align: right;\">0</td><td style = \"text-align: left;\">no</td></tr><tr><td style = \"text-align: right;\">&vellip;</td><td style = \"text-align: right;\">&vellip;</td><td style = \"text-align: right;\">&vellip;</td><td style = \"text-align: right;\">&vellip;</td><td style = \"text-align: right;\">&vellip;</td><td style = \"text-align: right;\">&vellip;</td><td style = \"text-align: right;\">&vellip;</td><td style = \"text-align: right;\">&vellip;</td><td style = \"text-align: right;\">&vellip;</td></tr><tr><td class = \"rowNumber\" style = \"font-weight: bold; text-align: right;\">861</td><td style = \"text-align: right;\">1</td><td style = \"text-align: right;\">10.5289</td><td style = \"text-align: right;\">3.4</td><td style = \"text-align: right;\">11.56</td><td style = \"text-align: right;\">9</td><td style = \"text-align: right;\">1</td><td style = \"text-align: right;\">1</td><td style = \"text-align: left;\">yes</td></tr><tr><td class = \"rowNumber\" style = \"font-weight: bold; text-align: right;\">862</td><td style = \"text-align: right;\">1</td><td style = \"text-align: right;\">10.4685</td><td style = \"text-align: right;\">3.3</td><td style = \"text-align: right;\">10.89</td><td style = \"text-align: right;\">6</td><td style = \"text-align: right;\">0</td><td style = \"text-align: right;\">2</td><td style = \"text-align: left;\">yes</td></tr><tr><td class = \"rowNumber\" style = \"font-weight: bold; text-align: right;\">863</td><td style = \"text-align: right;\">0</td><td style = \"text-align: right;\">11.111</td><td style = \"text-align: right;\">3.5</td><td style = \"text-align: right;\">12.25</td><td style = \"text-align: right;\">10</td><td style = \"text-align: right;\">1</td><td style = \"text-align: right;\">1</td><td style = \"text-align: left;\">yes</td></tr><tr><td class = \"rowNumber\" style = \"font-weight: bold; text-align: right;\">864</td><td style = \"text-align: right;\">0</td><td style = \"text-align: right;\">10.4714</td><td style = \"text-align: right;\">5.1</td><td style = \"text-align: right;\">26.01</td><td style = \"text-align: right;\">9</td><td style = \"text-align: right;\">0</td><td style = \"text-align: right;\">1</td><td style = \"text-align: left;\">yes</td></tr><tr><td class = \"rowNumber\" style = \"font-weight: bold; text-align: right;\">865</td><td style = \"text-align: right;\">0</td><td style = \"text-align: right;\">10.1475</td><td style = \"text-align: right;\">4.1</td><td style = \"text-align: right;\">16.81</td><td style = \"text-align: right;\">5</td><td style = \"text-align: right;\">1</td><td style = \"text-align: right;\">0</td><td style = \"text-align: left;\">yes</td></tr><tr><td class = \"rowNumber\" style = \"font-weight: bold; text-align: right;\">866</td><td style = \"text-align: right;\">1</td><td style = \"text-align: right;\">10.6932</td><td style = \"text-align: right;\">3.5</td><td style = \"text-align: right;\">12.25</td><td style = \"text-align: right;\">9</td><td style = \"text-align: right;\">0</td><td style = \"text-align: right;\">2</td><td style = \"text-align: left;\">yes</td></tr><tr><td class = \"rowNumber\" style = \"font-weight: bold; text-align: right;\">867</td><td style = \"text-align: right;\">1</td><td style = \"text-align: right;\">10.0276</td><td style = \"text-align: right;\">4.2</td><td style = \"text-align: right;\">17.64</td><td style = \"text-align: right;\">14</td><td style = \"text-align: right;\">0</td><td style = \"text-align: right;\">0</td><td style = \"text-align: left;\">yes</td></tr><tr><td class = \"rowNumber\" style = \"font-weight: bold; text-align: right;\">868</td><td style = \"text-align: right;\">0</td><td style = \"text-align: right;\">10.5974</td><td style = \"text-align: right;\">2.4</td><td style = \"text-align: right;\">5.76</td><td style = \"text-align: right;\">4</td><td style = \"text-align: right;\">2</td><td style = \"text-align: right;\">1</td><td style = \"text-align: left;\">yes</td></tr><tr><td class = \"rowNumber\" style = \"font-weight: bold; text-align: right;\">869</td><td style = \"text-align: right;\">1</td><td style = \"text-align: right;\">10.3778</td><td style = \"text-align: right;\">4.8</td><td style = \"text-align: right;\">23.04</td><td style = \"text-align: right;\">8</td><td style = \"text-align: right;\">0</td><td style = \"text-align: right;\">0</td><td style = \"text-align: left;\">yes</td></tr><tr><td class = \"rowNumber\" style = \"font-weight: bold; text-align: right;\">870</td><td style = \"text-align: right;\">0</td><td style = \"text-align: right;\">10.1337</td><td style = \"text-align: right;\">2.4</td><td style = \"text-align: right;\">5.76</td><td style = \"text-align: right;\">6</td><td style = \"text-align: right;\">2</td><td style = \"text-align: right;\">0</td><td style = \"text-align: left;\">yes</td></tr><tr><td class = \"rowNumber\" style = \"font-weight: bold; text-align: right;\">871</td><td style = \"text-align: right;\">1</td><td style = \"text-align: right;\">10.9324</td><td style = \"text-align: right;\">4.1</td><td style = \"text-align: right;\">16.81</td><td style = \"text-align: right;\">10</td><td style = \"text-align: right;\">0</td><td style = \"text-align: right;\">1</td><td style = \"text-align: left;\">yes</td></tr><tr><td class = \"rowNumber\" style = \"font-weight: bold; text-align: right;\">872</td><td style = \"text-align: right;\">0</td><td style = \"text-align: right;\">11.2207</td><td style = \"text-align: right;\">5.1</td><td style = \"text-align: right;\">26.01</td><td style = \"text-align: right;\">10</td><td style = \"text-align: right;\">0</td><td style = \"text-align: right;\">0</td><td style = \"text-align: left;\">yes</td></tr></tbody></table></div>"
      ],
      "text/latex": [
       "\\begin{tabular}{r|cccccccc}\n",
       "\t& lfp & lnnlinc & age & age² & educ & nyc & noc & foreign\\\\\n",
       "\t\\hline\n",
       "\t& Int64 & Float64 & Float64 & Float64 & Int64 & Int64 & Int64 & Cat…\\\\\n",
       "\t\\hline\n",
       "\t1 & 0 & 10.7875 & 3.0 & 9.0 & 8 & 1 & 1 & no \\\\\n",
       "\t2 & 1 & 10.5243 & 4.5 & 20.25 & 8 & 0 & 1 & no \\\\\n",
       "\t3 & 0 & 10.9686 & 4.6 & 21.16 & 9 & 0 & 0 & no \\\\\n",
       "\t4 & 0 & 11.105 & 3.1 & 9.61 & 11 & 2 & 0 & no \\\\\n",
       "\t5 & 0 & 11.1085 & 4.4 & 19.36 & 12 & 0 & 2 & no \\\\\n",
       "\t6 & 1 & 11.0283 & 4.2 & 17.64 & 12 & 0 & 1 & no \\\\\n",
       "\t7 & 0 & 11.4547 & 5.1 & 26.01 & 8 & 0 & 0 & no \\\\\n",
       "\t8 & 1 & 10.4909 & 3.2 & 10.24 & 8 & 0 & 2 & no \\\\\n",
       "\t9 & 0 & 10.6247 & 3.9 & 15.21 & 12 & 0 & 0 & no \\\\\n",
       "\t10 & 0 & 10.4864 & 4.3 & 18.49 & 11 & 0 & 2 & no \\\\\n",
       "\t11 & 0 & 10.6606 & 4.5 & 20.25 & 11 & 0 & 2 & no \\\\\n",
       "\t12 & 0 & 10.4676 & 6.0 & 36.0 & 12 & 0 & 0 & no \\\\\n",
       "\t13 & 0 & 11.2296 & 3.3 & 10.89 & 11 & 2 & 0 & no \\\\\n",
       "\t14 & 0 & 11.9065 & 5.6 & 31.36 & 14 & 0 & 0 & no \\\\\n",
       "\t15 & 0 & 11.5016 & 5.6 & 31.36 & 11 & 0 & 0 & no \\\\\n",
       "\t16 & 0 & 11.2935 & 4.7 & 22.09 & 11 & 0 & 1 & no \\\\\n",
       "\t17 & 0 & 10.8613 & 5.0 & 25.0 & 8 & 0 & 0 & no \\\\\n",
       "\t18 & 1 & 11.844 & 3.9 & 15.21 & 12 & 0 & 0 & no \\\\\n",
       "\t19 & 0 & 11.0486 & 4.7 & 22.09 & 8 & 0 & 1 & no \\\\\n",
       "\t20 & 1 & 10.9578 & 5.3 & 28.09 & 11 & 0 & 0 & no \\\\\n",
       "\t21 & 0 & 10.8601 & 2.9 & 8.41 & 19 & 0 & 0 & no \\\\\n",
       "\t22 & 1 & 11.1081 & 4.6 & 21.16 & 11 & 0 & 1 & no \\\\\n",
       "\t23 & 0 & 10.8486 & 4.4 & 19.36 & 8 & 0 & 2 & no \\\\\n",
       "\t24 & 0 & 10.4824 & 2.0 & 4.0 & 12 & 1 & 0 & no \\\\\n",
       "\t25 & 1 & 10.484 & 5.4 & 29.16 & 8 & 0 & 0 & no \\\\\n",
       "\t26 & 1 & 10.6012 & 4.7 & 22.09 & 8 & 0 & 0 & no \\\\\n",
       "\t27 & 0 & 10.5406 & 2.8 & 7.84 & 9 & 2 & 0 & no \\\\\n",
       "\t28 & 0 & 11.2243 & 4.7 & 22.09 & 8 & 0 & 1 & no \\\\\n",
       "\t29 & 1 & 10.8411 & 4.9 & 24.01 & 12 & 0 & 0 & no \\\\\n",
       "\t30 & 0 & 10.5663 & 3.0 & 9.0 & 11 & 0 & 1 & no \\\\\n",
       "\t$\\dots$ & $\\dots$ & $\\dots$ & $\\dots$ & $\\dots$ & $\\dots$ & $\\dots$ & $\\dots$ & $\\dots$ \\\\\n",
       "\\end{tabular}\n"
      ],
      "text/plain": [
       "\u001b[1m872×8 DataFrame\u001b[0m\n",
       "\u001b[1m Row \u001b[0m│\u001b[1m lfp   \u001b[0m\u001b[1m lnnlinc \u001b[0m\u001b[1m age     \u001b[0m\u001b[1m age²    \u001b[0m\u001b[1m educ  \u001b[0m\u001b[1m nyc   \u001b[0m\u001b[1m noc   \u001b[0m\u001b[1m foreign \u001b[0m\n",
       "     │\u001b[90m Int64 \u001b[0m\u001b[90m Float64 \u001b[0m\u001b[90m Float64 \u001b[0m\u001b[90m Float64 \u001b[0m\u001b[90m Int64 \u001b[0m\u001b[90m Int64 \u001b[0m\u001b[90m Int64 \u001b[0m\u001b[90m Cat…    \u001b[0m\n",
       "─────┼────────────────────────────────────────────────────────────────\n",
       "   1 │     0  10.7875      3.0     9.0       8      1      1  no\n",
       "   2 │     1  10.5243      4.5    20.25      8      0      1  no\n",
       "   3 │     0  10.9686      4.6    21.16      9      0      0  no\n",
       "   4 │     0  11.105       3.1     9.61     11      2      0  no\n",
       "   5 │     0  11.1085      4.4    19.36     12      0      2  no\n",
       "   6 │     1  11.0283      4.2    17.64     12      0      1  no\n",
       "   7 │     0  11.4547      5.1    26.01      8      0      0  no\n",
       "   8 │     1  10.4909      3.2    10.24      8      0      2  no\n",
       "   9 │     0  10.6247      3.9    15.21     12      0      0  no\n",
       "  10 │     0  10.4864      4.3    18.49     11      0      2  no\n",
       "  11 │     0  10.6606      4.5    20.25     11      0      2  no\n",
       "  ⋮  │   ⋮       ⋮        ⋮        ⋮       ⋮      ⋮      ⋮       ⋮\n",
       " 863 │     0  11.111       3.5    12.25     10      1      1  yes\n",
       " 864 │     0  10.4714      5.1    26.01      9      0      1  yes\n",
       " 865 │     0  10.1475      4.1    16.81      5      1      0  yes\n",
       " 866 │     1  10.6932      3.5    12.25      9      0      2  yes\n",
       " 867 │     1  10.0276      4.2    17.64     14      0      0  yes\n",
       " 868 │     0  10.5974      2.4     5.76      4      2      1  yes\n",
       " 869 │     1  10.3778      4.8    23.04      8      0      0  yes\n",
       " 870 │     0  10.1337      2.4     5.76      6      2      0  yes\n",
       " 871 │     1  10.9324      4.1    16.81     10      0      1  yes\n",
       " 872 │     0  11.2207      5.1    26.01     10      0      0  yes\n",
       "\u001b[36m                                                      851 rows omitted\u001b[0m"
      ]
     },
     "execution_count": 6,
     "metadata": {},
     "output_type": "execute_result"
    }
   ],
   "source": [
    "df = select(df_raw,\n",
    "            :lfp => (x -> recode(x, \"yes\" => 1, \"no\" => 0)) => :lfp,\n",
    "            :lnnlinc,\n",
    "            :age,\n",
    "            :age => ByRow(x -> x^2) => :age²,\n",
    "            Between(:educ, :noc),\n",
    "            :foreign => categorical => :foreign)"
   ]
  },
  {
   "cell_type": "markdown",
   "id": "c071c39e",
   "metadata": {},
   "source": [
    "If we want to leave column names unchanged we can use `renamecols=false` keyword argument, and in this case the target column name can be dropped:"
   ]
  },
  {
   "cell_type": "code",
   "execution_count": 7,
   "id": "96c9a4e3",
   "metadata": {},
   "outputs": [
    {
     "data": {
      "text/html": [
       "<div><div style = \"float: left;\"><span>872×8 DataFrame</span></div><div style = \"float: right;\"><span style = \"font-style: italic;\">847 rows omitted</span></div><div style = \"clear: both;\"></div></div><div class = \"data-frame\" style = \"overflow-x: scroll;\"><table class = \"data-frame\" style = \"margin-bottom: 6px;\"><thead><tr class = \"header\"><th class = \"rowNumber\" style = \"font-weight: bold; text-align: right;\">Row</th><th style = \"text-align: left;\">lfp</th><th style = \"text-align: left;\">lnnlinc</th><th style = \"text-align: left;\">age</th><th style = \"text-align: left;\">age²</th><th style = \"text-align: left;\">educ</th><th style = \"text-align: left;\">nyc</th><th style = \"text-align: left;\">noc</th><th style = \"text-align: left;\">foreign</th></tr><tr class = \"subheader headerLastRow\"><th class = \"rowNumber\" style = \"font-weight: bold; text-align: right;\"></th><th title = \"Int64\" style = \"text-align: left;\">Int64</th><th title = \"Float64\" style = \"text-align: left;\">Float64</th><th title = \"Float64\" style = \"text-align: left;\">Float64</th><th title = \"Float64\" style = \"text-align: left;\">Float64</th><th title = \"Int64\" style = \"text-align: left;\">Int64</th><th title = \"Int64\" style = \"text-align: left;\">Int64</th><th title = \"Int64\" style = \"text-align: left;\">Int64</th><th title = \"CategoricalValue{String3, UInt32}\" style = \"text-align: left;\">Cat…</th></tr></thead><tbody><tr><td class = \"rowNumber\" style = \"font-weight: bold; text-align: right;\">1</td><td style = \"text-align: right;\">0</td><td style = \"text-align: right;\">10.7875</td><td style = \"text-align: right;\">3.0</td><td style = \"text-align: right;\">9.0</td><td style = \"text-align: right;\">8</td><td style = \"text-align: right;\">1</td><td style = \"text-align: right;\">1</td><td style = \"text-align: left;\">no</td></tr><tr><td class = \"rowNumber\" style = \"font-weight: bold; text-align: right;\">2</td><td style = \"text-align: right;\">1</td><td style = \"text-align: right;\">10.5243</td><td style = \"text-align: right;\">4.5</td><td style = \"text-align: right;\">20.25</td><td style = \"text-align: right;\">8</td><td style = \"text-align: right;\">0</td><td style = \"text-align: right;\">1</td><td style = \"text-align: left;\">no</td></tr><tr><td class = \"rowNumber\" style = \"font-weight: bold; text-align: right;\">3</td><td style = \"text-align: right;\">0</td><td style = \"text-align: right;\">10.9686</td><td style = \"text-align: right;\">4.6</td><td style = \"text-align: right;\">21.16</td><td style = \"text-align: right;\">9</td><td style = \"text-align: right;\">0</td><td style = \"text-align: right;\">0</td><td style = \"text-align: left;\">no</td></tr><tr><td class = \"rowNumber\" style = \"font-weight: bold; text-align: right;\">4</td><td style = \"text-align: right;\">0</td><td style = \"text-align: right;\">11.105</td><td style = \"text-align: right;\">3.1</td><td style = \"text-align: right;\">9.61</td><td style = \"text-align: right;\">11</td><td style = \"text-align: right;\">2</td><td style = \"text-align: right;\">0</td><td style = \"text-align: left;\">no</td></tr><tr><td class = \"rowNumber\" style = \"font-weight: bold; text-align: right;\">5</td><td style = \"text-align: right;\">0</td><td style = \"text-align: right;\">11.1085</td><td style = \"text-align: right;\">4.4</td><td style = \"text-align: right;\">19.36</td><td style = \"text-align: right;\">12</td><td style = \"text-align: right;\">0</td><td style = \"text-align: right;\">2</td><td style = \"text-align: left;\">no</td></tr><tr><td class = \"rowNumber\" style = \"font-weight: bold; text-align: right;\">6</td><td style = \"text-align: right;\">1</td><td style = \"text-align: right;\">11.0283</td><td style = \"text-align: right;\">4.2</td><td style = \"text-align: right;\">17.64</td><td style = \"text-align: right;\">12</td><td style = \"text-align: right;\">0</td><td style = \"text-align: right;\">1</td><td style = \"text-align: left;\">no</td></tr><tr><td class = \"rowNumber\" style = \"font-weight: bold; text-align: right;\">7</td><td style = \"text-align: right;\">0</td><td style = \"text-align: right;\">11.4547</td><td style = \"text-align: right;\">5.1</td><td style = \"text-align: right;\">26.01</td><td style = \"text-align: right;\">8</td><td style = \"text-align: right;\">0</td><td style = \"text-align: right;\">0</td><td style = \"text-align: left;\">no</td></tr><tr><td class = \"rowNumber\" style = \"font-weight: bold; text-align: right;\">8</td><td style = \"text-align: right;\">1</td><td style = \"text-align: right;\">10.4909</td><td style = \"text-align: right;\">3.2</td><td style = \"text-align: right;\">10.24</td><td style = \"text-align: right;\">8</td><td style = \"text-align: right;\">0</td><td style = \"text-align: right;\">2</td><td style = \"text-align: left;\">no</td></tr><tr><td class = \"rowNumber\" style = \"font-weight: bold; text-align: right;\">9</td><td style = \"text-align: right;\">0</td><td style = \"text-align: right;\">10.6247</td><td style = \"text-align: right;\">3.9</td><td style = \"text-align: right;\">15.21</td><td style = \"text-align: right;\">12</td><td style = \"text-align: right;\">0</td><td style = \"text-align: right;\">0</td><td style = \"text-align: left;\">no</td></tr><tr><td class = \"rowNumber\" style = \"font-weight: bold; text-align: right;\">10</td><td style = \"text-align: right;\">0</td><td style = \"text-align: right;\">10.4864</td><td style = \"text-align: right;\">4.3</td><td style = \"text-align: right;\">18.49</td><td style = \"text-align: right;\">11</td><td style = \"text-align: right;\">0</td><td style = \"text-align: right;\">2</td><td style = \"text-align: left;\">no</td></tr><tr><td class = \"rowNumber\" style = \"font-weight: bold; text-align: right;\">11</td><td style = \"text-align: right;\">0</td><td style = \"text-align: right;\">10.6606</td><td style = \"text-align: right;\">4.5</td><td style = \"text-align: right;\">20.25</td><td style = \"text-align: right;\">11</td><td style = \"text-align: right;\">0</td><td style = \"text-align: right;\">2</td><td style = \"text-align: left;\">no</td></tr><tr><td class = \"rowNumber\" style = \"font-weight: bold; text-align: right;\">12</td><td style = \"text-align: right;\">0</td><td style = \"text-align: right;\">10.4676</td><td style = \"text-align: right;\">6.0</td><td style = \"text-align: right;\">36.0</td><td style = \"text-align: right;\">12</td><td style = \"text-align: right;\">0</td><td style = \"text-align: right;\">0</td><td style = \"text-align: left;\">no</td></tr><tr><td class = \"rowNumber\" style = \"font-weight: bold; text-align: right;\">13</td><td style = \"text-align: right;\">0</td><td style = \"text-align: right;\">11.2296</td><td style = \"text-align: right;\">3.3</td><td style = \"text-align: right;\">10.89</td><td style = \"text-align: right;\">11</td><td style = \"text-align: right;\">2</td><td style = \"text-align: right;\">0</td><td style = \"text-align: left;\">no</td></tr><tr><td style = \"text-align: right;\">&vellip;</td><td style = \"text-align: right;\">&vellip;</td><td style = \"text-align: right;\">&vellip;</td><td style = \"text-align: right;\">&vellip;</td><td style = \"text-align: right;\">&vellip;</td><td style = \"text-align: right;\">&vellip;</td><td style = \"text-align: right;\">&vellip;</td><td style = \"text-align: right;\">&vellip;</td><td style = \"text-align: right;\">&vellip;</td></tr><tr><td class = \"rowNumber\" style = \"font-weight: bold; text-align: right;\">861</td><td style = \"text-align: right;\">1</td><td style = \"text-align: right;\">10.5289</td><td style = \"text-align: right;\">3.4</td><td style = \"text-align: right;\">11.56</td><td style = \"text-align: right;\">9</td><td style = \"text-align: right;\">1</td><td style = \"text-align: right;\">1</td><td style = \"text-align: left;\">yes</td></tr><tr><td class = \"rowNumber\" style = \"font-weight: bold; text-align: right;\">862</td><td style = \"text-align: right;\">1</td><td style = \"text-align: right;\">10.4685</td><td style = \"text-align: right;\">3.3</td><td style = \"text-align: right;\">10.89</td><td style = \"text-align: right;\">6</td><td style = \"text-align: right;\">0</td><td style = \"text-align: right;\">2</td><td style = \"text-align: left;\">yes</td></tr><tr><td class = \"rowNumber\" style = \"font-weight: bold; text-align: right;\">863</td><td style = \"text-align: right;\">0</td><td style = \"text-align: right;\">11.111</td><td style = \"text-align: right;\">3.5</td><td style = \"text-align: right;\">12.25</td><td style = \"text-align: right;\">10</td><td style = \"text-align: right;\">1</td><td style = \"text-align: right;\">1</td><td style = \"text-align: left;\">yes</td></tr><tr><td class = \"rowNumber\" style = \"font-weight: bold; text-align: right;\">864</td><td style = \"text-align: right;\">0</td><td style = \"text-align: right;\">10.4714</td><td style = \"text-align: right;\">5.1</td><td style = \"text-align: right;\">26.01</td><td style = \"text-align: right;\">9</td><td style = \"text-align: right;\">0</td><td style = \"text-align: right;\">1</td><td style = \"text-align: left;\">yes</td></tr><tr><td class = \"rowNumber\" style = \"font-weight: bold; text-align: right;\">865</td><td style = \"text-align: right;\">0</td><td style = \"text-align: right;\">10.1475</td><td style = \"text-align: right;\">4.1</td><td style = \"text-align: right;\">16.81</td><td style = \"text-align: right;\">5</td><td style = \"text-align: right;\">1</td><td style = \"text-align: right;\">0</td><td style = \"text-align: left;\">yes</td></tr><tr><td class = \"rowNumber\" style = \"font-weight: bold; text-align: right;\">866</td><td style = \"text-align: right;\">1</td><td style = \"text-align: right;\">10.6932</td><td style = \"text-align: right;\">3.5</td><td style = \"text-align: right;\">12.25</td><td style = \"text-align: right;\">9</td><td style = \"text-align: right;\">0</td><td style = \"text-align: right;\">2</td><td style = \"text-align: left;\">yes</td></tr><tr><td class = \"rowNumber\" style = \"font-weight: bold; text-align: right;\">867</td><td style = \"text-align: right;\">1</td><td style = \"text-align: right;\">10.0276</td><td style = \"text-align: right;\">4.2</td><td style = \"text-align: right;\">17.64</td><td style = \"text-align: right;\">14</td><td style = \"text-align: right;\">0</td><td style = \"text-align: right;\">0</td><td style = \"text-align: left;\">yes</td></tr><tr><td class = \"rowNumber\" style = \"font-weight: bold; text-align: right;\">868</td><td style = \"text-align: right;\">0</td><td style = \"text-align: right;\">10.5974</td><td style = \"text-align: right;\">2.4</td><td style = \"text-align: right;\">5.76</td><td style = \"text-align: right;\">4</td><td style = \"text-align: right;\">2</td><td style = \"text-align: right;\">1</td><td style = \"text-align: left;\">yes</td></tr><tr><td class = \"rowNumber\" style = \"font-weight: bold; text-align: right;\">869</td><td style = \"text-align: right;\">1</td><td style = \"text-align: right;\">10.3778</td><td style = \"text-align: right;\">4.8</td><td style = \"text-align: right;\">23.04</td><td style = \"text-align: right;\">8</td><td style = \"text-align: right;\">0</td><td style = \"text-align: right;\">0</td><td style = \"text-align: left;\">yes</td></tr><tr><td class = \"rowNumber\" style = \"font-weight: bold; text-align: right;\">870</td><td style = \"text-align: right;\">0</td><td style = \"text-align: right;\">10.1337</td><td style = \"text-align: right;\">2.4</td><td style = \"text-align: right;\">5.76</td><td style = \"text-align: right;\">6</td><td style = \"text-align: right;\">2</td><td style = \"text-align: right;\">0</td><td style = \"text-align: left;\">yes</td></tr><tr><td class = \"rowNumber\" style = \"font-weight: bold; text-align: right;\">871</td><td style = \"text-align: right;\">1</td><td style = \"text-align: right;\">10.9324</td><td style = \"text-align: right;\">4.1</td><td style = \"text-align: right;\">16.81</td><td style = \"text-align: right;\">10</td><td style = \"text-align: right;\">0</td><td style = \"text-align: right;\">1</td><td style = \"text-align: left;\">yes</td></tr><tr><td class = \"rowNumber\" style = \"font-weight: bold; text-align: right;\">872</td><td style = \"text-align: right;\">0</td><td style = \"text-align: right;\">11.2207</td><td style = \"text-align: right;\">5.1</td><td style = \"text-align: right;\">26.01</td><td style = \"text-align: right;\">10</td><td style = \"text-align: right;\">0</td><td style = \"text-align: right;\">0</td><td style = \"text-align: left;\">yes</td></tr></tbody></table></div>"
      ],
      "text/latex": [
       "\\begin{tabular}{r|cccccccc}\n",
       "\t& lfp & lnnlinc & age & age² & educ & nyc & noc & foreign\\\\\n",
       "\t\\hline\n",
       "\t& Int64 & Float64 & Float64 & Float64 & Int64 & Int64 & Int64 & Cat…\\\\\n",
       "\t\\hline\n",
       "\t1 & 0 & 10.7875 & 3.0 & 9.0 & 8 & 1 & 1 & no \\\\\n",
       "\t2 & 1 & 10.5243 & 4.5 & 20.25 & 8 & 0 & 1 & no \\\\\n",
       "\t3 & 0 & 10.9686 & 4.6 & 21.16 & 9 & 0 & 0 & no \\\\\n",
       "\t4 & 0 & 11.105 & 3.1 & 9.61 & 11 & 2 & 0 & no \\\\\n",
       "\t5 & 0 & 11.1085 & 4.4 & 19.36 & 12 & 0 & 2 & no \\\\\n",
       "\t6 & 1 & 11.0283 & 4.2 & 17.64 & 12 & 0 & 1 & no \\\\\n",
       "\t7 & 0 & 11.4547 & 5.1 & 26.01 & 8 & 0 & 0 & no \\\\\n",
       "\t8 & 1 & 10.4909 & 3.2 & 10.24 & 8 & 0 & 2 & no \\\\\n",
       "\t9 & 0 & 10.6247 & 3.9 & 15.21 & 12 & 0 & 0 & no \\\\\n",
       "\t10 & 0 & 10.4864 & 4.3 & 18.49 & 11 & 0 & 2 & no \\\\\n",
       "\t11 & 0 & 10.6606 & 4.5 & 20.25 & 11 & 0 & 2 & no \\\\\n",
       "\t12 & 0 & 10.4676 & 6.0 & 36.0 & 12 & 0 & 0 & no \\\\\n",
       "\t13 & 0 & 11.2296 & 3.3 & 10.89 & 11 & 2 & 0 & no \\\\\n",
       "\t14 & 0 & 11.9065 & 5.6 & 31.36 & 14 & 0 & 0 & no \\\\\n",
       "\t15 & 0 & 11.5016 & 5.6 & 31.36 & 11 & 0 & 0 & no \\\\\n",
       "\t16 & 0 & 11.2935 & 4.7 & 22.09 & 11 & 0 & 1 & no \\\\\n",
       "\t17 & 0 & 10.8613 & 5.0 & 25.0 & 8 & 0 & 0 & no \\\\\n",
       "\t18 & 1 & 11.844 & 3.9 & 15.21 & 12 & 0 & 0 & no \\\\\n",
       "\t19 & 0 & 11.0486 & 4.7 & 22.09 & 8 & 0 & 1 & no \\\\\n",
       "\t20 & 1 & 10.9578 & 5.3 & 28.09 & 11 & 0 & 0 & no \\\\\n",
       "\t21 & 0 & 10.8601 & 2.9 & 8.41 & 19 & 0 & 0 & no \\\\\n",
       "\t22 & 1 & 11.1081 & 4.6 & 21.16 & 11 & 0 & 1 & no \\\\\n",
       "\t23 & 0 & 10.8486 & 4.4 & 19.36 & 8 & 0 & 2 & no \\\\\n",
       "\t24 & 0 & 10.4824 & 2.0 & 4.0 & 12 & 1 & 0 & no \\\\\n",
       "\t25 & 1 & 10.484 & 5.4 & 29.16 & 8 & 0 & 0 & no \\\\\n",
       "\t26 & 1 & 10.6012 & 4.7 & 22.09 & 8 & 0 & 0 & no \\\\\n",
       "\t27 & 0 & 10.5406 & 2.8 & 7.84 & 9 & 2 & 0 & no \\\\\n",
       "\t28 & 0 & 11.2243 & 4.7 & 22.09 & 8 & 0 & 1 & no \\\\\n",
       "\t29 & 1 & 10.8411 & 4.9 & 24.01 & 12 & 0 & 0 & no \\\\\n",
       "\t30 & 0 & 10.5663 & 3.0 & 9.0 & 11 & 0 & 1 & no \\\\\n",
       "\t$\\dots$ & $\\dots$ & $\\dots$ & $\\dots$ & $\\dots$ & $\\dots$ & $\\dots$ & $\\dots$ & $\\dots$ \\\\\n",
       "\\end{tabular}\n"
      ],
      "text/plain": [
       "\u001b[1m872×8 DataFrame\u001b[0m\n",
       "\u001b[1m Row \u001b[0m│\u001b[1m lfp   \u001b[0m\u001b[1m lnnlinc \u001b[0m\u001b[1m age     \u001b[0m\u001b[1m age²    \u001b[0m\u001b[1m educ  \u001b[0m\u001b[1m nyc   \u001b[0m\u001b[1m noc   \u001b[0m\u001b[1m foreign \u001b[0m\n",
       "     │\u001b[90m Int64 \u001b[0m\u001b[90m Float64 \u001b[0m\u001b[90m Float64 \u001b[0m\u001b[90m Float64 \u001b[0m\u001b[90m Int64 \u001b[0m\u001b[90m Int64 \u001b[0m\u001b[90m Int64 \u001b[0m\u001b[90m Cat…    \u001b[0m\n",
       "─────┼────────────────────────────────────────────────────────────────\n",
       "   1 │     0  10.7875      3.0     9.0       8      1      1  no\n",
       "   2 │     1  10.5243      4.5    20.25      8      0      1  no\n",
       "   3 │     0  10.9686      4.6    21.16      9      0      0  no\n",
       "   4 │     0  11.105       3.1     9.61     11      2      0  no\n",
       "   5 │     0  11.1085      4.4    19.36     12      0      2  no\n",
       "   6 │     1  11.0283      4.2    17.64     12      0      1  no\n",
       "   7 │     0  11.4547      5.1    26.01      8      0      0  no\n",
       "   8 │     1  10.4909      3.2    10.24      8      0      2  no\n",
       "   9 │     0  10.6247      3.9    15.21     12      0      0  no\n",
       "  10 │     0  10.4864      4.3    18.49     11      0      2  no\n",
       "  11 │     0  10.6606      4.5    20.25     11      0      2  no\n",
       "  ⋮  │   ⋮       ⋮        ⋮        ⋮       ⋮      ⋮      ⋮       ⋮\n",
       " 863 │     0  11.111       3.5    12.25     10      1      1  yes\n",
       " 864 │     0  10.4714      5.1    26.01      9      0      1  yes\n",
       " 865 │     0  10.1475      4.1    16.81      5      1      0  yes\n",
       " 866 │     1  10.6932      3.5    12.25      9      0      2  yes\n",
       " 867 │     1  10.0276      4.2    17.64     14      0      0  yes\n",
       " 868 │     0  10.5974      2.4     5.76      4      2      1  yes\n",
       " 869 │     1  10.3778      4.8    23.04      8      0      0  yes\n",
       " 870 │     0  10.1337      2.4     5.76      6      2      0  yes\n",
       " 871 │     1  10.9324      4.1    16.81     10      0      1  yes\n",
       " 872 │     0  11.2207      5.1    26.01     10      0      0  yes\n",
       "\u001b[36m                                                      851 rows omitted\u001b[0m"
      ]
     },
     "execution_count": 7,
     "metadata": {},
     "output_type": "execute_result"
    }
   ],
   "source": [
    "df = select(df_raw,\n",
    "            :lfp => x -> recode(x, \"yes\" => 1, \"no\" => 0),\n",
    "            :lnnlinc,\n",
    "            :age,\n",
    "            :age => ByRow(x -> x^2) => :age²,\n",
    "            Between(:educ, :noc),\n",
    "            :foreign => categorical,\n",
    "            renamecols=false)"
   ]
  },
  {
   "cell_type": "markdown",
   "id": "8cf42c7e",
   "metadata": {},
   "source": [
    "Check the summary statistics of the updated table:"
   ]
  },
  {
   "cell_type": "code",
   "execution_count": 8,
   "id": "2eac1062",
   "metadata": {},
   "outputs": [
    {
     "data": {
      "text/html": [
       "<div><div style = \"float: left;\"><span>8×7 DataFrame</span></div><div style = \"clear: both;\"></div></div><div class = \"data-frame\" style = \"overflow-x: scroll;\"><table class = \"data-frame\" style = \"margin-bottom: 6px;\"><thead><tr class = \"header\"><th class = \"rowNumber\" style = \"font-weight: bold; text-align: right;\">Row</th><th style = \"text-align: left;\">variable</th><th style = \"text-align: left;\">mean</th><th style = \"text-align: left;\">min</th><th style = \"text-align: left;\">median</th><th style = \"text-align: left;\">max</th><th style = \"text-align: left;\">nmissing</th><th style = \"text-align: left;\">eltype</th></tr><tr class = \"subheader headerLastRow\"><th class = \"rowNumber\" style = \"font-weight: bold; text-align: right;\"></th><th title = \"Symbol\" style = \"text-align: left;\">Symbol</th><th title = \"Union{Nothing, Float64}\" style = \"text-align: left;\">Union…</th><th title = \"Any\" style = \"text-align: left;\">Any</th><th title = \"Union{Nothing, Float64}\" style = \"text-align: left;\">Union…</th><th title = \"Any\" style = \"text-align: left;\">Any</th><th title = \"Int64\" style = \"text-align: left;\">Int64</th><th title = \"DataType\" style = \"text-align: left;\">DataType</th></tr></thead><tbody><tr><td class = \"rowNumber\" style = \"font-weight: bold; text-align: right;\">1</td><td style = \"text-align: left;\">lfp</td><td style = \"text-align: left;\">0.459862</td><td style = \"text-align: left;\">0</td><td style = \"text-align: left;\">0.0</td><td style = \"text-align: left;\">1</td><td style = \"text-align: right;\">0</td><td style = \"text-align: left;\">Int64</td></tr><tr><td class = \"rowNumber\" style = \"font-weight: bold; text-align: right;\">2</td><td style = \"text-align: left;\">lnnlinc</td><td style = \"text-align: left;\">10.6856</td><td style = \"text-align: left;\">7.1869</td><td style = \"text-align: left;\">10.6431</td><td style = \"text-align: left;\">12.3757</td><td style = \"text-align: right;\">0</td><td style = \"text-align: left;\">Float64</td></tr><tr><td class = \"rowNumber\" style = \"font-weight: bold; text-align: right;\">3</td><td style = \"text-align: left;\">age</td><td style = \"text-align: left;\">3.99553</td><td style = \"text-align: left;\">2.0</td><td style = \"text-align: left;\">3.9</td><td style = \"text-align: left;\">6.2</td><td style = \"text-align: right;\">0</td><td style = \"text-align: left;\">Float64</td></tr><tr><td class = \"rowNumber\" style = \"font-weight: bold; text-align: right;\">4</td><td style = \"text-align: left;\">age²</td><td style = \"text-align: left;\">17.0763</td><td style = \"text-align: left;\">4.0</td><td style = \"text-align: left;\">15.21</td><td style = \"text-align: left;\">38.44</td><td style = \"text-align: right;\">0</td><td style = \"text-align: left;\">Float64</td></tr><tr><td class = \"rowNumber\" style = \"font-weight: bold; text-align: right;\">5</td><td style = \"text-align: left;\">educ</td><td style = \"text-align: left;\">9.30734</td><td style = \"text-align: left;\">1</td><td style = \"text-align: left;\">9.0</td><td style = \"text-align: left;\">21</td><td style = \"text-align: right;\">0</td><td style = \"text-align: left;\">Int64</td></tr><tr><td class = \"rowNumber\" style = \"font-weight: bold; text-align: right;\">6</td><td style = \"text-align: left;\">nyc</td><td style = \"text-align: left;\">0.311927</td><td style = \"text-align: left;\">0</td><td style = \"text-align: left;\">0.0</td><td style = \"text-align: left;\">3</td><td style = \"text-align: right;\">0</td><td style = \"text-align: left;\">Int64</td></tr><tr><td class = \"rowNumber\" style = \"font-weight: bold; text-align: right;\">7</td><td style = \"text-align: left;\">noc</td><td style = \"text-align: left;\">0.982798</td><td style = \"text-align: left;\">0</td><td style = \"text-align: left;\">1.0</td><td style = \"text-align: left;\">6</td><td style = \"text-align: right;\">0</td><td style = \"text-align: left;\">Int64</td></tr><tr><td class = \"rowNumber\" style = \"font-weight: bold; text-align: right;\">8</td><td style = \"text-align: left;\">foreign</td><td style = \"font-style: italic; text-align: left;\"></td><td style = \"text-align: left;\">no</td><td style = \"font-style: italic; text-align: left;\"></td><td style = \"text-align: left;\">yes</td><td style = \"text-align: right;\">0</td><td style = \"text-align: left;\">CategoricalValue{String3, UInt32}</td></tr></tbody></table></div>"
      ],
      "text/latex": [
       "\\begin{tabular}{r|ccccccc}\n",
       "\t& variable & mean & min & median & max & nmissing & eltype\\\\\n",
       "\t\\hline\n",
       "\t& Symbol & Union… & Any & Union… & Any & Int64 & DataType\\\\\n",
       "\t\\hline\n",
       "\t1 & lfp & 0.459862 & 0 & 0.0 & 1 & 0 & Int64 \\\\\n",
       "\t2 & lnnlinc & 10.6856 & 7.1869 & 10.6431 & 12.3757 & 0 & Float64 \\\\\n",
       "\t3 & age & 3.99553 & 2.0 & 3.9 & 6.2 & 0 & Float64 \\\\\n",
       "\t4 & age² & 17.0763 & 4.0 & 15.21 & 38.44 & 0 & Float64 \\\\\n",
       "\t5 & educ & 9.30734 & 1 & 9.0 & 21 & 0 & Int64 \\\\\n",
       "\t6 & nyc & 0.311927 & 0 & 0.0 & 3 & 0 & Int64 \\\\\n",
       "\t7 & noc & 0.982798 & 0 & 1.0 & 6 & 0 & Int64 \\\\\n",
       "\t8 & foreign &  & no &  & yes & 0 & CategoricalValue\\{String3, UInt32\\} \\\\\n",
       "\\end{tabular}\n"
      ],
      "text/plain": [
       "\u001b[1m8×7 DataFrame\u001b[0m\n",
       "\u001b[1m Row \u001b[0m│\u001b[1m variable \u001b[0m\u001b[1m mean     \u001b[0m\u001b[1m min    \u001b[0m\u001b[1m median  \u001b[0m\u001b[1m max     \u001b[0m\u001b[1m nmissing \u001b[0m\u001b[1m eltype         \u001b[0m ⋯\n",
       "     │\u001b[90m Symbol   \u001b[0m\u001b[90m Union…   \u001b[0m\u001b[90m Any    \u001b[0m\u001b[90m Union…  \u001b[0m\u001b[90m Any     \u001b[0m\u001b[90m Int64    \u001b[0m\u001b[90m DataType       \u001b[0m ⋯\n",
       "─────┼──────────────────────────────────────────────────────────────────────────\n",
       "   1 │ lfp       0.459862  0       0.0      1               0  Int64           ⋯\n",
       "   2 │ lnnlinc   10.6856   7.1869  10.6431  12.3757         0  Float64\n",
       "   3 │ age       3.99553   2.0     3.9      6.2             0  Float64\n",
       "   4 │ age²      17.0763   4.0     15.21    38.44           0  Float64\n",
       "   5 │ educ      9.30734   1       9.0      21              0  Int64           ⋯\n",
       "   6 │ nyc       0.311927  0       0.0      3               0  Int64\n",
       "   7 │ noc       0.982798  0       1.0      6               0  Int64\n",
       "   8 │ foreign  \u001b[90m          \u001b[0m no     \u001b[90m         \u001b[0m yes             0  CategoricalValu\n",
       "\u001b[36m                                                                1 column omitted\u001b[0m"
      ]
     },
     "execution_count": 8,
     "metadata": {},
     "output_type": "execute_result"
    }
   ],
   "source": [
    "describe(df)"
   ]
  },
  {
   "cell_type": "markdown",
   "id": "63ded484",
   "metadata": {},
   "source": [
    "## Exploratory data analysis"
   ]
  },
  {
   "cell_type": "markdown",
   "id": "8880bd35",
   "metadata": {},
   "source": [
    "We want to compute the mean of numeric columns by `:lfp` to initialy check in what direction they influence the target.\n",
    "\n",
    "In the example we use the following:\n",
    "* the `@chain` macro from the [Chain.jl](https://github.com/jkrumbiegel/Chain.jl) package; it allows for convenient piping of operations;\n",
    "* the `groupby` function that adds the key column to the data frame (groups the data frame by the passed column)\n",
    "* the `combine` function that combines the rows of a data frame by some function"
   ]
  },
  {
   "cell_type": "code",
   "execution_count": 9,
   "id": "6868bd67",
   "metadata": {},
   "outputs": [
    {
     "data": {
      "text/html": [
       "<div><div style = \"float: left;\"><span>2×6 DataFrame</span></div><div style = \"clear: both;\"></div></div><div class = \"data-frame\" style = \"overflow-x: scroll;\"><table class = \"data-frame\" style = \"margin-bottom: 6px;\"><thead><tr class = \"header\"><th class = \"rowNumber\" style = \"font-weight: bold; text-align: right;\">Row</th><th style = \"text-align: left;\">lfp</th><th style = \"text-align: left;\">lnnlinc_mean</th><th style = \"text-align: left;\">age_mean</th><th style = \"text-align: left;\">educ_mean</th><th style = \"text-align: left;\">nyc_mean</th><th style = \"text-align: left;\">noc_mean</th></tr><tr class = \"subheader headerLastRow\"><th class = \"rowNumber\" style = \"font-weight: bold; text-align: right;\"></th><th title = \"Int64\" style = \"text-align: left;\">Int64</th><th title = \"Float64\" style = \"text-align: left;\">Float64</th><th title = \"Float64\" style = \"text-align: left;\">Float64</th><th title = \"Float64\" style = \"text-align: left;\">Float64</th><th title = \"Float64\" style = \"text-align: left;\">Float64</th><th title = \"Float64\" style = \"text-align: left;\">Float64</th></tr></thead><tbody><tr><td class = \"rowNumber\" style = \"font-weight: bold; text-align: right;\">1</td><td style = \"text-align: right;\">0</td><td style = \"text-align: right;\">10.7513</td><td style = \"text-align: right;\">4.08535</td><td style = \"text-align: right;\">9.59448</td><td style = \"text-align: right;\">0.409766</td><td style = \"text-align: right;\">0.902335</td></tr><tr><td class = \"rowNumber\" style = \"font-weight: bold; text-align: right;\">2</td><td style = \"text-align: right;\">1</td><td style = \"text-align: right;\">10.6083</td><td style = \"text-align: right;\">3.89002</td><td style = \"text-align: right;\">8.97007</td><td style = \"text-align: right;\">0.197007</td><td style = \"text-align: right;\">1.07731</td></tr></tbody></table></div>"
      ],
      "text/latex": [
       "\\begin{tabular}{r|cccccc}\n",
       "\t& lfp & lnnlinc\\_mean & age\\_mean & educ\\_mean & nyc\\_mean & noc\\_mean\\\\\n",
       "\t\\hline\n",
       "\t& Int64 & Float64 & Float64 & Float64 & Float64 & Float64\\\\\n",
       "\t\\hline\n",
       "\t1 & 0 & 10.7513 & 4.08535 & 9.59448 & 0.409766 & 0.902335 \\\\\n",
       "\t2 & 1 & 10.6083 & 3.89002 & 8.97007 & 0.197007 & 1.07731 \\\\\n",
       "\\end{tabular}\n"
      ],
      "text/plain": [
       "\u001b[1m2×6 DataFrame\u001b[0m\n",
       "\u001b[1m Row \u001b[0m│\u001b[1m lfp   \u001b[0m\u001b[1m lnnlinc_mean \u001b[0m\u001b[1m age_mean \u001b[0m\u001b[1m educ_mean \u001b[0m\u001b[1m nyc_mean \u001b[0m\u001b[1m noc_mean \u001b[0m\n",
       "     │\u001b[90m Int64 \u001b[0m\u001b[90m Float64      \u001b[0m\u001b[90m Float64  \u001b[0m\u001b[90m Float64   \u001b[0m\u001b[90m Float64  \u001b[0m\u001b[90m Float64  \u001b[0m\n",
       "─────┼──────────────────────────────────────────────────────────────\n",
       "   1 │     0       10.7513   4.08535    9.59448  0.409766  0.902335\n",
       "   2 │     1       10.6083   3.89002    8.97007  0.197007  1.07731"
      ]
     },
     "execution_count": 9,
     "metadata": {},
     "output_type": "execute_result"
    }
   ],
   "source": [
    "@chain df begin\n",
    "    groupby(:lfp)\n",
    "    combine([:lnnlinc, :age, :educ, :nyc, :noc] .=> mean)\n",
    "end"
   ]
  },
  {
   "cell_type": "markdown",
   "id": "b3d9934a",
   "metadata": {},
   "source": [
    "Observe that the following:"
   ]
  },
  {
   "cell_type": "code",
   "execution_count": 10,
   "id": "b1720dff",
   "metadata": {},
   "outputs": [
    {
     "data": {
      "text/plain": [
       "5-element Vector{Pair{Symbol, typeof(mean)}}:\n",
       " :lnnlinc => Statistics.mean\n",
       "     :age => Statistics.mean\n",
       "    :educ => Statistics.mean\n",
       "     :nyc => Statistics.mean\n",
       "     :noc => Statistics.mean"
      ]
     },
     "execution_count": 10,
     "metadata": {},
     "output_type": "execute_result"
    }
   ],
   "source": [
    "[:lnnlinc, :age, :educ, :nyc, :noc] .=> mean"
   ]
  },
  {
   "cell_type": "markdown",
   "id": "4fc5b3cc",
   "metadata": {},
   "source": [
    "is a convenient way to specify multiple similar transformations using the broadcasting syntax provided by Julia.\n",
    "\n",
    "You can find more examples of this pattern at work [here](https://bkamins.github.io/julialang/2021/07/09/multicol.html)."
   ]
  },
  {
   "cell_type": "markdown",
   "id": "e0a602c4",
   "metadata": {},
   "source": [
    "If we did not want to list all the columns manually we could have written (note that `:lfp` was included as it is binary):"
   ]
  },
  {
   "cell_type": "code",
   "execution_count": 11,
   "id": "fc12c922",
   "metadata": {},
   "outputs": [
    {
     "data": {
      "text/html": [
       "<div><div style = \"float: left;\"><span>2×8 DataFrame</span></div><div style = \"clear: both;\"></div></div><div class = \"data-frame\" style = \"overflow-x: scroll;\"><table class = \"data-frame\" style = \"margin-bottom: 6px;\"><thead><tr class = \"header\"><th class = \"rowNumber\" style = \"font-weight: bold; text-align: right;\">Row</th><th style = \"text-align: left;\">lfp</th><th style = \"text-align: left;\">lfp_mean</th><th style = \"text-align: left;\">lnnlinc_mean</th><th style = \"text-align: left;\">age_mean</th><th style = \"text-align: left;\">age²_mean</th><th style = \"text-align: left;\">educ_mean</th><th style = \"text-align: left;\">nyc_mean</th><th style = \"text-align: left;\">noc_mean</th></tr><tr class = \"subheader headerLastRow\"><th class = \"rowNumber\" style = \"font-weight: bold; text-align: right;\"></th><th title = \"Int64\" style = \"text-align: left;\">Int64</th><th title = \"Float64\" style = \"text-align: left;\">Float64</th><th title = \"Float64\" style = \"text-align: left;\">Float64</th><th title = \"Float64\" style = \"text-align: left;\">Float64</th><th title = \"Float64\" style = \"text-align: left;\">Float64</th><th title = \"Float64\" style = \"text-align: left;\">Float64</th><th title = \"Float64\" style = \"text-align: left;\">Float64</th><th title = \"Float64\" style = \"text-align: left;\">Float64</th></tr></thead><tbody><tr><td class = \"rowNumber\" style = \"font-weight: bold; text-align: right;\">1</td><td style = \"text-align: right;\">0</td><td style = \"text-align: right;\">0.0</td><td style = \"text-align: right;\">10.7513</td><td style = \"text-align: right;\">4.08535</td><td style = \"text-align: right;\">18.0357</td><td style = \"text-align: right;\">9.59448</td><td style = \"text-align: right;\">0.409766</td><td style = \"text-align: right;\">0.902335</td></tr><tr><td class = \"rowNumber\" style = \"font-weight: bold; text-align: right;\">2</td><td style = \"text-align: right;\">1</td><td style = \"text-align: right;\">1.0</td><td style = \"text-align: right;\">10.6083</td><td style = \"text-align: right;\">3.89002</td><td style = \"text-align: right;\">15.9496</td><td style = \"text-align: right;\">8.97007</td><td style = \"text-align: right;\">0.197007</td><td style = \"text-align: right;\">1.07731</td></tr></tbody></table></div>"
      ],
      "text/latex": [
       "\\begin{tabular}{r|cccccccc}\n",
       "\t& lfp & lfp\\_mean & lnnlinc\\_mean & age\\_mean & age²\\_mean & educ\\_mean & nyc\\_mean & noc\\_mean\\\\\n",
       "\t\\hline\n",
       "\t& Int64 & Float64 & Float64 & Float64 & Float64 & Float64 & Float64 & Float64\\\\\n",
       "\t\\hline\n",
       "\t1 & 0 & 0.0 & 10.7513 & 4.08535 & 18.0357 & 9.59448 & 0.409766 & 0.902335 \\\\\n",
       "\t2 & 1 & 1.0 & 10.6083 & 3.89002 & 15.9496 & 8.97007 & 0.197007 & 1.07731 \\\\\n",
       "\\end{tabular}\n"
      ],
      "text/plain": [
       "\u001b[1m2×8 DataFrame\u001b[0m\n",
       "\u001b[1m Row \u001b[0m│\u001b[1m lfp   \u001b[0m\u001b[1m lfp_mean \u001b[0m\u001b[1m lnnlinc_mean \u001b[0m\u001b[1m age_mean \u001b[0m\u001b[1m age²_mean \u001b[0m\u001b[1m educ_mean \u001b[0m\u001b[1m nyc_mean\u001b[0m ⋯\n",
       "     │\u001b[90m Int64 \u001b[0m\u001b[90m Float64  \u001b[0m\u001b[90m Float64      \u001b[0m\u001b[90m Float64  \u001b[0m\u001b[90m Float64   \u001b[0m\u001b[90m Float64   \u001b[0m\u001b[90m Float64 \u001b[0m ⋯\n",
       "─────┼──────────────────────────────────────────────────────────────────────────\n",
       "   1 │     0       0.0       10.7513   4.08535    18.0357    9.59448  0.409766 ⋯\n",
       "   2 │     1       1.0       10.6083   3.89002    15.9496    8.97007  0.197007\n",
       "\u001b[36m                                                                1 column omitted\u001b[0m"
      ]
     },
     "execution_count": 11,
     "metadata": {},
     "output_type": "execute_result"
    }
   ],
   "source": [
    "@chain df begin\n",
    "    groupby(:lfp)\n",
    "    combine(names(df, Real) .=> mean)\n",
    "end"
   ]
  },
  {
   "cell_type": "markdown",
   "id": "eb1eddd8",
   "metadata": {},
   "source": [
    "Now handle the categorical variable `:foreign`.\n",
    "\n",
    "Note that this time we pass just `nrow` to combine, which has a special treatement and returns the number of rows in each group."
   ]
  },
  {
   "cell_type": "code",
   "execution_count": 12,
   "id": "84bb013e",
   "metadata": {},
   "outputs": [
    {
     "data": {
      "text/html": [
       "<div><div style = \"float: left;\"><span>4×3 DataFrame</span></div><div style = \"clear: both;\"></div></div><div class = \"data-frame\" style = \"overflow-x: scroll;\"><table class = \"data-frame\" style = \"margin-bottom: 6px;\"><thead><tr class = \"header\"><th class = \"rowNumber\" style = \"font-weight: bold; text-align: right;\">Row</th><th style = \"text-align: left;\">lfp</th><th style = \"text-align: left;\">foreign</th><th style = \"text-align: left;\">nrow</th></tr><tr class = \"subheader headerLastRow\"><th class = \"rowNumber\" style = \"font-weight: bold; text-align: right;\"></th><th title = \"Int64\" style = \"text-align: left;\">Int64</th><th title = \"CategoricalValue{String3, UInt32}\" style = \"text-align: left;\">Cat…</th><th title = \"Int64\" style = \"text-align: left;\">Int64</th></tr></thead><tbody><tr><td class = \"rowNumber\" style = \"font-weight: bold; text-align: right;\">1</td><td style = \"text-align: right;\">0</td><td style = \"text-align: left;\">no</td><td style = \"text-align: right;\">402</td></tr><tr><td class = \"rowNumber\" style = \"font-weight: bold; text-align: right;\">2</td><td style = \"text-align: right;\">0</td><td style = \"text-align: left;\">yes</td><td style = \"text-align: right;\">69</td></tr><tr><td class = \"rowNumber\" style = \"font-weight: bold; text-align: right;\">3</td><td style = \"text-align: right;\">1</td><td style = \"text-align: left;\">no</td><td style = \"text-align: right;\">254</td></tr><tr><td class = \"rowNumber\" style = \"font-weight: bold; text-align: right;\">4</td><td style = \"text-align: right;\">1</td><td style = \"text-align: left;\">yes</td><td style = \"text-align: right;\">147</td></tr></tbody></table></div>"
      ],
      "text/latex": [
       "\\begin{tabular}{r|ccc}\n",
       "\t& lfp & foreign & nrow\\\\\n",
       "\t\\hline\n",
       "\t& Int64 & Cat… & Int64\\\\\n",
       "\t\\hline\n",
       "\t1 & 0 & no & 402 \\\\\n",
       "\t2 & 0 & yes & 69 \\\\\n",
       "\t3 & 1 & no & 254 \\\\\n",
       "\t4 & 1 & yes & 147 \\\\\n",
       "\\end{tabular}\n"
      ],
      "text/plain": [
       "\u001b[1m4×3 DataFrame\u001b[0m\n",
       "\u001b[1m Row \u001b[0m│\u001b[1m lfp   \u001b[0m\u001b[1m foreign \u001b[0m\u001b[1m nrow  \u001b[0m\n",
       "     │\u001b[90m Int64 \u001b[0m\u001b[90m Cat…    \u001b[0m\u001b[90m Int64 \u001b[0m\n",
       "─────┼───────────────────────\n",
       "   1 │     0  no         402\n",
       "   2 │     0  yes         69\n",
       "   3 │     1  no         254\n",
       "   4 │     1  yes        147"
      ]
     },
     "execution_count": 12,
     "metadata": {},
     "output_type": "execute_result"
    }
   ],
   "source": [
    "@chain df begin\n",
    "    groupby([:lfp, :foreign])\n",
    "    combine(nrow)\n",
    "end"
   ]
  },
  {
   "cell_type": "markdown",
   "id": "5f3f983a",
   "metadata": {},
   "source": [
    "If we wanted to create a cross-tabulation of the data we can put:\n",
    "* the `:lfp` variable as rows,\n",
    "* the `:foreign` variable as columns,\n",
    "* the `:nrow` variable as values,\n",
    "\n",
    "using the `unstack` function.\n",
    "\n",
    "More advanced examples of reshaping of data frames are presented [here](https://bkamins.github.io/julialang/2021/05/28/pivot.html)."
   ]
  },
  {
   "cell_type": "code",
   "execution_count": 13,
   "id": "81d473d9",
   "metadata": {},
   "outputs": [
    {
     "data": {
      "text/html": [
       "<div><div style = \"float: left;\"><span>2×3 DataFrame</span></div><div style = \"clear: both;\"></div></div><div class = \"data-frame\" style = \"overflow-x: scroll;\"><table class = \"data-frame\" style = \"margin-bottom: 6px;\"><thead><tr class = \"header\"><th class = \"rowNumber\" style = \"font-weight: bold; text-align: right;\">Row</th><th style = \"text-align: left;\">lfp</th><th style = \"text-align: left;\">no</th><th style = \"text-align: left;\">yes</th></tr><tr class = \"subheader headerLastRow\"><th class = \"rowNumber\" style = \"font-weight: bold; text-align: right;\"></th><th title = \"Int64\" style = \"text-align: left;\">Int64</th><th title = \"Union{Missing, Int64}\" style = \"text-align: left;\">Int64?</th><th title = \"Union{Missing, Int64}\" style = \"text-align: left;\">Int64?</th></tr></thead><tbody><tr><td class = \"rowNumber\" style = \"font-weight: bold; text-align: right;\">1</td><td style = \"text-align: right;\">0</td><td style = \"text-align: right;\">402</td><td style = \"text-align: right;\">69</td></tr><tr><td class = \"rowNumber\" style = \"font-weight: bold; text-align: right;\">2</td><td style = \"text-align: right;\">1</td><td style = \"text-align: right;\">254</td><td style = \"text-align: right;\">147</td></tr></tbody></table></div>"
      ],
      "text/latex": [
       "\\begin{tabular}{r|ccc}\n",
       "\t& lfp & no & yes\\\\\n",
       "\t\\hline\n",
       "\t& Int64 & Int64? & Int64?\\\\\n",
       "\t\\hline\n",
       "\t1 & 0 & 402 & 69 \\\\\n",
       "\t2 & 1 & 254 & 147 \\\\\n",
       "\\end{tabular}\n"
      ],
      "text/plain": [
       "\u001b[1m2×3 DataFrame\u001b[0m\n",
       "\u001b[1m Row \u001b[0m│\u001b[1m lfp   \u001b[0m\u001b[1m no     \u001b[0m\u001b[1m yes    \u001b[0m\n",
       "     │\u001b[90m Int64 \u001b[0m\u001b[90m Int64? \u001b[0m\u001b[90m Int64? \u001b[0m\n",
       "─────┼───────────────────────\n",
       "   1 │     0     402      69\n",
       "   2 │     1     254     147"
      ]
     },
     "execution_count": 13,
     "metadata": {},
     "output_type": "execute_result"
    }
   ],
   "source": [
    "@chain df begin\n",
    "    groupby([:lfp, :foreign])\n",
    "    combine(nrow)\n",
    "    unstack(:lfp, :foreign, :nrow)\n",
    "end"
   ]
  },
  {
   "cell_type": "markdown",
   "id": "f1c1edb6",
   "metadata": {},
   "source": [
    "or just:"
   ]
  },
  {
   "cell_type": "code",
   "execution_count": 14,
   "id": "c9319cbe",
   "metadata": {},
   "outputs": [
    {
     "data": {
      "text/html": [
       "<div><div style = \"float: left;\"><span>2×3 DataFrame</span></div><div style = \"clear: both;\"></div></div><div class = \"data-frame\" style = \"overflow-x: scroll;\"><table class = \"data-frame\" style = \"margin-bottom: 6px;\"><thead><tr class = \"header\"><th class = \"rowNumber\" style = \"font-weight: bold; text-align: right;\">Row</th><th style = \"text-align: left;\">lfp</th><th style = \"text-align: left;\">no</th><th style = \"text-align: left;\">yes</th></tr><tr class = \"subheader headerLastRow\"><th class = \"rowNumber\" style = \"font-weight: bold; text-align: right;\"></th><th title = \"Int64\" style = \"text-align: left;\">Int64</th><th title = \"Union{Missing, Int64}\" style = \"text-align: left;\">Int64?</th><th title = \"Union{Missing, Int64}\" style = \"text-align: left;\">Int64?</th></tr></thead><tbody><tr><td class = \"rowNumber\" style = \"font-weight: bold; text-align: right;\">1</td><td style = \"text-align: right;\">0</td><td style = \"text-align: right;\">402</td><td style = \"text-align: right;\">69</td></tr><tr><td class = \"rowNumber\" style = \"font-weight: bold; text-align: right;\">2</td><td style = \"text-align: right;\">1</td><td style = \"text-align: right;\">254</td><td style = \"text-align: right;\">147</td></tr></tbody></table></div>"
      ],
      "text/latex": [
       "\\begin{tabular}{r|ccc}\n",
       "\t& lfp & no & yes\\\\\n",
       "\t\\hline\n",
       "\t& Int64 & Int64? & Int64?\\\\\n",
       "\t\\hline\n",
       "\t1 & 0 & 402 & 69 \\\\\n",
       "\t2 & 1 & 254 & 147 \\\\\n",
       "\\end{tabular}\n"
      ],
      "text/plain": [
       "\u001b[1m2×3 DataFrame\u001b[0m\n",
       "\u001b[1m Row \u001b[0m│\u001b[1m lfp   \u001b[0m\u001b[1m no     \u001b[0m\u001b[1m yes    \u001b[0m\n",
       "     │\u001b[90m Int64 \u001b[0m\u001b[90m Int64? \u001b[0m\u001b[90m Int64? \u001b[0m\n",
       "─────┼───────────────────────\n",
       "   1 │     0     402      69\n",
       "   2 │     1     254     147"
      ]
     },
     "execution_count": 14,
     "metadata": {},
     "output_type": "execute_result"
    }
   ],
   "source": [
    "unstack(df, :lfp, :foreign, :foreign, combine=length)"
   ]
  },
  {
   "cell_type": "markdown",
   "id": "037fdf0e",
   "metadata": {},
   "source": [
    "Finally let us add another step to our `@chain`, which will create a fraction of `:yes` answers in each group.\n",
    "\n",
    "Note that in this example we show how to pass more than one column to a transformation function."
   ]
  },
  {
   "cell_type": "code",
   "execution_count": 15,
   "id": "f3667883",
   "metadata": {},
   "outputs": [
    {
     "data": {
      "text/html": [
       "<div><div style = \"float: left;\"><span>2×2 DataFrame</span></div><div style = \"clear: both;\"></div></div><div class = \"data-frame\" style = \"overflow-x: scroll;\"><table class = \"data-frame\" style = \"margin-bottom: 6px;\"><thead><tr class = \"header\"><th class = \"rowNumber\" style = \"font-weight: bold; text-align: right;\">Row</th><th style = \"text-align: left;\">lfp</th><th style = \"text-align: left;\">foreign_yes</th></tr><tr class = \"subheader headerLastRow\"><th class = \"rowNumber\" style = \"font-weight: bold; text-align: right;\"></th><th title = \"Int64\" style = \"text-align: left;\">Int64</th><th title = \"Float64\" style = \"text-align: left;\">Float64</th></tr></thead><tbody><tr><td class = \"rowNumber\" style = \"font-weight: bold; text-align: right;\">1</td><td style = \"text-align: right;\">0</td><td style = \"text-align: right;\">0.146497</td></tr><tr><td class = \"rowNumber\" style = \"font-weight: bold; text-align: right;\">2</td><td style = \"text-align: right;\">1</td><td style = \"text-align: right;\">0.366584</td></tr></tbody></table></div>"
      ],
      "text/latex": [
       "\\begin{tabular}{r|cc}\n",
       "\t& lfp & foreign\\_yes\\\\\n",
       "\t\\hline\n",
       "\t& Int64 & Float64\\\\\n",
       "\t\\hline\n",
       "\t1 & 0 & 0.146497 \\\\\n",
       "\t2 & 1 & 0.366584 \\\\\n",
       "\\end{tabular}\n"
      ],
      "text/plain": [
       "\u001b[1m2×2 DataFrame\u001b[0m\n",
       "\u001b[1m Row \u001b[0m│\u001b[1m lfp   \u001b[0m\u001b[1m foreign_yes \u001b[0m\n",
       "     │\u001b[90m Int64 \u001b[0m\u001b[90m Float64     \u001b[0m\n",
       "─────┼────────────────────\n",
       "   1 │     0     0.146497\n",
       "   2 │     1     0.366584"
      ]
     },
     "execution_count": 15,
     "metadata": {},
     "output_type": "execute_result"
    }
   ],
   "source": [
    "@chain df begin\n",
    "    groupby([:lfp, :foreign])\n",
    "    combine(nrow)\n",
    "    unstack(:lfp, :foreign, :nrow)\n",
    "    select(:lfp, [:no, :yes] => ByRow((x, y) -> y / (x + y)) => :foreign_yes)\n",
    "end"
   ]
  },
  {
   "cell_type": "markdown",
   "id": "d4a112c6",
   "metadata": {},
   "source": [
    "An observant reader will notice that we could have done it in one step like this (the benefit of being verbose was that we have learned more features of DataFrames.jl):"
   ]
  },
  {
   "cell_type": "code",
   "execution_count": 16,
   "id": "3a70f926",
   "metadata": {},
   "outputs": [
    {
     "data": {
      "text/html": [
       "<div><div style = \"float: left;\"><span>2×2 DataFrame</span></div><div style = \"clear: both;\"></div></div><div class = \"data-frame\" style = \"overflow-x: scroll;\"><table class = \"data-frame\" style = \"margin-bottom: 6px;\"><thead><tr class = \"header\"><th class = \"rowNumber\" style = \"font-weight: bold; text-align: right;\">Row</th><th style = \"text-align: left;\">lfp</th><th style = \"text-align: left;\">foreign_yes</th></tr><tr class = \"subheader headerLastRow\"><th class = \"rowNumber\" style = \"font-weight: bold; text-align: right;\"></th><th title = \"Int64\" style = \"text-align: left;\">Int64</th><th title = \"Float64\" style = \"text-align: left;\">Float64</th></tr></thead><tbody><tr><td class = \"rowNumber\" style = \"font-weight: bold; text-align: right;\">1</td><td style = \"text-align: right;\">0</td><td style = \"text-align: right;\">0.146497</td></tr><tr><td class = \"rowNumber\" style = \"font-weight: bold; text-align: right;\">2</td><td style = \"text-align: right;\">1</td><td style = \"text-align: right;\">0.366584</td></tr></tbody></table></div>"
      ],
      "text/latex": [
       "\\begin{tabular}{r|cc}\n",
       "\t& lfp & foreign\\_yes\\\\\n",
       "\t\\hline\n",
       "\t& Int64 & Float64\\\\\n",
       "\t\\hline\n",
       "\t1 & 0 & 0.146497 \\\\\n",
       "\t2 & 1 & 0.366584 \\\\\n",
       "\\end{tabular}\n"
      ],
      "text/plain": [
       "\u001b[1m2×2 DataFrame\u001b[0m\n",
       "\u001b[1m Row \u001b[0m│\u001b[1m lfp   \u001b[0m\u001b[1m foreign_yes \u001b[0m\n",
       "     │\u001b[90m Int64 \u001b[0m\u001b[90m Float64     \u001b[0m\n",
       "─────┼────────────────────\n",
       "   1 │     0     0.146497\n",
       "   2 │     1     0.366584"
      ]
     },
     "execution_count": 16,
     "metadata": {},
     "output_type": "execute_result"
    }
   ],
   "source": [
    "@chain df begin\n",
    "    groupby(:lfp)\n",
    "    combine(:foreign => (x -> mean(x .== \"yes\")) => :foreign_yes)\n",
    "end"
   ]
  },
  {
   "cell_type": "markdown",
   "id": "98cfef8a",
   "metadata": {},
   "source": [
    "The `GroupedDataFrame` that is created by the `groupby` function can be a useful object to work with on its own."
   ]
  },
  {
   "cell_type": "code",
   "execution_count": 17,
   "id": "b37c320a",
   "metadata": {},
   "outputs": [
    {
     "data": {
      "text/html": [
       "<p><b>GroupedDataFrame with 2 groups based on key: lfp</b></p><div><div style = \"float: left;\"><span>First Group (471 rows): lfp = 0</span></div><div style = \"float: right;\"><span style = \"font-style: italic;\">446 rows omitted</span></div><div style = \"clear: both;\"></div></div><div class = \"data-frame\" style = \"overflow-x: scroll;\"><table class = \"data-frame\" style = \"margin-bottom: 6px;\"><thead><tr class = \"header\"><th class = \"rowNumber\" style = \"font-weight: bold; text-align: right;\">Row</th><th style = \"text-align: left;\">lfp</th><th style = \"text-align: left;\">lnnlinc</th><th style = \"text-align: left;\">age</th><th style = \"text-align: left;\">age²</th><th style = \"text-align: left;\">educ</th><th style = \"text-align: left;\">nyc</th><th style = \"text-align: left;\">noc</th><th style = \"text-align: left;\">foreign</th></tr><tr class = \"subheader headerLastRow\"><th class = \"rowNumber\" style = \"font-weight: bold; text-align: right;\"></th><th title = \"Int64\" style = \"text-align: left;\">Int64</th><th title = \"Float64\" style = \"text-align: left;\">Float64</th><th title = \"Float64\" style = \"text-align: left;\">Float64</th><th title = \"Float64\" style = \"text-align: left;\">Float64</th><th title = \"Int64\" style = \"text-align: left;\">Int64</th><th title = \"Int64\" style = \"text-align: left;\">Int64</th><th title = \"Int64\" style = \"text-align: left;\">Int64</th><th title = \"CategoricalValue{String3, UInt32}\" style = \"text-align: left;\">Cat…</th></tr></thead><tbody><tr><td class = \"rowNumber\" style = \"font-weight: bold; text-align: right;\">1</td><td style = \"text-align: right;\">0</td><td style = \"text-align: right;\">10.7875</td><td style = \"text-align: right;\">3.0</td><td style = \"text-align: right;\">9.0</td><td style = \"text-align: right;\">8</td><td style = \"text-align: right;\">1</td><td style = \"text-align: right;\">1</td><td style = \"text-align: left;\">no</td></tr><tr><td class = \"rowNumber\" style = \"font-weight: bold; text-align: right;\">2</td><td style = \"text-align: right;\">0</td><td style = \"text-align: right;\">10.9686</td><td style = \"text-align: right;\">4.6</td><td style = \"text-align: right;\">21.16</td><td style = \"text-align: right;\">9</td><td style = \"text-align: right;\">0</td><td style = \"text-align: right;\">0</td><td style = \"text-align: left;\">no</td></tr><tr><td class = \"rowNumber\" style = \"font-weight: bold; text-align: right;\">3</td><td style = \"text-align: right;\">0</td><td style = \"text-align: right;\">11.105</td><td style = \"text-align: right;\">3.1</td><td style = \"text-align: right;\">9.61</td><td style = \"text-align: right;\">11</td><td style = \"text-align: right;\">2</td><td style = \"text-align: right;\">0</td><td style = \"text-align: left;\">no</td></tr><tr><td class = \"rowNumber\" style = \"font-weight: bold; text-align: right;\">4</td><td style = \"text-align: right;\">0</td><td style = \"text-align: right;\">11.1085</td><td style = \"text-align: right;\">4.4</td><td style = \"text-align: right;\">19.36</td><td style = \"text-align: right;\">12</td><td style = \"text-align: right;\">0</td><td style = \"text-align: right;\">2</td><td style = \"text-align: left;\">no</td></tr><tr><td class = \"rowNumber\" style = \"font-weight: bold; text-align: right;\">5</td><td style = \"text-align: right;\">0</td><td style = \"text-align: right;\">11.4547</td><td style = \"text-align: right;\">5.1</td><td style = \"text-align: right;\">26.01</td><td style = \"text-align: right;\">8</td><td style = \"text-align: right;\">0</td><td style = \"text-align: right;\">0</td><td style = \"text-align: left;\">no</td></tr><tr><td class = \"rowNumber\" style = \"font-weight: bold; text-align: right;\">6</td><td style = \"text-align: right;\">0</td><td style = \"text-align: right;\">10.6247</td><td style = \"text-align: right;\">3.9</td><td style = \"text-align: right;\">15.21</td><td style = \"text-align: right;\">12</td><td style = \"text-align: right;\">0</td><td style = \"text-align: right;\">0</td><td style = \"text-align: left;\">no</td></tr><tr><td class = \"rowNumber\" style = \"font-weight: bold; text-align: right;\">7</td><td style = \"text-align: right;\">0</td><td style = \"text-align: right;\">10.4864</td><td style = \"text-align: right;\">4.3</td><td style = \"text-align: right;\">18.49</td><td style = \"text-align: right;\">11</td><td style = \"text-align: right;\">0</td><td style = \"text-align: right;\">2</td><td style = \"text-align: left;\">no</td></tr><tr><td class = \"rowNumber\" style = \"font-weight: bold; text-align: right;\">8</td><td style = \"text-align: right;\">0</td><td style = \"text-align: right;\">10.6606</td><td style = \"text-align: right;\">4.5</td><td style = \"text-align: right;\">20.25</td><td style = \"text-align: right;\">11</td><td style = \"text-align: right;\">0</td><td style = \"text-align: right;\">2</td><td style = \"text-align: left;\">no</td></tr><tr><td class = \"rowNumber\" style = \"font-weight: bold; text-align: right;\">9</td><td style = \"text-align: right;\">0</td><td style = \"text-align: right;\">10.4676</td><td style = \"text-align: right;\">6.0</td><td style = \"text-align: right;\">36.0</td><td style = \"text-align: right;\">12</td><td style = \"text-align: right;\">0</td><td style = \"text-align: right;\">0</td><td style = \"text-align: left;\">no</td></tr><tr><td class = \"rowNumber\" style = \"font-weight: bold; text-align: right;\">10</td><td style = \"text-align: right;\">0</td><td style = \"text-align: right;\">11.2296</td><td style = \"text-align: right;\">3.3</td><td style = \"text-align: right;\">10.89</td><td style = \"text-align: right;\">11</td><td style = \"text-align: right;\">2</td><td style = \"text-align: right;\">0</td><td style = \"text-align: left;\">no</td></tr><tr><td class = \"rowNumber\" style = \"font-weight: bold; text-align: right;\">11</td><td style = \"text-align: right;\">0</td><td style = \"text-align: right;\">11.9065</td><td style = \"text-align: right;\">5.6</td><td style = \"text-align: right;\">31.36</td><td style = \"text-align: right;\">14</td><td style = \"text-align: right;\">0</td><td style = \"text-align: right;\">0</td><td style = \"text-align: left;\">no</td></tr><tr><td class = \"rowNumber\" style = \"font-weight: bold; text-align: right;\">12</td><td style = \"text-align: right;\">0</td><td style = \"text-align: right;\">11.5016</td><td style = \"text-align: right;\">5.6</td><td style = \"text-align: right;\">31.36</td><td style = \"text-align: right;\">11</td><td style = \"text-align: right;\">0</td><td style = \"text-align: right;\">0</td><td style = \"text-align: left;\">no</td></tr><tr><td class = \"rowNumber\" style = \"font-weight: bold; text-align: right;\">13</td><td style = \"text-align: right;\">0</td><td style = \"text-align: right;\">11.2935</td><td style = \"text-align: right;\">4.7</td><td style = \"text-align: right;\">22.09</td><td style = \"text-align: right;\">11</td><td style = \"text-align: right;\">0</td><td style = \"text-align: right;\">1</td><td style = \"text-align: left;\">no</td></tr><tr><td style = \"text-align: right;\">&vellip;</td><td style = \"text-align: right;\">&vellip;</td><td style = \"text-align: right;\">&vellip;</td><td style = \"text-align: right;\">&vellip;</td><td style = \"text-align: right;\">&vellip;</td><td style = \"text-align: right;\">&vellip;</td><td style = \"text-align: right;\">&vellip;</td><td style = \"text-align: right;\">&vellip;</td><td style = \"text-align: right;\">&vellip;</td></tr><tr><td class = \"rowNumber\" style = \"font-weight: bold; text-align: right;\">460</td><td style = \"text-align: right;\">0</td><td style = \"text-align: right;\">10.5008</td><td style = \"text-align: right;\">4.9</td><td style = \"text-align: right;\">24.01</td><td style = \"text-align: right;\">5</td><td style = \"text-align: right;\">0</td><td style = \"text-align: right;\">1</td><td style = \"text-align: left;\">yes</td></tr><tr><td class = \"rowNumber\" style = \"font-weight: bold; text-align: right;\">461</td><td style = \"text-align: right;\">0</td><td style = \"text-align: right;\">10.3173</td><td style = \"text-align: right;\">5.5</td><td style = \"text-align: right;\">30.25</td><td style = \"text-align: right;\">5</td><td style = \"text-align: right;\">0</td><td style = \"text-align: right;\">0</td><td style = \"text-align: left;\">yes</td></tr><tr><td class = \"rowNumber\" style = \"font-weight: bold; text-align: right;\">462</td><td style = \"text-align: right;\">0</td><td style = \"text-align: right;\">10.0104</td><td style = \"text-align: right;\">5.7</td><td style = \"text-align: right;\">32.49</td><td style = \"text-align: right;\">6</td><td style = \"text-align: right;\">0</td><td style = \"text-align: right;\">1</td><td style = \"text-align: left;\">yes</td></tr><tr><td class = \"rowNumber\" style = \"font-weight: bold; text-align: right;\">463</td><td style = \"text-align: right;\">0</td><td style = \"text-align: right;\">10.5593</td><td style = \"text-align: right;\">3.2</td><td style = \"text-align: right;\">10.24</td><td style = \"text-align: right;\">12</td><td style = \"text-align: right;\">1</td><td style = \"text-align: right;\">0</td><td style = \"text-align: left;\">yes</td></tr><tr><td class = \"rowNumber\" style = \"font-weight: bold; text-align: right;\">464</td><td style = \"text-align: right;\">0</td><td style = \"text-align: right;\">10.2158</td><td style = \"text-align: right;\">2.5</td><td style = \"text-align: right;\">6.25</td><td style = \"text-align: right;\">11</td><td style = \"text-align: right;\">1</td><td style = \"text-align: right;\">0</td><td style = \"text-align: left;\">yes</td></tr><tr><td class = \"rowNumber\" style = \"font-weight: bold; text-align: right;\">465</td><td style = \"text-align: right;\">0</td><td style = \"text-align: right;\">10.9458</td><td style = \"text-align: right;\">3.3</td><td style = \"text-align: right;\">10.89</td><td style = \"text-align: right;\">14</td><td style = \"text-align: right;\">0</td><td style = \"text-align: right;\">2</td><td style = \"text-align: left;\">yes</td></tr><tr><td class = \"rowNumber\" style = \"font-weight: bold; text-align: right;\">466</td><td style = \"text-align: right;\">0</td><td style = \"text-align: right;\">11.111</td><td style = \"text-align: right;\">3.5</td><td style = \"text-align: right;\">12.25</td><td style = \"text-align: right;\">10</td><td style = \"text-align: right;\">1</td><td style = \"text-align: right;\">1</td><td style = \"text-align: left;\">yes</td></tr><tr><td class = \"rowNumber\" style = \"font-weight: bold; text-align: right;\">467</td><td style = \"text-align: right;\">0</td><td style = \"text-align: right;\">10.4714</td><td style = \"text-align: right;\">5.1</td><td style = \"text-align: right;\">26.01</td><td style = \"text-align: right;\">9</td><td style = \"text-align: right;\">0</td><td style = \"text-align: right;\">1</td><td style = \"text-align: left;\">yes</td></tr><tr><td class = \"rowNumber\" style = \"font-weight: bold; text-align: right;\">468</td><td style = \"text-align: right;\">0</td><td style = \"text-align: right;\">10.1475</td><td style = \"text-align: right;\">4.1</td><td style = \"text-align: right;\">16.81</td><td style = \"text-align: right;\">5</td><td style = \"text-align: right;\">1</td><td style = \"text-align: right;\">0</td><td style = \"text-align: left;\">yes</td></tr><tr><td class = \"rowNumber\" style = \"font-weight: bold; text-align: right;\">469</td><td style = \"text-align: right;\">0</td><td style = \"text-align: right;\">10.5974</td><td style = \"text-align: right;\">2.4</td><td style = \"text-align: right;\">5.76</td><td style = \"text-align: right;\">4</td><td style = \"text-align: right;\">2</td><td style = \"text-align: right;\">1</td><td style = \"text-align: left;\">yes</td></tr><tr><td class = \"rowNumber\" style = \"font-weight: bold; text-align: right;\">470</td><td style = \"text-align: right;\">0</td><td style = \"text-align: right;\">10.1337</td><td style = \"text-align: right;\">2.4</td><td style = \"text-align: right;\">5.76</td><td style = \"text-align: right;\">6</td><td style = \"text-align: right;\">2</td><td style = \"text-align: right;\">0</td><td style = \"text-align: left;\">yes</td></tr><tr><td class = \"rowNumber\" style = \"font-weight: bold; text-align: right;\">471</td><td style = \"text-align: right;\">0</td><td style = \"text-align: right;\">11.2207</td><td style = \"text-align: right;\">5.1</td><td style = \"text-align: right;\">26.01</td><td style = \"text-align: right;\">10</td><td style = \"text-align: right;\">0</td><td style = \"text-align: right;\">0</td><td style = \"text-align: left;\">yes</td></tr></tbody></table></div><p>&vellip;</p><div><div style = \"float: left;\"><span>Last Group (401 rows): lfp = 1</span></div><div style = \"float: right;\"><span style = \"font-style: italic;\">376 rows omitted</span></div><div style = \"clear: both;\"></div></div><div class = \"data-frame\" style = \"overflow-x: scroll;\"><table class = \"data-frame\" style = \"margin-bottom: 6px;\"><thead><tr class = \"header\"><th class = \"rowNumber\" style = \"font-weight: bold; text-align: right;\">Row</th><th style = \"text-align: left;\">lfp</th><th style = \"text-align: left;\">lnnlinc</th><th style = \"text-align: left;\">age</th><th style = \"text-align: left;\">age²</th><th style = \"text-align: left;\">educ</th><th style = \"text-align: left;\">nyc</th><th style = \"text-align: left;\">noc</th><th style = \"text-align: left;\">foreign</th></tr><tr class = \"subheader headerLastRow\"><th class = \"rowNumber\" style = \"font-weight: bold; text-align: right;\"></th><th title = \"Int64\" style = \"text-align: left;\">Int64</th><th title = \"Float64\" style = \"text-align: left;\">Float64</th><th title = \"Float64\" style = \"text-align: left;\">Float64</th><th title = \"Float64\" style = \"text-align: left;\">Float64</th><th title = \"Int64\" style = \"text-align: left;\">Int64</th><th title = \"Int64\" style = \"text-align: left;\">Int64</th><th title = \"Int64\" style = \"text-align: left;\">Int64</th><th title = \"CategoricalValue{String3, UInt32}\" style = \"text-align: left;\">Cat…</th></tr></thead><tbody><tr><td class = \"rowNumber\" style = \"font-weight: bold; text-align: right;\">1</td><td style = \"text-align: right;\">1</td><td style = \"text-align: right;\">10.5243</td><td style = \"text-align: right;\">4.5</td><td style = \"text-align: right;\">20.25</td><td style = \"text-align: right;\">8</td><td style = \"text-align: right;\">0</td><td style = \"text-align: right;\">1</td><td style = \"text-align: left;\">no</td></tr><tr><td class = \"rowNumber\" style = \"font-weight: bold; text-align: right;\">2</td><td style = \"text-align: right;\">1</td><td style = \"text-align: right;\">11.0283</td><td style = \"text-align: right;\">4.2</td><td style = \"text-align: right;\">17.64</td><td style = \"text-align: right;\">12</td><td style = \"text-align: right;\">0</td><td style = \"text-align: right;\">1</td><td style = \"text-align: left;\">no</td></tr><tr><td class = \"rowNumber\" style = \"font-weight: bold; text-align: right;\">3</td><td style = \"text-align: right;\">1</td><td style = \"text-align: right;\">10.4909</td><td style = \"text-align: right;\">3.2</td><td style = \"text-align: right;\">10.24</td><td style = \"text-align: right;\">8</td><td style = \"text-align: right;\">0</td><td style = \"text-align: right;\">2</td><td style = \"text-align: left;\">no</td></tr><tr><td class = \"rowNumber\" style = \"font-weight: bold; text-align: right;\">4</td><td style = \"text-align: right;\">1</td><td style = \"text-align: right;\">11.844</td><td style = \"text-align: right;\">3.9</td><td style = \"text-align: right;\">15.21</td><td style = \"text-align: right;\">12</td><td style = \"text-align: right;\">0</td><td style = \"text-align: right;\">0</td><td style = \"text-align: left;\">no</td></tr><tr><td class = \"rowNumber\" style = \"font-weight: bold; text-align: right;\">5</td><td style = \"text-align: right;\">1</td><td style = \"text-align: right;\">10.9578</td><td style = \"text-align: right;\">5.3</td><td style = \"text-align: right;\">28.09</td><td style = \"text-align: right;\">11</td><td style = \"text-align: right;\">0</td><td style = \"text-align: right;\">0</td><td style = \"text-align: left;\">no</td></tr><tr><td class = \"rowNumber\" style = \"font-weight: bold; text-align: right;\">6</td><td style = \"text-align: right;\">1</td><td style = \"text-align: right;\">11.1081</td><td style = \"text-align: right;\">4.6</td><td style = \"text-align: right;\">21.16</td><td style = \"text-align: right;\">11</td><td style = \"text-align: right;\">0</td><td style = \"text-align: right;\">1</td><td style = \"text-align: left;\">no</td></tr><tr><td class = \"rowNumber\" style = \"font-weight: bold; text-align: right;\">7</td><td style = \"text-align: right;\">1</td><td style = \"text-align: right;\">10.484</td><td style = \"text-align: right;\">5.4</td><td style = \"text-align: right;\">29.16</td><td style = \"text-align: right;\">8</td><td style = \"text-align: right;\">0</td><td style = \"text-align: right;\">0</td><td style = \"text-align: left;\">no</td></tr><tr><td class = \"rowNumber\" style = \"font-weight: bold; text-align: right;\">8</td><td style = \"text-align: right;\">1</td><td style = \"text-align: right;\">10.6012</td><td style = \"text-align: right;\">4.7</td><td style = \"text-align: right;\">22.09</td><td style = \"text-align: right;\">8</td><td style = \"text-align: right;\">0</td><td style = \"text-align: right;\">0</td><td style = \"text-align: left;\">no</td></tr><tr><td class = \"rowNumber\" style = \"font-weight: bold; text-align: right;\">9</td><td style = \"text-align: right;\">1</td><td style = \"text-align: right;\">10.8411</td><td style = \"text-align: right;\">4.9</td><td style = \"text-align: right;\">24.01</td><td style = \"text-align: right;\">12</td><td style = \"text-align: right;\">0</td><td style = \"text-align: right;\">0</td><td style = \"text-align: left;\">no</td></tr><tr><td class = \"rowNumber\" style = \"font-weight: bold; text-align: right;\">10</td><td style = \"text-align: right;\">1</td><td style = \"text-align: right;\">11.1566</td><td style = \"text-align: right;\">3.6</td><td style = \"text-align: right;\">12.96</td><td style = \"text-align: right;\">13</td><td style = \"text-align: right;\">0</td><td style = \"text-align: right;\">2</td><td style = \"text-align: left;\">no</td></tr><tr><td class = \"rowNumber\" style = \"font-weight: bold; text-align: right;\">11</td><td style = \"text-align: right;\">1</td><td style = \"text-align: right;\">11.1063</td><td style = \"text-align: right;\">4.1</td><td style = \"text-align: right;\">16.81</td><td style = \"text-align: right;\">12</td><td style = \"text-align: right;\">0</td><td style = \"text-align: right;\">2</td><td style = \"text-align: left;\">no</td></tr><tr><td class = \"rowNumber\" style = \"font-weight: bold; text-align: right;\">12</td><td style = \"text-align: right;\">1</td><td style = \"text-align: right;\">10.6446</td><td style = \"text-align: right;\">4.2</td><td style = \"text-align: right;\">17.64</td><td style = \"text-align: right;\">10</td><td style = \"text-align: right;\">0</td><td style = \"text-align: right;\">2</td><td style = \"text-align: left;\">no</td></tr><tr><td class = \"rowNumber\" style = \"font-weight: bold; text-align: right;\">13</td><td style = \"text-align: right;\">1</td><td style = \"text-align: right;\">10.467</td><td style = \"text-align: right;\">3.2</td><td style = \"text-align: right;\">10.24</td><td style = \"text-align: right;\">8</td><td style = \"text-align: right;\">0</td><td style = \"text-align: right;\">1</td><td style = \"text-align: left;\">no</td></tr><tr><td style = \"text-align: right;\">&vellip;</td><td style = \"text-align: right;\">&vellip;</td><td style = \"text-align: right;\">&vellip;</td><td style = \"text-align: right;\">&vellip;</td><td style = \"text-align: right;\">&vellip;</td><td style = \"text-align: right;\">&vellip;</td><td style = \"text-align: right;\">&vellip;</td><td style = \"text-align: right;\">&vellip;</td><td style = \"text-align: right;\">&vellip;</td></tr><tr><td class = \"rowNumber\" style = \"font-weight: bold; text-align: right;\">390</td><td style = \"text-align: right;\">1</td><td style = \"text-align: right;\">10.4837</td><td style = \"text-align: right;\">3.3</td><td style = \"text-align: right;\">10.89</td><td style = \"text-align: right;\">2</td><td style = \"text-align: right;\">1</td><td style = \"text-align: right;\">3</td><td style = \"text-align: left;\">yes</td></tr><tr><td class = \"rowNumber\" style = \"font-weight: bold; text-align: right;\">391</td><td style = \"text-align: right;\">1</td><td style = \"text-align: right;\">10.7525</td><td style = \"text-align: right;\">4.1</td><td style = \"text-align: right;\">16.81</td><td style = \"text-align: right;\">5</td><td style = \"text-align: right;\">0</td><td style = \"text-align: right;\">2</td><td style = \"text-align: left;\">yes</td></tr><tr><td class = \"rowNumber\" style = \"font-weight: bold; text-align: right;\">392</td><td style = \"text-align: right;\">1</td><td style = \"text-align: right;\">11.574</td><td style = \"text-align: right;\">4.7</td><td style = \"text-align: right;\">22.09</td><td style = \"text-align: right;\">13</td><td style = \"text-align: right;\">0</td><td style = \"text-align: right;\">0</td><td style = \"text-align: left;\">yes</td></tr><tr><td class = \"rowNumber\" style = \"font-weight: bold; text-align: right;\">393</td><td style = \"text-align: right;\">1</td><td style = \"text-align: right;\">10.806</td><td style = \"text-align: right;\">3.1</td><td style = \"text-align: right;\">9.61</td><td style = \"text-align: right;\">16</td><td style = \"text-align: right;\">2</td><td style = \"text-align: right;\">0</td><td style = \"text-align: left;\">yes</td></tr><tr><td class = \"rowNumber\" style = \"font-weight: bold; text-align: right;\">394</td><td style = \"text-align: right;\">1</td><td style = \"text-align: right;\">10.3799</td><td style = \"text-align: right;\">2.8</td><td style = \"text-align: right;\">7.84</td><td style = \"text-align: right;\">5</td><td style = \"text-align: right;\">0</td><td style = \"text-align: right;\">2</td><td style = \"text-align: left;\">yes</td></tr><tr><td class = \"rowNumber\" style = \"font-weight: bold; text-align: right;\">395</td><td style = \"text-align: right;\">1</td><td style = \"text-align: right;\">10.7756</td><td style = \"text-align: right;\">3.8</td><td style = \"text-align: right;\">14.44</td><td style = \"text-align: right;\">11</td><td style = \"text-align: right;\">0</td><td style = \"text-align: right;\">0</td><td style = \"text-align: left;\">yes</td></tr><tr><td class = \"rowNumber\" style = \"font-weight: bold; text-align: right;\">396</td><td style = \"text-align: right;\">1</td><td style = \"text-align: right;\">10.5289</td><td style = \"text-align: right;\">3.4</td><td style = \"text-align: right;\">11.56</td><td style = \"text-align: right;\">9</td><td style = \"text-align: right;\">1</td><td style = \"text-align: right;\">1</td><td style = \"text-align: left;\">yes</td></tr><tr><td class = \"rowNumber\" style = \"font-weight: bold; text-align: right;\">397</td><td style = \"text-align: right;\">1</td><td style = \"text-align: right;\">10.4685</td><td style = \"text-align: right;\">3.3</td><td style = \"text-align: right;\">10.89</td><td style = \"text-align: right;\">6</td><td style = \"text-align: right;\">0</td><td style = \"text-align: right;\">2</td><td style = \"text-align: left;\">yes</td></tr><tr><td class = \"rowNumber\" style = \"font-weight: bold; text-align: right;\">398</td><td style = \"text-align: right;\">1</td><td style = \"text-align: right;\">10.6932</td><td style = \"text-align: right;\">3.5</td><td style = \"text-align: right;\">12.25</td><td style = \"text-align: right;\">9</td><td style = \"text-align: right;\">0</td><td style = \"text-align: right;\">2</td><td style = \"text-align: left;\">yes</td></tr><tr><td class = \"rowNumber\" style = \"font-weight: bold; text-align: right;\">399</td><td style = \"text-align: right;\">1</td><td style = \"text-align: right;\">10.0276</td><td style = \"text-align: right;\">4.2</td><td style = \"text-align: right;\">17.64</td><td style = \"text-align: right;\">14</td><td style = \"text-align: right;\">0</td><td style = \"text-align: right;\">0</td><td style = \"text-align: left;\">yes</td></tr><tr><td class = \"rowNumber\" style = \"font-weight: bold; text-align: right;\">400</td><td style = \"text-align: right;\">1</td><td style = \"text-align: right;\">10.3778</td><td style = \"text-align: right;\">4.8</td><td style = \"text-align: right;\">23.04</td><td style = \"text-align: right;\">8</td><td style = \"text-align: right;\">0</td><td style = \"text-align: right;\">0</td><td style = \"text-align: left;\">yes</td></tr><tr><td class = \"rowNumber\" style = \"font-weight: bold; text-align: right;\">401</td><td style = \"text-align: right;\">1</td><td style = \"text-align: right;\">10.9324</td><td style = \"text-align: right;\">4.1</td><td style = \"text-align: right;\">16.81</td><td style = \"text-align: right;\">10</td><td style = \"text-align: right;\">0</td><td style = \"text-align: right;\">1</td><td style = \"text-align: left;\">yes</td></tr></tbody></table></div>"
      ],
      "text/latex": [
       "GroupedDataFrame with 2 groups based on key: lfp\n",
       "\n",
       "First Group (471 rows): lfp = 0\n",
       "\n",
       "\\begin{tabular}{r|cccccccc}\n",
       "\t& lfp & lnnlinc & age & age² & educ & nyc & noc & foreign\\\\\n",
       "\t\\hline\n",
       "\t& Int64 & Float64 & Float64 & Float64 & Int64 & Int64 & Int64 & Cat…\\\\\n",
       "\t\\hline\n",
       "\t1 & 0 & 10.7875 & 3.0 & 9.0 & 8 & 1 & 1 & no \\\\\n",
       "\t2 & 0 & 10.9686 & 4.6 & 21.16 & 9 & 0 & 0 & no \\\\\n",
       "\t3 & 0 & 11.105 & 3.1 & 9.61 & 11 & 2 & 0 & no \\\\\n",
       "\t4 & 0 & 11.1085 & 4.4 & 19.36 & 12 & 0 & 2 & no \\\\\n",
       "\t5 & 0 & 11.4547 & 5.1 & 26.01 & 8 & 0 & 0 & no \\\\\n",
       "\t6 & 0 & 10.6247 & 3.9 & 15.21 & 12 & 0 & 0 & no \\\\\n",
       "\t7 & 0 & 10.4864 & 4.3 & 18.49 & 11 & 0 & 2 & no \\\\\n",
       "\t8 & 0 & 10.6606 & 4.5 & 20.25 & 11 & 0 & 2 & no \\\\\n",
       "\t9 & 0 & 10.4676 & 6.0 & 36.0 & 12 & 0 & 0 & no \\\\\n",
       "\t10 & 0 & 11.2296 & 3.3 & 10.89 & 11 & 2 & 0 & no \\\\\n",
       "\t11 & 0 & 11.9065 & 5.6 & 31.36 & 14 & 0 & 0 & no \\\\\n",
       "\t12 & 0 & 11.5016 & 5.6 & 31.36 & 11 & 0 & 0 & no \\\\\n",
       "\t13 & 0 & 11.2935 & 4.7 & 22.09 & 11 & 0 & 1 & no \\\\\n",
       "\t14 & 0 & 10.8613 & 5.0 & 25.0 & 8 & 0 & 0 & no \\\\\n",
       "\t15 & 0 & 11.0486 & 4.7 & 22.09 & 8 & 0 & 1 & no \\\\\n",
       "\t16 & 0 & 10.8601 & 2.9 & 8.41 & 19 & 0 & 0 & no \\\\\n",
       "\t17 & 0 & 10.8486 & 4.4 & 19.36 & 8 & 0 & 2 & no \\\\\n",
       "\t18 & 0 & 10.4824 & 2.0 & 4.0 & 12 & 1 & 0 & no \\\\\n",
       "\t19 & 0 & 10.5406 & 2.8 & 7.84 & 9 & 2 & 0 & no \\\\\n",
       "\t20 & 0 & 11.2243 & 4.7 & 22.09 & 8 & 0 & 1 & no \\\\\n",
       "\t21 & 0 & 10.5663 & 3.0 & 9.0 & 11 & 0 & 1 & no \\\\\n",
       "\t22 & 0 & 11.7696 & 5.1 & 26.01 & 11 & 0 & 0 & no \\\\\n",
       "\t23 & 0 & 10.6671 & 2.8 & 7.84 & 11 & 0 & 2 & no \\\\\n",
       "\t24 & 0 & 10.6246 & 5.4 & 29.16 & 11 & 0 & 0 & no \\\\\n",
       "\t25 & 0 & 10.5371 & 4.9 & 24.01 & 8 & 0 & 0 & no \\\\\n",
       "\t26 & 0 & 11.1356 & 5.3 & 28.09 & 10 & 0 & 0 & no \\\\\n",
       "\t27 & 0 & 10.3153 & 5.5 & 30.25 & 8 & 0 & 0 & no \\\\\n",
       "\t28 & 0 & 10.3727 & 2.4 & 5.76 & 11 & 1 & 0 & no \\\\\n",
       "\t29 & 0 & 11.5071 & 5.0 & 25.0 & 8 & 0 & 1 & no \\\\\n",
       "\t30 & 0 & 10.4529 & 2.3 & 5.29 & 9 & 1 & 0 & no \\\\\n",
       "\t$\\dots$ & $\\dots$ & $\\dots$ & $\\dots$ & $\\dots$ & $\\dots$ & $\\dots$ & $\\dots$ & $\\dots$ \\\\\n",
       "\\end{tabular}\n",
       "\n",
       "$\\dots$\n",
       "\n",
       "Last Group (401 rows): lfp = 1\n",
       "\n",
       "\\begin{tabular}{r|cccccccc}\n",
       "\t& lfp & lnnlinc & age & age² & educ & nyc & noc & foreign\\\\\n",
       "\t\\hline\n",
       "\t& Int64 & Float64 & Float64 & Float64 & Int64 & Int64 & Int64 & Cat…\\\\\n",
       "\t\\hline\n",
       "\t1 & 1 & 10.5243 & 4.5 & 20.25 & 8 & 0 & 1 & no \\\\\n",
       "\t2 & 1 & 11.0283 & 4.2 & 17.64 & 12 & 0 & 1 & no \\\\\n",
       "\t3 & 1 & 10.4909 & 3.2 & 10.24 & 8 & 0 & 2 & no \\\\\n",
       "\t4 & 1 & 11.844 & 3.9 & 15.21 & 12 & 0 & 0 & no \\\\\n",
       "\t5 & 1 & 10.9578 & 5.3 & 28.09 & 11 & 0 & 0 & no \\\\\n",
       "\t6 & 1 & 11.1081 & 4.6 & 21.16 & 11 & 0 & 1 & no \\\\\n",
       "\t7 & 1 & 10.484 & 5.4 & 29.16 & 8 & 0 & 0 & no \\\\\n",
       "\t8 & 1 & 10.6012 & 4.7 & 22.09 & 8 & 0 & 0 & no \\\\\n",
       "\t9 & 1 & 10.8411 & 4.9 & 24.01 & 12 & 0 & 0 & no \\\\\n",
       "\t10 & 1 & 11.1566 & 3.6 & 12.96 & 13 & 0 & 2 & no \\\\\n",
       "\t11 & 1 & 11.1063 & 4.1 & 16.81 & 12 & 0 & 2 & no \\\\\n",
       "\t12 & 1 & 10.6446 & 4.2 & 17.64 & 10 & 0 & 2 & no \\\\\n",
       "\t13 & 1 & 10.467 & 3.2 & 10.24 & 8 & 0 & 1 & no \\\\\n",
       "\t14 & 1 & 10.4782 & 3.4 & 11.56 & 9 & 0 & 2 & no \\\\\n",
       "\t15 & 1 & 10.4355 & 4.4 & 19.36 & 9 & 0 & 1 & no \\\\\n",
       "\t16 & 1 & 10.4273 & 5.8 & 33.64 & 12 & 0 & 0 & no \\\\\n",
       "\t17 & 1 & 10.4718 & 4.4 & 19.36 & 9 & 0 & 2 & no \\\\\n",
       "\t18 & 1 & 11.4112 & 4.0 & 16.0 & 13 & 0 & 2 & no \\\\\n",
       "\t19 & 1 & 10.4933 & 3.5 & 12.25 & 4 & 0 & 2 & no \\\\\n",
       "\t20 & 1 & 10.7186 & 3.1 & 9.61 & 10 & 1 & 1 & no \\\\\n",
       "\t21 & 1 & 10.8147 & 5.5 & 30.25 & 10 & 0 & 1 & no \\\\\n",
       "\t22 & 1 & 10.4729 & 3.5 & 12.25 & 9 & 0 & 2 & no \\\\\n",
       "\t23 & 1 & 10.5176 & 5.6 & 31.36 & 9 & 0 & 0 & no \\\\\n",
       "\t24 & 1 & 10.9099 & 4.3 & 18.49 & 8 & 0 & 0 & no \\\\\n",
       "\t25 & 1 & 10.3636 & 2.4 & 5.76 & 12 & 0 & 0 & no \\\\\n",
       "\t26 & 1 & 9.64615 & 5.4 & 29.16 & 8 & 0 & 0 & no \\\\\n",
       "\t27 & 1 & 10.2798 & 5.2 & 27.04 & 7 & 0 & 2 & no \\\\\n",
       "\t28 & 1 & 10.5409 & 3.4 & 11.56 & 10 & 0 & 0 & no \\\\\n",
       "\t29 & 1 & 11.2358 & 4.9 & 24.01 & 12 & 0 & 2 & no \\\\\n",
       "\t30 & 1 & 10.3482 & 4.8 & 23.04 & 8 & 0 & 0 & no \\\\\n",
       "\t$\\dots$ & $\\dots$ & $\\dots$ & $\\dots$ & $\\dots$ & $\\dots$ & $\\dots$ & $\\dots$ & $\\dots$ \\\\\n",
       "\\end{tabular}\n"
      ],
      "text/plain": [
       "GroupedDataFrame with 2 groups based on key: lfp\n",
       "First Group (471 rows): lfp = 0\n",
       "\u001b[1m Row \u001b[0m│\u001b[1m lfp   \u001b[0m\u001b[1m lnnlinc \u001b[0m\u001b[1m age     \u001b[0m\u001b[1m age²    \u001b[0m\u001b[1m educ  \u001b[0m\u001b[1m nyc   \u001b[0m\u001b[1m noc   \u001b[0m\u001b[1m foreign \u001b[0m\n",
       "     │\u001b[90m Int64 \u001b[0m\u001b[90m Float64 \u001b[0m\u001b[90m Float64 \u001b[0m\u001b[90m Float64 \u001b[0m\u001b[90m Int64 \u001b[0m\u001b[90m Int64 \u001b[0m\u001b[90m Int64 \u001b[0m\u001b[90m Cat…    \u001b[0m\n",
       "─────┼────────────────────────────────────────────────────────────────\n",
       "   1 │     0  10.7875      3.0     9.0       8      1      1  no\n",
       "   2 │     0  10.9686      4.6    21.16      9      0      0  no\n",
       "   3 │     0  11.105       3.1     9.61     11      2      0  no\n",
       "   4 │     0  11.1085      4.4    19.36     12      0      2  no\n",
       "  ⋮  │   ⋮       ⋮        ⋮        ⋮       ⋮      ⋮      ⋮       ⋮\n",
       " 469 │     0  10.5974      2.4     5.76      4      2      1  yes\n",
       " 470 │     0  10.1337      2.4     5.76      6      2      0  yes\n",
       " 471 │     0  11.2207      5.1    26.01     10      0      0  yes\n",
       "\u001b[36m                                                      464 rows omitted\u001b[0m\n",
       "⋮\n",
       "Last Group (401 rows): lfp = 1\n",
       "\u001b[1m Row \u001b[0m│\u001b[1m lfp   \u001b[0m\u001b[1m lnnlinc \u001b[0m\u001b[1m age     \u001b[0m\u001b[1m age²    \u001b[0m\u001b[1m educ  \u001b[0m\u001b[1m nyc   \u001b[0m\u001b[1m noc   \u001b[0m\u001b[1m foreign \u001b[0m\n",
       "     │\u001b[90m Int64 \u001b[0m\u001b[90m Float64 \u001b[0m\u001b[90m Float64 \u001b[0m\u001b[90m Float64 \u001b[0m\u001b[90m Int64 \u001b[0m\u001b[90m Int64 \u001b[0m\u001b[90m Int64 \u001b[0m\u001b[90m Cat…    \u001b[0m\n",
       "─────┼────────────────────────────────────────────────────────────────\n",
       "   1 │     1  10.5243      4.5    20.25      8      0      1  no\n",
       "   2 │     1  11.0283      4.2    17.64     12      0      1  no\n",
       "   3 │     1  10.4909      3.2    10.24      8      0      2  no\n",
       "  ⋮  │   ⋮       ⋮        ⋮        ⋮       ⋮      ⋮      ⋮       ⋮\n",
       " 399 │     1  10.0276      4.2    17.64     14      0      0  yes\n",
       " 400 │     1  10.3778      4.8    23.04      8      0      0  yes\n",
       " 401 │     1  10.9324      4.1    16.81     10      0      1  yes\n",
       "\u001b[36m                                                      395 rows omitted\u001b[0m"
      ]
     },
     "execution_count": 17,
     "metadata": {},
     "output_type": "execute_result"
    }
   ],
   "source": [
    "gd = groupby(df, :lfp)"
   ]
  },
  {
   "cell_type": "markdown",
   "id": "fbf26849",
   "metadata": {},
   "source": [
    "Note that you can conveniently index into it to get the groups."
   ]
  },
  {
   "cell_type": "markdown",
   "id": "f3e8a75f",
   "metadata": {},
   "source": [
    "First we use the standard indexing syntax:"
   ]
  },
  {
   "cell_type": "code",
   "execution_count": 18,
   "id": "7fbdffdc",
   "metadata": {},
   "outputs": [
    {
     "data": {
      "text/html": [
       "<div><div style = \"float: left;\"><span>471×8 SubDataFrame</span></div><div style = \"float: right;\"><span style = \"font-style: italic;\">446 rows omitted</span></div><div style = \"clear: both;\"></div></div><div class = \"data-frame\" style = \"overflow-x: scroll;\"><table class = \"data-frame\" style = \"margin-bottom: 6px;\"><thead><tr class = \"header\"><th class = \"rowNumber\" style = \"font-weight: bold; text-align: right;\">Row</th><th style = \"text-align: left;\">lfp</th><th style = \"text-align: left;\">lnnlinc</th><th style = \"text-align: left;\">age</th><th style = \"text-align: left;\">age²</th><th style = \"text-align: left;\">educ</th><th style = \"text-align: left;\">nyc</th><th style = \"text-align: left;\">noc</th><th style = \"text-align: left;\">foreign</th></tr><tr class = \"subheader headerLastRow\"><th class = \"rowNumber\" style = \"font-weight: bold; text-align: right;\"></th><th title = \"Int64\" style = \"text-align: left;\">Int64</th><th title = \"Float64\" style = \"text-align: left;\">Float64</th><th title = \"Float64\" style = \"text-align: left;\">Float64</th><th title = \"Float64\" style = \"text-align: left;\">Float64</th><th title = \"Int64\" style = \"text-align: left;\">Int64</th><th title = \"Int64\" style = \"text-align: left;\">Int64</th><th title = \"Int64\" style = \"text-align: left;\">Int64</th><th title = \"CategoricalValue{String3, UInt32}\" style = \"text-align: left;\">Cat…</th></tr></thead><tbody><tr><td class = \"rowNumber\" style = \"font-weight: bold; text-align: right;\">1</td><td style = \"text-align: right;\">0</td><td style = \"text-align: right;\">10.7875</td><td style = \"text-align: right;\">3.0</td><td style = \"text-align: right;\">9.0</td><td style = \"text-align: right;\">8</td><td style = \"text-align: right;\">1</td><td style = \"text-align: right;\">1</td><td style = \"text-align: left;\">no</td></tr><tr><td class = \"rowNumber\" style = \"font-weight: bold; text-align: right;\">2</td><td style = \"text-align: right;\">0</td><td style = \"text-align: right;\">10.9686</td><td style = \"text-align: right;\">4.6</td><td style = \"text-align: right;\">21.16</td><td style = \"text-align: right;\">9</td><td style = \"text-align: right;\">0</td><td style = \"text-align: right;\">0</td><td style = \"text-align: left;\">no</td></tr><tr><td class = \"rowNumber\" style = \"font-weight: bold; text-align: right;\">3</td><td style = \"text-align: right;\">0</td><td style = \"text-align: right;\">11.105</td><td style = \"text-align: right;\">3.1</td><td style = \"text-align: right;\">9.61</td><td style = \"text-align: right;\">11</td><td style = \"text-align: right;\">2</td><td style = \"text-align: right;\">0</td><td style = \"text-align: left;\">no</td></tr><tr><td class = \"rowNumber\" style = \"font-weight: bold; text-align: right;\">4</td><td style = \"text-align: right;\">0</td><td style = \"text-align: right;\">11.1085</td><td style = \"text-align: right;\">4.4</td><td style = \"text-align: right;\">19.36</td><td style = \"text-align: right;\">12</td><td style = \"text-align: right;\">0</td><td style = \"text-align: right;\">2</td><td style = \"text-align: left;\">no</td></tr><tr><td class = \"rowNumber\" style = \"font-weight: bold; text-align: right;\">5</td><td style = \"text-align: right;\">0</td><td style = \"text-align: right;\">11.4547</td><td style = \"text-align: right;\">5.1</td><td style = \"text-align: right;\">26.01</td><td style = \"text-align: right;\">8</td><td style = \"text-align: right;\">0</td><td style = \"text-align: right;\">0</td><td style = \"text-align: left;\">no</td></tr><tr><td class = \"rowNumber\" style = \"font-weight: bold; text-align: right;\">6</td><td style = \"text-align: right;\">0</td><td style = \"text-align: right;\">10.6247</td><td style = \"text-align: right;\">3.9</td><td style = \"text-align: right;\">15.21</td><td style = \"text-align: right;\">12</td><td style = \"text-align: right;\">0</td><td style = \"text-align: right;\">0</td><td style = \"text-align: left;\">no</td></tr><tr><td class = \"rowNumber\" style = \"font-weight: bold; text-align: right;\">7</td><td style = \"text-align: right;\">0</td><td style = \"text-align: right;\">10.4864</td><td style = \"text-align: right;\">4.3</td><td style = \"text-align: right;\">18.49</td><td style = \"text-align: right;\">11</td><td style = \"text-align: right;\">0</td><td style = \"text-align: right;\">2</td><td style = \"text-align: left;\">no</td></tr><tr><td class = \"rowNumber\" style = \"font-weight: bold; text-align: right;\">8</td><td style = \"text-align: right;\">0</td><td style = \"text-align: right;\">10.6606</td><td style = \"text-align: right;\">4.5</td><td style = \"text-align: right;\">20.25</td><td style = \"text-align: right;\">11</td><td style = \"text-align: right;\">0</td><td style = \"text-align: right;\">2</td><td style = \"text-align: left;\">no</td></tr><tr><td class = \"rowNumber\" style = \"font-weight: bold; text-align: right;\">9</td><td style = \"text-align: right;\">0</td><td style = \"text-align: right;\">10.4676</td><td style = \"text-align: right;\">6.0</td><td style = \"text-align: right;\">36.0</td><td style = \"text-align: right;\">12</td><td style = \"text-align: right;\">0</td><td style = \"text-align: right;\">0</td><td style = \"text-align: left;\">no</td></tr><tr><td class = \"rowNumber\" style = \"font-weight: bold; text-align: right;\">10</td><td style = \"text-align: right;\">0</td><td style = \"text-align: right;\">11.2296</td><td style = \"text-align: right;\">3.3</td><td style = \"text-align: right;\">10.89</td><td style = \"text-align: right;\">11</td><td style = \"text-align: right;\">2</td><td style = \"text-align: right;\">0</td><td style = \"text-align: left;\">no</td></tr><tr><td class = \"rowNumber\" style = \"font-weight: bold; text-align: right;\">11</td><td style = \"text-align: right;\">0</td><td style = \"text-align: right;\">11.9065</td><td style = \"text-align: right;\">5.6</td><td style = \"text-align: right;\">31.36</td><td style = \"text-align: right;\">14</td><td style = \"text-align: right;\">0</td><td style = \"text-align: right;\">0</td><td style = \"text-align: left;\">no</td></tr><tr><td class = \"rowNumber\" style = \"font-weight: bold; text-align: right;\">12</td><td style = \"text-align: right;\">0</td><td style = \"text-align: right;\">11.5016</td><td style = \"text-align: right;\">5.6</td><td style = \"text-align: right;\">31.36</td><td style = \"text-align: right;\">11</td><td style = \"text-align: right;\">0</td><td style = \"text-align: right;\">0</td><td style = \"text-align: left;\">no</td></tr><tr><td class = \"rowNumber\" style = \"font-weight: bold; text-align: right;\">13</td><td style = \"text-align: right;\">0</td><td style = \"text-align: right;\">11.2935</td><td style = \"text-align: right;\">4.7</td><td style = \"text-align: right;\">22.09</td><td style = \"text-align: right;\">11</td><td style = \"text-align: right;\">0</td><td style = \"text-align: right;\">1</td><td style = \"text-align: left;\">no</td></tr><tr><td style = \"text-align: right;\">&vellip;</td><td style = \"text-align: right;\">&vellip;</td><td style = \"text-align: right;\">&vellip;</td><td style = \"text-align: right;\">&vellip;</td><td style = \"text-align: right;\">&vellip;</td><td style = \"text-align: right;\">&vellip;</td><td style = \"text-align: right;\">&vellip;</td><td style = \"text-align: right;\">&vellip;</td><td style = \"text-align: right;\">&vellip;</td></tr><tr><td class = \"rowNumber\" style = \"font-weight: bold; text-align: right;\">460</td><td style = \"text-align: right;\">0</td><td style = \"text-align: right;\">10.5008</td><td style = \"text-align: right;\">4.9</td><td style = \"text-align: right;\">24.01</td><td style = \"text-align: right;\">5</td><td style = \"text-align: right;\">0</td><td style = \"text-align: right;\">1</td><td style = \"text-align: left;\">yes</td></tr><tr><td class = \"rowNumber\" style = \"font-weight: bold; text-align: right;\">461</td><td style = \"text-align: right;\">0</td><td style = \"text-align: right;\">10.3173</td><td style = \"text-align: right;\">5.5</td><td style = \"text-align: right;\">30.25</td><td style = \"text-align: right;\">5</td><td style = \"text-align: right;\">0</td><td style = \"text-align: right;\">0</td><td style = \"text-align: left;\">yes</td></tr><tr><td class = \"rowNumber\" style = \"font-weight: bold; text-align: right;\">462</td><td style = \"text-align: right;\">0</td><td style = \"text-align: right;\">10.0104</td><td style = \"text-align: right;\">5.7</td><td style = \"text-align: right;\">32.49</td><td style = \"text-align: right;\">6</td><td style = \"text-align: right;\">0</td><td style = \"text-align: right;\">1</td><td style = \"text-align: left;\">yes</td></tr><tr><td class = \"rowNumber\" style = \"font-weight: bold; text-align: right;\">463</td><td style = \"text-align: right;\">0</td><td style = \"text-align: right;\">10.5593</td><td style = \"text-align: right;\">3.2</td><td style = \"text-align: right;\">10.24</td><td style = \"text-align: right;\">12</td><td style = \"text-align: right;\">1</td><td style = \"text-align: right;\">0</td><td style = \"text-align: left;\">yes</td></tr><tr><td class = \"rowNumber\" style = \"font-weight: bold; text-align: right;\">464</td><td style = \"text-align: right;\">0</td><td style = \"text-align: right;\">10.2158</td><td style = \"text-align: right;\">2.5</td><td style = \"text-align: right;\">6.25</td><td style = \"text-align: right;\">11</td><td style = \"text-align: right;\">1</td><td style = \"text-align: right;\">0</td><td style = \"text-align: left;\">yes</td></tr><tr><td class = \"rowNumber\" style = \"font-weight: bold; text-align: right;\">465</td><td style = \"text-align: right;\">0</td><td style = \"text-align: right;\">10.9458</td><td style = \"text-align: right;\">3.3</td><td style = \"text-align: right;\">10.89</td><td style = \"text-align: right;\">14</td><td style = \"text-align: right;\">0</td><td style = \"text-align: right;\">2</td><td style = \"text-align: left;\">yes</td></tr><tr><td class = \"rowNumber\" style = \"font-weight: bold; text-align: right;\">466</td><td style = \"text-align: right;\">0</td><td style = \"text-align: right;\">11.111</td><td style = \"text-align: right;\">3.5</td><td style = \"text-align: right;\">12.25</td><td style = \"text-align: right;\">10</td><td style = \"text-align: right;\">1</td><td style = \"text-align: right;\">1</td><td style = \"text-align: left;\">yes</td></tr><tr><td class = \"rowNumber\" style = \"font-weight: bold; text-align: right;\">467</td><td style = \"text-align: right;\">0</td><td style = \"text-align: right;\">10.4714</td><td style = \"text-align: right;\">5.1</td><td style = \"text-align: right;\">26.01</td><td style = \"text-align: right;\">9</td><td style = \"text-align: right;\">0</td><td style = \"text-align: right;\">1</td><td style = \"text-align: left;\">yes</td></tr><tr><td class = \"rowNumber\" style = \"font-weight: bold; text-align: right;\">468</td><td style = \"text-align: right;\">0</td><td style = \"text-align: right;\">10.1475</td><td style = \"text-align: right;\">4.1</td><td style = \"text-align: right;\">16.81</td><td style = \"text-align: right;\">5</td><td style = \"text-align: right;\">1</td><td style = \"text-align: right;\">0</td><td style = \"text-align: left;\">yes</td></tr><tr><td class = \"rowNumber\" style = \"font-weight: bold; text-align: right;\">469</td><td style = \"text-align: right;\">0</td><td style = \"text-align: right;\">10.5974</td><td style = \"text-align: right;\">2.4</td><td style = \"text-align: right;\">5.76</td><td style = \"text-align: right;\">4</td><td style = \"text-align: right;\">2</td><td style = \"text-align: right;\">1</td><td style = \"text-align: left;\">yes</td></tr><tr><td class = \"rowNumber\" style = \"font-weight: bold; text-align: right;\">470</td><td style = \"text-align: right;\">0</td><td style = \"text-align: right;\">10.1337</td><td style = \"text-align: right;\">2.4</td><td style = \"text-align: right;\">5.76</td><td style = \"text-align: right;\">6</td><td style = \"text-align: right;\">2</td><td style = \"text-align: right;\">0</td><td style = \"text-align: left;\">yes</td></tr><tr><td class = \"rowNumber\" style = \"font-weight: bold; text-align: right;\">471</td><td style = \"text-align: right;\">0</td><td style = \"text-align: right;\">11.2207</td><td style = \"text-align: right;\">5.1</td><td style = \"text-align: right;\">26.01</td><td style = \"text-align: right;\">10</td><td style = \"text-align: right;\">0</td><td style = \"text-align: right;\">0</td><td style = \"text-align: left;\">yes</td></tr></tbody></table></div>"
      ],
      "text/latex": [
       "\\begin{tabular}{r|cccccccc}\n",
       "\t& lfp & lnnlinc & age & age² & educ & nyc & noc & foreign\\\\\n",
       "\t\\hline\n",
       "\t& Int64 & Float64 & Float64 & Float64 & Int64 & Int64 & Int64 & Cat…\\\\\n",
       "\t\\hline\n",
       "\t1 & 0 & 10.7875 & 3.0 & 9.0 & 8 & 1 & 1 & no \\\\\n",
       "\t2 & 0 & 10.9686 & 4.6 & 21.16 & 9 & 0 & 0 & no \\\\\n",
       "\t3 & 0 & 11.105 & 3.1 & 9.61 & 11 & 2 & 0 & no \\\\\n",
       "\t4 & 0 & 11.1085 & 4.4 & 19.36 & 12 & 0 & 2 & no \\\\\n",
       "\t5 & 0 & 11.4547 & 5.1 & 26.01 & 8 & 0 & 0 & no \\\\\n",
       "\t6 & 0 & 10.6247 & 3.9 & 15.21 & 12 & 0 & 0 & no \\\\\n",
       "\t7 & 0 & 10.4864 & 4.3 & 18.49 & 11 & 0 & 2 & no \\\\\n",
       "\t8 & 0 & 10.6606 & 4.5 & 20.25 & 11 & 0 & 2 & no \\\\\n",
       "\t9 & 0 & 10.4676 & 6.0 & 36.0 & 12 & 0 & 0 & no \\\\\n",
       "\t10 & 0 & 11.2296 & 3.3 & 10.89 & 11 & 2 & 0 & no \\\\\n",
       "\t11 & 0 & 11.9065 & 5.6 & 31.36 & 14 & 0 & 0 & no \\\\\n",
       "\t12 & 0 & 11.5016 & 5.6 & 31.36 & 11 & 0 & 0 & no \\\\\n",
       "\t13 & 0 & 11.2935 & 4.7 & 22.09 & 11 & 0 & 1 & no \\\\\n",
       "\t14 & 0 & 10.8613 & 5.0 & 25.0 & 8 & 0 & 0 & no \\\\\n",
       "\t15 & 0 & 11.0486 & 4.7 & 22.09 & 8 & 0 & 1 & no \\\\\n",
       "\t16 & 0 & 10.8601 & 2.9 & 8.41 & 19 & 0 & 0 & no \\\\\n",
       "\t17 & 0 & 10.8486 & 4.4 & 19.36 & 8 & 0 & 2 & no \\\\\n",
       "\t18 & 0 & 10.4824 & 2.0 & 4.0 & 12 & 1 & 0 & no \\\\\n",
       "\t19 & 0 & 10.5406 & 2.8 & 7.84 & 9 & 2 & 0 & no \\\\\n",
       "\t20 & 0 & 11.2243 & 4.7 & 22.09 & 8 & 0 & 1 & no \\\\\n",
       "\t21 & 0 & 10.5663 & 3.0 & 9.0 & 11 & 0 & 1 & no \\\\\n",
       "\t22 & 0 & 11.7696 & 5.1 & 26.01 & 11 & 0 & 0 & no \\\\\n",
       "\t23 & 0 & 10.6671 & 2.8 & 7.84 & 11 & 0 & 2 & no \\\\\n",
       "\t24 & 0 & 10.6246 & 5.4 & 29.16 & 11 & 0 & 0 & no \\\\\n",
       "\t25 & 0 & 10.5371 & 4.9 & 24.01 & 8 & 0 & 0 & no \\\\\n",
       "\t26 & 0 & 11.1356 & 5.3 & 28.09 & 10 & 0 & 0 & no \\\\\n",
       "\t27 & 0 & 10.3153 & 5.5 & 30.25 & 8 & 0 & 0 & no \\\\\n",
       "\t28 & 0 & 10.3727 & 2.4 & 5.76 & 11 & 1 & 0 & no \\\\\n",
       "\t29 & 0 & 11.5071 & 5.0 & 25.0 & 8 & 0 & 1 & no \\\\\n",
       "\t30 & 0 & 10.4529 & 2.3 & 5.29 & 9 & 1 & 0 & no \\\\\n",
       "\t$\\dots$ & $\\dots$ & $\\dots$ & $\\dots$ & $\\dots$ & $\\dots$ & $\\dots$ & $\\dots$ & $\\dots$ \\\\\n",
       "\\end{tabular}\n"
      ],
      "text/plain": [
       "\u001b[1m471×8 SubDataFrame\u001b[0m\n",
       "\u001b[1m Row \u001b[0m│\u001b[1m lfp   \u001b[0m\u001b[1m lnnlinc \u001b[0m\u001b[1m age     \u001b[0m\u001b[1m age²    \u001b[0m\u001b[1m educ  \u001b[0m\u001b[1m nyc   \u001b[0m\u001b[1m noc   \u001b[0m\u001b[1m foreign \u001b[0m\n",
       "     │\u001b[90m Int64 \u001b[0m\u001b[90m Float64 \u001b[0m\u001b[90m Float64 \u001b[0m\u001b[90m Float64 \u001b[0m\u001b[90m Int64 \u001b[0m\u001b[90m Int64 \u001b[0m\u001b[90m Int64 \u001b[0m\u001b[90m Cat…    \u001b[0m\n",
       "─────┼────────────────────────────────────────────────────────────────\n",
       "   1 │     0  10.7875      3.0     9.0       8      1      1  no\n",
       "   2 │     0  10.9686      4.6    21.16      9      0      0  no\n",
       "   3 │     0  11.105       3.1     9.61     11      2      0  no\n",
       "   4 │     0  11.1085      4.4    19.36     12      0      2  no\n",
       "   5 │     0  11.4547      5.1    26.01      8      0      0  no\n",
       "   6 │     0  10.6247      3.9    15.21     12      0      0  no\n",
       "   7 │     0  10.4864      4.3    18.49     11      0      2  no\n",
       "   8 │     0  10.6606      4.5    20.25     11      0      2  no\n",
       "   9 │     0  10.4676      6.0    36.0      12      0      0  no\n",
       "  10 │     0  11.2296      3.3    10.89     11      2      0  no\n",
       "  11 │     0  11.9065      5.6    31.36     14      0      0  no\n",
       "  ⋮  │   ⋮       ⋮        ⋮        ⋮       ⋮      ⋮      ⋮       ⋮\n",
       " 462 │     0  10.0104      5.7    32.49      6      0      1  yes\n",
       " 463 │     0  10.5593      3.2    10.24     12      1      0  yes\n",
       " 464 │     0  10.2158      2.5     6.25     11      1      0  yes\n",
       " 465 │     0  10.9458      3.3    10.89     14      0      2  yes\n",
       " 466 │     0  11.111       3.5    12.25     10      1      1  yes\n",
       " 467 │     0  10.4714      5.1    26.01      9      0      1  yes\n",
       " 468 │     0  10.1475      4.1    16.81      5      1      0  yes\n",
       " 469 │     0  10.5974      2.4     5.76      4      2      1  yes\n",
       " 470 │     0  10.1337      2.4     5.76      6      2      0  yes\n",
       " 471 │     0  11.2207      5.1    26.01     10      0      0  yes\n",
       "\u001b[36m                                                      450 rows omitted\u001b[0m"
      ]
     },
     "execution_count": 18,
     "metadata": {},
     "output_type": "execute_result"
    }
   ],
   "source": [
    "gd[1]"
   ]
  },
  {
   "cell_type": "markdown",
   "id": "8742860f",
   "metadata": {},
   "source": [
    "Now we we use a special indexing syntax that efficiently selects groups by their value (not position):"
   ]
  },
  {
   "cell_type": "code",
   "execution_count": 19,
   "id": "7547996f",
   "metadata": {},
   "outputs": [
    {
     "data": {
      "text/html": [
       "<div><div style = \"float: left;\"><span>471×8 SubDataFrame</span></div><div style = \"float: right;\"><span style = \"font-style: italic;\">446 rows omitted</span></div><div style = \"clear: both;\"></div></div><div class = \"data-frame\" style = \"overflow-x: scroll;\"><table class = \"data-frame\" style = \"margin-bottom: 6px;\"><thead><tr class = \"header\"><th class = \"rowNumber\" style = \"font-weight: bold; text-align: right;\">Row</th><th style = \"text-align: left;\">lfp</th><th style = \"text-align: left;\">lnnlinc</th><th style = \"text-align: left;\">age</th><th style = \"text-align: left;\">age²</th><th style = \"text-align: left;\">educ</th><th style = \"text-align: left;\">nyc</th><th style = \"text-align: left;\">noc</th><th style = \"text-align: left;\">foreign</th></tr><tr class = \"subheader headerLastRow\"><th class = \"rowNumber\" style = \"font-weight: bold; text-align: right;\"></th><th title = \"Int64\" style = \"text-align: left;\">Int64</th><th title = \"Float64\" style = \"text-align: left;\">Float64</th><th title = \"Float64\" style = \"text-align: left;\">Float64</th><th title = \"Float64\" style = \"text-align: left;\">Float64</th><th title = \"Int64\" style = \"text-align: left;\">Int64</th><th title = \"Int64\" style = \"text-align: left;\">Int64</th><th title = \"Int64\" style = \"text-align: left;\">Int64</th><th title = \"CategoricalValue{String3, UInt32}\" style = \"text-align: left;\">Cat…</th></tr></thead><tbody><tr><td class = \"rowNumber\" style = \"font-weight: bold; text-align: right;\">1</td><td style = \"text-align: right;\">0</td><td style = \"text-align: right;\">10.7875</td><td style = \"text-align: right;\">3.0</td><td style = \"text-align: right;\">9.0</td><td style = \"text-align: right;\">8</td><td style = \"text-align: right;\">1</td><td style = \"text-align: right;\">1</td><td style = \"text-align: left;\">no</td></tr><tr><td class = \"rowNumber\" style = \"font-weight: bold; text-align: right;\">2</td><td style = \"text-align: right;\">0</td><td style = \"text-align: right;\">10.9686</td><td style = \"text-align: right;\">4.6</td><td style = \"text-align: right;\">21.16</td><td style = \"text-align: right;\">9</td><td style = \"text-align: right;\">0</td><td style = \"text-align: right;\">0</td><td style = \"text-align: left;\">no</td></tr><tr><td class = \"rowNumber\" style = \"font-weight: bold; text-align: right;\">3</td><td style = \"text-align: right;\">0</td><td style = \"text-align: right;\">11.105</td><td style = \"text-align: right;\">3.1</td><td style = \"text-align: right;\">9.61</td><td style = \"text-align: right;\">11</td><td style = \"text-align: right;\">2</td><td style = \"text-align: right;\">0</td><td style = \"text-align: left;\">no</td></tr><tr><td class = \"rowNumber\" style = \"font-weight: bold; text-align: right;\">4</td><td style = \"text-align: right;\">0</td><td style = \"text-align: right;\">11.1085</td><td style = \"text-align: right;\">4.4</td><td style = \"text-align: right;\">19.36</td><td style = \"text-align: right;\">12</td><td style = \"text-align: right;\">0</td><td style = \"text-align: right;\">2</td><td style = \"text-align: left;\">no</td></tr><tr><td class = \"rowNumber\" style = \"font-weight: bold; text-align: right;\">5</td><td style = \"text-align: right;\">0</td><td style = \"text-align: right;\">11.4547</td><td style = \"text-align: right;\">5.1</td><td style = \"text-align: right;\">26.01</td><td style = \"text-align: right;\">8</td><td style = \"text-align: right;\">0</td><td style = \"text-align: right;\">0</td><td style = \"text-align: left;\">no</td></tr><tr><td class = \"rowNumber\" style = \"font-weight: bold; text-align: right;\">6</td><td style = \"text-align: right;\">0</td><td style = \"text-align: right;\">10.6247</td><td style = \"text-align: right;\">3.9</td><td style = \"text-align: right;\">15.21</td><td style = \"text-align: right;\">12</td><td style = \"text-align: right;\">0</td><td style = \"text-align: right;\">0</td><td style = \"text-align: left;\">no</td></tr><tr><td class = \"rowNumber\" style = \"font-weight: bold; text-align: right;\">7</td><td style = \"text-align: right;\">0</td><td style = \"text-align: right;\">10.4864</td><td style = \"text-align: right;\">4.3</td><td style = \"text-align: right;\">18.49</td><td style = \"text-align: right;\">11</td><td style = \"text-align: right;\">0</td><td style = \"text-align: right;\">2</td><td style = \"text-align: left;\">no</td></tr><tr><td class = \"rowNumber\" style = \"font-weight: bold; text-align: right;\">8</td><td style = \"text-align: right;\">0</td><td style = \"text-align: right;\">10.6606</td><td style = \"text-align: right;\">4.5</td><td style = \"text-align: right;\">20.25</td><td style = \"text-align: right;\">11</td><td style = \"text-align: right;\">0</td><td style = \"text-align: right;\">2</td><td style = \"text-align: left;\">no</td></tr><tr><td class = \"rowNumber\" style = \"font-weight: bold; text-align: right;\">9</td><td style = \"text-align: right;\">0</td><td style = \"text-align: right;\">10.4676</td><td style = \"text-align: right;\">6.0</td><td style = \"text-align: right;\">36.0</td><td style = \"text-align: right;\">12</td><td style = \"text-align: right;\">0</td><td style = \"text-align: right;\">0</td><td style = \"text-align: left;\">no</td></tr><tr><td class = \"rowNumber\" style = \"font-weight: bold; text-align: right;\">10</td><td style = \"text-align: right;\">0</td><td style = \"text-align: right;\">11.2296</td><td style = \"text-align: right;\">3.3</td><td style = \"text-align: right;\">10.89</td><td style = \"text-align: right;\">11</td><td style = \"text-align: right;\">2</td><td style = \"text-align: right;\">0</td><td style = \"text-align: left;\">no</td></tr><tr><td class = \"rowNumber\" style = \"font-weight: bold; text-align: right;\">11</td><td style = \"text-align: right;\">0</td><td style = \"text-align: right;\">11.9065</td><td style = \"text-align: right;\">5.6</td><td style = \"text-align: right;\">31.36</td><td style = \"text-align: right;\">14</td><td style = \"text-align: right;\">0</td><td style = \"text-align: right;\">0</td><td style = \"text-align: left;\">no</td></tr><tr><td class = \"rowNumber\" style = \"font-weight: bold; text-align: right;\">12</td><td style = \"text-align: right;\">0</td><td style = \"text-align: right;\">11.5016</td><td style = \"text-align: right;\">5.6</td><td style = \"text-align: right;\">31.36</td><td style = \"text-align: right;\">11</td><td style = \"text-align: right;\">0</td><td style = \"text-align: right;\">0</td><td style = \"text-align: left;\">no</td></tr><tr><td class = \"rowNumber\" style = \"font-weight: bold; text-align: right;\">13</td><td style = \"text-align: right;\">0</td><td style = \"text-align: right;\">11.2935</td><td style = \"text-align: right;\">4.7</td><td style = \"text-align: right;\">22.09</td><td style = \"text-align: right;\">11</td><td style = \"text-align: right;\">0</td><td style = \"text-align: right;\">1</td><td style = \"text-align: left;\">no</td></tr><tr><td style = \"text-align: right;\">&vellip;</td><td style = \"text-align: right;\">&vellip;</td><td style = \"text-align: right;\">&vellip;</td><td style = \"text-align: right;\">&vellip;</td><td style = \"text-align: right;\">&vellip;</td><td style = \"text-align: right;\">&vellip;</td><td style = \"text-align: right;\">&vellip;</td><td style = \"text-align: right;\">&vellip;</td><td style = \"text-align: right;\">&vellip;</td></tr><tr><td class = \"rowNumber\" style = \"font-weight: bold; text-align: right;\">460</td><td style = \"text-align: right;\">0</td><td style = \"text-align: right;\">10.5008</td><td style = \"text-align: right;\">4.9</td><td style = \"text-align: right;\">24.01</td><td style = \"text-align: right;\">5</td><td style = \"text-align: right;\">0</td><td style = \"text-align: right;\">1</td><td style = \"text-align: left;\">yes</td></tr><tr><td class = \"rowNumber\" style = \"font-weight: bold; text-align: right;\">461</td><td style = \"text-align: right;\">0</td><td style = \"text-align: right;\">10.3173</td><td style = \"text-align: right;\">5.5</td><td style = \"text-align: right;\">30.25</td><td style = \"text-align: right;\">5</td><td style = \"text-align: right;\">0</td><td style = \"text-align: right;\">0</td><td style = \"text-align: left;\">yes</td></tr><tr><td class = \"rowNumber\" style = \"font-weight: bold; text-align: right;\">462</td><td style = \"text-align: right;\">0</td><td style = \"text-align: right;\">10.0104</td><td style = \"text-align: right;\">5.7</td><td style = \"text-align: right;\">32.49</td><td style = \"text-align: right;\">6</td><td style = \"text-align: right;\">0</td><td style = \"text-align: right;\">1</td><td style = \"text-align: left;\">yes</td></tr><tr><td class = \"rowNumber\" style = \"font-weight: bold; text-align: right;\">463</td><td style = \"text-align: right;\">0</td><td style = \"text-align: right;\">10.5593</td><td style = \"text-align: right;\">3.2</td><td style = \"text-align: right;\">10.24</td><td style = \"text-align: right;\">12</td><td style = \"text-align: right;\">1</td><td style = \"text-align: right;\">0</td><td style = \"text-align: left;\">yes</td></tr><tr><td class = \"rowNumber\" style = \"font-weight: bold; text-align: right;\">464</td><td style = \"text-align: right;\">0</td><td style = \"text-align: right;\">10.2158</td><td style = \"text-align: right;\">2.5</td><td style = \"text-align: right;\">6.25</td><td style = \"text-align: right;\">11</td><td style = \"text-align: right;\">1</td><td style = \"text-align: right;\">0</td><td style = \"text-align: left;\">yes</td></tr><tr><td class = \"rowNumber\" style = \"font-weight: bold; text-align: right;\">465</td><td style = \"text-align: right;\">0</td><td style = \"text-align: right;\">10.9458</td><td style = \"text-align: right;\">3.3</td><td style = \"text-align: right;\">10.89</td><td style = \"text-align: right;\">14</td><td style = \"text-align: right;\">0</td><td style = \"text-align: right;\">2</td><td style = \"text-align: left;\">yes</td></tr><tr><td class = \"rowNumber\" style = \"font-weight: bold; text-align: right;\">466</td><td style = \"text-align: right;\">0</td><td style = \"text-align: right;\">11.111</td><td style = \"text-align: right;\">3.5</td><td style = \"text-align: right;\">12.25</td><td style = \"text-align: right;\">10</td><td style = \"text-align: right;\">1</td><td style = \"text-align: right;\">1</td><td style = \"text-align: left;\">yes</td></tr><tr><td class = \"rowNumber\" style = \"font-weight: bold; text-align: right;\">467</td><td style = \"text-align: right;\">0</td><td style = \"text-align: right;\">10.4714</td><td style = \"text-align: right;\">5.1</td><td style = \"text-align: right;\">26.01</td><td style = \"text-align: right;\">9</td><td style = \"text-align: right;\">0</td><td style = \"text-align: right;\">1</td><td style = \"text-align: left;\">yes</td></tr><tr><td class = \"rowNumber\" style = \"font-weight: bold; text-align: right;\">468</td><td style = \"text-align: right;\">0</td><td style = \"text-align: right;\">10.1475</td><td style = \"text-align: right;\">4.1</td><td style = \"text-align: right;\">16.81</td><td style = \"text-align: right;\">5</td><td style = \"text-align: right;\">1</td><td style = \"text-align: right;\">0</td><td style = \"text-align: left;\">yes</td></tr><tr><td class = \"rowNumber\" style = \"font-weight: bold; text-align: right;\">469</td><td style = \"text-align: right;\">0</td><td style = \"text-align: right;\">10.5974</td><td style = \"text-align: right;\">2.4</td><td style = \"text-align: right;\">5.76</td><td style = \"text-align: right;\">4</td><td style = \"text-align: right;\">2</td><td style = \"text-align: right;\">1</td><td style = \"text-align: left;\">yes</td></tr><tr><td class = \"rowNumber\" style = \"font-weight: bold; text-align: right;\">470</td><td style = \"text-align: right;\">0</td><td style = \"text-align: right;\">10.1337</td><td style = \"text-align: right;\">2.4</td><td style = \"text-align: right;\">5.76</td><td style = \"text-align: right;\">6</td><td style = \"text-align: right;\">2</td><td style = \"text-align: right;\">0</td><td style = \"text-align: left;\">yes</td></tr><tr><td class = \"rowNumber\" style = \"font-weight: bold; text-align: right;\">471</td><td style = \"text-align: right;\">0</td><td style = \"text-align: right;\">11.2207</td><td style = \"text-align: right;\">5.1</td><td style = \"text-align: right;\">26.01</td><td style = \"text-align: right;\">10</td><td style = \"text-align: right;\">0</td><td style = \"text-align: right;\">0</td><td style = \"text-align: left;\">yes</td></tr></tbody></table></div>"
      ],
      "text/latex": [
       "\\begin{tabular}{r|cccccccc}\n",
       "\t& lfp & lnnlinc & age & age² & educ & nyc & noc & foreign\\\\\n",
       "\t\\hline\n",
       "\t& Int64 & Float64 & Float64 & Float64 & Int64 & Int64 & Int64 & Cat…\\\\\n",
       "\t\\hline\n",
       "\t1 & 0 & 10.7875 & 3.0 & 9.0 & 8 & 1 & 1 & no \\\\\n",
       "\t2 & 0 & 10.9686 & 4.6 & 21.16 & 9 & 0 & 0 & no \\\\\n",
       "\t3 & 0 & 11.105 & 3.1 & 9.61 & 11 & 2 & 0 & no \\\\\n",
       "\t4 & 0 & 11.1085 & 4.4 & 19.36 & 12 & 0 & 2 & no \\\\\n",
       "\t5 & 0 & 11.4547 & 5.1 & 26.01 & 8 & 0 & 0 & no \\\\\n",
       "\t6 & 0 & 10.6247 & 3.9 & 15.21 & 12 & 0 & 0 & no \\\\\n",
       "\t7 & 0 & 10.4864 & 4.3 & 18.49 & 11 & 0 & 2 & no \\\\\n",
       "\t8 & 0 & 10.6606 & 4.5 & 20.25 & 11 & 0 & 2 & no \\\\\n",
       "\t9 & 0 & 10.4676 & 6.0 & 36.0 & 12 & 0 & 0 & no \\\\\n",
       "\t10 & 0 & 11.2296 & 3.3 & 10.89 & 11 & 2 & 0 & no \\\\\n",
       "\t11 & 0 & 11.9065 & 5.6 & 31.36 & 14 & 0 & 0 & no \\\\\n",
       "\t12 & 0 & 11.5016 & 5.6 & 31.36 & 11 & 0 & 0 & no \\\\\n",
       "\t13 & 0 & 11.2935 & 4.7 & 22.09 & 11 & 0 & 1 & no \\\\\n",
       "\t14 & 0 & 10.8613 & 5.0 & 25.0 & 8 & 0 & 0 & no \\\\\n",
       "\t15 & 0 & 11.0486 & 4.7 & 22.09 & 8 & 0 & 1 & no \\\\\n",
       "\t16 & 0 & 10.8601 & 2.9 & 8.41 & 19 & 0 & 0 & no \\\\\n",
       "\t17 & 0 & 10.8486 & 4.4 & 19.36 & 8 & 0 & 2 & no \\\\\n",
       "\t18 & 0 & 10.4824 & 2.0 & 4.0 & 12 & 1 & 0 & no \\\\\n",
       "\t19 & 0 & 10.5406 & 2.8 & 7.84 & 9 & 2 & 0 & no \\\\\n",
       "\t20 & 0 & 11.2243 & 4.7 & 22.09 & 8 & 0 & 1 & no \\\\\n",
       "\t21 & 0 & 10.5663 & 3.0 & 9.0 & 11 & 0 & 1 & no \\\\\n",
       "\t22 & 0 & 11.7696 & 5.1 & 26.01 & 11 & 0 & 0 & no \\\\\n",
       "\t23 & 0 & 10.6671 & 2.8 & 7.84 & 11 & 0 & 2 & no \\\\\n",
       "\t24 & 0 & 10.6246 & 5.4 & 29.16 & 11 & 0 & 0 & no \\\\\n",
       "\t25 & 0 & 10.5371 & 4.9 & 24.01 & 8 & 0 & 0 & no \\\\\n",
       "\t26 & 0 & 11.1356 & 5.3 & 28.09 & 10 & 0 & 0 & no \\\\\n",
       "\t27 & 0 & 10.3153 & 5.5 & 30.25 & 8 & 0 & 0 & no \\\\\n",
       "\t28 & 0 & 10.3727 & 2.4 & 5.76 & 11 & 1 & 0 & no \\\\\n",
       "\t29 & 0 & 11.5071 & 5.0 & 25.0 & 8 & 0 & 1 & no \\\\\n",
       "\t30 & 0 & 10.4529 & 2.3 & 5.29 & 9 & 1 & 0 & no \\\\\n",
       "\t$\\dots$ & $\\dots$ & $\\dots$ & $\\dots$ & $\\dots$ & $\\dots$ & $\\dots$ & $\\dots$ & $\\dots$ \\\\\n",
       "\\end{tabular}\n"
      ],
      "text/plain": [
       "\u001b[1m471×8 SubDataFrame\u001b[0m\n",
       "\u001b[1m Row \u001b[0m│\u001b[1m lfp   \u001b[0m\u001b[1m lnnlinc \u001b[0m\u001b[1m age     \u001b[0m\u001b[1m age²    \u001b[0m\u001b[1m educ  \u001b[0m\u001b[1m nyc   \u001b[0m\u001b[1m noc   \u001b[0m\u001b[1m foreign \u001b[0m\n",
       "     │\u001b[90m Int64 \u001b[0m\u001b[90m Float64 \u001b[0m\u001b[90m Float64 \u001b[0m\u001b[90m Float64 \u001b[0m\u001b[90m Int64 \u001b[0m\u001b[90m Int64 \u001b[0m\u001b[90m Int64 \u001b[0m\u001b[90m Cat…    \u001b[0m\n",
       "─────┼────────────────────────────────────────────────────────────────\n",
       "   1 │     0  10.7875      3.0     9.0       8      1      1  no\n",
       "   2 │     0  10.9686      4.6    21.16      9      0      0  no\n",
       "   3 │     0  11.105       3.1     9.61     11      2      0  no\n",
       "   4 │     0  11.1085      4.4    19.36     12      0      2  no\n",
       "   5 │     0  11.4547      5.1    26.01      8      0      0  no\n",
       "   6 │     0  10.6247      3.9    15.21     12      0      0  no\n",
       "   7 │     0  10.4864      4.3    18.49     11      0      2  no\n",
       "   8 │     0  10.6606      4.5    20.25     11      0      2  no\n",
       "   9 │     0  10.4676      6.0    36.0      12      0      0  no\n",
       "  10 │     0  11.2296      3.3    10.89     11      2      0  no\n",
       "  11 │     0  11.9065      5.6    31.36     14      0      0  no\n",
       "  ⋮  │   ⋮       ⋮        ⋮        ⋮       ⋮      ⋮      ⋮       ⋮\n",
       " 462 │     0  10.0104      5.7    32.49      6      0      1  yes\n",
       " 463 │     0  10.5593      3.2    10.24     12      1      0  yes\n",
       " 464 │     0  10.2158      2.5     6.25     11      1      0  yes\n",
       " 465 │     0  10.9458      3.3    10.89     14      0      2  yes\n",
       " 466 │     0  11.111       3.5    12.25     10      1      1  yes\n",
       " 467 │     0  10.4714      5.1    26.01      9      0      1  yes\n",
       " 468 │     0  10.1475      4.1    16.81      5      1      0  yes\n",
       " 469 │     0  10.5974      2.4     5.76      4      2      1  yes\n",
       " 470 │     0  10.1337      2.4     5.76      6      2      0  yes\n",
       " 471 │     0  11.2207      5.1    26.01     10      0      0  yes\n",
       "\u001b[36m                                                      450 rows omitted\u001b[0m"
      ]
     },
     "execution_count": 19,
     "metadata": {},
     "output_type": "execute_result"
    }
   ],
   "source": [
    "gd[(lfp=0,)]"
   ]
  },
  {
   "cell_type": "code",
   "execution_count": 20,
   "id": "68339a48",
   "metadata": {},
   "outputs": [
    {
     "data": {
      "text/html": [
       "<div><div style = \"float: left;\"><span>471×8 SubDataFrame</span></div><div style = \"float: right;\"><span style = \"font-style: italic;\">446 rows omitted</span></div><div style = \"clear: both;\"></div></div><div class = \"data-frame\" style = \"overflow-x: scroll;\"><table class = \"data-frame\" style = \"margin-bottom: 6px;\"><thead><tr class = \"header\"><th class = \"rowNumber\" style = \"font-weight: bold; text-align: right;\">Row</th><th style = \"text-align: left;\">lfp</th><th style = \"text-align: left;\">lnnlinc</th><th style = \"text-align: left;\">age</th><th style = \"text-align: left;\">age²</th><th style = \"text-align: left;\">educ</th><th style = \"text-align: left;\">nyc</th><th style = \"text-align: left;\">noc</th><th style = \"text-align: left;\">foreign</th></tr><tr class = \"subheader headerLastRow\"><th class = \"rowNumber\" style = \"font-weight: bold; text-align: right;\"></th><th title = \"Int64\" style = \"text-align: left;\">Int64</th><th title = \"Float64\" style = \"text-align: left;\">Float64</th><th title = \"Float64\" style = \"text-align: left;\">Float64</th><th title = \"Float64\" style = \"text-align: left;\">Float64</th><th title = \"Int64\" style = \"text-align: left;\">Int64</th><th title = \"Int64\" style = \"text-align: left;\">Int64</th><th title = \"Int64\" style = \"text-align: left;\">Int64</th><th title = \"CategoricalValue{String3, UInt32}\" style = \"text-align: left;\">Cat…</th></tr></thead><tbody><tr><td class = \"rowNumber\" style = \"font-weight: bold; text-align: right;\">1</td><td style = \"text-align: right;\">0</td><td style = \"text-align: right;\">10.7875</td><td style = \"text-align: right;\">3.0</td><td style = \"text-align: right;\">9.0</td><td style = \"text-align: right;\">8</td><td style = \"text-align: right;\">1</td><td style = \"text-align: right;\">1</td><td style = \"text-align: left;\">no</td></tr><tr><td class = \"rowNumber\" style = \"font-weight: bold; text-align: right;\">2</td><td style = \"text-align: right;\">0</td><td style = \"text-align: right;\">10.9686</td><td style = \"text-align: right;\">4.6</td><td style = \"text-align: right;\">21.16</td><td style = \"text-align: right;\">9</td><td style = \"text-align: right;\">0</td><td style = \"text-align: right;\">0</td><td style = \"text-align: left;\">no</td></tr><tr><td class = \"rowNumber\" style = \"font-weight: bold; text-align: right;\">3</td><td style = \"text-align: right;\">0</td><td style = \"text-align: right;\">11.105</td><td style = \"text-align: right;\">3.1</td><td style = \"text-align: right;\">9.61</td><td style = \"text-align: right;\">11</td><td style = \"text-align: right;\">2</td><td style = \"text-align: right;\">0</td><td style = \"text-align: left;\">no</td></tr><tr><td class = \"rowNumber\" style = \"font-weight: bold; text-align: right;\">4</td><td style = \"text-align: right;\">0</td><td style = \"text-align: right;\">11.1085</td><td style = \"text-align: right;\">4.4</td><td style = \"text-align: right;\">19.36</td><td style = \"text-align: right;\">12</td><td style = \"text-align: right;\">0</td><td style = \"text-align: right;\">2</td><td style = \"text-align: left;\">no</td></tr><tr><td class = \"rowNumber\" style = \"font-weight: bold; text-align: right;\">5</td><td style = \"text-align: right;\">0</td><td style = \"text-align: right;\">11.4547</td><td style = \"text-align: right;\">5.1</td><td style = \"text-align: right;\">26.01</td><td style = \"text-align: right;\">8</td><td style = \"text-align: right;\">0</td><td style = \"text-align: right;\">0</td><td style = \"text-align: left;\">no</td></tr><tr><td class = \"rowNumber\" style = \"font-weight: bold; text-align: right;\">6</td><td style = \"text-align: right;\">0</td><td style = \"text-align: right;\">10.6247</td><td style = \"text-align: right;\">3.9</td><td style = \"text-align: right;\">15.21</td><td style = \"text-align: right;\">12</td><td style = \"text-align: right;\">0</td><td style = \"text-align: right;\">0</td><td style = \"text-align: left;\">no</td></tr><tr><td class = \"rowNumber\" style = \"font-weight: bold; text-align: right;\">7</td><td style = \"text-align: right;\">0</td><td style = \"text-align: right;\">10.4864</td><td style = \"text-align: right;\">4.3</td><td style = \"text-align: right;\">18.49</td><td style = \"text-align: right;\">11</td><td style = \"text-align: right;\">0</td><td style = \"text-align: right;\">2</td><td style = \"text-align: left;\">no</td></tr><tr><td class = \"rowNumber\" style = \"font-weight: bold; text-align: right;\">8</td><td style = \"text-align: right;\">0</td><td style = \"text-align: right;\">10.6606</td><td style = \"text-align: right;\">4.5</td><td style = \"text-align: right;\">20.25</td><td style = \"text-align: right;\">11</td><td style = \"text-align: right;\">0</td><td style = \"text-align: right;\">2</td><td style = \"text-align: left;\">no</td></tr><tr><td class = \"rowNumber\" style = \"font-weight: bold; text-align: right;\">9</td><td style = \"text-align: right;\">0</td><td style = \"text-align: right;\">10.4676</td><td style = \"text-align: right;\">6.0</td><td style = \"text-align: right;\">36.0</td><td style = \"text-align: right;\">12</td><td style = \"text-align: right;\">0</td><td style = \"text-align: right;\">0</td><td style = \"text-align: left;\">no</td></tr><tr><td class = \"rowNumber\" style = \"font-weight: bold; text-align: right;\">10</td><td style = \"text-align: right;\">0</td><td style = \"text-align: right;\">11.2296</td><td style = \"text-align: right;\">3.3</td><td style = \"text-align: right;\">10.89</td><td style = \"text-align: right;\">11</td><td style = \"text-align: right;\">2</td><td style = \"text-align: right;\">0</td><td style = \"text-align: left;\">no</td></tr><tr><td class = \"rowNumber\" style = \"font-weight: bold; text-align: right;\">11</td><td style = \"text-align: right;\">0</td><td style = \"text-align: right;\">11.9065</td><td style = \"text-align: right;\">5.6</td><td style = \"text-align: right;\">31.36</td><td style = \"text-align: right;\">14</td><td style = \"text-align: right;\">0</td><td style = \"text-align: right;\">0</td><td style = \"text-align: left;\">no</td></tr><tr><td class = \"rowNumber\" style = \"font-weight: bold; text-align: right;\">12</td><td style = \"text-align: right;\">0</td><td style = \"text-align: right;\">11.5016</td><td style = \"text-align: right;\">5.6</td><td style = \"text-align: right;\">31.36</td><td style = \"text-align: right;\">11</td><td style = \"text-align: right;\">0</td><td style = \"text-align: right;\">0</td><td style = \"text-align: left;\">no</td></tr><tr><td class = \"rowNumber\" style = \"font-weight: bold; text-align: right;\">13</td><td style = \"text-align: right;\">0</td><td style = \"text-align: right;\">11.2935</td><td style = \"text-align: right;\">4.7</td><td style = \"text-align: right;\">22.09</td><td style = \"text-align: right;\">11</td><td style = \"text-align: right;\">0</td><td style = \"text-align: right;\">1</td><td style = \"text-align: left;\">no</td></tr><tr><td style = \"text-align: right;\">&vellip;</td><td style = \"text-align: right;\">&vellip;</td><td style = \"text-align: right;\">&vellip;</td><td style = \"text-align: right;\">&vellip;</td><td style = \"text-align: right;\">&vellip;</td><td style = \"text-align: right;\">&vellip;</td><td style = \"text-align: right;\">&vellip;</td><td style = \"text-align: right;\">&vellip;</td><td style = \"text-align: right;\">&vellip;</td></tr><tr><td class = \"rowNumber\" style = \"font-weight: bold; text-align: right;\">460</td><td style = \"text-align: right;\">0</td><td style = \"text-align: right;\">10.5008</td><td style = \"text-align: right;\">4.9</td><td style = \"text-align: right;\">24.01</td><td style = \"text-align: right;\">5</td><td style = \"text-align: right;\">0</td><td style = \"text-align: right;\">1</td><td style = \"text-align: left;\">yes</td></tr><tr><td class = \"rowNumber\" style = \"font-weight: bold; text-align: right;\">461</td><td style = \"text-align: right;\">0</td><td style = \"text-align: right;\">10.3173</td><td style = \"text-align: right;\">5.5</td><td style = \"text-align: right;\">30.25</td><td style = \"text-align: right;\">5</td><td style = \"text-align: right;\">0</td><td style = \"text-align: right;\">0</td><td style = \"text-align: left;\">yes</td></tr><tr><td class = \"rowNumber\" style = \"font-weight: bold; text-align: right;\">462</td><td style = \"text-align: right;\">0</td><td style = \"text-align: right;\">10.0104</td><td style = \"text-align: right;\">5.7</td><td style = \"text-align: right;\">32.49</td><td style = \"text-align: right;\">6</td><td style = \"text-align: right;\">0</td><td style = \"text-align: right;\">1</td><td style = \"text-align: left;\">yes</td></tr><tr><td class = \"rowNumber\" style = \"font-weight: bold; text-align: right;\">463</td><td style = \"text-align: right;\">0</td><td style = \"text-align: right;\">10.5593</td><td style = \"text-align: right;\">3.2</td><td style = \"text-align: right;\">10.24</td><td style = \"text-align: right;\">12</td><td style = \"text-align: right;\">1</td><td style = \"text-align: right;\">0</td><td style = \"text-align: left;\">yes</td></tr><tr><td class = \"rowNumber\" style = \"font-weight: bold; text-align: right;\">464</td><td style = \"text-align: right;\">0</td><td style = \"text-align: right;\">10.2158</td><td style = \"text-align: right;\">2.5</td><td style = \"text-align: right;\">6.25</td><td style = \"text-align: right;\">11</td><td style = \"text-align: right;\">1</td><td style = \"text-align: right;\">0</td><td style = \"text-align: left;\">yes</td></tr><tr><td class = \"rowNumber\" style = \"font-weight: bold; text-align: right;\">465</td><td style = \"text-align: right;\">0</td><td style = \"text-align: right;\">10.9458</td><td style = \"text-align: right;\">3.3</td><td style = \"text-align: right;\">10.89</td><td style = \"text-align: right;\">14</td><td style = \"text-align: right;\">0</td><td style = \"text-align: right;\">2</td><td style = \"text-align: left;\">yes</td></tr><tr><td class = \"rowNumber\" style = \"font-weight: bold; text-align: right;\">466</td><td style = \"text-align: right;\">0</td><td style = \"text-align: right;\">11.111</td><td style = \"text-align: right;\">3.5</td><td style = \"text-align: right;\">12.25</td><td style = \"text-align: right;\">10</td><td style = \"text-align: right;\">1</td><td style = \"text-align: right;\">1</td><td style = \"text-align: left;\">yes</td></tr><tr><td class = \"rowNumber\" style = \"font-weight: bold; text-align: right;\">467</td><td style = \"text-align: right;\">0</td><td style = \"text-align: right;\">10.4714</td><td style = \"text-align: right;\">5.1</td><td style = \"text-align: right;\">26.01</td><td style = \"text-align: right;\">9</td><td style = \"text-align: right;\">0</td><td style = \"text-align: right;\">1</td><td style = \"text-align: left;\">yes</td></tr><tr><td class = \"rowNumber\" style = \"font-weight: bold; text-align: right;\">468</td><td style = \"text-align: right;\">0</td><td style = \"text-align: right;\">10.1475</td><td style = \"text-align: right;\">4.1</td><td style = \"text-align: right;\">16.81</td><td style = \"text-align: right;\">5</td><td style = \"text-align: right;\">1</td><td style = \"text-align: right;\">0</td><td style = \"text-align: left;\">yes</td></tr><tr><td class = \"rowNumber\" style = \"font-weight: bold; text-align: right;\">469</td><td style = \"text-align: right;\">0</td><td style = \"text-align: right;\">10.5974</td><td style = \"text-align: right;\">2.4</td><td style = \"text-align: right;\">5.76</td><td style = \"text-align: right;\">4</td><td style = \"text-align: right;\">2</td><td style = \"text-align: right;\">1</td><td style = \"text-align: left;\">yes</td></tr><tr><td class = \"rowNumber\" style = \"font-weight: bold; text-align: right;\">470</td><td style = \"text-align: right;\">0</td><td style = \"text-align: right;\">10.1337</td><td style = \"text-align: right;\">2.4</td><td style = \"text-align: right;\">5.76</td><td style = \"text-align: right;\">6</td><td style = \"text-align: right;\">2</td><td style = \"text-align: right;\">0</td><td style = \"text-align: left;\">yes</td></tr><tr><td class = \"rowNumber\" style = \"font-weight: bold; text-align: right;\">471</td><td style = \"text-align: right;\">0</td><td style = \"text-align: right;\">11.2207</td><td style = \"text-align: right;\">5.1</td><td style = \"text-align: right;\">26.01</td><td style = \"text-align: right;\">10</td><td style = \"text-align: right;\">0</td><td style = \"text-align: right;\">0</td><td style = \"text-align: left;\">yes</td></tr></tbody></table></div>"
      ],
      "text/latex": [
       "\\begin{tabular}{r|cccccccc}\n",
       "\t& lfp & lnnlinc & age & age² & educ & nyc & noc & foreign\\\\\n",
       "\t\\hline\n",
       "\t& Int64 & Float64 & Float64 & Float64 & Int64 & Int64 & Int64 & Cat…\\\\\n",
       "\t\\hline\n",
       "\t1 & 0 & 10.7875 & 3.0 & 9.0 & 8 & 1 & 1 & no \\\\\n",
       "\t2 & 0 & 10.9686 & 4.6 & 21.16 & 9 & 0 & 0 & no \\\\\n",
       "\t3 & 0 & 11.105 & 3.1 & 9.61 & 11 & 2 & 0 & no \\\\\n",
       "\t4 & 0 & 11.1085 & 4.4 & 19.36 & 12 & 0 & 2 & no \\\\\n",
       "\t5 & 0 & 11.4547 & 5.1 & 26.01 & 8 & 0 & 0 & no \\\\\n",
       "\t6 & 0 & 10.6247 & 3.9 & 15.21 & 12 & 0 & 0 & no \\\\\n",
       "\t7 & 0 & 10.4864 & 4.3 & 18.49 & 11 & 0 & 2 & no \\\\\n",
       "\t8 & 0 & 10.6606 & 4.5 & 20.25 & 11 & 0 & 2 & no \\\\\n",
       "\t9 & 0 & 10.4676 & 6.0 & 36.0 & 12 & 0 & 0 & no \\\\\n",
       "\t10 & 0 & 11.2296 & 3.3 & 10.89 & 11 & 2 & 0 & no \\\\\n",
       "\t11 & 0 & 11.9065 & 5.6 & 31.36 & 14 & 0 & 0 & no \\\\\n",
       "\t12 & 0 & 11.5016 & 5.6 & 31.36 & 11 & 0 & 0 & no \\\\\n",
       "\t13 & 0 & 11.2935 & 4.7 & 22.09 & 11 & 0 & 1 & no \\\\\n",
       "\t14 & 0 & 10.8613 & 5.0 & 25.0 & 8 & 0 & 0 & no \\\\\n",
       "\t15 & 0 & 11.0486 & 4.7 & 22.09 & 8 & 0 & 1 & no \\\\\n",
       "\t16 & 0 & 10.8601 & 2.9 & 8.41 & 19 & 0 & 0 & no \\\\\n",
       "\t17 & 0 & 10.8486 & 4.4 & 19.36 & 8 & 0 & 2 & no \\\\\n",
       "\t18 & 0 & 10.4824 & 2.0 & 4.0 & 12 & 1 & 0 & no \\\\\n",
       "\t19 & 0 & 10.5406 & 2.8 & 7.84 & 9 & 2 & 0 & no \\\\\n",
       "\t20 & 0 & 11.2243 & 4.7 & 22.09 & 8 & 0 & 1 & no \\\\\n",
       "\t21 & 0 & 10.5663 & 3.0 & 9.0 & 11 & 0 & 1 & no \\\\\n",
       "\t22 & 0 & 11.7696 & 5.1 & 26.01 & 11 & 0 & 0 & no \\\\\n",
       "\t23 & 0 & 10.6671 & 2.8 & 7.84 & 11 & 0 & 2 & no \\\\\n",
       "\t24 & 0 & 10.6246 & 5.4 & 29.16 & 11 & 0 & 0 & no \\\\\n",
       "\t25 & 0 & 10.5371 & 4.9 & 24.01 & 8 & 0 & 0 & no \\\\\n",
       "\t26 & 0 & 11.1356 & 5.3 & 28.09 & 10 & 0 & 0 & no \\\\\n",
       "\t27 & 0 & 10.3153 & 5.5 & 30.25 & 8 & 0 & 0 & no \\\\\n",
       "\t28 & 0 & 10.3727 & 2.4 & 5.76 & 11 & 1 & 0 & no \\\\\n",
       "\t29 & 0 & 11.5071 & 5.0 & 25.0 & 8 & 0 & 1 & no \\\\\n",
       "\t30 & 0 & 10.4529 & 2.3 & 5.29 & 9 & 1 & 0 & no \\\\\n",
       "\t$\\dots$ & $\\dots$ & $\\dots$ & $\\dots$ & $\\dots$ & $\\dots$ & $\\dots$ & $\\dots$ & $\\dots$ \\\\\n",
       "\\end{tabular}\n"
      ],
      "text/plain": [
       "\u001b[1m471×8 SubDataFrame\u001b[0m\n",
       "\u001b[1m Row \u001b[0m│\u001b[1m lfp   \u001b[0m\u001b[1m lnnlinc \u001b[0m\u001b[1m age     \u001b[0m\u001b[1m age²    \u001b[0m\u001b[1m educ  \u001b[0m\u001b[1m nyc   \u001b[0m\u001b[1m noc   \u001b[0m\u001b[1m foreign \u001b[0m\n",
       "     │\u001b[90m Int64 \u001b[0m\u001b[90m Float64 \u001b[0m\u001b[90m Float64 \u001b[0m\u001b[90m Float64 \u001b[0m\u001b[90m Int64 \u001b[0m\u001b[90m Int64 \u001b[0m\u001b[90m Int64 \u001b[0m\u001b[90m Cat…    \u001b[0m\n",
       "─────┼────────────────────────────────────────────────────────────────\n",
       "   1 │     0  10.7875      3.0     9.0       8      1      1  no\n",
       "   2 │     0  10.9686      4.6    21.16      9      0      0  no\n",
       "   3 │     0  11.105       3.1     9.61     11      2      0  no\n",
       "   4 │     0  11.1085      4.4    19.36     12      0      2  no\n",
       "   5 │     0  11.4547      5.1    26.01      8      0      0  no\n",
       "   6 │     0  10.6247      3.9    15.21     12      0      0  no\n",
       "   7 │     0  10.4864      4.3    18.49     11      0      2  no\n",
       "   8 │     0  10.6606      4.5    20.25     11      0      2  no\n",
       "   9 │     0  10.4676      6.0    36.0      12      0      0  no\n",
       "  10 │     0  11.2296      3.3    10.89     11      2      0  no\n",
       "  11 │     0  11.9065      5.6    31.36     14      0      0  no\n",
       "  ⋮  │   ⋮       ⋮        ⋮        ⋮       ⋮      ⋮      ⋮       ⋮\n",
       " 462 │     0  10.0104      5.7    32.49      6      0      1  yes\n",
       " 463 │     0  10.5593      3.2    10.24     12      1      0  yes\n",
       " 464 │     0  10.2158      2.5     6.25     11      1      0  yes\n",
       " 465 │     0  10.9458      3.3    10.89     14      0      2  yes\n",
       " 466 │     0  11.111       3.5    12.25     10      1      1  yes\n",
       " 467 │     0  10.4714      5.1    26.01      9      0      1  yes\n",
       " 468 │     0  10.1475      4.1    16.81      5      1      0  yes\n",
       " 469 │     0  10.5974      2.4     5.76      4      2      1  yes\n",
       " 470 │     0  10.1337      2.4     5.76      6      2      0  yes\n",
       " 471 │     0  11.2207      5.1    26.01     10      0      0  yes\n",
       "\u001b[36m                                                      450 rows omitted\u001b[0m"
      ]
     },
     "execution_count": 20,
     "metadata": {},
     "output_type": "execute_result"
    }
   ],
   "source": [
    "gd[Dict(:lfp => 0)]"
   ]
  },
  {
   "cell_type": "code",
   "execution_count": 21,
   "id": "6a9aa27c",
   "metadata": {},
   "outputs": [
    {
     "data": {
      "text/html": [
       "<div><div style = \"float: left;\"><span>471×8 SubDataFrame</span></div><div style = \"float: right;\"><span style = \"font-style: italic;\">446 rows omitted</span></div><div style = \"clear: both;\"></div></div><div class = \"data-frame\" style = \"overflow-x: scroll;\"><table class = \"data-frame\" style = \"margin-bottom: 6px;\"><thead><tr class = \"header\"><th class = \"rowNumber\" style = \"font-weight: bold; text-align: right;\">Row</th><th style = \"text-align: left;\">lfp</th><th style = \"text-align: left;\">lnnlinc</th><th style = \"text-align: left;\">age</th><th style = \"text-align: left;\">age²</th><th style = \"text-align: left;\">educ</th><th style = \"text-align: left;\">nyc</th><th style = \"text-align: left;\">noc</th><th style = \"text-align: left;\">foreign</th></tr><tr class = \"subheader headerLastRow\"><th class = \"rowNumber\" style = \"font-weight: bold; text-align: right;\"></th><th title = \"Int64\" style = \"text-align: left;\">Int64</th><th title = \"Float64\" style = \"text-align: left;\">Float64</th><th title = \"Float64\" style = \"text-align: left;\">Float64</th><th title = \"Float64\" style = \"text-align: left;\">Float64</th><th title = \"Int64\" style = \"text-align: left;\">Int64</th><th title = \"Int64\" style = \"text-align: left;\">Int64</th><th title = \"Int64\" style = \"text-align: left;\">Int64</th><th title = \"CategoricalValue{String3, UInt32}\" style = \"text-align: left;\">Cat…</th></tr></thead><tbody><tr><td class = \"rowNumber\" style = \"font-weight: bold; text-align: right;\">1</td><td style = \"text-align: right;\">0</td><td style = \"text-align: right;\">10.7875</td><td style = \"text-align: right;\">3.0</td><td style = \"text-align: right;\">9.0</td><td style = \"text-align: right;\">8</td><td style = \"text-align: right;\">1</td><td style = \"text-align: right;\">1</td><td style = \"text-align: left;\">no</td></tr><tr><td class = \"rowNumber\" style = \"font-weight: bold; text-align: right;\">2</td><td style = \"text-align: right;\">0</td><td style = \"text-align: right;\">10.9686</td><td style = \"text-align: right;\">4.6</td><td style = \"text-align: right;\">21.16</td><td style = \"text-align: right;\">9</td><td style = \"text-align: right;\">0</td><td style = \"text-align: right;\">0</td><td style = \"text-align: left;\">no</td></tr><tr><td class = \"rowNumber\" style = \"font-weight: bold; text-align: right;\">3</td><td style = \"text-align: right;\">0</td><td style = \"text-align: right;\">11.105</td><td style = \"text-align: right;\">3.1</td><td style = \"text-align: right;\">9.61</td><td style = \"text-align: right;\">11</td><td style = \"text-align: right;\">2</td><td style = \"text-align: right;\">0</td><td style = \"text-align: left;\">no</td></tr><tr><td class = \"rowNumber\" style = \"font-weight: bold; text-align: right;\">4</td><td style = \"text-align: right;\">0</td><td style = \"text-align: right;\">11.1085</td><td style = \"text-align: right;\">4.4</td><td style = \"text-align: right;\">19.36</td><td style = \"text-align: right;\">12</td><td style = \"text-align: right;\">0</td><td style = \"text-align: right;\">2</td><td style = \"text-align: left;\">no</td></tr><tr><td class = \"rowNumber\" style = \"font-weight: bold; text-align: right;\">5</td><td style = \"text-align: right;\">0</td><td style = \"text-align: right;\">11.4547</td><td style = \"text-align: right;\">5.1</td><td style = \"text-align: right;\">26.01</td><td style = \"text-align: right;\">8</td><td style = \"text-align: right;\">0</td><td style = \"text-align: right;\">0</td><td style = \"text-align: left;\">no</td></tr><tr><td class = \"rowNumber\" style = \"font-weight: bold; text-align: right;\">6</td><td style = \"text-align: right;\">0</td><td style = \"text-align: right;\">10.6247</td><td style = \"text-align: right;\">3.9</td><td style = \"text-align: right;\">15.21</td><td style = \"text-align: right;\">12</td><td style = \"text-align: right;\">0</td><td style = \"text-align: right;\">0</td><td style = \"text-align: left;\">no</td></tr><tr><td class = \"rowNumber\" style = \"font-weight: bold; text-align: right;\">7</td><td style = \"text-align: right;\">0</td><td style = \"text-align: right;\">10.4864</td><td style = \"text-align: right;\">4.3</td><td style = \"text-align: right;\">18.49</td><td style = \"text-align: right;\">11</td><td style = \"text-align: right;\">0</td><td style = \"text-align: right;\">2</td><td style = \"text-align: left;\">no</td></tr><tr><td class = \"rowNumber\" style = \"font-weight: bold; text-align: right;\">8</td><td style = \"text-align: right;\">0</td><td style = \"text-align: right;\">10.6606</td><td style = \"text-align: right;\">4.5</td><td style = \"text-align: right;\">20.25</td><td style = \"text-align: right;\">11</td><td style = \"text-align: right;\">0</td><td style = \"text-align: right;\">2</td><td style = \"text-align: left;\">no</td></tr><tr><td class = \"rowNumber\" style = \"font-weight: bold; text-align: right;\">9</td><td style = \"text-align: right;\">0</td><td style = \"text-align: right;\">10.4676</td><td style = \"text-align: right;\">6.0</td><td style = \"text-align: right;\">36.0</td><td style = \"text-align: right;\">12</td><td style = \"text-align: right;\">0</td><td style = \"text-align: right;\">0</td><td style = \"text-align: left;\">no</td></tr><tr><td class = \"rowNumber\" style = \"font-weight: bold; text-align: right;\">10</td><td style = \"text-align: right;\">0</td><td style = \"text-align: right;\">11.2296</td><td style = \"text-align: right;\">3.3</td><td style = \"text-align: right;\">10.89</td><td style = \"text-align: right;\">11</td><td style = \"text-align: right;\">2</td><td style = \"text-align: right;\">0</td><td style = \"text-align: left;\">no</td></tr><tr><td class = \"rowNumber\" style = \"font-weight: bold; text-align: right;\">11</td><td style = \"text-align: right;\">0</td><td style = \"text-align: right;\">11.9065</td><td style = \"text-align: right;\">5.6</td><td style = \"text-align: right;\">31.36</td><td style = \"text-align: right;\">14</td><td style = \"text-align: right;\">0</td><td style = \"text-align: right;\">0</td><td style = \"text-align: left;\">no</td></tr><tr><td class = \"rowNumber\" style = \"font-weight: bold; text-align: right;\">12</td><td style = \"text-align: right;\">0</td><td style = \"text-align: right;\">11.5016</td><td style = \"text-align: right;\">5.6</td><td style = \"text-align: right;\">31.36</td><td style = \"text-align: right;\">11</td><td style = \"text-align: right;\">0</td><td style = \"text-align: right;\">0</td><td style = \"text-align: left;\">no</td></tr><tr><td class = \"rowNumber\" style = \"font-weight: bold; text-align: right;\">13</td><td style = \"text-align: right;\">0</td><td style = \"text-align: right;\">11.2935</td><td style = \"text-align: right;\">4.7</td><td style = \"text-align: right;\">22.09</td><td style = \"text-align: right;\">11</td><td style = \"text-align: right;\">0</td><td style = \"text-align: right;\">1</td><td style = \"text-align: left;\">no</td></tr><tr><td style = \"text-align: right;\">&vellip;</td><td style = \"text-align: right;\">&vellip;</td><td style = \"text-align: right;\">&vellip;</td><td style = \"text-align: right;\">&vellip;</td><td style = \"text-align: right;\">&vellip;</td><td style = \"text-align: right;\">&vellip;</td><td style = \"text-align: right;\">&vellip;</td><td style = \"text-align: right;\">&vellip;</td><td style = \"text-align: right;\">&vellip;</td></tr><tr><td class = \"rowNumber\" style = \"font-weight: bold; text-align: right;\">460</td><td style = \"text-align: right;\">0</td><td style = \"text-align: right;\">10.5008</td><td style = \"text-align: right;\">4.9</td><td style = \"text-align: right;\">24.01</td><td style = \"text-align: right;\">5</td><td style = \"text-align: right;\">0</td><td style = \"text-align: right;\">1</td><td style = \"text-align: left;\">yes</td></tr><tr><td class = \"rowNumber\" style = \"font-weight: bold; text-align: right;\">461</td><td style = \"text-align: right;\">0</td><td style = \"text-align: right;\">10.3173</td><td style = \"text-align: right;\">5.5</td><td style = \"text-align: right;\">30.25</td><td style = \"text-align: right;\">5</td><td style = \"text-align: right;\">0</td><td style = \"text-align: right;\">0</td><td style = \"text-align: left;\">yes</td></tr><tr><td class = \"rowNumber\" style = \"font-weight: bold; text-align: right;\">462</td><td style = \"text-align: right;\">0</td><td style = \"text-align: right;\">10.0104</td><td style = \"text-align: right;\">5.7</td><td style = \"text-align: right;\">32.49</td><td style = \"text-align: right;\">6</td><td style = \"text-align: right;\">0</td><td style = \"text-align: right;\">1</td><td style = \"text-align: left;\">yes</td></tr><tr><td class = \"rowNumber\" style = \"font-weight: bold; text-align: right;\">463</td><td style = \"text-align: right;\">0</td><td style = \"text-align: right;\">10.5593</td><td style = \"text-align: right;\">3.2</td><td style = \"text-align: right;\">10.24</td><td style = \"text-align: right;\">12</td><td style = \"text-align: right;\">1</td><td style = \"text-align: right;\">0</td><td style = \"text-align: left;\">yes</td></tr><tr><td class = \"rowNumber\" style = \"font-weight: bold; text-align: right;\">464</td><td style = \"text-align: right;\">0</td><td style = \"text-align: right;\">10.2158</td><td style = \"text-align: right;\">2.5</td><td style = \"text-align: right;\">6.25</td><td style = \"text-align: right;\">11</td><td style = \"text-align: right;\">1</td><td style = \"text-align: right;\">0</td><td style = \"text-align: left;\">yes</td></tr><tr><td class = \"rowNumber\" style = \"font-weight: bold; text-align: right;\">465</td><td style = \"text-align: right;\">0</td><td style = \"text-align: right;\">10.9458</td><td style = \"text-align: right;\">3.3</td><td style = \"text-align: right;\">10.89</td><td style = \"text-align: right;\">14</td><td style = \"text-align: right;\">0</td><td style = \"text-align: right;\">2</td><td style = \"text-align: left;\">yes</td></tr><tr><td class = \"rowNumber\" style = \"font-weight: bold; text-align: right;\">466</td><td style = \"text-align: right;\">0</td><td style = \"text-align: right;\">11.111</td><td style = \"text-align: right;\">3.5</td><td style = \"text-align: right;\">12.25</td><td style = \"text-align: right;\">10</td><td style = \"text-align: right;\">1</td><td style = \"text-align: right;\">1</td><td style = \"text-align: left;\">yes</td></tr><tr><td class = \"rowNumber\" style = \"font-weight: bold; text-align: right;\">467</td><td style = \"text-align: right;\">0</td><td style = \"text-align: right;\">10.4714</td><td style = \"text-align: right;\">5.1</td><td style = \"text-align: right;\">26.01</td><td style = \"text-align: right;\">9</td><td style = \"text-align: right;\">0</td><td style = \"text-align: right;\">1</td><td style = \"text-align: left;\">yes</td></tr><tr><td class = \"rowNumber\" style = \"font-weight: bold; text-align: right;\">468</td><td style = \"text-align: right;\">0</td><td style = \"text-align: right;\">10.1475</td><td style = \"text-align: right;\">4.1</td><td style = \"text-align: right;\">16.81</td><td style = \"text-align: right;\">5</td><td style = \"text-align: right;\">1</td><td style = \"text-align: right;\">0</td><td style = \"text-align: left;\">yes</td></tr><tr><td class = \"rowNumber\" style = \"font-weight: bold; text-align: right;\">469</td><td style = \"text-align: right;\">0</td><td style = \"text-align: right;\">10.5974</td><td style = \"text-align: right;\">2.4</td><td style = \"text-align: right;\">5.76</td><td style = \"text-align: right;\">4</td><td style = \"text-align: right;\">2</td><td style = \"text-align: right;\">1</td><td style = \"text-align: left;\">yes</td></tr><tr><td class = \"rowNumber\" style = \"font-weight: bold; text-align: right;\">470</td><td style = \"text-align: right;\">0</td><td style = \"text-align: right;\">10.1337</td><td style = \"text-align: right;\">2.4</td><td style = \"text-align: right;\">5.76</td><td style = \"text-align: right;\">6</td><td style = \"text-align: right;\">2</td><td style = \"text-align: right;\">0</td><td style = \"text-align: left;\">yes</td></tr><tr><td class = \"rowNumber\" style = \"font-weight: bold; text-align: right;\">471</td><td style = \"text-align: right;\">0</td><td style = \"text-align: right;\">11.2207</td><td style = \"text-align: right;\">5.1</td><td style = \"text-align: right;\">26.01</td><td style = \"text-align: right;\">10</td><td style = \"text-align: right;\">0</td><td style = \"text-align: right;\">0</td><td style = \"text-align: left;\">yes</td></tr></tbody></table></div>"
      ],
      "text/latex": [
       "\\begin{tabular}{r|cccccccc}\n",
       "\t& lfp & lnnlinc & age & age² & educ & nyc & noc & foreign\\\\\n",
       "\t\\hline\n",
       "\t& Int64 & Float64 & Float64 & Float64 & Int64 & Int64 & Int64 & Cat…\\\\\n",
       "\t\\hline\n",
       "\t1 & 0 & 10.7875 & 3.0 & 9.0 & 8 & 1 & 1 & no \\\\\n",
       "\t2 & 0 & 10.9686 & 4.6 & 21.16 & 9 & 0 & 0 & no \\\\\n",
       "\t3 & 0 & 11.105 & 3.1 & 9.61 & 11 & 2 & 0 & no \\\\\n",
       "\t4 & 0 & 11.1085 & 4.4 & 19.36 & 12 & 0 & 2 & no \\\\\n",
       "\t5 & 0 & 11.4547 & 5.1 & 26.01 & 8 & 0 & 0 & no \\\\\n",
       "\t6 & 0 & 10.6247 & 3.9 & 15.21 & 12 & 0 & 0 & no \\\\\n",
       "\t7 & 0 & 10.4864 & 4.3 & 18.49 & 11 & 0 & 2 & no \\\\\n",
       "\t8 & 0 & 10.6606 & 4.5 & 20.25 & 11 & 0 & 2 & no \\\\\n",
       "\t9 & 0 & 10.4676 & 6.0 & 36.0 & 12 & 0 & 0 & no \\\\\n",
       "\t10 & 0 & 11.2296 & 3.3 & 10.89 & 11 & 2 & 0 & no \\\\\n",
       "\t11 & 0 & 11.9065 & 5.6 & 31.36 & 14 & 0 & 0 & no \\\\\n",
       "\t12 & 0 & 11.5016 & 5.6 & 31.36 & 11 & 0 & 0 & no \\\\\n",
       "\t13 & 0 & 11.2935 & 4.7 & 22.09 & 11 & 0 & 1 & no \\\\\n",
       "\t14 & 0 & 10.8613 & 5.0 & 25.0 & 8 & 0 & 0 & no \\\\\n",
       "\t15 & 0 & 11.0486 & 4.7 & 22.09 & 8 & 0 & 1 & no \\\\\n",
       "\t16 & 0 & 10.8601 & 2.9 & 8.41 & 19 & 0 & 0 & no \\\\\n",
       "\t17 & 0 & 10.8486 & 4.4 & 19.36 & 8 & 0 & 2 & no \\\\\n",
       "\t18 & 0 & 10.4824 & 2.0 & 4.0 & 12 & 1 & 0 & no \\\\\n",
       "\t19 & 0 & 10.5406 & 2.8 & 7.84 & 9 & 2 & 0 & no \\\\\n",
       "\t20 & 0 & 11.2243 & 4.7 & 22.09 & 8 & 0 & 1 & no \\\\\n",
       "\t21 & 0 & 10.5663 & 3.0 & 9.0 & 11 & 0 & 1 & no \\\\\n",
       "\t22 & 0 & 11.7696 & 5.1 & 26.01 & 11 & 0 & 0 & no \\\\\n",
       "\t23 & 0 & 10.6671 & 2.8 & 7.84 & 11 & 0 & 2 & no \\\\\n",
       "\t24 & 0 & 10.6246 & 5.4 & 29.16 & 11 & 0 & 0 & no \\\\\n",
       "\t25 & 0 & 10.5371 & 4.9 & 24.01 & 8 & 0 & 0 & no \\\\\n",
       "\t26 & 0 & 11.1356 & 5.3 & 28.09 & 10 & 0 & 0 & no \\\\\n",
       "\t27 & 0 & 10.3153 & 5.5 & 30.25 & 8 & 0 & 0 & no \\\\\n",
       "\t28 & 0 & 10.3727 & 2.4 & 5.76 & 11 & 1 & 0 & no \\\\\n",
       "\t29 & 0 & 11.5071 & 5.0 & 25.0 & 8 & 0 & 1 & no \\\\\n",
       "\t30 & 0 & 10.4529 & 2.3 & 5.29 & 9 & 1 & 0 & no \\\\\n",
       "\t$\\dots$ & $\\dots$ & $\\dots$ & $\\dots$ & $\\dots$ & $\\dots$ & $\\dots$ & $\\dots$ & $\\dots$ \\\\\n",
       "\\end{tabular}\n"
      ],
      "text/plain": [
       "\u001b[1m471×8 SubDataFrame\u001b[0m\n",
       "\u001b[1m Row \u001b[0m│\u001b[1m lfp   \u001b[0m\u001b[1m lnnlinc \u001b[0m\u001b[1m age     \u001b[0m\u001b[1m age²    \u001b[0m\u001b[1m educ  \u001b[0m\u001b[1m nyc   \u001b[0m\u001b[1m noc   \u001b[0m\u001b[1m foreign \u001b[0m\n",
       "     │\u001b[90m Int64 \u001b[0m\u001b[90m Float64 \u001b[0m\u001b[90m Float64 \u001b[0m\u001b[90m Float64 \u001b[0m\u001b[90m Int64 \u001b[0m\u001b[90m Int64 \u001b[0m\u001b[90m Int64 \u001b[0m\u001b[90m Cat…    \u001b[0m\n",
       "─────┼────────────────────────────────────────────────────────────────\n",
       "   1 │     0  10.7875      3.0     9.0       8      1      1  no\n",
       "   2 │     0  10.9686      4.6    21.16      9      0      0  no\n",
       "   3 │     0  11.105       3.1     9.61     11      2      0  no\n",
       "   4 │     0  11.1085      4.4    19.36     12      0      2  no\n",
       "   5 │     0  11.4547      5.1    26.01      8      0      0  no\n",
       "   6 │     0  10.6247      3.9    15.21     12      0      0  no\n",
       "   7 │     0  10.4864      4.3    18.49     11      0      2  no\n",
       "   8 │     0  10.6606      4.5    20.25     11      0      2  no\n",
       "   9 │     0  10.4676      6.0    36.0      12      0      0  no\n",
       "  10 │     0  11.2296      3.3    10.89     11      2      0  no\n",
       "  11 │     0  11.9065      5.6    31.36     14      0      0  no\n",
       "  ⋮  │   ⋮       ⋮        ⋮        ⋮       ⋮      ⋮      ⋮       ⋮\n",
       " 462 │     0  10.0104      5.7    32.49      6      0      1  yes\n",
       " 463 │     0  10.5593      3.2    10.24     12      1      0  yes\n",
       " 464 │     0  10.2158      2.5     6.25     11      1      0  yes\n",
       " 465 │     0  10.9458      3.3    10.89     14      0      2  yes\n",
       " 466 │     0  11.111       3.5    12.25     10      1      1  yes\n",
       " 467 │     0  10.4714      5.1    26.01      9      0      1  yes\n",
       " 468 │     0  10.1475      4.1    16.81      5      1      0  yes\n",
       " 469 │     0  10.5974      2.4     5.76      4      2      1  yes\n",
       " 470 │     0  10.1337      2.4     5.76      6      2      0  yes\n",
       " 471 │     0  11.2207      5.1    26.01     10      0      0  yes\n",
       "\u001b[36m                                                      450 rows omitted\u001b[0m"
      ]
     },
     "execution_count": 21,
     "metadata": {},
     "output_type": "execute_result"
    }
   ],
   "source": [
    "gd[(0,)]"
   ]
  },
  {
   "cell_type": "markdown",
   "id": "4d282c50",
   "metadata": {},
   "source": [
    "Before we move forward let us investigate why we have added a square of `:age` to our data frame.\n",
    "\n",
    "For this we use density plot from the [StatsPlots.jl](https://github.com/JuliaPlots/StatsPlots.jl) package. This package contains statistical recepies that extend the [Plots.jl](https://github.com/JuliaPlots/Plots.jl) functionality."
   ]
  },
  {
   "cell_type": "code",
   "execution_count": 22,
   "id": "04ce9ddd",
   "metadata": {},
   "outputs": [
    {
     "data": {
      "image/svg+xml": [
       "<?xml version=\"1.0\" encoding=\"utf-8\"?>\n",
       "<svg xmlns=\"http://www.w3.org/2000/svg\" xmlns:xlink=\"http://www.w3.org/1999/xlink\" width=\"600\" height=\"400\" viewBox=\"0 0 2400 1600\">\n",
       "<defs>\n",
       "  <clipPath id=\"clip410\">\n",
       "    <rect x=\"0\" y=\"0\" width=\"2400\" height=\"1600\"/>\n",
       "  </clipPath>\n",
       "</defs>\n",
       "<path clip-path=\"url(#clip410)\" d=\"M0 1600 L2400 1600 L2400 0 L0 0  Z\" fill=\"#ffffff\" fill-rule=\"evenodd\" fill-opacity=\"1\"/>\n",
       "<defs>\n",
       "  <clipPath id=\"clip411\">\n",
       "    <rect x=\"480\" y=\"0\" width=\"1681\" height=\"1600\"/>\n",
       "  </clipPath>\n",
       "</defs>\n",
       "<path clip-path=\"url(#clip410)\" d=\"M156.598 1486.45 L2352.76 1486.45 L2352.76 47.2441 L156.598 47.2441  Z\" fill=\"#ffffff\" fill-rule=\"evenodd\" fill-opacity=\"1\"/>\n",
       "<defs>\n",
       "  <clipPath id=\"clip412\">\n",
       "    <rect x=\"156\" y=\"47\" width=\"2197\" height=\"1440\"/>\n",
       "  </clipPath>\n",
       "</defs>\n",
       "<polyline clip-path=\"url(#clip412)\" style=\"stroke:#000000; stroke-linecap:round; stroke-linejoin:round; stroke-width:2; stroke-opacity:0.1; fill:none\" points=\"287.608,1486.45 287.608,47.2441 \"/>\n",
       "<polyline clip-path=\"url(#clip412)\" style=\"stroke:#000000; stroke-linecap:round; stroke-linejoin:round; stroke-width:2; stroke-opacity:0.1; fill:none\" points=\"599.566,1486.45 599.566,47.2441 \"/>\n",
       "<polyline clip-path=\"url(#clip412)\" style=\"stroke:#000000; stroke-linecap:round; stroke-linejoin:round; stroke-width:2; stroke-opacity:0.1; fill:none\" points=\"911.523,1486.45 911.523,47.2441 \"/>\n",
       "<polyline clip-path=\"url(#clip412)\" style=\"stroke:#000000; stroke-linecap:round; stroke-linejoin:round; stroke-width:2; stroke-opacity:0.1; fill:none\" points=\"1223.48,1486.45 1223.48,47.2441 \"/>\n",
       "<polyline clip-path=\"url(#clip412)\" style=\"stroke:#000000; stroke-linecap:round; stroke-linejoin:round; stroke-width:2; stroke-opacity:0.1; fill:none\" points=\"1535.44,1486.45 1535.44,47.2441 \"/>\n",
       "<polyline clip-path=\"url(#clip412)\" style=\"stroke:#000000; stroke-linecap:round; stroke-linejoin:round; stroke-width:2; stroke-opacity:0.1; fill:none\" points=\"1847.4,1486.45 1847.4,47.2441 \"/>\n",
       "<polyline clip-path=\"url(#clip412)\" style=\"stroke:#000000; stroke-linecap:round; stroke-linejoin:round; stroke-width:2; stroke-opacity:0.1; fill:none\" points=\"2159.35,1486.45 2159.35,47.2441 \"/>\n",
       "<polyline clip-path=\"url(#clip410)\" style=\"stroke:#000000; stroke-linecap:round; stroke-linejoin:round; stroke-width:4; stroke-opacity:1; fill:none\" points=\"156.598,1486.45 2352.76,1486.45 \"/>\n",
       "<polyline clip-path=\"url(#clip410)\" style=\"stroke:#000000; stroke-linecap:round; stroke-linejoin:round; stroke-width:4; stroke-opacity:1; fill:none\" points=\"287.608,1486.45 287.608,1467.55 \"/>\n",
       "<polyline clip-path=\"url(#clip410)\" style=\"stroke:#000000; stroke-linecap:round; stroke-linejoin:round; stroke-width:4; stroke-opacity:1; fill:none\" points=\"599.566,1486.45 599.566,1467.55 \"/>\n",
       "<polyline clip-path=\"url(#clip410)\" style=\"stroke:#000000; stroke-linecap:round; stroke-linejoin:round; stroke-width:4; stroke-opacity:1; fill:none\" points=\"911.523,1486.45 911.523,1467.55 \"/>\n",
       "<polyline clip-path=\"url(#clip410)\" style=\"stroke:#000000; stroke-linecap:round; stroke-linejoin:round; stroke-width:4; stroke-opacity:1; fill:none\" points=\"1223.48,1486.45 1223.48,1467.55 \"/>\n",
       "<polyline clip-path=\"url(#clip410)\" style=\"stroke:#000000; stroke-linecap:round; stroke-linejoin:round; stroke-width:4; stroke-opacity:1; fill:none\" points=\"1535.44,1486.45 1535.44,1467.55 \"/>\n",
       "<polyline clip-path=\"url(#clip410)\" style=\"stroke:#000000; stroke-linecap:round; stroke-linejoin:round; stroke-width:4; stroke-opacity:1; fill:none\" points=\"1847.4,1486.45 1847.4,1467.55 \"/>\n",
       "<polyline clip-path=\"url(#clip410)\" style=\"stroke:#000000; stroke-linecap:round; stroke-linejoin:round; stroke-width:4; stroke-opacity:1; fill:none\" points=\"2159.35,1486.45 2159.35,1467.55 \"/>\n",
       "<path clip-path=\"url(#clip410)\" d=\"M277.99 1544.91 L285.629 1544.91 L285.629 1518.55 L277.319 1520.21 L277.319 1515.95 L285.582 1514.29 L290.258 1514.29 L290.258 1544.91 L297.897 1544.91 L297.897 1548.85 L277.99 1548.85 L277.99 1544.91 Z\" fill=\"#000000\" fill-rule=\"evenodd\" fill-opacity=\"1\" /><path clip-path=\"url(#clip410)\" d=\"M594.219 1544.91 L610.538 1544.91 L610.538 1548.85 L588.594 1548.85 L588.594 1544.91 Q591.256 1542.16 595.839 1537.53 Q600.445 1532.88 601.626 1531.53 Q603.871 1529.01 604.751 1527.27 Q605.654 1525.51 605.654 1523.82 Q605.654 1521.07 603.709 1519.33 Q601.788 1517.6 598.686 1517.6 Q596.487 1517.6 594.033 1518.36 Q591.603 1519.13 588.825 1520.68 L588.825 1515.95 Q591.649 1514.82 594.103 1514.24 Q596.556 1513.66 598.593 1513.66 Q603.964 1513.66 607.158 1516.35 Q610.353 1519.03 610.353 1523.52 Q610.353 1525.65 609.543 1527.57 Q608.755 1529.47 606.649 1532.07 Q606.07 1532.74 602.968 1535.95 Q599.867 1539.15 594.219 1544.91 Z\" fill=\"#000000\" fill-rule=\"evenodd\" fill-opacity=\"1\" /><path clip-path=\"url(#clip410)\" d=\"M915.771 1530.21 Q919.128 1530.93 921.003 1533.2 Q922.901 1535.47 922.901 1538.8 Q922.901 1543.92 919.382 1546.72 Q915.864 1549.52 909.382 1549.52 Q907.206 1549.52 904.892 1549.08 Q902.6 1548.66 900.146 1547.81 L900.146 1543.29 Q902.091 1544.43 904.405 1545.01 Q906.72 1545.58 909.243 1545.58 Q913.642 1545.58 915.933 1543.85 Q918.248 1542.11 918.248 1538.8 Q918.248 1535.75 916.095 1534.03 Q913.966 1532.3 910.146 1532.3 L906.118 1532.3 L906.118 1528.45 L910.331 1528.45 Q913.78 1528.45 915.609 1527.09 Q917.438 1525.7 917.438 1523.11 Q917.438 1520.45 915.54 1519.03 Q913.665 1517.6 910.146 1517.6 Q908.225 1517.6 906.026 1518.01 Q903.827 1518.43 901.188 1519.31 L901.188 1515.14 Q903.85 1514.4 906.165 1514.03 Q908.503 1513.66 910.563 1513.66 Q915.887 1513.66 918.989 1516.09 Q922.091 1518.5 922.091 1522.62 Q922.091 1525.49 920.447 1527.48 Q918.804 1529.45 915.771 1530.21 Z\" fill=\"#000000\" fill-rule=\"evenodd\" fill-opacity=\"1\" /><path clip-path=\"url(#clip410)\" d=\"M1226.49 1518.36 L1214.69 1536.81 L1226.49 1536.81 L1226.49 1518.36 M1225.26 1514.29 L1231.14 1514.29 L1231.14 1536.81 L1236.07 1536.81 L1236.07 1540.7 L1231.14 1540.7 L1231.14 1548.85 L1226.49 1548.85 L1226.49 1540.7 L1210.89 1540.7 L1210.89 1536.19 L1225.26 1514.29 Z\" fill=\"#000000\" fill-rule=\"evenodd\" fill-opacity=\"1\" /><path clip-path=\"url(#clip410)\" d=\"M1525.72 1514.29 L1544.07 1514.29 L1544.07 1518.22 L1530 1518.22 L1530 1526.7 Q1531.02 1526.35 1532.04 1526.19 Q1533.05 1526 1534.07 1526 Q1539.86 1526 1543.24 1529.17 Q1546.62 1532.34 1546.62 1537.76 Q1546.62 1543.34 1543.15 1546.44 Q1539.68 1549.52 1533.36 1549.52 Q1531.18 1549.52 1528.91 1549.15 Q1526.67 1548.78 1524.26 1548.04 L1524.26 1543.34 Q1526.34 1544.47 1528.56 1545.03 Q1530.79 1545.58 1533.26 1545.58 Q1537.27 1545.58 1539.61 1543.48 Q1541.94 1541.37 1541.94 1537.76 Q1541.94 1534.15 1539.61 1532.04 Q1537.27 1529.94 1533.26 1529.94 Q1531.39 1529.94 1529.51 1530.35 Q1527.66 1530.77 1525.72 1531.65 L1525.72 1514.29 Z\" fill=\"#000000\" fill-rule=\"evenodd\" fill-opacity=\"1\" /><path clip-path=\"url(#clip410)\" d=\"M1847.8 1529.7 Q1844.65 1529.7 1842.8 1531.86 Q1840.97 1534.01 1840.97 1537.76 Q1840.97 1541.49 1842.8 1543.66 Q1844.65 1545.82 1847.8 1545.82 Q1850.95 1545.82 1852.78 1543.66 Q1854.63 1541.49 1854.63 1537.76 Q1854.63 1534.01 1852.78 1531.86 Q1850.95 1529.7 1847.8 1529.7 M1857.08 1515.05 L1857.08 1519.31 Q1855.33 1518.48 1853.52 1518.04 Q1851.74 1517.6 1849.98 1517.6 Q1845.35 1517.6 1842.89 1520.72 Q1840.46 1523.85 1840.12 1530.17 Q1841.48 1528.15 1843.54 1527.09 Q1845.6 1526 1848.08 1526 Q1853.29 1526 1856.3 1529.17 Q1859.33 1532.32 1859.33 1537.76 Q1859.33 1543.08 1856.18 1546.3 Q1853.03 1549.52 1847.8 1549.52 Q1841.81 1549.52 1838.64 1544.94 Q1835.46 1540.33 1835.46 1531.6 Q1835.46 1523.41 1839.35 1518.55 Q1843.24 1513.66 1849.79 1513.66 Q1851.55 1513.66 1853.33 1514.01 Q1855.14 1514.36 1857.08 1515.05 Z\" fill=\"#000000\" fill-rule=\"evenodd\" fill-opacity=\"1\" /><path clip-path=\"url(#clip410)\" d=\"M2148.24 1514.29 L2170.47 1514.29 L2170.47 1516.28 L2157.92 1548.85 L2153.04 1548.85 L2164.84 1518.22 L2148.24 1518.22 L2148.24 1514.29 Z\" fill=\"#000000\" fill-rule=\"evenodd\" fill-opacity=\"1\" /><polyline clip-path=\"url(#clip412)\" style=\"stroke:#000000; stroke-linecap:round; stroke-linejoin:round; stroke-width:2; stroke-opacity:0.1; fill:none\" points=\"156.598,1445.73 2352.76,1445.73 \"/>\n",
       "<polyline clip-path=\"url(#clip412)\" style=\"stroke:#000000; stroke-linecap:round; stroke-linejoin:round; stroke-width:2; stroke-opacity:0.1; fill:none\" points=\"156.598,1113.64 2352.76,1113.64 \"/>\n",
       "<polyline clip-path=\"url(#clip412)\" style=\"stroke:#000000; stroke-linecap:round; stroke-linejoin:round; stroke-width:2; stroke-opacity:0.1; fill:none\" points=\"156.598,781.543 2352.76,781.543 \"/>\n",
       "<polyline clip-path=\"url(#clip412)\" style=\"stroke:#000000; stroke-linecap:round; stroke-linejoin:round; stroke-width:2; stroke-opacity:0.1; fill:none\" points=\"156.598,449.448 2352.76,449.448 \"/>\n",
       "<polyline clip-path=\"url(#clip412)\" style=\"stroke:#000000; stroke-linecap:round; stroke-linejoin:round; stroke-width:2; stroke-opacity:0.1; fill:none\" points=\"156.598,117.352 2352.76,117.352 \"/>\n",
       "<polyline clip-path=\"url(#clip410)\" style=\"stroke:#000000; stroke-linecap:round; stroke-linejoin:round; stroke-width:4; stroke-opacity:1; fill:none\" points=\"156.598,1486.45 156.598,47.2441 \"/>\n",
       "<polyline clip-path=\"url(#clip410)\" style=\"stroke:#000000; stroke-linecap:round; stroke-linejoin:round; stroke-width:4; stroke-opacity:1; fill:none\" points=\"156.598,1445.73 175.496,1445.73 \"/>\n",
       "<polyline clip-path=\"url(#clip410)\" style=\"stroke:#000000; stroke-linecap:round; stroke-linejoin:round; stroke-width:4; stroke-opacity:1; fill:none\" points=\"156.598,1113.64 175.496,1113.64 \"/>\n",
       "<polyline clip-path=\"url(#clip410)\" style=\"stroke:#000000; stroke-linecap:round; stroke-linejoin:round; stroke-width:4; stroke-opacity:1; fill:none\" points=\"156.598,781.543 175.496,781.543 \"/>\n",
       "<polyline clip-path=\"url(#clip410)\" style=\"stroke:#000000; stroke-linecap:round; stroke-linejoin:round; stroke-width:4; stroke-opacity:1; fill:none\" points=\"156.598,449.448 175.496,449.448 \"/>\n",
       "<polyline clip-path=\"url(#clip410)\" style=\"stroke:#000000; stroke-linecap:round; stroke-linejoin:round; stroke-width:4; stroke-opacity:1; fill:none\" points=\"156.598,117.352 175.496,117.352 \"/>\n",
       "<path clip-path=\"url(#clip410)\" d=\"M63.4226 1431.53 Q59.8115 1431.53 57.9828 1435.1 Q56.1773 1438.64 56.1773 1445.77 Q56.1773 1452.87 57.9828 1456.44 Q59.8115 1459.98 63.4226 1459.98 Q67.0569 1459.98 68.8624 1456.44 Q70.6911 1452.87 70.6911 1445.77 Q70.6911 1438.64 68.8624 1435.1 Q67.0569 1431.53 63.4226 1431.53 M63.4226 1427.83 Q69.2328 1427.83 72.2883 1432.44 Q75.367 1437.02 75.367 1445.77 Q75.367 1454.5 72.2883 1459.1 Q69.2328 1463.68 63.4226 1463.68 Q57.6125 1463.68 54.5338 1459.1 Q51.4782 1454.5 51.4782 1445.77 Q51.4782 1437.02 54.5338 1432.44 Q57.6125 1427.83 63.4226 1427.83 Z\" fill=\"#000000\" fill-rule=\"evenodd\" fill-opacity=\"1\" /><path clip-path=\"url(#clip410)\" d=\"M83.5845 1457.13 L88.4688 1457.13 L88.4688 1463.01 L83.5845 1463.01 L83.5845 1457.13 Z\" fill=\"#000000\" fill-rule=\"evenodd\" fill-opacity=\"1\" /><path clip-path=\"url(#clip410)\" d=\"M108.654 1431.53 Q105.043 1431.53 103.214 1435.1 Q101.409 1438.64 101.409 1445.77 Q101.409 1452.87 103.214 1456.44 Q105.043 1459.98 108.654 1459.98 Q112.288 1459.98 114.094 1456.44 Q115.922 1452.87 115.922 1445.77 Q115.922 1438.64 114.094 1435.1 Q112.288 1431.53 108.654 1431.53 M108.654 1427.83 Q114.464 1427.83 117.52 1432.44 Q120.598 1437.02 120.598 1445.77 Q120.598 1454.5 117.52 1459.1 Q114.464 1463.68 108.654 1463.68 Q102.844 1463.68 99.765 1459.1 Q96.7095 1454.5 96.7095 1445.77 Q96.7095 1437.02 99.765 1432.44 Q102.844 1427.83 108.654 1427.83 Z\" fill=\"#000000\" fill-rule=\"evenodd\" fill-opacity=\"1\" /><path clip-path=\"url(#clip410)\" d=\"M64.6495 1099.44 Q61.0384 1099.44 59.2097 1103 Q57.4041 1106.54 57.4041 1113.67 Q57.4041 1120.78 59.2097 1124.34 Q61.0384 1127.89 64.6495 1127.89 Q68.2837 1127.89 70.0892 1124.34 Q71.9179 1120.78 71.9179 1113.67 Q71.9179 1106.54 70.0892 1103 Q68.2837 1099.44 64.6495 1099.44 M64.6495 1095.73 Q70.4596 1095.73 73.5152 1100.34 Q76.5938 1104.92 76.5938 1113.67 Q76.5938 1122.4 73.5152 1127.01 Q70.4596 1131.59 64.6495 1131.59 Q58.8393 1131.59 55.7606 1127.01 Q52.7051 1122.4 52.7051 1113.67 Q52.7051 1104.92 55.7606 1100.34 Q58.8393 1095.73 64.6495 1095.73 Z\" fill=\"#000000\" fill-rule=\"evenodd\" fill-opacity=\"1\" /><path clip-path=\"url(#clip410)\" d=\"M84.8114 1125.04 L89.6956 1125.04 L89.6956 1130.92 L84.8114 1130.92 L84.8114 1125.04 Z\" fill=\"#000000\" fill-rule=\"evenodd\" fill-opacity=\"1\" /><path clip-path=\"url(#clip410)\" d=\"M100.691 1126.98 L108.33 1126.98 L108.33 1100.62 L100.02 1102.28 L100.02 1098.03 L108.283 1096.36 L112.959 1096.36 L112.959 1126.98 L120.598 1126.98 L120.598 1130.92 L100.691 1130.92 L100.691 1126.98 Z\" fill=\"#000000\" fill-rule=\"evenodd\" fill-opacity=\"1\" /><path clip-path=\"url(#clip410)\" d=\"M65.0198 767.342 Q61.4087 767.342 59.58 770.907 Q57.7745 774.448 57.7745 781.578 Q57.7745 788.684 59.58 792.249 Q61.4087 795.791 65.0198 795.791 Q68.6541 795.791 70.4596 792.249 Q72.2883 788.684 72.2883 781.578 Q72.2883 774.448 70.4596 770.907 Q68.6541 767.342 65.0198 767.342 M65.0198 763.638 Q70.83 763.638 73.8855 768.245 Q76.9642 772.828 76.9642 781.578 Q76.9642 790.305 73.8855 794.911 Q70.83 799.494 65.0198 799.494 Q59.2097 799.494 56.131 794.911 Q53.0754 790.305 53.0754 781.578 Q53.0754 772.828 56.131 768.245 Q59.2097 763.638 65.0198 763.638 Z\" fill=\"#000000\" fill-rule=\"evenodd\" fill-opacity=\"1\" /><path clip-path=\"url(#clip410)\" d=\"M85.1818 792.943 L90.066 792.943 L90.066 798.823 L85.1818 798.823 L85.1818 792.943 Z\" fill=\"#000000\" fill-rule=\"evenodd\" fill-opacity=\"1\" /><path clip-path=\"url(#clip410)\" d=\"M104.279 794.888 L120.598 794.888 L120.598 798.823 L98.6539 798.823 L98.6539 794.888 Q101.316 792.133 105.899 787.504 Q110.506 782.851 111.686 781.508 Q113.932 778.985 114.811 777.249 Q115.714 775.49 115.714 773.8 Q115.714 771.045 113.77 769.309 Q111.848 767.573 108.746 767.573 Q106.547 767.573 104.094 768.337 Q101.663 769.101 98.8854 770.652 L98.8854 765.93 Q101.709 764.795 104.163 764.217 Q106.617 763.638 108.654 763.638 Q114.024 763.638 117.219 766.323 Q120.413 769.008 120.413 773.499 Q120.413 775.629 119.603 777.55 Q118.816 779.448 116.709 782.041 Q116.131 782.712 113.029 785.93 Q109.927 789.124 104.279 794.888 Z\" fill=\"#000000\" fill-rule=\"evenodd\" fill-opacity=\"1\" /><path clip-path=\"url(#clip410)\" d=\"M64.0708 435.246 Q60.4597 435.246 58.631 438.811 Q56.8254 442.353 56.8254 449.482 Q56.8254 456.589 58.631 460.154 Q60.4597 463.695 64.0708 463.695 Q67.705 463.695 69.5105 460.154 Q71.3392 456.589 71.3392 449.482 Q71.3392 442.353 69.5105 438.811 Q67.705 435.246 64.0708 435.246 M64.0708 431.543 Q69.8809 431.543 72.9365 436.149 Q76.0151 440.733 76.0151 449.482 Q76.0151 458.209 72.9365 462.816 Q69.8809 467.399 64.0708 467.399 Q58.2606 467.399 55.1819 462.816 Q52.1264 458.209 52.1264 449.482 Q52.1264 440.733 55.1819 436.149 Q58.2606 431.543 64.0708 431.543 Z\" fill=\"#000000\" fill-rule=\"evenodd\" fill-opacity=\"1\" /><path clip-path=\"url(#clip410)\" d=\"M84.2327 460.848 L89.1169 460.848 L89.1169 466.728 L84.2327 466.728 L84.2327 460.848 Z\" fill=\"#000000\" fill-rule=\"evenodd\" fill-opacity=\"1\" /><path clip-path=\"url(#clip410)\" d=\"M113.469 448.094 Q116.825 448.811 118.7 451.08 Q120.598 453.348 120.598 456.682 Q120.598 461.797 117.08 464.598 Q113.561 467.399 107.08 467.399 Q104.904 467.399 102.589 466.959 Q100.297 466.543 97.8437 465.686 L97.8437 461.172 Q99.7882 462.307 102.103 462.885 Q104.418 463.464 106.941 463.464 Q111.339 463.464 113.631 461.728 Q115.945 459.992 115.945 456.682 Q115.945 453.626 113.793 451.913 Q111.663 450.177 107.844 450.177 L103.816 450.177 L103.816 446.334 L108.029 446.334 Q111.478 446.334 113.307 444.969 Q115.135 443.58 115.135 440.987 Q115.135 438.325 113.237 436.913 Q111.362 435.478 107.844 435.478 Q105.922 435.478 103.723 435.895 Q101.524 436.311 98.8854 437.191 L98.8854 433.024 Q101.547 432.284 103.862 431.913 Q106.2 431.543 108.26 431.543 Q113.584 431.543 116.686 433.973 Q119.788 436.381 119.788 440.501 Q119.788 443.371 118.145 445.362 Q116.501 447.33 113.469 448.094 Z\" fill=\"#000000\" fill-rule=\"evenodd\" fill-opacity=\"1\" /><path clip-path=\"url(#clip410)\" d=\"M62.9365 103.151 Q59.3254 103.151 57.4967 106.716 Q55.6912 110.258 55.6912 117.387 Q55.6912 124.494 57.4967 128.058 Q59.3254 131.6 62.9365 131.6 Q66.5707 131.6 68.3763 128.058 Q70.205 124.494 70.205 117.387 Q70.205 110.258 68.3763 106.716 Q66.5707 103.151 62.9365 103.151 M62.9365 99.4475 Q68.7467 99.4475 71.8022 104.054 Q74.8809 108.637 74.8809 117.387 Q74.8809 126.114 71.8022 130.72 Q68.7467 135.304 62.9365 135.304 Q57.1264 135.304 54.0477 130.72 Q50.9921 126.114 50.9921 117.387 Q50.9921 108.637 54.0477 104.054 Q57.1264 99.4475 62.9365 99.4475 Z\" fill=\"#000000\" fill-rule=\"evenodd\" fill-opacity=\"1\" /><path clip-path=\"url(#clip410)\" d=\"M83.0984 128.753 L87.9827 128.753 L87.9827 134.632 L83.0984 134.632 L83.0984 128.753 Z\" fill=\"#000000\" fill-rule=\"evenodd\" fill-opacity=\"1\" /><path clip-path=\"url(#clip410)\" d=\"M111.015 104.147 L99.2095 122.596 L111.015 122.596 L111.015 104.147 M109.788 100.072 L115.668 100.072 L115.668 122.596 L120.598 122.596 L120.598 126.484 L115.668 126.484 L115.668 134.632 L111.015 134.632 L111.015 126.484 L95.4132 126.484 L95.4132 121.971 L109.788 100.072 Z\" fill=\"#000000\" fill-rule=\"evenodd\" fill-opacity=\"1\" /><polyline clip-path=\"url(#clip412)\" style=\"stroke:#009af9; stroke-linecap:round; stroke-linejoin:round; stroke-width:4; stroke-opacity:1; fill:none\" points=\"218.754,1445.7 229.165,1445.7 239.576,1445.68 249.988,1445.66 260.399,1445.63 270.81,1445.57 281.221,1445.5 291.633,1445.39 302.044,1445.24 312.455,1445.02 322.867,1444.73 333.278,1444.32 343.689,1443.78 354.1,1443.05 364.512,1442.1 374.923,1440.85 385.334,1439.24 395.746,1437.19 406.157,1434.61 416.568,1431.39 426.979,1427.42 437.391,1422.58 447.802,1416.74 458.213,1409.76 468.625,1401.52 479.036,1391.88 489.447,1380.74 499.858,1367.98 510.27,1353.51 520.681,1337.28 531.092,1319.24 541.504,1299.39 551.915,1277.76 562.326,1254.42 572.738,1229.45 583.149,1202.98 593.56,1175.19 603.971,1146.26 614.383,1116.39 624.794,1085.81 635.205,1054.76 645.617,1023.45 656.028,992.123 666.439,960.983 676.85,930.222 687.262,900.006 697.673,870.475 708.084,841.737 718.496,813.872 728.907,786.935 739.318,760.955 749.729,735.943 760.141,711.899 770.552,688.814 780.963,666.681 791.375,645.498 801.786,625.274 812.197,606.033 822.609,587.815 833.02,570.679 843.431,554.699 853.842,539.966 864.254,526.582 874.665,514.654 885.076,504.294 895.488,495.609 905.899,488.695 916.31,483.637 926.721,480.496 937.133,479.308 947.544,480.08 957.955,482.783 968.367,487.355 978.778,493.693 989.189,501.658 999.6,511.075 1010.01,521.735 1020.42,533.404 1030.83,545.822 1041.25,558.721 1051.66,571.823 1062.07,584.858 1072.48,597.571 1082.89,609.728 1093.3,621.129 1103.71,631.61 1114.12,641.049 1124.54,649.369 1134.95,656.533 1145.36,662.548 1155.77,667.452 1166.18,671.312 1176.59,674.214 1187,676.256 1197.41,677.537 1207.83,678.153 1218.24,678.191 1228.65,677.722 1239.06,676.803 1249.47,675.473 1259.88,673.762 1270.29,671.685 1280.71,669.253 1291.12,666.479 1301.53,663.374 1311.94,659.963 1322.35,656.276 1332.76,652.362 1343.17,648.278 1353.58,644.098 1364,639.905 1374.41,635.79 1384.82,631.852 1395.23,628.188 1405.64,624.896 1416.05,622.066 1426.46,619.78 1436.87,618.109 1447.29,617.107 1457.7,616.814 1468.11,617.248 1478.52,618.408 1488.93,620.271 1499.34,622.791 1509.75,625.899 1520.16,629.506 1530.58,633.501 1540.99,637.758 1551.4,642.137 1561.81,646.495 1572.22,650.688 1582.63,654.583 1593.04,658.066 1603.46,661.05 1613.87,663.483 1624.28,665.359 1634.69,666.718 1645.1,667.652 1655.51,668.305 1665.92,668.871 1676.33,669.586 1686.75,670.722 1697.16,672.579 1707.57,675.467 1717.98,679.701 1728.39,685.58 1738.8,693.381 1749.21,703.345 1759.62,715.665 1770.04,730.482 1780.45,747.874 1790.86,767.857 1801.27,790.381 1811.68,815.332 1822.09,842.534 1832.5,871.757 1842.91,902.718 1853.33,935.097 1863.74,968.538 1874.15,1002.67 1884.56,1037.1 1894.97,1071.44 1905.38,1105.32 1915.79,1138.39 1926.21,1170.32 1936.62,1200.82 1947.03,1229.65 1957.44,1256.61 1967.85,1281.57 1978.26,1304.43 1988.67,1325.13 1999.08,1343.7 2009.5,1360.17 2019.91,1374.63 2030.32,1387.18 2040.73,1397.96 2051.14,1407.12 2061.55,1414.82 2071.96,1421.23 2082.37,1426.49 2092.79,1430.77 2103.2,1434.22 2113.61,1436.96 2124.02,1439.11 2134.43,1440.79 2144.84,1442.08 2155.25,1443.06 2165.67,1443.8 2176.08,1444.35 2186.49,1444.75 2196.9,1445.04 2207.31,1445.26 2217.72,1445.41 2228.13,1445.51 2238.54,1445.58 2248.96,1445.63 2259.37,1445.67 2269.78,1445.69 2280.19,1445.7 2290.6,1445.7 \"/>\n",
       "<polyline clip-path=\"url(#clip412)\" style=\"stroke:#e26f46; stroke-linecap:round; stroke-linejoin:round; stroke-width:4; stroke-opacity:1; fill:none\" points=\"296.284,1445.71 305.76,1445.69 315.235,1445.67 324.71,1445.63 334.186,1445.57 343.661,1445.48 353.136,1445.34 362.611,1445.14 372.087,1444.85 381.562,1444.43 391.037,1443.85 400.513,1443.04 409.988,1441.94 419.463,1440.48 428.939,1438.54 438.414,1436.04 447.889,1432.85 457.365,1428.85 466.84,1423.92 476.315,1417.94 485.791,1410.81 495.266,1402.43 504.741,1392.76 514.217,1381.77 523.692,1369.5 533.167,1356 542.643,1341.39 552.118,1325.82 561.593,1309.47 571.069,1292.52 580.544,1275.16 590.019,1257.57 599.495,1239.86 608.97,1222.13 618.445,1204.37 627.921,1186.54 637.396,1168.5 646.871,1150.06 656.347,1131.02 665.822,1111.12 675.297,1090.16 684.773,1067.94 694.248,1044.38 703.723,1019.45 713.199,993.262 722.674,966.021 732.149,938.047 741.625,909.743 751.1,881.569 760.575,854.007 770.051,827.515 779.526,802.49 789.001,779.231 798.477,757.905 807.952,738.53 817.427,720.972 826.902,704.947 836.378,690.039 845.853,675.738 855.328,661.469 864.804,646.639 874.279,630.681 883.754,613.089 893.23,593.457 902.705,571.504 912.18,547.089 921.656,520.218 931.131,491.042 940.606,459.842 950.082,427.018 959.557,393.06 969.032,358.526 978.508,324.015 987.983,290.142 997.458,257.51 1006.93,226.693 1016.41,198.208 1025.88,172.505 1035.36,149.946 1044.83,130.794 1054.31,115.211 1063.79,103.245 1073.26,94.8403 1082.74,89.835 1092.21,87.9763 1101.69,88.9329 1111.16,92.3134 1120.64,97.6866 1130.11,104.603 1139.59,112.615 1149.06,121.299 1158.54,130.267 1168.01,139.187 1177.49,147.782 1186.96,155.846 1196.44,163.238 1205.92,169.881 1215.39,175.764 1224.87,180.929 1234.34,185.474 1243.82,189.539 1253.29,193.304 1262.77,196.982 1272.24,200.81 1281.72,205.042 1291.19,209.942 1300.67,215.77 1310.14,222.771 1319.62,231.168 1329.09,241.146 1338.57,252.843 1348.05,266.345 1357.52,281.681 1367,298.821 1376.47,317.685 1385.95,338.145 1395.42,360.042 1404.9,383.197 1414.37,407.426 1423.85,432.552 1433.32,458.421 1442.8,484.903 1452.27,511.9 1461.75,539.345 1471.22,567.192 1480.7,595.414 1490.18,623.989 1499.65,652.885 1509.13,682.053 1518.6,711.414 1528.08,740.855 1537.55,770.22 1547.03,799.319 1556.5,827.927 1565.98,855.796 1575.45,882.667 1584.93,908.287 1594.4,932.42 1603.88,954.866 1613.35,975.475 1622.83,994.156 1632.31,1010.88 1641.78,1025.7 1651.26,1038.72 1660.73,1050.12 1670.21,1060.13 1679.68,1069.03 1689.16,1077.1 1698.63,1084.68 1708.11,1092.08 1717.58,1099.59 1727.06,1107.52 1736.53,1116.08 1746.01,1125.49 1755.48,1135.89 1764.96,1147.35 1774.44,1159.92 1783.91,1173.57 1793.39,1188.21 1802.86,1203.71 1812.34,1219.91 1821.81,1236.6 1831.29,1253.57 1840.76,1270.58 1850.24,1287.41 1859.71,1303.83 1869.19,1319.65 1878.66,1334.71 1888.14,1348.84 1897.61,1361.95 1907.09,1373.97 1916.57,1384.84 1926.04,1394.57 1935.52,1403.16 1944.99,1410.67 1954.47,1417.14 1963.94,1422.67 1973.42,1427.32 1982.89,1431.19 1992.37,1434.38 2001.84,1436.96 2011.32,1439.04 2020.79,1440.68 2030.27,1441.97 2039.74,1442.96 2049.22,1443.71 2058.69,1444.28 2068.17,1444.7 2077.65,1445.01 2087.12,1445.23 2096.6,1445.39 2106.07,1445.5 2115.55,1445.58 2125.02,1445.63 2134.5,1445.67 2143.97,1445.69 2153.45,1445.71 2162.92,1445.71 2172.4,1445.72 2181.87,1445.71 \"/>\n",
       "<path clip-path=\"url(#clip410)\" d=\"M2036.05 250.738 L2279.55 250.738 L2279.55 95.2176 L2036.05 95.2176  Z\" fill=\"#ffffff\" fill-rule=\"evenodd\" fill-opacity=\"1\"/>\n",
       "<polyline clip-path=\"url(#clip410)\" style=\"stroke:#000000; stroke-linecap:round; stroke-linejoin:round; stroke-width:4; stroke-opacity:1; fill:none\" points=\"2036.05,250.738 2279.55,250.738 2279.55,95.2176 2036.05,95.2176 2036.05,250.738 \"/>\n",
       "<polyline clip-path=\"url(#clip410)\" style=\"stroke:#009af9; stroke-linecap:round; stroke-linejoin:round; stroke-width:4; stroke-opacity:1; fill:none\" points=\"2060.45,147.058 2206.86,147.058 \"/>\n",
       "<path clip-path=\"url(#clip410)\" d=\"M2243.2 132.856 Q2239.59 132.856 2237.76 136.421 Q2235.96 139.963 2235.96 147.092 Q2235.96 154.199 2237.76 157.764 Q2239.59 161.305 2243.2 161.305 Q2246.84 161.305 2248.64 157.764 Q2250.47 154.199 2250.47 147.092 Q2250.47 139.963 2248.64 136.421 Q2246.84 132.856 2243.2 132.856 M2243.2 129.153 Q2249.01 129.153 2252.07 133.759 Q2255.15 138.342 2255.15 147.092 Q2255.15 155.819 2252.07 160.426 Q2249.01 165.009 2243.2 165.009 Q2237.39 165.009 2234.32 160.426 Q2231.26 155.819 2231.26 147.092 Q2231.26 138.342 2234.32 133.759 Q2237.39 129.153 2243.2 129.153 Z\" fill=\"#000000\" fill-rule=\"evenodd\" fill-opacity=\"1\" /><polyline clip-path=\"url(#clip410)\" style=\"stroke:#e26f46; stroke-linecap:round; stroke-linejoin:round; stroke-width:4; stroke-opacity:1; fill:none\" points=\"2060.45,198.898 2206.86,198.898 \"/>\n",
       "<path clip-path=\"url(#clip410)\" d=\"M2231.93 212.242 L2239.57 212.242 L2239.57 185.877 L2231.26 187.543 L2231.26 183.284 L2239.52 181.618 L2244.2 181.618 L2244.2 212.242 L2251.84 212.242 L2251.84 216.178 L2231.93 216.178 L2231.93 212.242 Z\" fill=\"#000000\" fill-rule=\"evenodd\" fill-opacity=\"1\" /></svg>\n"
      ]
     },
     "execution_count": 22,
     "metadata": {},
     "output_type": "execute_result"
    }
   ],
   "source": [
    "@df df density(:age, group=:lfp)"
   ]
  },
  {
   "cell_type": "markdown",
   "id": "d5ec446e",
   "metadata": {},
   "source": [
    "## Building a predictive model"
   ]
  },
  {
   "cell_type": "markdown",
   "id": "9564c27e",
   "metadata": {},
   "source": [
    "Now we are ready to create the probit model using the [GLM.jl](https://github.com/JuliaStats/GLM.jl) package:"
   ]
  },
  {
   "cell_type": "code",
   "execution_count": 23,
   "id": "f3ab9ac4",
   "metadata": {},
   "outputs": [
    {
     "data": {
      "text/plain": [
       "StatsModels.TableRegressionModel{GeneralizedLinearModel{GLM.GlmResp{Vector{Float64}, Binomial{Float64}, ProbitLink}, GLM.DensePredChol{Float64, LinearAlgebra.CholeskyPivoted{Float64, Matrix{Float64}, Vector{Int64}}}}, Matrix{Float64}}\n",
       "\n",
       "lfp ~ 1 + lnnlinc + age + age² + educ + nyc + noc + foreign\n",
       "\n",
       "Coefficients:\n",
       "────────────────────────────────────────────────────────────────────────────\n",
       "                   Coef.  Std. Error      z  Pr(>|z|)  Lower 95%   Upper 95%\n",
       "────────────────────────────────────────────────────────────────────────────\n",
       "(Intercept)    3.74896     1.40663     2.67    0.0077   0.992006   6.50591\n",
       "lnnlinc       -0.666932    0.13192    -5.06    <1e-06  -0.92549   -0.408374\n",
       "age            2.07531     0.405407    5.12    <1e-06   1.28073    2.86989\n",
       "age²          -0.294345    0.0499446  -5.89    <1e-08  -0.392235  -0.196456\n",
       "educ           0.0191963   0.0179255   1.07    0.2842  -0.015937   0.0543295\n",
       "nyc           -0.714465    0.100397   -7.12    <1e-11  -0.911238  -0.517691\n",
       "noc           -0.146985    0.0508854  -2.89    0.0039  -0.246718  -0.0472509\n",
       "foreign: yes   0.71438     0.121324    5.89    <1e-08   0.476589   0.95217\n",
       "────────────────────────────────────────────────────────────────────────────"
      ]
     },
     "execution_count": 23,
     "metadata": {},
     "output_type": "execute_result"
    }
   ],
   "source": [
    "probit = glm(@formula(lfp ~ lnnlinc + age + age² + educ + nyc + noc + foreign),\n",
    "             df, Binomial(), ProbitLink())"
   ]
  },
  {
   "cell_type": "markdown",
   "id": "68d6a9cb",
   "metadata": {},
   "source": [
    "In the example above we have entered the `@formula` by hand. However, it can be also programmatically generated like this:"
   ]
  },
  {
   "cell_type": "code",
   "execution_count": 24,
   "id": "950d7378",
   "metadata": {},
   "outputs": [
    {
     "data": {
      "text/plain": [
       "StatsModels.TableRegressionModel{GeneralizedLinearModel{GLM.GlmResp{Vector{Float64}, Binomial{Float64}, ProbitLink}, GLM.DensePredChol{Float64, LinearAlgebra.CholeskyPivoted{Float64, Matrix{Float64}, Vector{Int64}}}}, Matrix{Float64}}\n",
       "\n",
       "lfp ~ 1 + lnnlinc + age + age² + educ + nyc + noc + foreign\n",
       "\n",
       "Coefficients:\n",
       "────────────────────────────────────────────────────────────────────────────\n",
       "                   Coef.  Std. Error      z  Pr(>|z|)  Lower 95%   Upper 95%\n",
       "────────────────────────────────────────────────────────────────────────────\n",
       "(Intercept)    3.74896     1.40663     2.67    0.0077   0.992006   6.50591\n",
       "lnnlinc       -0.666932    0.13192    -5.06    <1e-06  -0.92549   -0.408374\n",
       "age            2.07531     0.405407    5.12    <1e-06   1.28073    2.86989\n",
       "age²          -0.294345    0.0499446  -5.89    <1e-08  -0.392235  -0.196456\n",
       "educ           0.0191963   0.0179255   1.07    0.2842  -0.015937   0.0543295\n",
       "nyc           -0.714465    0.100397   -7.12    <1e-11  -0.911238  -0.517691\n",
       "noc           -0.146985    0.0508854  -2.89    0.0039  -0.246718  -0.0472509\n",
       "foreign: yes   0.71438     0.121324    5.89    <1e-08   0.476589   0.95217\n",
       "────────────────────────────────────────────────────────────────────────────"
      ]
     },
     "execution_count": 24,
     "metadata": {},
     "output_type": "execute_result"
    }
   ],
   "source": [
    "probit = glm(Term(:lfp) ~ sum(Term.(propertynames(df)[2:end])),\n",
    "             df, Binomial(), ProbitLink())"
   ]
  },
  {
   "cell_type": "markdown",
   "id": "572cd1e7",
   "metadata": {},
   "source": [
    "Note the following:"
   ]
  },
  {
   "cell_type": "code",
   "execution_count": 25,
   "id": "524621c0",
   "metadata": {},
   "outputs": [
    {
     "data": {
      "text/plain": [
       "FormulaTerm\n",
       "Response:\n",
       "  lfp(unknown)\n",
       "Predictors:\n",
       "  lnnlinc(unknown)\n",
       "  age(unknown)\n",
       "  age²(unknown)\n",
       "  educ(unknown)\n",
       "  nyc(unknown)\n",
       "  noc(unknown)\n",
       "  foreign(unknown)"
      ]
     },
     "execution_count": 25,
     "metadata": {},
     "output_type": "execute_result"
    }
   ],
   "source": [
    "Term(:lfp) ~ sum(Term.(propertynames(df)[2:end]))"
   ]
  },
  {
   "cell_type": "markdown",
   "id": "646e96aa",
   "metadata": {},
   "source": [
    "vs."
   ]
  },
  {
   "cell_type": "code",
   "execution_count": 26,
   "id": "853199f3",
   "metadata": {},
   "outputs": [
    {
     "data": {
      "text/plain": [
       "FormulaTerm\n",
       "Response:\n",
       "  lfp(unknown)\n",
       "Predictors:\n",
       "  lnnlinc(unknown)\n",
       "  age(unknown)\n",
       "  age²(unknown)\n",
       "  educ(unknown)\n",
       "  nyc(unknown)\n",
       "  noc(unknown)\n",
       "  foreign(unknown)"
      ]
     },
     "execution_count": 26,
     "metadata": {},
     "output_type": "execute_result"
    }
   ],
   "source": [
    "@formula(lfp ~ lnnlinc + age + age² + educ + nyc + noc + foreign)"
   ]
  },
  {
   "cell_type": "markdown",
   "id": "16a31c85",
   "metadata": {},
   "source": [
    "Finally observe that `@formula` is powerful enough to automatically do the computation of the square of `:age`:"
   ]
  },
  {
   "cell_type": "code",
   "execution_count": 27,
   "id": "7286316c",
   "metadata": {},
   "outputs": [
    {
     "data": {
      "text/plain": [
       "StatsModels.TableRegressionModel{GeneralizedLinearModel{GLM.GlmResp{Vector{Float64}, Binomial{Float64}, ProbitLink}, GLM.DensePredChol{Float64, LinearAlgebra.CholeskyPivoted{Float64, Matrix{Float64}, Vector{Int64}}}}, Matrix{Float64}}\n",
       "\n",
       "lfp ~ 1 + lnnlinc + age + :(age ^ 2) + educ + nyc + noc + foreign\n",
       "\n",
       "Coefficients:\n",
       "────────────────────────────────────────────────────────────────────────────\n",
       "                   Coef.  Std. Error      z  Pr(>|z|)  Lower 95%   Upper 95%\n",
       "────────────────────────────────────────────────────────────────────────────\n",
       "(Intercept)    3.74896     1.40663     2.67    0.0077   0.992006   6.50591\n",
       "lnnlinc       -0.666932    0.13192    -5.06    <1e-06  -0.92549   -0.408374\n",
       "age            2.07531     0.405407    5.12    <1e-06   1.28073    2.86989\n",
       "age ^ 2       -0.294345    0.0499446  -5.89    <1e-08  -0.392235  -0.196456\n",
       "educ           0.0191963   0.0179255   1.07    0.2842  -0.015937   0.0543295\n",
       "nyc           -0.714465    0.100397   -7.12    <1e-11  -0.911238  -0.517691\n",
       "noc           -0.146985    0.0508854  -2.89    0.0039  -0.246718  -0.0472509\n",
       "foreign: yes   0.71438     0.121324    5.89    <1e-08   0.476589   0.95217\n",
       "────────────────────────────────────────────────────────────────────────────"
      ]
     },
     "execution_count": 27,
     "metadata": {},
     "output_type": "execute_result"
    }
   ],
   "source": [
    "probit = glm(@formula(lfp ~ lnnlinc + age + age^2 + educ + nyc + noc + foreign),\n",
    "             df, Binomial(), ProbitLink())"
   ]
  },
  {
   "cell_type": "markdown",
   "id": "46612c86",
   "metadata": {},
   "source": [
    "We check the formula again:"
   ]
  },
  {
   "cell_type": "code",
   "execution_count": 28,
   "id": "25cc1f58",
   "metadata": {},
   "outputs": [
    {
     "data": {
      "text/plain": [
       "FormulaTerm\n",
       "Response:\n",
       "  lfp(unknown)\n",
       "Predictors:\n",
       "  lnnlinc(unknown)\n",
       "  age(unknown)\n",
       "  (age)->age ^ 2\n",
       "  educ(unknown)\n",
       "  nyc(unknown)\n",
       "  noc(unknown)\n",
       "  foreign(unknown)"
      ]
     },
     "execution_count": 28,
     "metadata": {},
     "output_type": "execute_result"
    }
   ],
   "source": [
    "@formula(lfp ~ lnnlinc + age + age^2 + educ + nyc + noc + foreign)"
   ]
  },
  {
   "cell_type": "markdown",
   "id": "b24f2bd5",
   "metadata": {},
   "source": [
    "Next we prepare a new data frame in which we will check how the prediction of our model changes as we modify `:age` while keeping all other variables constant:"
   ]
  },
  {
   "cell_type": "code",
   "execution_count": 29,
   "id": "35e9072a",
   "metadata": {},
   "outputs": [
    {
     "data": {
      "text/html": [
       "<div><div style = \"float: left;\"><span>421×6 DataFrame</span></div><div style = \"float: right;\"><span style = \"font-style: italic;\">396 rows omitted</span></div><div style = \"clear: both;\"></div></div><div class = \"data-frame\" style = \"overflow-x: scroll;\"><table class = \"data-frame\" style = \"margin-bottom: 6px;\"><thead><tr class = \"header\"><th class = \"rowNumber\" style = \"font-weight: bold; text-align: right;\">Row</th><th style = \"text-align: left;\">lnnlinc</th><th style = \"text-align: left;\">age</th><th style = \"text-align: left;\">educ</th><th style = \"text-align: left;\">nyc</th><th style = \"text-align: left;\">noc</th><th style = \"text-align: left;\">foreign</th></tr><tr class = \"subheader headerLastRow\"><th class = \"rowNumber\" style = \"font-weight: bold; text-align: right;\"></th><th title = \"Float64\" style = \"text-align: left;\">Float64</th><th title = \"Float64\" style = \"text-align: left;\">Float64</th><th title = \"Int64\" style = \"text-align: left;\">Int64</th><th title = \"Int64\" style = \"text-align: left;\">Int64</th><th title = \"Int64\" style = \"text-align: left;\">Int64</th><th title = \"String\" style = \"text-align: left;\">String</th></tr></thead><tbody><tr><td class = \"rowNumber\" style = \"font-weight: bold; text-align: right;\">1</td><td style = \"text-align: right;\">10.0</td><td style = \"text-align: right;\">2.0</td><td style = \"text-align: right;\">9</td><td style = \"text-align: right;\">0</td><td style = \"text-align: right;\">1</td><td style = \"text-align: left;\">yes</td></tr><tr><td class = \"rowNumber\" style = \"font-weight: bold; text-align: right;\">2</td><td style = \"text-align: right;\">10.0</td><td style = \"text-align: right;\">2.01</td><td style = \"text-align: right;\">9</td><td style = \"text-align: right;\">0</td><td style = \"text-align: right;\">1</td><td style = \"text-align: left;\">yes</td></tr><tr><td class = \"rowNumber\" style = \"font-weight: bold; text-align: right;\">3</td><td style = \"text-align: right;\">10.0</td><td style = \"text-align: right;\">2.02</td><td style = \"text-align: right;\">9</td><td style = \"text-align: right;\">0</td><td style = \"text-align: right;\">1</td><td style = \"text-align: left;\">yes</td></tr><tr><td class = \"rowNumber\" style = \"font-weight: bold; text-align: right;\">4</td><td style = \"text-align: right;\">10.0</td><td style = \"text-align: right;\">2.03</td><td style = \"text-align: right;\">9</td><td style = \"text-align: right;\">0</td><td style = \"text-align: right;\">1</td><td style = \"text-align: left;\">yes</td></tr><tr><td class = \"rowNumber\" style = \"font-weight: bold; text-align: right;\">5</td><td style = \"text-align: right;\">10.0</td><td style = \"text-align: right;\">2.04</td><td style = \"text-align: right;\">9</td><td style = \"text-align: right;\">0</td><td style = \"text-align: right;\">1</td><td style = \"text-align: left;\">yes</td></tr><tr><td class = \"rowNumber\" style = \"font-weight: bold; text-align: right;\">6</td><td style = \"text-align: right;\">10.0</td><td style = \"text-align: right;\">2.05</td><td style = \"text-align: right;\">9</td><td style = \"text-align: right;\">0</td><td style = \"text-align: right;\">1</td><td style = \"text-align: left;\">yes</td></tr><tr><td class = \"rowNumber\" style = \"font-weight: bold; text-align: right;\">7</td><td style = \"text-align: right;\">10.0</td><td style = \"text-align: right;\">2.06</td><td style = \"text-align: right;\">9</td><td style = \"text-align: right;\">0</td><td style = \"text-align: right;\">1</td><td style = \"text-align: left;\">yes</td></tr><tr><td class = \"rowNumber\" style = \"font-weight: bold; text-align: right;\">8</td><td style = \"text-align: right;\">10.0</td><td style = \"text-align: right;\">2.07</td><td style = \"text-align: right;\">9</td><td style = \"text-align: right;\">0</td><td style = \"text-align: right;\">1</td><td style = \"text-align: left;\">yes</td></tr><tr><td class = \"rowNumber\" style = \"font-weight: bold; text-align: right;\">9</td><td style = \"text-align: right;\">10.0</td><td style = \"text-align: right;\">2.08</td><td style = \"text-align: right;\">9</td><td style = \"text-align: right;\">0</td><td style = \"text-align: right;\">1</td><td style = \"text-align: left;\">yes</td></tr><tr><td class = \"rowNumber\" style = \"font-weight: bold; text-align: right;\">10</td><td style = \"text-align: right;\">10.0</td><td style = \"text-align: right;\">2.09</td><td style = \"text-align: right;\">9</td><td style = \"text-align: right;\">0</td><td style = \"text-align: right;\">1</td><td style = \"text-align: left;\">yes</td></tr><tr><td class = \"rowNumber\" style = \"font-weight: bold; text-align: right;\">11</td><td style = \"text-align: right;\">10.0</td><td style = \"text-align: right;\">2.1</td><td style = \"text-align: right;\">9</td><td style = \"text-align: right;\">0</td><td style = \"text-align: right;\">1</td><td style = \"text-align: left;\">yes</td></tr><tr><td class = \"rowNumber\" style = \"font-weight: bold; text-align: right;\">12</td><td style = \"text-align: right;\">10.0</td><td style = \"text-align: right;\">2.11</td><td style = \"text-align: right;\">9</td><td style = \"text-align: right;\">0</td><td style = \"text-align: right;\">1</td><td style = \"text-align: left;\">yes</td></tr><tr><td class = \"rowNumber\" style = \"font-weight: bold; text-align: right;\">13</td><td style = \"text-align: right;\">10.0</td><td style = \"text-align: right;\">2.12</td><td style = \"text-align: right;\">9</td><td style = \"text-align: right;\">0</td><td style = \"text-align: right;\">1</td><td style = \"text-align: left;\">yes</td></tr><tr><td style = \"text-align: right;\">&vellip;</td><td style = \"text-align: right;\">&vellip;</td><td style = \"text-align: right;\">&vellip;</td><td style = \"text-align: right;\">&vellip;</td><td style = \"text-align: right;\">&vellip;</td><td style = \"text-align: right;\">&vellip;</td><td style = \"text-align: right;\">&vellip;</td></tr><tr><td class = \"rowNumber\" style = \"font-weight: bold; text-align: right;\">410</td><td style = \"text-align: right;\">10.0</td><td style = \"text-align: right;\">6.09</td><td style = \"text-align: right;\">9</td><td style = \"text-align: right;\">0</td><td style = \"text-align: right;\">1</td><td style = \"text-align: left;\">yes</td></tr><tr><td class = \"rowNumber\" style = \"font-weight: bold; text-align: right;\">411</td><td style = \"text-align: right;\">10.0</td><td style = \"text-align: right;\">6.1</td><td style = \"text-align: right;\">9</td><td style = \"text-align: right;\">0</td><td style = \"text-align: right;\">1</td><td style = \"text-align: left;\">yes</td></tr><tr><td class = \"rowNumber\" style = \"font-weight: bold; text-align: right;\">412</td><td style = \"text-align: right;\">10.0</td><td style = \"text-align: right;\">6.11</td><td style = \"text-align: right;\">9</td><td style = \"text-align: right;\">0</td><td style = \"text-align: right;\">1</td><td style = \"text-align: left;\">yes</td></tr><tr><td class = \"rowNumber\" style = \"font-weight: bold; text-align: right;\">413</td><td style = \"text-align: right;\">10.0</td><td style = \"text-align: right;\">6.12</td><td style = \"text-align: right;\">9</td><td style = \"text-align: right;\">0</td><td style = \"text-align: right;\">1</td><td style = \"text-align: left;\">yes</td></tr><tr><td class = \"rowNumber\" style = \"font-weight: bold; text-align: right;\">414</td><td style = \"text-align: right;\">10.0</td><td style = \"text-align: right;\">6.13</td><td style = \"text-align: right;\">9</td><td style = \"text-align: right;\">0</td><td style = \"text-align: right;\">1</td><td style = \"text-align: left;\">yes</td></tr><tr><td class = \"rowNumber\" style = \"font-weight: bold; text-align: right;\">415</td><td style = \"text-align: right;\">10.0</td><td style = \"text-align: right;\">6.14</td><td style = \"text-align: right;\">9</td><td style = \"text-align: right;\">0</td><td style = \"text-align: right;\">1</td><td style = \"text-align: left;\">yes</td></tr><tr><td class = \"rowNumber\" style = \"font-weight: bold; text-align: right;\">416</td><td style = \"text-align: right;\">10.0</td><td style = \"text-align: right;\">6.15</td><td style = \"text-align: right;\">9</td><td style = \"text-align: right;\">0</td><td style = \"text-align: right;\">1</td><td style = \"text-align: left;\">yes</td></tr><tr><td class = \"rowNumber\" style = \"font-weight: bold; text-align: right;\">417</td><td style = \"text-align: right;\">10.0</td><td style = \"text-align: right;\">6.16</td><td style = \"text-align: right;\">9</td><td style = \"text-align: right;\">0</td><td style = \"text-align: right;\">1</td><td style = \"text-align: left;\">yes</td></tr><tr><td class = \"rowNumber\" style = \"font-weight: bold; text-align: right;\">418</td><td style = \"text-align: right;\">10.0</td><td style = \"text-align: right;\">6.17</td><td style = \"text-align: right;\">9</td><td style = \"text-align: right;\">0</td><td style = \"text-align: right;\">1</td><td style = \"text-align: left;\">yes</td></tr><tr><td class = \"rowNumber\" style = \"font-weight: bold; text-align: right;\">419</td><td style = \"text-align: right;\">10.0</td><td style = \"text-align: right;\">6.18</td><td style = \"text-align: right;\">9</td><td style = \"text-align: right;\">0</td><td style = \"text-align: right;\">1</td><td style = \"text-align: left;\">yes</td></tr><tr><td class = \"rowNumber\" style = \"font-weight: bold; text-align: right;\">420</td><td style = \"text-align: right;\">10.0</td><td style = \"text-align: right;\">6.19</td><td style = \"text-align: right;\">9</td><td style = \"text-align: right;\">0</td><td style = \"text-align: right;\">1</td><td style = \"text-align: left;\">yes</td></tr><tr><td class = \"rowNumber\" style = \"font-weight: bold; text-align: right;\">421</td><td style = \"text-align: right;\">10.0</td><td style = \"text-align: right;\">6.2</td><td style = \"text-align: right;\">9</td><td style = \"text-align: right;\">0</td><td style = \"text-align: right;\">1</td><td style = \"text-align: left;\">yes</td></tr></tbody></table></div>"
      ],
      "text/latex": [
       "\\begin{tabular}{r|cccccc}\n",
       "\t& lnnlinc & age & educ & nyc & noc & foreign\\\\\n",
       "\t\\hline\n",
       "\t& Float64 & Float64 & Int64 & Int64 & Int64 & String\\\\\n",
       "\t\\hline\n",
       "\t1 & 10.0 & 2.0 & 9 & 0 & 1 & yes \\\\\n",
       "\t2 & 10.0 & 2.01 & 9 & 0 & 1 & yes \\\\\n",
       "\t3 & 10.0 & 2.02 & 9 & 0 & 1 & yes \\\\\n",
       "\t4 & 10.0 & 2.03 & 9 & 0 & 1 & yes \\\\\n",
       "\t5 & 10.0 & 2.04 & 9 & 0 & 1 & yes \\\\\n",
       "\t6 & 10.0 & 2.05 & 9 & 0 & 1 & yes \\\\\n",
       "\t7 & 10.0 & 2.06 & 9 & 0 & 1 & yes \\\\\n",
       "\t8 & 10.0 & 2.07 & 9 & 0 & 1 & yes \\\\\n",
       "\t9 & 10.0 & 2.08 & 9 & 0 & 1 & yes \\\\\n",
       "\t10 & 10.0 & 2.09 & 9 & 0 & 1 & yes \\\\\n",
       "\t11 & 10.0 & 2.1 & 9 & 0 & 1 & yes \\\\\n",
       "\t12 & 10.0 & 2.11 & 9 & 0 & 1 & yes \\\\\n",
       "\t13 & 10.0 & 2.12 & 9 & 0 & 1 & yes \\\\\n",
       "\t14 & 10.0 & 2.13 & 9 & 0 & 1 & yes \\\\\n",
       "\t15 & 10.0 & 2.14 & 9 & 0 & 1 & yes \\\\\n",
       "\t16 & 10.0 & 2.15 & 9 & 0 & 1 & yes \\\\\n",
       "\t17 & 10.0 & 2.16 & 9 & 0 & 1 & yes \\\\\n",
       "\t18 & 10.0 & 2.17 & 9 & 0 & 1 & yes \\\\\n",
       "\t19 & 10.0 & 2.18 & 9 & 0 & 1 & yes \\\\\n",
       "\t20 & 10.0 & 2.19 & 9 & 0 & 1 & yes \\\\\n",
       "\t21 & 10.0 & 2.2 & 9 & 0 & 1 & yes \\\\\n",
       "\t22 & 10.0 & 2.21 & 9 & 0 & 1 & yes \\\\\n",
       "\t23 & 10.0 & 2.22 & 9 & 0 & 1 & yes \\\\\n",
       "\t24 & 10.0 & 2.23 & 9 & 0 & 1 & yes \\\\\n",
       "\t25 & 10.0 & 2.24 & 9 & 0 & 1 & yes \\\\\n",
       "\t26 & 10.0 & 2.25 & 9 & 0 & 1 & yes \\\\\n",
       "\t27 & 10.0 & 2.26 & 9 & 0 & 1 & yes \\\\\n",
       "\t28 & 10.0 & 2.27 & 9 & 0 & 1 & yes \\\\\n",
       "\t29 & 10.0 & 2.28 & 9 & 0 & 1 & yes \\\\\n",
       "\t30 & 10.0 & 2.29 & 9 & 0 & 1 & yes \\\\\n",
       "\t$\\dots$ & $\\dots$ & $\\dots$ & $\\dots$ & $\\dots$ & $\\dots$ & $\\dots$ \\\\\n",
       "\\end{tabular}\n"
      ],
      "text/plain": [
       "\u001b[1m421×6 DataFrame\u001b[0m\n",
       "\u001b[1m Row \u001b[0m│\u001b[1m lnnlinc \u001b[0m\u001b[1m age     \u001b[0m\u001b[1m educ  \u001b[0m\u001b[1m nyc   \u001b[0m\u001b[1m noc   \u001b[0m\u001b[1m foreign \u001b[0m\n",
       "     │\u001b[90m Float64 \u001b[0m\u001b[90m Float64 \u001b[0m\u001b[90m Int64 \u001b[0m\u001b[90m Int64 \u001b[0m\u001b[90m Int64 \u001b[0m\u001b[90m String  \u001b[0m\n",
       "─────┼────────────────────────────────────────────────\n",
       "   1 │    10.0     2.0       9      0      1  yes\n",
       "   2 │    10.0     2.01      9      0      1  yes\n",
       "   3 │    10.0     2.02      9      0      1  yes\n",
       "   4 │    10.0     2.03      9      0      1  yes\n",
       "   5 │    10.0     2.04      9      0      1  yes\n",
       "   6 │    10.0     2.05      9      0      1  yes\n",
       "   7 │    10.0     2.06      9      0      1  yes\n",
       "   8 │    10.0     2.07      9      0      1  yes\n",
       "   9 │    10.0     2.08      9      0      1  yes\n",
       "  10 │    10.0     2.09      9      0      1  yes\n",
       "  11 │    10.0     2.1       9      0      1  yes\n",
       "  ⋮  │    ⋮        ⋮       ⋮      ⋮      ⋮       ⋮\n",
       " 412 │    10.0     6.11      9      0      1  yes\n",
       " 413 │    10.0     6.12      9      0      1  yes\n",
       " 414 │    10.0     6.13      9      0      1  yes\n",
       " 415 │    10.0     6.14      9      0      1  yes\n",
       " 416 │    10.0     6.15      9      0      1  yes\n",
       " 417 │    10.0     6.16      9      0      1  yes\n",
       " 418 │    10.0     6.17      9      0      1  yes\n",
       " 419 │    10.0     6.18      9      0      1  yes\n",
       " 420 │    10.0     6.19      9      0      1  yes\n",
       " 421 │    10.0     6.2       9      0      1  yes\n",
       "\u001b[36m                                      400 rows omitted\u001b[0m"
      ]
     },
     "execution_count": 29,
     "metadata": {},
     "output_type": "execute_result"
    }
   ],
   "source": [
    "df_pred = DataFrame(lnnlinc=10.0, age= 2.0:0.01:6.2, educ = 9, nyc = 0, noc = 1, foreign = \"yes\")"
   ]
  },
  {
   "cell_type": "markdown",
   "id": "3ac9db26",
   "metadata": {},
   "source": [
    "We make a prediction along with its confidence interval:"
   ]
  },
  {
   "cell_type": "code",
   "execution_count": 30,
   "id": "36377669",
   "metadata": {},
   "outputs": [
    {
     "data": {
      "text/html": [
       "<div><div style = \"float: left;\"><span>421×3 DataFrame</span></div><div style = \"float: right;\"><span style = \"font-style: italic;\">396 rows omitted</span></div><div style = \"clear: both;\"></div></div><div class = \"data-frame\" style = \"overflow-x: scroll;\"><table class = \"data-frame\" style = \"margin-bottom: 6px;\"><thead><tr class = \"header\"><th class = \"rowNumber\" style = \"font-weight: bold; text-align: right;\">Row</th><th style = \"text-align: left;\">prediction</th><th style = \"text-align: left;\">lower</th><th style = \"text-align: left;\">upper</th></tr><tr class = \"subheader headerLastRow\"><th class = \"rowNumber\" style = \"font-weight: bold; text-align: right;\"></th><th title = \"Union{Missing, Float64}\" style = \"text-align: left;\">Float64?</th><th title = \"Union{Missing, Float64}\" style = \"text-align: left;\">Float64?</th><th title = \"Union{Missing, Float64}\" style = \"text-align: left;\">Float64?</th></tr></thead><tbody><tr><td class = \"rowNumber\" style = \"font-weight: bold; text-align: right;\">1</td><td style = \"text-align: right;\">0.786122</td><td style = \"text-align: right;\">0.636712</td><td style = \"text-align: right;\">0.891844</td></tr><tr><td class = \"rowNumber\" style = \"font-weight: bold; text-align: right;\">2</td><td style = \"text-align: right;\">0.78872</td><td style = \"text-align: right;\">0.641194</td><td style = \"text-align: right;\">0.892941</td></tr><tr><td class = \"rowNumber\" style = \"font-weight: bold; text-align: right;\">3</td><td style = \"text-align: right;\">0.791282</td><td style = \"text-align: right;\">0.645623</td><td style = \"text-align: right;\">0.894026</td></tr><tr><td class = \"rowNumber\" style = \"font-weight: bold; text-align: right;\">4</td><td style = \"text-align: right;\">0.79381</td><td style = \"text-align: right;\">0.650001</td><td style = \"text-align: right;\">0.895097</td></tr><tr><td class = \"rowNumber\" style = \"font-weight: bold; text-align: right;\">5</td><td style = \"text-align: right;\">0.796302</td><td style = \"text-align: right;\">0.654325</td><td style = \"text-align: right;\">0.896155</td></tr><tr><td class = \"rowNumber\" style = \"font-weight: bold; text-align: right;\">6</td><td style = \"text-align: right;\">0.79876</td><td style = \"text-align: right;\">0.658597</td><td style = \"text-align: right;\">0.8972</td></tr><tr><td class = \"rowNumber\" style = \"font-weight: bold; text-align: right;\">7</td><td style = \"text-align: right;\">0.801183</td><td style = \"text-align: right;\">0.662817</td><td style = \"text-align: right;\">0.898233</td></tr><tr><td class = \"rowNumber\" style = \"font-weight: bold; text-align: right;\">8</td><td style = \"text-align: right;\">0.803572</td><td style = \"text-align: right;\">0.666983</td><td style = \"text-align: right;\">0.899252</td></tr><tr><td class = \"rowNumber\" style = \"font-weight: bold; text-align: right;\">9</td><td style = \"text-align: right;\">0.805928</td><td style = \"text-align: right;\">0.671097</td><td style = \"text-align: right;\">0.90026</td></tr><tr><td class = \"rowNumber\" style = \"font-weight: bold; text-align: right;\">10</td><td style = \"text-align: right;\">0.808251</td><td style = \"text-align: right;\">0.675159</td><td style = \"text-align: right;\">0.901254</td></tr><tr><td class = \"rowNumber\" style = \"font-weight: bold; text-align: right;\">11</td><td style = \"text-align: right;\">0.81054</td><td style = \"text-align: right;\">0.679167</td><td style = \"text-align: right;\">0.902237</td></tr><tr><td class = \"rowNumber\" style = \"font-weight: bold; text-align: right;\">12</td><td style = \"text-align: right;\">0.812797</td><td style = \"text-align: right;\">0.683124</td><td style = \"text-align: right;\">0.903207</td></tr><tr><td class = \"rowNumber\" style = \"font-weight: bold; text-align: right;\">13</td><td style = \"text-align: right;\">0.815021</td><td style = \"text-align: right;\">0.687028</td><td style = \"text-align: right;\">0.904166</td></tr><tr><td style = \"text-align: right;\">&vellip;</td><td style = \"text-align: right;\">&vellip;</td><td style = \"text-align: right;\">&vellip;</td><td style = \"text-align: right;\">&vellip;</td></tr><tr><td class = \"rowNumber\" style = \"font-weight: bold; text-align: right;\">410</td><td style = \"text-align: right;\">0.32338</td><td style = \"text-align: right;\">0.180847</td><td style = \"text-align: right;\">0.498247</td></tr><tr><td class = \"rowNumber\" style = \"font-weight: bold; text-align: right;\">411</td><td style = \"text-align: right;\">0.317966</td><td style = \"text-align: right;\">0.176065</td><td style = \"text-align: right;\">0.493488</td></tr><tr><td class = \"rowNumber\" style = \"font-weight: bold; text-align: right;\">412</td><td style = \"text-align: right;\">0.312569</td><td style = \"text-align: right;\">0.171341</td><td style = \"text-align: right;\">0.488718</td></tr><tr><td class = \"rowNumber\" style = \"font-weight: bold; text-align: right;\">413</td><td style = \"text-align: right;\">0.307192</td><td style = \"text-align: right;\">0.166677</td><td style = \"text-align: right;\">0.483938</td></tr><tr><td class = \"rowNumber\" style = \"font-weight: bold; text-align: right;\">414</td><td style = \"text-align: right;\">0.301835</td><td style = \"text-align: right;\">0.162074</td><td style = \"text-align: right;\">0.479148</td></tr><tr><td class = \"rowNumber\" style = \"font-weight: bold; text-align: right;\">415</td><td style = \"text-align: right;\">0.2965</td><td style = \"text-align: right;\">0.157534</td><td style = \"text-align: right;\">0.474349</td></tr><tr><td class = \"rowNumber\" style = \"font-weight: bold; text-align: right;\">416</td><td style = \"text-align: right;\">0.291189</td><td style = \"text-align: right;\">0.153057</td><td style = \"text-align: right;\">0.469542</td></tr><tr><td class = \"rowNumber\" style = \"font-weight: bold; text-align: right;\">417</td><td style = \"text-align: right;\">0.285902</td><td style = \"text-align: right;\">0.148645</td><td style = \"text-align: right;\">0.464727</td></tr><tr><td class = \"rowNumber\" style = \"font-weight: bold; text-align: right;\">418</td><td style = \"text-align: right;\">0.280642</td><td style = \"text-align: right;\">0.144299</td><td style = \"text-align: right;\">0.459905</td></tr><tr><td class = \"rowNumber\" style = \"font-weight: bold; text-align: right;\">419</td><td style = \"text-align: right;\">0.275409</td><td style = \"text-align: right;\">0.14002</td><td style = \"text-align: right;\">0.455078</td></tr><tr><td class = \"rowNumber\" style = \"font-weight: bold; text-align: right;\">420</td><td style = \"text-align: right;\">0.270205</td><td style = \"text-align: right;\">0.13581</td><td style = \"text-align: right;\">0.450245</td></tr><tr><td class = \"rowNumber\" style = \"font-weight: bold; text-align: right;\">421</td><td style = \"text-align: right;\">0.265032</td><td style = \"text-align: right;\">0.131668</td><td style = \"text-align: right;\">0.445407</td></tr></tbody></table></div>"
      ],
      "text/latex": [
       "\\begin{tabular}{r|ccc}\n",
       "\t& prediction & lower & upper\\\\\n",
       "\t\\hline\n",
       "\t& Float64? & Float64? & Float64?\\\\\n",
       "\t\\hline\n",
       "\t1 & 0.786122 & 0.636712 & 0.891844 \\\\\n",
       "\t2 & 0.78872 & 0.641194 & 0.892941 \\\\\n",
       "\t3 & 0.791282 & 0.645623 & 0.894026 \\\\\n",
       "\t4 & 0.79381 & 0.650001 & 0.895097 \\\\\n",
       "\t5 & 0.796302 & 0.654325 & 0.896155 \\\\\n",
       "\t6 & 0.79876 & 0.658597 & 0.8972 \\\\\n",
       "\t7 & 0.801183 & 0.662817 & 0.898233 \\\\\n",
       "\t8 & 0.803572 & 0.666983 & 0.899252 \\\\\n",
       "\t9 & 0.805928 & 0.671097 & 0.90026 \\\\\n",
       "\t10 & 0.808251 & 0.675159 & 0.901254 \\\\\n",
       "\t11 & 0.81054 & 0.679167 & 0.902237 \\\\\n",
       "\t12 & 0.812797 & 0.683124 & 0.903207 \\\\\n",
       "\t13 & 0.815021 & 0.687028 & 0.904166 \\\\\n",
       "\t14 & 0.817213 & 0.690879 & 0.905113 \\\\\n",
       "\t15 & 0.819373 & 0.694678 & 0.906048 \\\\\n",
       "\t16 & 0.821502 & 0.698426 & 0.906971 \\\\\n",
       "\t17 & 0.8236 & 0.702121 & 0.907883 \\\\\n",
       "\t18 & 0.825667 & 0.705765 & 0.908784 \\\\\n",
       "\t19 & 0.827703 & 0.709358 & 0.909674 \\\\\n",
       "\t20 & 0.82971 & 0.712899 & 0.910552 \\\\\n",
       "\t21 & 0.831686 & 0.716389 & 0.91142 \\\\\n",
       "\t22 & 0.833633 & 0.719829 & 0.912277 \\\\\n",
       "\t23 & 0.835551 & 0.723218 & 0.913123 \\\\\n",
       "\t24 & 0.83744 & 0.726558 & 0.913959 \\\\\n",
       "\t25 & 0.8393 & 0.729847 & 0.914785 \\\\\n",
       "\t26 & 0.841133 & 0.733087 & 0.9156 \\\\\n",
       "\t27 & 0.842937 & 0.736278 & 0.916405 \\\\\n",
       "\t28 & 0.844714 & 0.739421 & 0.9172 \\\\\n",
       "\t29 & 0.846463 & 0.742515 & 0.917985 \\\\\n",
       "\t30 & 0.848186 & 0.74556 & 0.91876 \\\\\n",
       "\t$\\dots$ & $\\dots$ & $\\dots$ & $\\dots$ \\\\\n",
       "\\end{tabular}\n"
      ],
      "text/plain": [
       "\u001b[1m421×3 DataFrame\u001b[0m\n",
       "\u001b[1m Row \u001b[0m│\u001b[1m prediction \u001b[0m\u001b[1m lower    \u001b[0m\u001b[1m upper    \u001b[0m\n",
       "     │\u001b[90m Float64?   \u001b[0m\u001b[90m Float64? \u001b[0m\u001b[90m Float64? \u001b[0m\n",
       "─────┼────────────────────────────────\n",
       "   1 │   0.786122  0.636712  0.891844\n",
       "   2 │   0.78872   0.641194  0.892941\n",
       "   3 │   0.791282  0.645623  0.894026\n",
       "   4 │   0.79381   0.650001  0.895097\n",
       "   5 │   0.796302  0.654325  0.896155\n",
       "   6 │   0.79876   0.658597  0.8972\n",
       "   7 │   0.801183  0.662817  0.898233\n",
       "   8 │   0.803572  0.666983  0.899252\n",
       "   9 │   0.805928  0.671097  0.90026\n",
       "  10 │   0.808251  0.675159  0.901254\n",
       "  11 │   0.81054   0.679167  0.902237\n",
       "  ⋮  │     ⋮          ⋮         ⋮\n",
       " 412 │   0.312569  0.171341  0.488718\n",
       " 413 │   0.307192  0.166677  0.483938\n",
       " 414 │   0.301835  0.162074  0.479148\n",
       " 415 │   0.2965    0.157534  0.474349\n",
       " 416 │   0.291189  0.153057  0.469542\n",
       " 417 │   0.285902  0.148645  0.464727\n",
       " 418 │   0.280642  0.144299  0.459905\n",
       " 419 │   0.275409  0.14002   0.455078\n",
       " 420 │   0.270205  0.13581   0.450245\n",
       " 421 │   0.265032  0.131668  0.445407\n",
       "\u001b[36m                      400 rows omitted\u001b[0m"
      ]
     },
     "execution_count": 30,
     "metadata": {},
     "output_type": "execute_result"
    }
   ],
   "source": [
    "probit_pred = predict(probit, df_pred, interval=:confidence)"
   ]
  },
  {
   "cell_type": "markdown",
   "id": "9d9707b5",
   "metadata": {},
   "source": [
    "Now we plot it. Note that we use `Matrix` constructor to create a matrix out of the data frame easily:"
   ]
  },
  {
   "cell_type": "code",
   "execution_count": 31,
   "id": "eaf313c0",
   "metadata": {},
   "outputs": [
    {
     "data": {
      "image/svg+xml": [
       "<?xml version=\"1.0\" encoding=\"utf-8\"?>\n",
       "<svg xmlns=\"http://www.w3.org/2000/svg\" xmlns:xlink=\"http://www.w3.org/1999/xlink\" width=\"600\" height=\"400\" viewBox=\"0 0 2400 1600\">\n",
       "<defs>\n",
       "  <clipPath id=\"clip450\">\n",
       "    <rect x=\"0\" y=\"0\" width=\"2400\" height=\"1600\"/>\n",
       "  </clipPath>\n",
       "</defs>\n",
       "<path clip-path=\"url(#clip450)\" d=\"M0 1600 L2400 1600 L2400 0 L0 0  Z\" fill=\"#ffffff\" fill-rule=\"evenodd\" fill-opacity=\"1\"/>\n",
       "<defs>\n",
       "  <clipPath id=\"clip451\">\n",
       "    <rect x=\"480\" y=\"0\" width=\"1681\" height=\"1600\"/>\n",
       "  </clipPath>\n",
       "</defs>\n",
       "<path clip-path=\"url(#clip450)\" d=\"M219.866 1423.18 L2352.76 1423.18 L2352.76 47.2441 L219.866 47.2441  Z\" fill=\"#ffffff\" fill-rule=\"evenodd\" fill-opacity=\"1\"/>\n",
       "<defs>\n",
       "  <clipPath id=\"clip452\">\n",
       "    <rect x=\"219\" y=\"47\" width=\"2134\" height=\"1377\"/>\n",
       "  </clipPath>\n",
       "</defs>\n",
       "<polyline clip-path=\"url(#clip452)\" style=\"stroke:#000000; stroke-linecap:round; stroke-linejoin:round; stroke-width:2; stroke-opacity:0.1; fill:none\" points=\"280.231,1423.18 280.231,47.2441 \"/>\n",
       "<polyline clip-path=\"url(#clip452)\" style=\"stroke:#000000; stroke-linecap:round; stroke-linejoin:round; stroke-width:2; stroke-opacity:0.1; fill:none\" points=\"759.317,1423.18 759.317,47.2441 \"/>\n",
       "<polyline clip-path=\"url(#clip452)\" style=\"stroke:#000000; stroke-linecap:round; stroke-linejoin:round; stroke-width:2; stroke-opacity:0.1; fill:none\" points=\"1238.4,1423.18 1238.4,47.2441 \"/>\n",
       "<polyline clip-path=\"url(#clip452)\" style=\"stroke:#000000; stroke-linecap:round; stroke-linejoin:round; stroke-width:2; stroke-opacity:0.1; fill:none\" points=\"1717.49,1423.18 1717.49,47.2441 \"/>\n",
       "<polyline clip-path=\"url(#clip452)\" style=\"stroke:#000000; stroke-linecap:round; stroke-linejoin:round; stroke-width:2; stroke-opacity:0.1; fill:none\" points=\"2196.57,1423.18 2196.57,47.2441 \"/>\n",
       "<polyline clip-path=\"url(#clip450)\" style=\"stroke:#000000; stroke-linecap:round; stroke-linejoin:round; stroke-width:4; stroke-opacity:1; fill:none\" points=\"219.866,1423.18 2352.76,1423.18 \"/>\n",
       "<polyline clip-path=\"url(#clip450)\" style=\"stroke:#000000; stroke-linecap:round; stroke-linejoin:round; stroke-width:4; stroke-opacity:1; fill:none\" points=\"280.231,1423.18 280.231,1404.28 \"/>\n",
       "<polyline clip-path=\"url(#clip450)\" style=\"stroke:#000000; stroke-linecap:round; stroke-linejoin:round; stroke-width:4; stroke-opacity:1; fill:none\" points=\"759.317,1423.18 759.317,1404.28 \"/>\n",
       "<polyline clip-path=\"url(#clip450)\" style=\"stroke:#000000; stroke-linecap:round; stroke-linejoin:round; stroke-width:4; stroke-opacity:1; fill:none\" points=\"1238.4,1423.18 1238.4,1404.28 \"/>\n",
       "<polyline clip-path=\"url(#clip450)\" style=\"stroke:#000000; stroke-linecap:round; stroke-linejoin:round; stroke-width:4; stroke-opacity:1; fill:none\" points=\"1717.49,1423.18 1717.49,1404.28 \"/>\n",
       "<polyline clip-path=\"url(#clip450)\" style=\"stroke:#000000; stroke-linecap:round; stroke-linejoin:round; stroke-width:4; stroke-opacity:1; fill:none\" points=\"2196.57,1423.18 2196.57,1404.28 \"/>\n",
       "<path clip-path=\"url(#clip450)\" d=\"M274.884 1481.64 L291.203 1481.64 L291.203 1485.58 L269.259 1485.58 L269.259 1481.64 Q271.921 1478.89 276.504 1474.26 Q281.111 1469.61 282.291 1468.27 Q284.537 1465.74 285.416 1464.01 Q286.319 1462.25 286.319 1460.56 Q286.319 1457.8 284.375 1456.07 Q282.453 1454.33 279.351 1454.33 Q277.152 1454.33 274.699 1455.09 Q272.268 1455.86 269.49 1457.41 L269.49 1452.69 Q272.314 1451.55 274.768 1450.97 Q277.222 1450.39 279.259 1450.39 Q284.629 1450.39 287.824 1453.08 Q291.018 1455.77 291.018 1460.26 Q291.018 1462.39 290.208 1464.31 Q289.421 1466.2 287.314 1468.8 Q286.736 1469.47 283.634 1472.69 Q280.532 1475.88 274.884 1481.64 Z\" fill=\"#000000\" fill-rule=\"evenodd\" fill-opacity=\"1\" /><path clip-path=\"url(#clip450)\" d=\"M763.564 1466.95 Q766.921 1467.66 768.796 1469.93 Q770.694 1472.2 770.694 1475.53 Q770.694 1480.65 767.176 1483.45 Q763.657 1486.25 757.176 1486.25 Q755 1486.25 752.685 1485.81 Q750.393 1485.39 747.94 1484.54 L747.94 1480.02 Q749.884 1481.16 752.199 1481.74 Q754.514 1482.32 757.037 1482.32 Q761.435 1482.32 763.726 1480.58 Q766.041 1478.84 766.041 1475.53 Q766.041 1472.48 763.889 1470.77 Q761.759 1469.03 757.939 1469.03 L753.912 1469.03 L753.912 1465.19 L758.125 1465.19 Q761.574 1465.19 763.402 1463.82 Q765.231 1462.43 765.231 1459.84 Q765.231 1457.18 763.333 1455.77 Q761.458 1454.33 757.939 1454.33 Q756.018 1454.33 753.819 1454.75 Q751.62 1455.16 748.981 1456.04 L748.981 1451.88 Q751.643 1451.14 753.958 1450.77 Q756.296 1450.39 758.356 1450.39 Q763.68 1450.39 766.782 1452.83 Q769.884 1455.23 769.884 1459.35 Q769.884 1462.22 768.24 1464.21 Q766.597 1466.18 763.564 1466.95 Z\" fill=\"#000000\" fill-rule=\"evenodd\" fill-opacity=\"1\" /><path clip-path=\"url(#clip450)\" d=\"M1241.41 1455.09 L1229.61 1473.54 L1241.41 1473.54 L1241.41 1455.09 M1240.18 1451.02 L1246.06 1451.02 L1246.06 1473.54 L1251 1473.54 L1251 1477.43 L1246.06 1477.43 L1246.06 1485.58 L1241.41 1485.58 L1241.41 1477.43 L1225.81 1477.43 L1225.81 1472.92 L1240.18 1451.02 Z\" fill=\"#000000\" fill-rule=\"evenodd\" fill-opacity=\"1\" /><path clip-path=\"url(#clip450)\" d=\"M1707.77 1451.02 L1726.12 1451.02 L1726.12 1454.96 L1712.05 1454.96 L1712.05 1463.43 Q1713.07 1463.08 1714.09 1462.92 Q1715.1 1462.73 1716.12 1462.73 Q1721.91 1462.73 1725.29 1465.9 Q1728.67 1469.08 1728.67 1474.49 Q1728.67 1480.07 1725.2 1483.17 Q1721.72 1486.25 1715.4 1486.25 Q1713.23 1486.25 1710.96 1485.88 Q1708.72 1485.51 1706.31 1484.77 L1706.31 1480.07 Q1708.39 1481.2 1710.61 1481.76 Q1712.84 1482.32 1715.31 1482.32 Q1719.32 1482.32 1721.65 1480.21 Q1723.99 1478.1 1723.99 1474.49 Q1723.99 1470.88 1721.65 1468.77 Q1719.32 1466.67 1715.31 1466.67 Q1713.44 1466.67 1711.56 1467.08 Q1709.71 1467.5 1707.77 1468.38 L1707.77 1451.02 Z\" fill=\"#000000\" fill-rule=\"evenodd\" fill-opacity=\"1\" /><path clip-path=\"url(#clip450)\" d=\"M2196.98 1466.44 Q2193.83 1466.44 2191.98 1468.59 Q2190.15 1470.74 2190.15 1474.49 Q2190.15 1478.22 2191.98 1480.39 Q2193.83 1482.55 2196.98 1482.55 Q2200.13 1482.55 2201.96 1480.39 Q2203.81 1478.22 2203.81 1474.49 Q2203.81 1470.74 2201.96 1468.59 Q2200.13 1466.44 2196.98 1466.44 M2206.26 1451.78 L2206.26 1456.04 Q2204.5 1455.21 2202.7 1454.77 Q2200.91 1454.33 2199.15 1454.33 Q2194.53 1454.33 2192.07 1457.45 Q2189.64 1460.58 2189.29 1466.9 Q2190.66 1464.89 2192.72 1463.82 Q2194.78 1462.73 2197.26 1462.73 Q2202.47 1462.73 2205.47 1465.9 Q2208.51 1469.05 2208.51 1474.49 Q2208.51 1479.82 2205.36 1483.03 Q2202.21 1486.25 2196.98 1486.25 Q2190.98 1486.25 2187.81 1481.67 Q2184.64 1477.06 2184.64 1468.33 Q2184.64 1460.14 2188.53 1455.28 Q2192.42 1450.39 2198.97 1450.39 Q2200.73 1450.39 2202.51 1450.74 Q2204.32 1451.09 2206.26 1451.78 Z\" fill=\"#000000\" fill-rule=\"evenodd\" fill-opacity=\"1\" /><path clip-path=\"url(#clip450)\" d=\"M1247.72 1550.12 Q1240.62 1550.12 1237.88 1551.75 Q1235.15 1553.37 1235.15 1557.29 Q1235.15 1560.4 1237.18 1562.25 Q1239.25 1564.07 1242.79 1564.07 Q1247.66 1564.07 1250.58 1560.63 Q1253.54 1557.16 1253.54 1551.43 L1253.54 1550.12 L1247.72 1550.12 M1259.4 1547.71 L1259.4 1568.04 L1253.54 1568.04 L1253.54 1562.63 Q1251.54 1565.88 1248.55 1567.44 Q1245.55 1568.97 1241.23 1568.97 Q1235.75 1568.97 1232.5 1565.91 Q1229.29 1562.82 1229.29 1557.67 Q1229.29 1551.65 1233.3 1548.6 Q1237.34 1545.54 1245.33 1545.54 L1253.54 1545.54 L1253.54 1544.97 Q1253.54 1540.93 1250.87 1538.73 Q1248.23 1536.5 1243.42 1536.5 Q1240.37 1536.5 1237.47 1537.23 Q1234.57 1537.97 1231.9 1539.43 L1231.9 1534.02 Q1235.11 1532.78 1238.14 1532.17 Q1241.16 1531.54 1244.03 1531.54 Q1251.76 1531.54 1255.58 1535.55 Q1259.4 1539.56 1259.4 1547.71 Z\" fill=\"#000000\" fill-rule=\"evenodd\" fill-opacity=\"1\" /><path clip-path=\"url(#clip450)\" d=\"M1294.92 1549.81 Q1294.92 1543.44 1292.28 1539.94 Q1289.67 1536.44 1284.93 1536.44 Q1280.22 1536.44 1277.57 1539.94 Q1274.96 1543.44 1274.96 1549.81 Q1274.96 1556.14 1277.57 1559.64 Q1280.22 1563.14 1284.93 1563.14 Q1289.67 1563.14 1292.28 1559.64 Q1294.92 1556.14 1294.92 1549.81 M1300.78 1563.62 Q1300.78 1572.72 1296.73 1577.15 Q1292.69 1581.6 1284.35 1581.6 Q1281.27 1581.6 1278.53 1581.13 Q1275.79 1580.68 1273.21 1579.72 L1273.21 1574.03 Q1275.79 1575.43 1278.31 1576.1 Q1280.82 1576.76 1283.43 1576.76 Q1289.19 1576.76 1292.06 1573.74 Q1294.92 1570.75 1294.92 1564.67 L1294.92 1561.77 Q1293.11 1564.92 1290.27 1566.48 Q1287.44 1568.04 1283.49 1568.04 Q1276.94 1568.04 1272.93 1563.05 Q1268.92 1558.05 1268.92 1549.81 Q1268.92 1541.53 1272.93 1536.53 Q1276.94 1531.54 1283.49 1531.54 Q1287.44 1531.54 1290.27 1533.1 Q1293.11 1534.66 1294.92 1537.81 L1294.92 1532.4 L1300.78 1532.4 L1300.78 1563.62 Z\" fill=\"#000000\" fill-rule=\"evenodd\" fill-opacity=\"1\" /><path clip-path=\"url(#clip450)\" d=\"M1343.33 1548.76 L1343.33 1551.62 L1316.4 1551.62 Q1316.79 1557.67 1320.03 1560.85 Q1323.31 1564 1329.14 1564 Q1332.51 1564 1335.66 1563.17 Q1338.84 1562.35 1341.96 1560.69 L1341.96 1566.23 Q1338.81 1567.57 1335.5 1568.27 Q1332.19 1568.97 1328.79 1568.97 Q1320.26 1568.97 1315.26 1564 Q1310.29 1559.04 1310.29 1550.57 Q1310.29 1541.82 1315 1536.69 Q1319.75 1531.54 1327.77 1531.54 Q1334.96 1531.54 1339.13 1536.18 Q1343.33 1540.8 1343.33 1548.76 M1337.48 1547.04 Q1337.41 1542.23 1334.77 1539.37 Q1332.16 1536.5 1327.83 1536.5 Q1322.93 1536.5 1319.97 1539.27 Q1317.04 1542.04 1316.6 1547.07 L1337.48 1547.04 Z\" fill=\"#000000\" fill-rule=\"evenodd\" fill-opacity=\"1\" /><polyline clip-path=\"url(#clip452)\" style=\"stroke:#000000; stroke-linecap:round; stroke-linejoin:round; stroke-width:2; stroke-opacity:0.1; fill:none\" points=\"219.866,1277.3 2352.76,1277.3 \"/>\n",
       "<polyline clip-path=\"url(#clip452)\" style=\"stroke:#000000; stroke-linecap:round; stroke-linejoin:round; stroke-width:2; stroke-opacity:0.1; fill:none\" points=\"219.866,964.318 2352.76,964.318 \"/>\n",
       "<polyline clip-path=\"url(#clip452)\" style=\"stroke:#000000; stroke-linecap:round; stroke-linejoin:round; stroke-width:2; stroke-opacity:0.1; fill:none\" points=\"219.866,651.332 2352.76,651.332 \"/>\n",
       "<polyline clip-path=\"url(#clip452)\" style=\"stroke:#000000; stroke-linecap:round; stroke-linejoin:round; stroke-width:2; stroke-opacity:0.1; fill:none\" points=\"219.866,338.347 2352.76,338.347 \"/>\n",
       "<polyline clip-path=\"url(#clip450)\" style=\"stroke:#000000; stroke-linecap:round; stroke-linejoin:round; stroke-width:4; stroke-opacity:1; fill:none\" points=\"219.866,1423.18 219.866,47.2441 \"/>\n",
       "<polyline clip-path=\"url(#clip450)\" style=\"stroke:#000000; stroke-linecap:round; stroke-linejoin:round; stroke-width:4; stroke-opacity:1; fill:none\" points=\"219.866,1277.3 238.764,1277.3 \"/>\n",
       "<polyline clip-path=\"url(#clip450)\" style=\"stroke:#000000; stroke-linecap:round; stroke-linejoin:round; stroke-width:4; stroke-opacity:1; fill:none\" points=\"219.866,964.318 238.764,964.318 \"/>\n",
       "<polyline clip-path=\"url(#clip450)\" style=\"stroke:#000000; stroke-linecap:round; stroke-linejoin:round; stroke-width:4; stroke-opacity:1; fill:none\" points=\"219.866,651.332 238.764,651.332 \"/>\n",
       "<polyline clip-path=\"url(#clip450)\" style=\"stroke:#000000; stroke-linecap:round; stroke-linejoin:round; stroke-width:4; stroke-opacity:1; fill:none\" points=\"219.866,338.347 238.764,338.347 \"/>\n",
       "<path clip-path=\"url(#clip450)\" d=\"M128.288 1263.1 Q124.677 1263.1 122.848 1266.67 Q121.043 1270.21 121.043 1277.34 Q121.043 1284.44 122.848 1288.01 Q124.677 1291.55 128.288 1291.55 Q131.922 1291.55 133.728 1288.01 Q135.556 1284.44 135.556 1277.34 Q135.556 1270.21 133.728 1266.67 Q131.922 1263.1 128.288 1263.1 M128.288 1259.4 Q134.098 1259.4 137.154 1264 Q140.232 1268.59 140.232 1277.34 Q140.232 1286.06 137.154 1290.67 Q134.098 1295.25 128.288 1295.25 Q122.478 1295.25 119.399 1290.67 Q116.343 1286.06 116.343 1277.34 Q116.343 1268.59 119.399 1264 Q122.478 1259.4 128.288 1259.4 Z\" fill=\"#000000\" fill-rule=\"evenodd\" fill-opacity=\"1\" /><path clip-path=\"url(#clip450)\" d=\"M148.45 1288.7 L153.334 1288.7 L153.334 1294.58 L148.45 1294.58 L148.45 1288.7 Z\" fill=\"#000000\" fill-rule=\"evenodd\" fill-opacity=\"1\" /><path clip-path=\"url(#clip450)\" d=\"M167.547 1290.65 L183.866 1290.65 L183.866 1294.58 L161.922 1294.58 L161.922 1290.65 Q164.584 1287.89 169.167 1283.26 Q173.774 1278.61 174.954 1277.27 Q177.2 1274.75 178.079 1273.01 Q178.982 1271.25 178.982 1269.56 Q178.982 1266.81 177.038 1265.07 Q175.116 1263.33 172.014 1263.33 Q169.815 1263.33 167.362 1264.1 Q164.931 1264.86 162.153 1266.41 L162.153 1261.69 Q164.977 1260.56 167.431 1259.98 Q169.885 1259.4 171.922 1259.4 Q177.292 1259.4 180.487 1262.08 Q183.681 1264.77 183.681 1269.26 Q183.681 1271.39 182.871 1273.31 Q182.084 1275.21 179.977 1277.8 Q179.399 1278.47 176.297 1281.69 Q173.195 1284.88 167.547 1290.65 Z\" fill=\"#000000\" fill-rule=\"evenodd\" fill-opacity=\"1\" /><path clip-path=\"url(#clip450)\" d=\"M126.205 950.116 Q122.593 950.116 120.765 953.681 Q118.959 957.223 118.959 964.352 Q118.959 971.459 120.765 975.024 Q122.593 978.565 126.205 978.565 Q129.839 978.565 131.644 975.024 Q133.473 971.459 133.473 964.352 Q133.473 957.223 131.644 953.681 Q129.839 950.116 126.205 950.116 M126.205 946.413 Q132.015 946.413 135.07 951.019 Q138.149 955.602 138.149 964.352 Q138.149 973.079 135.07 977.686 Q132.015 982.269 126.205 982.269 Q120.394 982.269 117.316 977.686 Q114.26 973.079 114.26 964.352 Q114.26 955.602 117.316 951.019 Q120.394 946.413 126.205 946.413 Z\" fill=\"#000000\" fill-rule=\"evenodd\" fill-opacity=\"1\" /><path clip-path=\"url(#clip450)\" d=\"M146.366 975.718 L151.251 975.718 L151.251 981.598 L146.366 981.598 L146.366 975.718 Z\" fill=\"#000000\" fill-rule=\"evenodd\" fill-opacity=\"1\" /><path clip-path=\"url(#clip450)\" d=\"M174.283 951.112 L162.477 969.561 L174.283 969.561 L174.283 951.112 M173.056 947.038 L178.936 947.038 L178.936 969.561 L183.866 969.561 L183.866 973.45 L178.936 973.45 L178.936 981.598 L174.283 981.598 L174.283 973.45 L158.681 973.45 L158.681 968.936 L173.056 947.038 Z\" fill=\"#000000\" fill-rule=\"evenodd\" fill-opacity=\"1\" /><path clip-path=\"url(#clip450)\" d=\"M126.529 637.131 Q122.918 637.131 121.089 640.696 Q119.283 644.237 119.283 651.367 Q119.283 658.473 121.089 662.038 Q122.918 665.58 126.529 665.58 Q130.163 665.58 131.968 662.038 Q133.797 658.473 133.797 651.367 Q133.797 644.237 131.968 640.696 Q130.163 637.131 126.529 637.131 M126.529 633.427 Q132.339 633.427 135.394 638.034 Q138.473 642.617 138.473 651.367 Q138.473 660.094 135.394 664.7 Q132.339 669.283 126.529 669.283 Q120.718 669.283 117.64 664.7 Q114.584 660.094 114.584 651.367 Q114.584 642.617 117.64 638.034 Q120.718 633.427 126.529 633.427 Z\" fill=\"#000000\" fill-rule=\"evenodd\" fill-opacity=\"1\" /><path clip-path=\"url(#clip450)\" d=\"M146.691 662.733 L151.575 662.733 L151.575 668.612 L146.691 668.612 L146.691 662.733 Z\" fill=\"#000000\" fill-rule=\"evenodd\" fill-opacity=\"1\" /><path clip-path=\"url(#clip450)\" d=\"M172.339 649.469 Q169.19 649.469 167.339 651.621 Q165.51 653.774 165.51 657.524 Q165.51 661.251 167.339 663.427 Q169.19 665.58 172.339 665.58 Q175.487 665.58 177.315 663.427 Q179.167 661.251 179.167 657.524 Q179.167 653.774 177.315 651.621 Q175.487 649.469 172.339 649.469 M181.621 634.816 L181.621 639.075 Q179.862 638.242 178.056 637.802 Q176.274 637.362 174.514 637.362 Q169.885 637.362 167.431 640.487 Q165.001 643.612 164.653 649.932 Q166.019 647.918 168.079 646.853 Q170.139 645.765 172.616 645.765 Q177.825 645.765 180.834 648.936 Q183.866 652.084 183.866 657.524 Q183.866 662.848 180.718 666.066 Q177.57 669.283 172.339 669.283 Q166.343 669.283 163.172 664.7 Q160.001 660.094 160.001 651.367 Q160.001 643.172 163.89 638.311 Q167.778 633.427 174.329 633.427 Q176.089 633.427 177.871 633.774 Q179.676 634.122 181.621 634.816 Z\" fill=\"#000000\" fill-rule=\"evenodd\" fill-opacity=\"1\" /><path clip-path=\"url(#clip450)\" d=\"M126.783 324.145 Q123.172 324.145 121.343 327.71 Q119.538 331.252 119.538 338.381 Q119.538 345.488 121.343 349.053 Q123.172 352.594 126.783 352.594 Q130.417 352.594 132.223 349.053 Q134.052 345.488 134.052 338.381 Q134.052 331.252 132.223 327.71 Q130.417 324.145 126.783 324.145 M126.783 320.442 Q132.593 320.442 135.649 325.048 Q138.728 329.631 138.728 338.381 Q138.728 347.108 135.649 351.715 Q132.593 356.298 126.783 356.298 Q120.973 356.298 117.894 351.715 Q114.839 347.108 114.839 338.381 Q114.839 329.631 117.894 325.048 Q120.973 320.442 126.783 320.442 Z\" fill=\"#000000\" fill-rule=\"evenodd\" fill-opacity=\"1\" /><path clip-path=\"url(#clip450)\" d=\"M146.945 349.747 L151.829 349.747 L151.829 355.627 L146.945 355.627 L146.945 349.747 Z\" fill=\"#000000\" fill-rule=\"evenodd\" fill-opacity=\"1\" /><path clip-path=\"url(#clip450)\" d=\"M172.014 339.215 Q168.681 339.215 166.76 340.997 Q164.862 342.78 164.862 345.904 Q164.862 349.029 166.76 350.812 Q168.681 352.594 172.014 352.594 Q175.348 352.594 177.269 350.812 Q179.19 349.006 179.19 345.904 Q179.19 342.78 177.269 340.997 Q175.371 339.215 172.014 339.215 M167.339 337.224 Q164.329 336.483 162.64 334.423 Q160.973 332.363 160.973 329.4 Q160.973 325.256 163.913 322.849 Q166.876 320.442 172.014 320.442 Q177.176 320.442 180.116 322.849 Q183.056 325.256 183.056 329.4 Q183.056 332.363 181.366 334.423 Q179.7 336.483 176.714 337.224 Q180.093 338.011 181.968 340.303 Q183.866 342.594 183.866 345.904 Q183.866 350.928 180.788 353.613 Q177.732 356.298 172.014 356.298 Q166.297 356.298 163.218 353.613 Q160.163 350.928 160.163 345.904 Q160.163 342.594 162.061 340.303 Q163.959 338.011 167.339 337.224 M165.626 329.84 Q165.626 332.525 167.292 334.03 Q168.982 335.534 172.014 335.534 Q175.024 335.534 176.714 334.03 Q178.426 332.525 178.426 329.84 Q178.426 327.155 176.714 325.65 Q175.024 324.145 172.014 324.145 Q168.982 324.145 167.292 325.65 Q165.626 327.155 165.626 329.84 Z\" fill=\"#000000\" fill-rule=\"evenodd\" fill-opacity=\"1\" /><path clip-path=\"url(#clip450)\" d=\"M21.7677 869.958 L39.6235 869.958 L39.6235 861.874 Q39.6235 857.386 37.3 854.935 Q34.9765 852.484 30.6797 852.484 Q26.4147 852.484 24.0912 854.935 Q21.7677 857.386 21.7677 861.874 L21.7677 869.958 M16.4842 876.387 L16.4842 861.874 Q16.4842 853.885 20.1126 849.811 Q23.7092 845.705 30.6797 845.705 Q37.7138 845.705 41.3104 849.811 Q44.907 853.885 44.907 861.874 L44.907 869.958 L64.0042 869.958 L64.0042 876.387 L16.4842 876.387 Z\" fill=\"#000000\" fill-rule=\"evenodd\" fill-opacity=\"1\" /><path clip-path=\"url(#clip450)\" d=\"M33.8307 817.823 Q33.2578 818.81 33.0032 819.987 Q32.7167 821.133 32.7167 822.534 Q32.7167 827.499 35.9632 830.172 Q39.1779 832.814 45.2253 832.814 L64.0042 832.814 L64.0042 838.702 L28.3562 838.702 L28.3562 832.814 L33.8944 832.814 Q30.6479 830.968 29.0883 828.008 Q27.4968 825.048 27.4968 820.815 Q27.4968 820.21 27.5923 819.478 Q27.656 818.746 27.8151 817.855 L33.8307 817.823 Z\" fill=\"#000000\" fill-rule=\"evenodd\" fill-opacity=\"1\" /><path clip-path=\"url(#clip450)\" d=\"M14.5426 797.612 Q21.8632 801.877 29.0246 803.946 Q36.186 806.015 43.5384 806.015 Q50.8908 806.015 58.1159 803.946 Q65.3091 801.845 72.5979 797.612 L72.5979 802.704 Q65.1182 807.479 57.8931 809.866 Q50.668 812.221 43.5384 812.221 Q36.4406 812.221 29.2474 809.866 Q22.0542 807.51 14.5426 802.704 L14.5426 797.612 Z\" fill=\"#000000\" fill-rule=\"evenodd\" fill-opacity=\"1\" /><path clip-path=\"url(#clip450)\" d=\"M14.479 786.249 L14.479 780.393 L64.0042 780.393 L64.0042 786.249 L14.479 786.249 Z\" fill=\"#000000\" fill-rule=\"evenodd\" fill-opacity=\"1\" /><path clip-path=\"url(#clip450)\" d=\"M14.479 750.092 L19.3487 750.092 L19.3487 755.694 Q19.3487 758.845 20.6219 760.086 Q21.895 761.295 25.2052 761.295 L28.3562 761.295 L28.3562 751.651 L32.9077 751.651 L32.9077 761.295 L64.0042 761.295 L64.0042 767.184 L32.9077 767.184 L32.9077 772.786 L28.3562 772.786 L28.3562 767.184 L25.8736 767.184 Q19.9216 767.184 17.2162 764.415 Q14.479 761.646 14.479 755.63 L14.479 750.092 Z\" fill=\"#000000\" fill-rule=\"evenodd\" fill-opacity=\"1\" /><path clip-path=\"url(#clip450)\" d=\"M58.657 739.525 L77.5631 739.525 L77.5631 745.413 L28.3562 745.413 L28.3562 739.525 L33.7671 739.525 Q30.5842 737.679 29.0564 734.878 Q27.4968 732.045 27.4968 728.13 Q27.4968 721.637 32.6531 717.595 Q37.8093 713.521 46.212 713.521 Q54.6147 713.521 59.771 717.595 Q64.9272 721.637 64.9272 728.13 Q64.9272 732.045 63.3994 734.878 Q61.8398 737.679 58.657 739.525 M46.212 719.6 Q39.7508 719.6 36.0905 722.274 Q32.3984 724.915 32.3984 729.562 Q32.3984 734.209 36.0905 736.883 Q39.7508 739.525 46.212 739.525 Q52.6732 739.525 56.3653 736.883 Q60.0256 734.209 60.0256 729.562 Q60.0256 724.915 56.3653 722.274 Q52.6732 719.6 46.212 719.6 Z\" fill=\"#000000\" fill-rule=\"evenodd\" fill-opacity=\"1\" /><path clip-path=\"url(#clip450)\" d=\"M34.4036 703.049 L34.4036 662.245 L39.7508 662.245 L39.7508 703.049 L34.4036 703.049 M47.3897 703.049 L47.3897 662.245 L52.8005 662.245 L52.8005 703.049 L47.3897 703.049 Z\" fill=\"#000000\" fill-rule=\"evenodd\" fill-opacity=\"1\" /><path clip-path=\"url(#clip450)\" d=\"M58.5933 647.254 L58.5933 636.75 L22.3406 636.75 L24.6323 648.177 L18.7758 648.177 L16.4842 636.814 L16.4842 630.385 L58.5933 630.385 L58.5933 619.881 L64.0042 619.881 L64.0042 647.254 L58.5933 647.254 Z\" fill=\"#000000\" fill-rule=\"evenodd\" fill-opacity=\"1\" /><path clip-path=\"url(#clip450)\" d=\"M14.5426 608.646 L14.5426 603.553 Q22.0542 598.779 29.2474 596.424 Q36.4406 594.037 43.5384 594.037 Q50.668 594.037 57.8931 596.424 Q65.1182 598.779 72.5979 603.553 L72.5979 608.646 Q65.3091 604.413 58.1159 602.344 Q50.8908 600.243 43.5384 600.243 Q36.186 600.243 29.0246 602.344 Q21.8632 604.413 14.5426 608.646 Z\" fill=\"#000000\" fill-rule=\"evenodd\" fill-opacity=\"1\" /><polyline clip-path=\"url(#clip452)\" style=\"stroke:#009af9; stroke-linecap:round; stroke-linejoin:round; stroke-width:4; stroke-opacity:1; fill:none\" points=\"280.231,360.064 285.022,355.999 289.813,351.989 294.604,348.034 299.394,344.134 304.185,340.288 308.976,336.495 313.767,332.756 318.558,329.07 323.349,325.435 328.14,321.852 332.93,318.321 337.721,314.84 342.512,311.41 347.303,308.029 352.094,304.697 356.885,301.415 361.676,298.18 366.466,294.993 371.257,291.853 376.048,288.76 380.839,285.713 385.63,282.712 390.421,279.756 395.212,276.844 400.002,273.977 404.793,271.153 409.584,268.373 414.375,265.635 419.166,262.94 423.957,260.286 428.748,257.673 433.538,255.101 438.329,252.569 443.12,250.076 447.911,247.623 452.702,245.209 457.493,242.833 462.284,240.495 467.074,238.194 471.865,235.93 476.656,233.702 481.447,231.511 486.238,229.354 491.029,227.233 495.82,225.147 500.61,223.094 505.401,221.075 510.192,219.09 514.983,217.137 519.774,215.217 524.565,213.329 529.356,211.472 534.147,209.647 538.937,207.852 543.728,206.088 548.519,204.354 553.31,202.649 558.101,200.973 562.892,199.327 567.683,197.708 572.473,196.118 577.264,194.555 582.055,193.02 586.846,191.512 591.637,190.03 596.428,188.575 601.219,187.145 606.009,185.741 610.8,184.362 615.591,183.008 620.382,181.679 625.173,180.374 629.964,179.093 634.755,177.836 639.545,176.601 644.336,175.39 649.127,174.202 653.918,173.036 658.709,171.892 663.5,170.77 668.291,169.67 673.081,168.591 677.872,167.533 682.663,166.496 687.454,165.48 692.245,164.483 697.036,163.507 701.827,162.551 706.617,161.614 711.408,160.696 716.199,159.797 720.99,158.918 725.781,158.057 730.572,157.214 735.363,156.389 740.153,155.583 744.944,154.794 749.735,154.023 754.526,153.269 759.317,152.533 764.108,151.813 768.899,151.111 773.689,150.424 778.48,149.755 783.271,149.102 788.062,148.464 792.853,147.843 797.644,147.238 802.435,146.648 807.225,146.074 812.016,145.515 816.807,144.971 821.598,144.442 826.389,143.928 831.18,143.429 835.971,142.945 840.761,142.475 845.552,142.02 850.343,141.579 855.134,141.152 859.925,140.739 864.716,140.34 869.507,139.955 874.297,139.584 879.088,139.226 883.879,138.882 888.67,138.552 893.461,138.234 898.252,137.931 903.043,137.64 907.833,137.363 912.624,137.098 917.415,136.847 922.206,136.608 926.997,136.383 931.788,136.17 936.579,135.97 941.369,135.783 946.16,135.609 950.951,135.447 955.742,135.298 960.533,135.161 965.324,135.037 970.115,134.925 974.905,134.826 979.696,134.739 984.487,134.664 989.278,134.602 994.069,134.552 998.86,134.515 1003.65,134.49 1008.44,134.477 1013.23,134.477 1018.02,134.489 1022.81,134.513 1027.6,134.55 1032.4,134.599 1037.19,134.66 1041.98,134.734 1046.77,134.82 1051.56,134.919 1056.35,135.03 1061.14,135.153 1065.93,135.289 1070.72,135.438 1075.51,135.599 1080.3,135.772 1085.1,135.959 1089.89,136.158 1094.68,136.37 1099.47,136.595 1104.26,136.832 1109.05,137.083 1113.84,137.346 1118.63,137.623 1123.42,137.913 1128.21,138.216 1133,138.532 1137.79,138.862 1142.59,139.205 1147.38,139.562 1152.17,139.932 1156.96,140.317 1161.75,140.715 1166.54,141.127 1171.33,141.553 1176.12,141.993 1180.91,142.447 1185.7,142.916 1190.49,143.4 1195.28,143.898 1200.08,144.411 1204.87,144.939 1209.66,145.482 1214.45,146.04 1219.24,146.613 1224.03,147.202 1228.82,147.806 1233.61,148.427 1238.4,149.063 1243.19,149.715 1247.98,150.384 1252.78,151.069 1257.57,151.771 1262.36,152.489 1267.15,153.225 1271.94,153.977 1276.73,154.748 1281.52,155.535 1286.31,156.341 1291.1,157.164 1295.89,158.006 1300.68,158.866 1305.47,159.744 1310.27,160.642 1315.06,161.558 1319.85,162.494 1324.64,163.449 1329.43,164.424 1334.22,165.419 1339.01,166.435 1343.8,167.471 1348.59,168.527 1353.38,169.605 1358.17,170.704 1362.96,171.825 1367.76,172.967 1372.55,174.132 1377.34,175.319 1382.13,176.528 1386.92,177.761 1391.71,179.017 1396.5,180.297 1401.29,181.6 1406.08,182.928 1410.87,184.28 1415.66,185.658 1420.46,187.06 1425.25,188.488 1430.04,189.942 1434.83,191.422 1439.62,192.929 1444.41,194.463 1449.2,196.024 1453.99,197.612 1458.78,199.229 1463.57,200.874 1468.36,202.548 1473.15,204.251 1477.95,205.983 1482.74,207.746 1487.53,209.539 1492.32,211.362 1497.11,213.217 1501.9,215.103 1506.69,217.021 1511.48,218.972 1516.27,220.956 1521.06,222.972 1525.85,225.023 1530.64,227.107 1535.44,229.226 1540.23,231.38 1545.02,233.57 1549.81,235.795 1554.6,238.057 1559.39,240.356 1564.18,242.692 1568.97,245.066 1573.76,247.478 1578.55,249.928 1583.34,252.418 1588.14,254.948 1592.93,257.517 1597.72,260.128 1602.51,262.779 1607.3,265.472 1612.09,268.208 1616.88,270.986 1621.67,273.807 1626.46,276.671 1631.25,279.58 1636.04,282.533 1640.83,285.532 1645.63,288.576 1650.42,291.666 1655.21,294.803 1660,297.988 1664.79,301.219 1669.58,304.499 1674.37,307.828 1679.16,311.206 1683.95,314.633 1688.74,318.111 1693.53,321.639 1698.32,325.219 1703.12,328.85 1707.91,332.534 1712.7,336.27 1717.49,340.059 1722.28,343.902 1727.07,347.799 1731.86,351.751 1736.65,355.757 1741.44,359.819 1746.23,363.937 1751.02,368.112 1755.82,372.343 1760.61,376.632 1765.4,380.978 1770.19,385.382 1774.98,389.845 1779.77,394.367 1784.56,398.948 1789.35,403.589 1794.14,408.29 1798.93,413.052 1803.72,417.874 1808.51,422.757 1813.31,427.702 1818.1,432.708 1822.89,437.776 1827.68,442.907 1832.47,448.1 1837.26,453.356 1842.05,458.675 1846.84,464.057 1851.63,469.502 1856.42,475.011 1861.21,480.584 1866,486.22 1870.8,491.921 1875.59,497.685 1880.38,503.514 1885.17,509.406 1889.96,515.363 1894.75,521.384 1899.54,527.469 1904.33,533.618 1909.12,539.831 1913.91,546.108 1918.7,552.449 1923.5,558.853 1928.29,565.321 1933.08,571.852 1937.87,578.446 1942.66,585.102 1947.45,591.821 1952.24,598.601 1957.03,605.443 1961.82,612.347 1966.61,619.311 1971.4,626.335 1976.19,633.419 1980.99,640.562 1985.78,647.764 1990.57,655.024 1995.36,662.341 2000.15,669.715 2004.94,677.145 2009.73,684.63 2014.52,692.169 2019.31,699.762 2024.1,707.407 2028.89,715.104 2033.68,722.852 2038.48,730.65 2043.27,738.496 2048.06,746.39 2052.85,754.33 2057.64,762.316 2062.43,770.346 2067.22,778.419 2072.01,786.533 2076.8,794.688 2081.59,802.882 2086.38,811.114 2091.18,819.381 2095.97,827.684 2100.76,836.019 2105.55,844.386 2110.34,852.784 2115.13,861.209 2119.92,869.662 2124.71,878.14 2129.5,886.641 2134.29,895.164 2139.08,903.706 2143.87,912.267 2148.67,920.844 2153.46,929.435 2158.25,938.038 2163.04,946.652 2167.83,955.275 2172.62,963.904 2177.41,972.537 2182.2,981.173 2186.99,989.809 2191.78,998.444 2196.57,1007.07 2201.36,1015.7 2206.16,1024.32 2210.95,1032.92 2215.74,1041.52 2220.53,1050.09 2225.32,1058.66 2230.11,1067.2 2234.9,1075.72 2239.69,1084.22 2244.48,1092.7 2249.27,1101.14 2254.06,1109.56 2258.86,1117.94 2263.65,1126.29 2268.44,1134.6 2273.23,1142.87 2278.02,1151.1 2282.81,1159.29 2287.6,1167.44 2292.39,1175.53 \"/>\n",
       "<polyline clip-path=\"url(#clip452)\" style=\"stroke:#e26f46; stroke-linecap:round; stroke-linejoin:round; stroke-width:4; stroke-opacity:1; fill:none\" points=\"280.231,593.88 285.022,586.867 289.813,579.935 294.604,573.085 299.394,566.317 304.185,559.632 308.976,553.029 313.767,546.508 318.558,540.07 323.349,533.714 328.14,527.441 332.93,521.25 337.721,515.14 342.512,509.113 347.303,503.167 352.094,497.303 356.885,491.52 361.676,485.817 366.466,480.195 371.257,474.653 376.048,469.191 380.839,463.808 385.63,458.504 390.421,453.278 395.212,448.131 400.002,443.06 404.793,438.066 409.584,433.149 414.375,428.307 419.166,423.541 423.957,418.848 428.748,414.23 433.538,409.686 438.329,405.213 443.12,400.813 447.911,396.484 452.702,392.226 457.493,388.038 462.284,383.919 467.074,379.869 471.865,375.887 476.656,371.972 481.447,368.123 486.238,364.34 491.029,360.623 495.82,356.969 500.61,353.379 505.401,349.852 510.192,346.387 514.983,342.984 519.774,339.641 524.565,336.358 529.356,333.134 534.147,329.969 538.937,326.861 543.728,323.81 548.519,320.816 553.31,317.877 558.101,314.993 562.892,312.163 567.683,309.386 572.473,306.662 577.264,303.99 582.055,301.369 586.846,298.798 591.637,296.277 596.428,293.806 601.219,291.383 606.009,289.008 610.8,286.68 615.591,284.398 620.382,282.162 625.173,279.971 629.964,277.825 634.755,275.722 639.545,273.663 644.336,271.646 649.127,269.672 653.918,267.738 658.709,265.846 663.5,263.993 668.291,262.181 673.081,260.407 677.872,258.672 682.663,256.974 687.454,255.314 692.245,253.691 697.036,252.104 701.827,250.553 706.617,249.037 711.408,247.556 716.199,246.109 720.99,244.696 725.781,243.316 730.572,241.969 735.363,240.654 740.153,239.371 744.944,238.119 749.735,236.898 754.526,235.708 759.317,234.548 764.108,233.418 768.899,232.317 773.689,231.245 778.48,230.201 783.271,229.186 788.062,228.198 792.853,227.238 797.644,226.305 802.435,225.398 807.225,224.518 812.016,223.663 816.807,222.835 821.598,222.032 826.389,221.253 831.18,220.5 835.971,219.771 840.761,219.066 845.552,218.386 850.343,217.728 855.134,217.095 859.925,216.484 864.716,215.896 869.507,215.331 874.297,214.788 879.088,214.267 883.879,213.768 888.67,213.291 893.461,212.836 898.252,212.401 903.043,211.988 907.833,211.596 912.624,211.224 917.415,210.873 922.206,210.543 926.997,210.233 931.788,209.942 936.579,209.672 941.369,209.422 946.16,209.191 950.951,208.979 955.742,208.788 960.533,208.615 965.324,208.461 970.115,208.327 974.905,208.211 979.696,208.115 984.487,208.037 989.278,207.978 994.069,207.937 998.86,207.915 1003.65,207.911 1008.44,207.926 1013.23,207.959 1018.02,208.01 1022.81,208.079 1027.6,208.167 1032.4,208.273 1037.19,208.397 1041.98,208.539 1046.77,208.698 1051.56,208.876 1056.35,209.072 1061.14,209.286 1065.93,209.518 1070.72,209.768 1075.51,210.036 1080.3,210.322 1085.1,210.626 1089.89,210.949 1094.68,211.289 1099.47,211.647 1104.26,212.023 1109.05,212.418 1113.84,212.831 1118.63,213.262 1123.42,213.711 1128.21,214.179 1133,214.665 1137.79,215.17 1142.59,215.693 1147.38,216.235 1152.17,216.795 1156.96,217.375 1161.75,217.973 1166.54,218.59 1171.33,219.226 1176.12,219.882 1180.91,220.557 1185.7,221.251 1190.49,221.965 1195.28,222.698 1200.08,223.451 1204.87,224.224 1209.66,225.017 1214.45,225.831 1219.24,226.664 1224.03,227.518 1228.82,228.393 1233.61,229.288 1238.4,230.205 1243.19,231.142 1247.98,232.101 1252.78,233.081 1257.57,234.083 1262.36,235.107 1267.15,236.152 1271.94,237.22 1276.73,238.311 1281.52,239.424 1286.31,240.559 1291.1,241.718 1295.89,242.9 1300.68,244.106 1305.47,245.335 1310.27,246.588 1315.06,247.866 1319.85,249.168 1324.64,250.494 1329.43,251.846 1334.22,253.222 1339.01,254.625 1343.8,256.053 1348.59,257.507 1353.38,258.987 1358.17,260.494 1362.96,262.028 1367.76,263.589 1372.55,265.178 1377.34,266.794 1382.13,268.439 1386.92,270.112 1391.71,271.813 1396.5,273.544 1401.29,275.305 1406.08,277.095 1410.87,278.915 1415.66,280.766 1420.46,282.648 1425.25,284.561 1430.04,286.505 1434.83,288.482 1439.62,290.491 1444.41,292.533 1449.2,294.607 1453.99,296.716 1458.78,298.858 1463.57,301.035 1468.36,303.247 1473.15,305.494 1477.95,307.776 1482.74,310.095 1487.53,312.45 1492.32,314.842 1497.11,317.272 1501.9,319.74 1506.69,322.246 1511.48,324.791 1516.27,327.375 1521.06,329.999 1525.85,332.663 1530.64,335.369 1535.44,338.115 1540.23,340.904 1545.02,343.734 1549.81,346.608 1554.6,349.525 1559.39,352.485 1564.18,355.491 1568.97,358.541 1573.76,361.636 1578.55,364.778 1583.34,367.966 1588.14,371.202 1592.93,374.485 1597.72,377.817 1602.51,381.197 1607.3,384.627 1612.09,388.106 1616.88,391.636 1621.67,395.218 1626.46,398.851 1631.25,402.536 1636.04,406.274 1640.83,410.066 1645.63,413.911 1650.42,417.811 1655.21,421.767 1660,425.778 1664.79,429.845 1669.58,433.97 1674.37,438.151 1679.16,442.391 1683.95,446.69 1688.74,451.048 1693.53,455.465 1698.32,459.943 1703.12,464.482 1707.91,469.082 1712.7,473.744 1717.49,478.469 1722.28,483.256 1727.07,488.108 1731.86,493.023 1736.65,498.003 1741.44,503.048 1746.23,508.158 1751.02,513.334 1755.82,518.577 1760.61,523.887 1765.4,529.263 1770.19,534.708 1774.98,540.22 1779.77,545.801 1784.56,551.451 1789.35,557.17 1794.14,562.958 1798.93,568.815 1803.72,574.743 1808.51,580.741 1813.31,586.809 1818.1,592.947 1822.89,599.156 1827.68,605.436 1832.47,611.786 1837.26,618.208 1842.05,624.7 1846.84,631.263 1851.63,637.897 1856.42,644.601 1861.21,651.376 1866,658.221 1870.8,665.137 1875.59,672.122 1880.38,679.177 1885.17,686.301 1889.96,693.494 1894.75,700.755 1899.54,708.084 1904.33,715.48 1909.12,722.943 1913.91,730.472 1918.7,738.067 1923.5,745.726 1928.29,753.448 1933.08,761.234 1937.87,769.082 1942.66,776.99 1947.45,784.959 1952.24,792.986 1957.03,801.071 1961.82,809.213 1966.61,817.41 1971.4,825.66 1976.19,833.963 1980.99,842.317 1985.78,850.72 1990.57,859.172 1995.36,867.669 2000.15,876.211 2004.94,884.795 2009.73,893.42 2014.52,902.084 2019.31,910.786 2024.1,919.522 2028.89,928.291 2033.68,937.09 2038.48,945.918 2043.27,954.773 2048.06,963.651 2052.85,972.551 2057.64,981.47 2062.43,990.406 2067.22,999.356 2072.01,1008.32 2076.8,1017.29 2081.59,1026.27 2086.38,1035.25 2091.18,1044.23 2095.97,1053.21 2100.76,1062.18 2105.55,1071.15 2110.34,1080.11 2115.13,1089.05 2119.92,1097.98 2124.71,1106.89 2129.5,1115.77 2134.29,1124.64 2139.08,1133.47 2143.87,1142.27 2148.67,1151.04 2153.46,1159.77 2158.25,1168.46 2163.04,1177.11 2167.83,1185.71 2172.62,1194.27 2177.41,1202.77 2182.2,1211.21 2186.99,1219.6 2191.78,1227.93 2196.57,1236.2 2201.36,1244.39 2206.16,1252.52 2210.95,1260.58 2215.74,1268.56 2220.53,1276.47 2225.32,1284.3 2230.11,1292.04 2234.9,1299.7 2239.69,1307.28 2244.48,1314.76 2249.27,1322.15 2254.06,1329.45 2258.86,1336.65 2263.65,1343.76 2268.44,1350.77 2273.23,1357.67 2278.02,1364.47 2282.81,1371.17 2287.6,1377.76 2292.39,1384.24 \"/>\n",
       "<polyline clip-path=\"url(#clip452)\" style=\"stroke:#3da44d; stroke-linecap:round; stroke-linejoin:round; stroke-width:4; stroke-opacity:1; fill:none\" points=\"280.231,194.618 285.022,192.9 289.813,191.203 294.604,189.526 299.394,187.871 304.185,186.235 308.976,184.62 313.767,183.024 318.558,181.448 323.349,179.891 328.14,178.353 332.93,176.835 337.721,175.335 342.512,173.853 347.303,172.39 352.094,170.945 356.885,169.517 361.676,168.108 366.466,166.715 371.257,165.34 376.048,163.982 380.839,162.641 385.63,161.317 390.421,160.009 395.212,158.717 400.002,157.441 404.793,156.181 409.584,154.937 414.375,153.708 419.166,152.495 423.957,151.297 428.748,150.114 433.538,148.946 438.329,147.792 443.12,146.653 447.911,145.529 452.702,144.418 457.493,143.322 462.284,142.24 467.074,141.171 471.865,140.116 476.656,139.074 481.447,138.046 486.238,137.031 491.029,136.029 495.82,135.04 500.61,134.063 505.401,133.099 510.192,132.148 514.983,131.209 519.774,130.283 524.565,129.368 529.356,128.466 534.147,127.575 538.937,126.697 543.728,125.83 548.519,124.974 553.31,124.13 558.101,123.298 562.892,122.476 567.683,121.666 572.473,120.867 577.264,120.079 582.055,119.302 586.846,118.536 591.637,117.78 596.428,117.035 601.219,116.3 606.009,115.576 610.8,114.862 615.591,114.159 620.382,113.465 625.173,112.782 629.964,112.109 634.755,111.446 639.545,110.792 644.336,110.149 649.127,109.515 653.918,108.891 658.709,108.276 663.5,107.672 668.291,107.076 673.081,106.49 677.872,105.913 682.663,105.346 687.454,104.787 692.245,104.238 697.036,103.698 701.827,103.167 706.617,102.646 711.408,102.133 716.199,101.628 720.99,101.133 725.781,100.647 730.572,100.169 735.363,99.6999 740.153,99.2395 744.944,98.7876 749.735,98.3443 754.526,97.9095 759.317,97.4832 764.108,97.0653 768.899,96.6557 773.689,96.2545 778.48,95.8615 783.271,95.4768 788.062,95.1003 792.853,94.732 797.644,94.3718 802.435,94.0198 807.225,93.6758 812.016,93.3398 816.807,93.0118 821.598,92.6918 826.389,92.3797 831.18,92.0755 835.971,91.7792 840.761,91.4908 845.552,91.2102 850.343,90.9373 855.134,90.6723 859.925,90.415 864.716,90.1654 869.507,89.9235 874.297,89.6893 879.088,89.4628 883.879,89.2439 888.67,89.0327 893.461,88.8291 898.252,88.633 903.043,88.4446 907.833,88.2637 912.624,88.0904 917.415,87.9247 922.206,87.7665 926.997,87.6158 931.788,87.4726 936.579,87.337 941.369,87.2089 946.16,87.0884 950.951,86.9753 955.742,86.8698 960.533,86.7718 965.324,86.6813 970.115,86.5984 974.905,86.523 979.696,86.4551 984.487,86.3948 989.278,86.3421 994.069,86.297 998.86,86.2594 1003.65,86.2295 1008.44,86.2072 1013.23,86.1926 1018.02,86.1857 1022.81,86.1864 1027.6,86.1949 1032.4,86.2111 1037.19,86.2351 1041.98,86.267 1046.77,86.3066 1051.56,86.3542 1056.35,86.4097 1061.14,86.4731 1065.93,86.5445 1070.72,86.624 1075.51,86.7116 1080.3,86.8073 1085.1,86.9111 1089.89,87.0232 1094.68,87.1436 1099.47,87.2724 1104.26,87.4095 1109.05,87.5551 1113.84,87.7093 1118.63,87.872 1123.42,88.0434 1128.21,88.2235 1133,88.4124 1137.79,88.6102 1142.59,88.8169 1147.38,89.0327 1152.17,89.2576 1156.96,89.4917 1161.75,89.7351 1166.54,89.9879 1171.33,90.2501 1176.12,90.5219 1180.91,90.8034 1185.7,91.0946 1190.49,91.3958 1195.28,91.7069 1200.08,92.0281 1204.87,92.3595 1209.66,92.7012 1214.45,93.0533 1219.24,93.4161 1224.03,93.7895 1228.82,94.1737 1233.61,94.5689 1238.4,94.9752 1243.19,95.3927 1247.98,95.8215 1252.78,96.2619 1257.57,96.7139 1262.36,97.1778 1267.15,97.6535 1271.94,98.1415 1276.73,98.6417 1281.52,99.1543 1286.31,99.6796 1291.1,100.218 1295.89,100.769 1300.68,101.333 1305.47,101.91 1310.27,102.501 1315.06,103.106 1319.85,103.725 1324.64,104.357 1329.43,105.004 1334.22,105.666 1339.01,106.342 1343.8,107.033 1348.59,107.74 1353.38,108.461 1358.17,109.199 1362.96,109.952 1367.76,110.721 1372.55,111.506 1377.34,112.308 1382.13,113.127 1386.92,113.963 1391.71,114.816 1396.5,115.686 1401.29,116.575 1406.08,117.481 1410.87,118.406 1415.66,119.349 1420.46,120.312 1425.25,121.293 1430.04,122.294 1434.83,123.315 1439.62,124.355 1444.41,125.416 1449.2,126.498 1453.99,127.6 1458.78,128.724 1463.57,129.87 1468.36,131.037 1473.15,132.226 1477.95,133.438 1482.74,134.673 1487.53,135.931 1492.32,137.212 1497.11,138.517 1501.9,139.847 1506.69,141.201 1511.48,142.58 1516.27,143.984 1521.06,145.413 1525.85,146.869 1530.64,148.351 1535.44,149.859 1540.23,151.395 1545.02,152.958 1549.81,154.549 1554.6,156.168 1559.39,157.815 1564.18,159.491 1568.97,161.197 1573.76,162.932 1578.55,164.697 1583.34,166.493 1588.14,168.319 1592.93,170.177 1597.72,172.066 1602.51,173.987 1607.3,175.94 1612.09,177.926 1616.88,179.946 1621.67,181.999 1626.46,184.085 1631.25,186.206 1636.04,188.362 1640.83,190.553 1645.63,192.779 1650.42,195.041 1655.21,197.34 1660,199.675 1664.79,202.047 1669.58,204.456 1674.37,206.904 1679.16,209.389 1683.95,211.913 1688.74,214.476 1693.53,217.078 1698.32,219.719 1703.12,222.401 1707.91,225.123 1712.7,227.886 1717.49,230.69 1722.28,233.535 1727.07,236.422 1731.86,239.351 1736.65,242.323 1741.44,245.337 1746.23,248.395 1751.02,251.496 1755.82,254.64 1760.61,257.829 1765.4,261.062 1770.19,264.34 1774.98,267.662 1779.77,271.03 1784.56,274.443 1789.35,277.902 1794.14,281.407 1798.93,284.958 1803.72,288.555 1808.51,292.2 1813.31,295.891 1818.1,299.63 1822.89,303.415 1827.68,307.249 1832.47,311.13 1837.26,315.059 1842.05,319.037 1846.84,323.062 1851.63,327.136 1856.42,331.259 1861.21,335.43 1866,339.651 1870.8,343.92 1875.59,348.239 1880.38,352.606 1885.17,357.023 1889.96,361.49 1894.75,366.006 1899.54,370.571 1904.33,375.186 1909.12,379.85 1913.91,384.564 1918.7,389.328 1923.5,394.142 1928.29,399.005 1933.08,403.917 1937.87,408.879 1942.66,413.891 1947.45,418.952 1952.24,424.063 1957.03,429.223 1961.82,434.432 1966.61,439.69 1971.4,444.997 1976.19,450.354 1980.99,455.759 1985.78,461.212 1990.57,466.714 1995.36,472.265 2000.15,477.863 2004.94,483.509 2009.73,489.203 2014.52,494.944 2019.31,500.733 2024.1,506.568 2028.89,512.45 2033.68,518.378 2038.48,524.353 2043.27,530.373 2048.06,536.438 2052.85,542.549 2057.64,548.704 2062.43,554.903 2067.22,561.147 2072.01,567.434 2076.8,573.764 2081.59,580.137 2086.38,586.552 2091.18,593.008 2095.97,599.506 2100.76,606.045 2105.55,612.624 2110.34,619.243 2115.13,625.901 2119.92,632.597 2124.71,639.332 2129.5,646.104 2134.29,652.913 2139.08,659.758 2143.87,666.638 2148.67,673.554 2153.46,680.503 2158.25,687.486 2163.04,694.502 2167.83,701.55 2172.62,708.629 2177.41,715.739 2182.2,722.879 2186.99,730.047 2191.78,737.244 2196.57,744.468 2201.36,751.719 2206.16,758.995 2210.95,766.296 2215.74,773.62 2220.53,780.968 2225.32,788.337 2230.11,795.728 2234.9,803.138 2239.69,810.568 2244.48,818.016 2249.27,825.481 2254.06,832.962 2258.86,840.457 2263.65,847.967 2268.44,855.49 2273.23,863.025 2278.02,870.57 2282.81,878.125 2287.6,885.688 2292.39,893.259 \"/>\n",
       "<path clip-path=\"url(#clip450)\" d=\"M290.963 1377.32 L639.112 1377.32 L639.112 1169.96 L290.963 1169.96  Z\" fill=\"#ffffff\" fill-rule=\"evenodd\" fill-opacity=\"1\"/>\n",
       "<polyline clip-path=\"url(#clip450)\" style=\"stroke:#000000; stroke-linecap:round; stroke-linejoin:round; stroke-width:4; stroke-opacity:1; fill:none\" points=\"290.963,1377.32 639.112,1377.32 639.112,1169.96 290.963,1169.96 290.963,1377.32 \"/>\n",
       "<polyline clip-path=\"url(#clip450)\" style=\"stroke:#009af9; stroke-linecap:round; stroke-linejoin:round; stroke-width:4; stroke-opacity:1; fill:none\" points=\"314.661,1221.8 456.854,1221.8 \"/>\n",
       "<path clip-path=\"url(#clip450)\" d=\"M480.553 1203.06 L484.812 1203.06 L484.812 1239.08 L480.553 1239.08 L480.553 1203.06 Z\" fill=\"#000000\" fill-rule=\"evenodd\" fill-opacity=\"1\" /><path clip-path=\"url(#clip450)\" d=\"M506.849 1203.06 L506.849 1206.6 L502.775 1206.6 Q500.483 1206.6 499.58 1207.52 Q498.701 1208.45 498.701 1210.86 L498.701 1213.15 L505.715 1213.15 L505.715 1216.46 L498.701 1216.46 L498.701 1239.08 L494.418 1239.08 L494.418 1216.46 L490.344 1216.46 L490.344 1213.15 L494.418 1213.15 L494.418 1211.34 Q494.418 1207.02 496.432 1205.05 Q498.446 1203.06 502.821 1203.06 L506.849 1203.06 Z\" fill=\"#000000\" fill-rule=\"evenodd\" fill-opacity=\"1\" /><path clip-path=\"url(#clip450)\" d=\"M514.534 1235.19 L514.534 1248.94 L510.252 1248.94 L510.252 1213.15 L514.534 1213.15 L514.534 1217.08 Q515.877 1214.77 517.914 1213.66 Q519.974 1212.52 522.821 1212.52 Q527.543 1212.52 530.483 1216.27 Q533.446 1220.02 533.446 1226.14 Q533.446 1232.25 530.483 1236 Q527.543 1239.75 522.821 1239.75 Q519.974 1239.75 517.914 1238.64 Q515.877 1237.5 514.534 1235.19 M529.025 1226.14 Q529.025 1221.44 527.08 1218.77 Q525.159 1216.09 521.779 1216.09 Q518.4 1216.09 516.455 1218.77 Q514.534 1221.44 514.534 1226.14 Q514.534 1230.83 516.455 1233.52 Q518.4 1236.18 521.779 1236.18 Q525.159 1236.18 527.08 1233.52 Q529.025 1230.83 529.025 1226.14 Z\" fill=\"#000000\" fill-rule=\"evenodd\" fill-opacity=\"1\" /><polyline clip-path=\"url(#clip450)\" style=\"stroke:#e26f46; stroke-linecap:round; stroke-linejoin:round; stroke-width:4; stroke-opacity:1; fill:none\" points=\"314.661,1273.64 456.854,1273.64 \"/>\n",
       "<path clip-path=\"url(#clip450)\" d=\"M480.553 1254.9 L484.812 1254.9 L484.812 1290.92 L480.553 1290.92 L480.553 1254.9 Z\" fill=\"#000000\" fill-rule=\"evenodd\" fill-opacity=\"1\" /><path clip-path=\"url(#clip450)\" d=\"M503.77 1267.98 Q500.344 1267.98 498.354 1270.66 Q496.363 1273.32 496.363 1277.98 Q496.363 1282.63 498.33 1285.31 Q500.321 1287.98 503.77 1287.98 Q507.173 1287.98 509.164 1285.29 Q511.154 1282.61 511.154 1277.98 Q511.154 1273.37 509.164 1270.68 Q507.173 1267.98 503.77 1267.98 M503.77 1264.36 Q509.326 1264.36 512.497 1267.98 Q515.668 1271.59 515.668 1277.98 Q515.668 1284.34 512.497 1287.98 Q509.326 1291.59 503.77 1291.59 Q498.192 1291.59 495.02 1287.98 Q491.872 1284.34 491.872 1277.98 Q491.872 1271.59 495.02 1267.98 Q498.192 1264.36 503.77 1264.36 Z\" fill=\"#000000\" fill-rule=\"evenodd\" fill-opacity=\"1\" /><path clip-path=\"url(#clip450)\" d=\"M520.252 1264.99 L524.511 1264.99 L529.835 1285.22 L535.136 1264.99 L540.159 1264.99 L545.483 1285.22 L550.784 1264.99 L555.043 1264.99 L548.261 1290.92 L543.238 1290.92 L537.659 1269.67 L532.057 1290.92 L527.034 1290.92 L520.252 1264.99 Z\" fill=\"#000000\" fill-rule=\"evenodd\" fill-opacity=\"1\" /><path clip-path=\"url(#clip450)\" d=\"M583.677 1276.89 L583.677 1278.97 L564.094 1278.97 Q564.372 1283.37 566.733 1285.68 Q569.117 1287.98 573.353 1287.98 Q575.807 1287.98 578.099 1287.37 Q580.413 1286.77 582.682 1285.57 L582.682 1289.6 Q580.39 1290.57 577.983 1291.08 Q575.575 1291.59 573.099 1291.59 Q566.895 1291.59 563.261 1287.98 Q559.65 1284.36 559.65 1278.21 Q559.65 1271.84 563.075 1268.11 Q566.525 1264.36 572.358 1264.36 Q577.589 1264.36 580.622 1267.74 Q583.677 1271.1 583.677 1276.89 M579.418 1275.64 Q579.372 1272.14 577.45 1270.06 Q575.552 1267.98 572.404 1267.98 Q568.839 1267.98 566.687 1269.99 Q564.557 1272 564.233 1275.66 L579.418 1275.64 Z\" fill=\"#000000\" fill-rule=\"evenodd\" fill-opacity=\"1\" /><path clip-path=\"url(#clip450)\" d=\"M605.691 1268.97 Q604.973 1268.55 604.117 1268.37 Q603.284 1268.16 602.265 1268.16 Q598.654 1268.16 596.71 1270.52 Q594.788 1272.86 594.788 1277.26 L594.788 1290.92 L590.506 1290.92 L590.506 1264.99 L594.788 1264.99 L594.788 1269.02 Q596.131 1266.66 598.284 1265.52 Q600.436 1264.36 603.515 1264.36 Q603.955 1264.36 604.487 1264.43 Q605.02 1264.48 605.668 1264.6 L605.691 1268.97 Z\" fill=\"#000000\" fill-rule=\"evenodd\" fill-opacity=\"1\" /><polyline clip-path=\"url(#clip450)\" style=\"stroke:#3da44d; stroke-linecap:round; stroke-linejoin:round; stroke-width:4; stroke-opacity:1; fill:none\" points=\"314.661,1325.48 456.854,1325.48 \"/>\n",
       "<path clip-path=\"url(#clip450)\" d=\"M480.553 1332.52 L480.553 1316.83 L484.812 1316.83 L484.812 1332.36 Q484.812 1336.04 486.247 1337.89 Q487.682 1339.72 490.553 1339.72 Q494.002 1339.72 495.993 1337.52 Q498.006 1335.32 498.006 1331.53 L498.006 1316.83 L502.266 1316.83 L502.266 1342.76 L498.006 1342.76 L498.006 1338.77 Q496.455 1341.13 494.395 1342.29 Q492.358 1343.43 489.65 1343.43 Q485.182 1343.43 482.868 1340.65 Q480.553 1337.87 480.553 1332.52 M491.27 1316.2 L491.27 1316.2 Z\" fill=\"#000000\" fill-rule=\"evenodd\" fill-opacity=\"1\" /><path clip-path=\"url(#clip450)\" d=\"M515.159 1338.87 L515.159 1352.62 L510.877 1352.62 L510.877 1316.83 L515.159 1316.83 L515.159 1320.76 Q516.502 1318.45 518.539 1317.34 Q520.599 1316.2 523.446 1316.2 Q528.168 1316.2 531.108 1319.95 Q534.071 1323.7 534.071 1329.82 Q534.071 1335.93 531.108 1339.68 Q528.168 1343.43 523.446 1343.43 Q520.599 1343.43 518.539 1342.32 Q516.502 1341.18 515.159 1338.87 M529.65 1329.82 Q529.65 1325.12 527.705 1322.45 Q525.784 1319.77 522.404 1319.77 Q519.025 1319.77 517.08 1322.45 Q515.159 1325.12 515.159 1329.82 Q515.159 1334.51 517.08 1337.2 Q519.025 1339.86 522.404 1339.86 Q525.784 1339.86 527.705 1337.2 Q529.65 1334.51 529.65 1329.82 Z\" fill=\"#000000\" fill-rule=\"evenodd\" fill-opacity=\"1\" /><path clip-path=\"url(#clip450)\" d=\"M545.252 1338.87 L545.252 1352.62 L540.969 1352.62 L540.969 1316.83 L545.252 1316.83 L545.252 1320.76 Q546.594 1318.45 548.631 1317.34 Q550.691 1316.2 553.538 1316.2 Q558.261 1316.2 561.2 1319.95 Q564.163 1323.7 564.163 1329.82 Q564.163 1335.93 561.2 1339.68 Q558.261 1343.43 553.538 1343.43 Q550.691 1343.43 548.631 1342.32 Q546.594 1341.18 545.252 1338.87 M559.742 1329.82 Q559.742 1325.12 557.798 1322.45 Q555.876 1319.77 552.497 1319.77 Q549.117 1319.77 547.173 1322.45 Q545.252 1325.12 545.252 1329.82 Q545.252 1334.51 547.173 1337.2 Q549.117 1339.86 552.497 1339.86 Q555.876 1339.86 557.798 1337.2 Q559.742 1334.51 559.742 1329.82 Z\" fill=\"#000000\" fill-rule=\"evenodd\" fill-opacity=\"1\" /><path clip-path=\"url(#clip450)\" d=\"M593.399 1328.73 L593.399 1330.81 L573.816 1330.81 Q574.094 1335.21 576.455 1337.52 Q578.839 1339.82 583.075 1339.82 Q585.529 1339.82 587.821 1339.21 Q590.136 1338.61 592.404 1337.41 L592.404 1341.44 Q590.112 1342.41 587.705 1342.92 Q585.298 1343.43 582.821 1343.43 Q576.617 1343.43 572.983 1339.82 Q569.372 1336.2 569.372 1330.05 Q569.372 1323.68 572.798 1319.95 Q576.247 1316.2 582.08 1316.2 Q587.311 1316.2 590.344 1319.58 Q593.399 1322.94 593.399 1328.73 M589.14 1327.48 Q589.094 1323.98 587.173 1321.9 Q585.274 1319.82 582.126 1319.82 Q578.562 1319.82 576.409 1321.83 Q574.279 1323.84 573.955 1327.5 L589.14 1327.48 Z\" fill=\"#000000\" fill-rule=\"evenodd\" fill-opacity=\"1\" /><path clip-path=\"url(#clip450)\" d=\"M615.413 1320.81 Q614.696 1320.39 613.839 1320.21 Q613.006 1320 611.987 1320 Q608.376 1320 606.432 1322.36 Q604.51 1324.7 604.51 1329.1 L604.51 1342.76 L600.228 1342.76 L600.228 1316.83 L604.51 1316.83 L604.51 1320.86 Q605.853 1318.5 608.006 1317.36 Q610.159 1316.2 613.237 1316.2 Q613.677 1316.2 614.209 1316.27 Q614.742 1316.32 615.39 1316.44 L615.413 1320.81 Z\" fill=\"#000000\" fill-rule=\"evenodd\" fill-opacity=\"1\" /></svg>\n"
      ]
     },
     "execution_count": 31,
     "metadata": {},
     "output_type": "execute_result"
    }
   ],
   "source": [
    "plot(df_pred.age, Matrix(probit_pred), labels=[\"lfp\" \"lower\" \"upper\"],\n",
    "     xlabel=\"age\", ylabel=\"Pr(lfp=1)\")"
   ]
  },
  {
   "cell_type": "markdown",
   "id": "763c00bc",
   "metadata": {},
   "source": [
    "## Advanced DataFrames.jl functionalities: bootstrapping example"
   ]
  },
  {
   "cell_type": "markdown",
   "id": "b0a15dad",
   "metadata": {},
   "source": [
    "Let us investigate the `probit` object again:"
   ]
  },
  {
   "cell_type": "code",
   "execution_count": 32,
   "id": "904c1d36",
   "metadata": {},
   "outputs": [
    {
     "data": {
      "text/plain": [
       "StatsModels.TableRegressionModel{GeneralizedLinearModel{GLM.GlmResp{Vector{Float64}, Binomial{Float64}, ProbitLink}, GLM.DensePredChol{Float64, LinearAlgebra.CholeskyPivoted{Float64, Matrix{Float64}, Vector{Int64}}}}, Matrix{Float64}}\n",
       "\n",
       "lfp ~ 1 + lnnlinc + age + :(age ^ 2) + educ + nyc + noc + foreign\n",
       "\n",
       "Coefficients:\n",
       "────────────────────────────────────────────────────────────────────────────\n",
       "                   Coef.  Std. Error      z  Pr(>|z|)  Lower 95%   Upper 95%\n",
       "────────────────────────────────────────────────────────────────────────────\n",
       "(Intercept)    3.74896     1.40663     2.67    0.0077   0.992006   6.50591\n",
       "lnnlinc       -0.666932    0.13192    -5.06    <1e-06  -0.92549   -0.408374\n",
       "age            2.07531     0.405407    5.12    <1e-06   1.28073    2.86989\n",
       "age ^ 2       -0.294345    0.0499446  -5.89    <1e-08  -0.392235  -0.196456\n",
       "educ           0.0191963   0.0179255   1.07    0.2842  -0.015937   0.0543295\n",
       "nyc           -0.714465    0.100397   -7.12    <1e-11  -0.911238  -0.517691\n",
       "noc           -0.146985    0.0508854  -2.89    0.0039  -0.246718  -0.0472509\n",
       "foreign: yes   0.71438     0.121324    5.89    <1e-08   0.476589   0.95217\n",
       "────────────────────────────────────────────────────────────────────────────"
      ]
     },
     "execution_count": 32,
     "metadata": {},
     "output_type": "execute_result"
    }
   ],
   "source": [
    "probit"
   ]
  },
  {
   "cell_type": "markdown",
   "id": "506f4ef0",
   "metadata": {},
   "source": [
    "We can see that we obtained parametric confidence intervals for the parameters. However, our sample was not very big, so we want to verify them using bootstrapping.\n",
    "\n",
    "First we will do bootstrapping by hand, and next we will compare the results with what the [Bootstrap.jl](https://github.com/juliangehring/Bootstrap.jl) package produces.\n",
    "\n",
    "As usual we will try to learn some new features of DataFrames.jl along the way."
   ]
  },
  {
   "cell_type": "markdown",
   "id": "299dc82d",
   "metadata": {},
   "source": [
    "We start with a function that takes a data frame and:\n",
    "1. creates one bootstrap sample of its contents\n",
    "2. fits the probit model to the bootstrapped data\n",
    "3. returns a `NamedTuple` with the computed coefficients"
   ]
  },
  {
   "cell_type": "code",
   "execution_count": 33,
   "id": "df1877a4",
   "metadata": {},
   "outputs": [
    {
     "data": {
      "text/plain": [
       "boot_sample (generic function with 1 method)"
      ]
     },
     "execution_count": 33,
     "metadata": {},
     "output_type": "execute_result"
    }
   ],
   "source": [
    "function boot_sample(df)\n",
    "    df_boot = df[rand(1:nrow(df), nrow(df)), :]\n",
    "    probit_boot = glm(@formula(lfp ~ lnnlinc + age + age^2 + educ + nyc + noc + foreign),\n",
    "                      df_boot, Binomial(), ProbitLink())\n",
    "    return (; (Symbol.(coefnames(probit_boot)) .=> coef(probit_boot))...)\n",
    "end"
   ]
  },
  {
   "cell_type": "markdown",
   "id": "884c0b4e",
   "metadata": {},
   "source": [
    "We need to run the `boot_sample` function multiple times. Note that we store the results in the `coef_boot` data frame."
   ]
  },
  {
   "cell_type": "code",
   "execution_count": 34,
   "id": "ce6e33cb",
   "metadata": {},
   "outputs": [
    {
     "data": {
      "text/plain": [
       "run_boot (generic function with 1 method)"
      ]
     },
     "execution_count": 34,
     "metadata": {},
     "output_type": "execute_result"
    }
   ],
   "source": [
    "function run_boot(df, reps)\n",
    "    coef_boot = DataFrame()\n",
    "    for _ in 1:reps\n",
    "        push!(coef_boot, boot_sample(df))\n",
    "    end\n",
    "    return coef_boot\n",
    "end"
   ]
  },
  {
   "cell_type": "markdown",
   "id": "a199747b",
   "metadata": {},
   "source": [
    "We seed the random number generator as we want comparable results to what Bootstrap.jl produces (I have made sure to sample rows for bootstrapping in the same way in our manual code)."
   ]
  },
  {
   "cell_type": "code",
   "execution_count": 35,
   "id": "98bce91a",
   "metadata": {},
   "outputs": [
    {
     "name": "stdout",
     "output_type": "stream",
     "text": [
      "  2.121050 seconds (3.47 M allocations: 790.589 MiB, 9.00% gc time, 66.51% compilation time)\n"
     ]
    },
    {
     "data": {
      "text/html": [
       "<div><div style = \"float: left;\"><span>1000×8 DataFrame</span></div><div style = \"float: right;\"><span style = \"font-style: italic;\">975 rows omitted</span></div><div style = \"clear: both;\"></div></div><div class = \"data-frame\" style = \"overflow-x: scroll;\"><table class = \"data-frame\" style = \"margin-bottom: 6px;\"><thead><tr class = \"header\"><th class = \"rowNumber\" style = \"font-weight: bold; text-align: right;\">Row</th><th style = \"text-align: left;\">(Intercept)</th><th style = \"text-align: left;\">lnnlinc</th><th style = \"text-align: left;\">age</th><th style = \"text-align: left;\">age ^ 2</th><th style = \"text-align: left;\">educ</th><th style = \"text-align: left;\">nyc</th><th style = \"text-align: left;\">noc</th><th style = \"text-align: left;\">foreign: yes</th></tr><tr class = \"subheader headerLastRow\"><th class = \"rowNumber\" style = \"font-weight: bold; text-align: right;\"></th><th title = \"Float64\" style = \"text-align: left;\">Float64</th><th title = \"Float64\" style = \"text-align: left;\">Float64</th><th title = \"Float64\" style = \"text-align: left;\">Float64</th><th title = \"Float64\" style = \"text-align: left;\">Float64</th><th title = \"Float64\" style = \"text-align: left;\">Float64</th><th title = \"Float64\" style = \"text-align: left;\">Float64</th><th title = \"Float64\" style = \"text-align: left;\">Float64</th><th title = \"Float64\" style = \"text-align: left;\">Float64</th></tr></thead><tbody><tr><td class = \"rowNumber\" style = \"font-weight: bold; text-align: right;\">1</td><td style = \"text-align: right;\">3.89753</td><td style = \"text-align: right;\">-0.683644</td><td style = \"text-align: right;\">2.19622</td><td style = \"text-align: right;\">-0.315711</td><td style = \"text-align: right;\">0.00184476</td><td style = \"text-align: right;\">-0.759661</td><td style = \"text-align: right;\">-0.116304</td><td style = \"text-align: right;\">0.59132</td></tr><tr><td class = \"rowNumber\" style = \"font-weight: bold; text-align: right;\">2</td><td style = \"text-align: right;\">6.03733</td><td style = \"text-align: right;\">-0.808077</td><td style = \"text-align: right;\">1.85422</td><td style = \"text-align: right;\">-0.277391</td><td style = \"text-align: right;\">0.00815517</td><td style = \"text-align: right;\">-0.817424</td><td style = \"text-align: right;\">-0.196143</td><td style = \"text-align: right;\">0.556323</td></tr><tr><td class = \"rowNumber\" style = \"font-weight: bold; text-align: right;\">3</td><td style = \"text-align: right;\">3.78851</td><td style = \"text-align: right;\">-0.702459</td><td style = \"text-align: right;\">2.09578</td><td style = \"text-align: right;\">-0.289319</td><td style = \"text-align: right;\">0.0274796</td><td style = \"text-align: right;\">-0.560228</td><td style = \"text-align: right;\">-0.131949</td><td style = \"text-align: right;\">0.728109</td></tr><tr><td class = \"rowNumber\" style = \"font-weight: bold; text-align: right;\">4</td><td style = \"text-align: right;\">3.84855</td><td style = \"text-align: right;\">-0.673669</td><td style = \"text-align: right;\">2.20824</td><td style = \"text-align: right;\">-0.30794</td><td style = \"text-align: right;\">-0.00995106</td><td style = \"text-align: right;\">-0.817733</td><td style = \"text-align: right;\">-0.199632</td><td style = \"text-align: right;\">0.612467</td></tr><tr><td class = \"rowNumber\" style = \"font-weight: bold; text-align: right;\">5</td><td style = \"text-align: right;\">3.86901</td><td style = \"text-align: right;\">-0.677679</td><td style = \"text-align: right;\">2.07178</td><td style = \"text-align: right;\">-0.285416</td><td style = \"text-align: right;\">0.00782889</td><td style = \"text-align: right;\">-0.610081</td><td style = \"text-align: right;\">-0.173919</td><td style = \"text-align: right;\">0.607915</td></tr><tr><td class = \"rowNumber\" style = \"font-weight: bold; text-align: right;\">6</td><td style = \"text-align: right;\">4.24138</td><td style = \"text-align: right;\">-0.678265</td><td style = \"text-align: right;\">2.28935</td><td style = \"text-align: right;\">-0.338982</td><td style = \"text-align: right;\">0.0034059</td><td style = \"text-align: right;\">-0.926661</td><td style = \"text-align: right;\">-0.350053</td><td style = \"text-align: right;\">0.654847</td></tr><tr><td class = \"rowNumber\" style = \"font-weight: bold; text-align: right;\">7</td><td style = \"text-align: right;\">3.76902</td><td style = \"text-align: right;\">-0.64247</td><td style = \"text-align: right;\">1.91971</td><td style = \"text-align: right;\">-0.278204</td><td style = \"text-align: right;\">0.0287484</td><td style = \"text-align: right;\">-0.727808</td><td style = \"text-align: right;\">-0.201696</td><td style = \"text-align: right;\">0.868374</td></tr><tr><td class = \"rowNumber\" style = \"font-weight: bold; text-align: right;\">8</td><td style = \"text-align: right;\">5.15023</td><td style = \"text-align: right;\">-0.798031</td><td style = \"text-align: right;\">1.90498</td><td style = \"text-align: right;\">-0.26878</td><td style = \"text-align: right;\">0.0373576</td><td style = \"text-align: right;\">-0.800226</td><td style = \"text-align: right;\">-0.111041</td><td style = \"text-align: right;\">0.883274</td></tr><tr><td class = \"rowNumber\" style = \"font-weight: bold; text-align: right;\">9</td><td style = \"text-align: right;\">3.12347</td><td style = \"text-align: right;\">-0.650024</td><td style = \"text-align: right;\">2.37745</td><td style = \"text-align: right;\">-0.335066</td><td style = \"text-align: right;\">0.00352704</td><td style = \"text-align: right;\">-0.768625</td><td style = \"text-align: right;\">-0.101193</td><td style = \"text-align: right;\">0.692148</td></tr><tr><td class = \"rowNumber\" style = \"font-weight: bold; text-align: right;\">10</td><td style = \"text-align: right;\">2.4329</td><td style = \"text-align: right;\">-0.62523</td><td style = \"text-align: right;\">2.32566</td><td style = \"text-align: right;\">-0.321631</td><td style = \"text-align: right;\">0.0426932</td><td style = \"text-align: right;\">-0.541257</td><td style = \"text-align: right;\">-0.0643429</td><td style = \"text-align: right;\">0.787447</td></tr><tr><td class = \"rowNumber\" style = \"font-weight: bold; text-align: right;\">11</td><td style = \"text-align: right;\">3.06523</td><td style = \"text-align: right;\">-0.625967</td><td style = \"text-align: right;\">2.12135</td><td style = \"text-align: right;\">-0.298013</td><td style = \"text-align: right;\">0.0336568</td><td style = \"text-align: right;\">-0.723162</td><td style = \"text-align: right;\">-0.061559</td><td style = \"text-align: right;\">0.672631</td></tr><tr><td class = \"rowNumber\" style = \"font-weight: bold; text-align: right;\">12</td><td style = \"text-align: right;\">4.60502</td><td style = \"text-align: right;\">-0.85555</td><td style = \"text-align: right;\">2.72291</td><td style = \"text-align: right;\">-0.365987</td><td style = \"text-align: right;\">0.00235041</td><td style = \"text-align: right;\">-0.600223</td><td style = \"text-align: right;\">-0.198477</td><td style = \"text-align: right;\">0.478912</td></tr><tr><td class = \"rowNumber\" style = \"font-weight: bold; text-align: right;\">13</td><td style = \"text-align: right;\">6.53008</td><td style = \"text-align: right;\">-0.797675</td><td style = \"text-align: right;\">1.40956</td><td style = \"text-align: right;\">-0.221066</td><td style = \"text-align: right;\">0.0365393</td><td style = \"text-align: right;\">-0.885277</td><td style = \"text-align: right;\">-0.220697</td><td style = \"text-align: right;\">0.512136</td></tr><tr><td style = \"text-align: right;\">&vellip;</td><td style = \"text-align: right;\">&vellip;</td><td style = \"text-align: right;\">&vellip;</td><td style = \"text-align: right;\">&vellip;</td><td style = \"text-align: right;\">&vellip;</td><td style = \"text-align: right;\">&vellip;</td><td style = \"text-align: right;\">&vellip;</td><td style = \"text-align: right;\">&vellip;</td><td style = \"text-align: right;\">&vellip;</td></tr><tr><td class = \"rowNumber\" style = \"font-weight: bold; text-align: right;\">989</td><td style = \"text-align: right;\">0.893652</td><td style = \"text-align: right;\">-0.443215</td><td style = \"text-align: right;\">2.32991</td><td style = \"text-align: right;\">-0.326623</td><td style = \"text-align: right;\">0.0275311</td><td style = \"text-align: right;\">-0.733449</td><td style = \"text-align: right;\">-0.214092</td><td style = \"text-align: right;\">0.75764</td></tr><tr><td class = \"rowNumber\" style = \"font-weight: bold; text-align: right;\">990</td><td style = \"text-align: right;\">2.72127</td><td style = \"text-align: right;\">-0.595846</td><td style = \"text-align: right;\">2.47114</td><td style = \"text-align: right;\">-0.354721</td><td style = \"text-align: right;\">-0.00300546</td><td style = \"text-align: right;\">-0.847013</td><td style = \"text-align: right;\">-0.209531</td><td style = \"text-align: right;\">0.863269</td></tr><tr><td class = \"rowNumber\" style = \"font-weight: bold; text-align: right;\">991</td><td style = \"text-align: right;\">5.96651</td><td style = \"text-align: right;\">-0.801122</td><td style = \"text-align: right;\">1.67656</td><td style = \"text-align: right;\">-0.244864</td><td style = \"text-align: right;\">0.0157645</td><td style = \"text-align: right;\">-0.802483</td><td style = \"text-align: right;\">-0.126939</td><td style = \"text-align: right;\">0.795918</td></tr><tr><td class = \"rowNumber\" style = \"font-weight: bold; text-align: right;\">992</td><td style = \"text-align: right;\">1.9278</td><td style = \"text-align: right;\">-0.500438</td><td style = \"text-align: right;\">2.10367</td><td style = \"text-align: right;\">-0.300194</td><td style = \"text-align: right;\">0.0224147</td><td style = \"text-align: right;\">-0.750327</td><td style = \"text-align: right;\">-0.167591</td><td style = \"text-align: right;\">0.710357</td></tr><tr><td class = \"rowNumber\" style = \"font-weight: bold; text-align: right;\">993</td><td style = \"text-align: right;\">4.37019</td><td style = \"text-align: right;\">-0.750974</td><td style = \"text-align: right;\">2.06325</td><td style = \"text-align: right;\">-0.282058</td><td style = \"text-align: right;\">0.0264602</td><td style = \"text-align: right;\">-0.638799</td><td style = \"text-align: right;\">-0.136621</td><td style = \"text-align: right;\">0.815887</td></tr><tr><td class = \"rowNumber\" style = \"font-weight: bold; text-align: right;\">994</td><td style = \"text-align: right;\">2.1564</td><td style = \"text-align: right;\">-0.506433</td><td style = \"text-align: right;\">2.12799</td><td style = \"text-align: right;\">-0.299474</td><td style = \"text-align: right;\">-0.00236112</td><td style = \"text-align: right;\">-0.778277</td><td style = \"text-align: right;\">-0.192514</td><td style = \"text-align: right;\">0.619935</td></tr><tr><td class = \"rowNumber\" style = \"font-weight: bold; text-align: right;\">995</td><td style = \"text-align: right;\">4.50008</td><td style = \"text-align: right;\">-0.655927</td><td style = \"text-align: right;\">1.85878</td><td style = \"text-align: right;\">-0.270815</td><td style = \"text-align: right;\">-0.026267</td><td style = \"text-align: right;\">-0.595757</td><td style = \"text-align: right;\">-0.139348</td><td style = \"text-align: right;\">0.571691</td></tr><tr><td class = \"rowNumber\" style = \"font-weight: bold; text-align: right;\">996</td><td style = \"text-align: right;\">3.65681</td><td style = \"text-align: right;\">-0.631198</td><td style = \"text-align: right;\">1.91247</td><td style = \"text-align: right;\">-0.268847</td><td style = \"text-align: right;\">0.00620034</td><td style = \"text-align: right;\">-0.672621</td><td style = \"text-align: right;\">-0.0951452</td><td style = \"text-align: right;\">0.802052</td></tr><tr><td class = \"rowNumber\" style = \"font-weight: bold; text-align: right;\">997</td><td style = \"text-align: right;\">3.82428</td><td style = \"text-align: right;\">-0.583837</td><td style = \"text-align: right;\">1.75444</td><td style = \"text-align: right;\">-0.264595</td><td style = \"text-align: right;\">-0.00302802</td><td style = \"text-align: right;\">-0.737808</td><td style = \"text-align: right;\">-0.141895</td><td style = \"text-align: right;\">0.830021</td></tr><tr><td class = \"rowNumber\" style = \"font-weight: bold; text-align: right;\">998</td><td style = \"text-align: right;\">4.3505</td><td style = \"text-align: right;\">-0.707234</td><td style = \"text-align: right;\">2.17916</td><td style = \"text-align: right;\">-0.319459</td><td style = \"text-align: right;\">0.00677002</td><td style = \"text-align: right;\">-0.772209</td><td style = \"text-align: right;\">-0.19449</td><td style = \"text-align: right;\">0.688061</td></tr><tr><td class = \"rowNumber\" style = \"font-weight: bold; text-align: right;\">999</td><td style = \"text-align: right;\">2.37425</td><td style = \"text-align: right;\">-0.583229</td><td style = \"text-align: right;\">2.25732</td><td style = \"text-align: right;\">-0.315333</td><td style = \"text-align: right;\">0.0342427</td><td style = \"text-align: right;\">-0.846287</td><td style = \"text-align: right;\">-0.173309</td><td style = \"text-align: right;\">0.895702</td></tr><tr><td class = \"rowNumber\" style = \"font-weight: bold; text-align: right;\">1000</td><td style = \"text-align: right;\">5.35087</td><td style = \"text-align: right;\">-0.843876</td><td style = \"text-align: right;\">2.16397</td><td style = \"text-align: right;\">-0.29809</td><td style = \"text-align: right;\">0.0140982</td><td style = \"text-align: right;\">-0.483684</td><td style = \"text-align: right;\">-0.120694</td><td style = \"text-align: right;\">0.700699</td></tr></tbody></table></div>"
      ],
      "text/latex": [
       "\\begin{tabular}{r|cccccccc}\n",
       "\t& (Intercept) & lnnlinc & age & age \\^ 2 & educ & nyc & noc & \\\\\n",
       "\t\\hline\n",
       "\t& Float64 & Float64 & Float64 & Float64 & Float64 & Float64 & Float64 & \\\\\n",
       "\t\\hline\n",
       "\t1 & 3.89753 & -0.683644 & 2.19622 & -0.315711 & 0.00184476 & -0.759661 & -0.116304 & $\\dots$ \\\\\n",
       "\t2 & 6.03733 & -0.808077 & 1.85422 & -0.277391 & 0.00815517 & -0.817424 & -0.196143 & $\\dots$ \\\\\n",
       "\t3 & 3.78851 & -0.702459 & 2.09578 & -0.289319 & 0.0274796 & -0.560228 & -0.131949 & $\\dots$ \\\\\n",
       "\t4 & 3.84855 & -0.673669 & 2.20824 & -0.30794 & -0.00995106 & -0.817733 & -0.199632 & $\\dots$ \\\\\n",
       "\t5 & 3.86901 & -0.677679 & 2.07178 & -0.285416 & 0.00782889 & -0.610081 & -0.173919 & $\\dots$ \\\\\n",
       "\t6 & 4.24138 & -0.678265 & 2.28935 & -0.338982 & 0.0034059 & -0.926661 & -0.350053 & $\\dots$ \\\\\n",
       "\t7 & 3.76902 & -0.64247 & 1.91971 & -0.278204 & 0.0287484 & -0.727808 & -0.201696 & $\\dots$ \\\\\n",
       "\t8 & 5.15023 & -0.798031 & 1.90498 & -0.26878 & 0.0373576 & -0.800226 & -0.111041 & $\\dots$ \\\\\n",
       "\t9 & 3.12347 & -0.650024 & 2.37745 & -0.335066 & 0.00352704 & -0.768625 & -0.101193 & $\\dots$ \\\\\n",
       "\t10 & 2.4329 & -0.62523 & 2.32566 & -0.321631 & 0.0426932 & -0.541257 & -0.0643429 & $\\dots$ \\\\\n",
       "\t11 & 3.06523 & -0.625967 & 2.12135 & -0.298013 & 0.0336568 & -0.723162 & -0.061559 & $\\dots$ \\\\\n",
       "\t12 & 4.60502 & -0.85555 & 2.72291 & -0.365987 & 0.00235041 & -0.600223 & -0.198477 & $\\dots$ \\\\\n",
       "\t13 & 6.53008 & -0.797675 & 1.40956 & -0.221066 & 0.0365393 & -0.885277 & -0.220697 & $\\dots$ \\\\\n",
       "\t14 & 2.14633 & -0.540803 & 2.23767 & -0.315759 & 0.0151176 & -0.78152 & -0.174004 & $\\dots$ \\\\\n",
       "\t15 & 1.74928 & -0.481763 & 2.40743 & -0.347117 & -0.0157087 & -0.750511 & -0.157627 & $\\dots$ \\\\\n",
       "\t16 & 5.04343 & -0.772946 & 2.16923 & -0.309786 & 0.00697176 & -0.835845 & -0.220684 & $\\dots$ \\\\\n",
       "\t17 & 3.21179 & -0.537728 & 1.78635 & -0.262943 & -0.0090764 & -0.721048 & -0.188545 & $\\dots$ \\\\\n",
       "\t18 & 6.20101 & -0.996644 & 2.45431 & -0.342986 & 0.0651541 & -0.642571 & -0.227372 & $\\dots$ \\\\\n",
       "\t19 & 3.36975 & -0.623907 & 2.01254 & -0.294752 & 0.0376487 & -0.81264 & -0.149462 & $\\dots$ \\\\\n",
       "\t20 & 4.20439 & -0.739063 & 2.36511 & -0.333994 & 0.0170522 & -0.758426 & -0.224078 & $\\dots$ \\\\\n",
       "\t21 & 2.58454 & -0.541718 & 1.89479 & -0.270313 & 0.0234723 & -0.646551 & -0.127249 & $\\dots$ \\\\\n",
       "\t22 & 2.90434 & -0.536464 & 1.82871 & -0.272165 & 0.00331773 & -0.634511 & -0.00722016 & $\\dots$ \\\\\n",
       "\t23 & 5.49798 & -0.691475 & 1.35163 & -0.201982 & -0.00427995 & -0.689496 & -0.0837819 & $\\dots$ \\\\\n",
       "\t24 & 7.40983 & -0.885409 & 1.12672 & -0.175524 & 0.0467756 & -0.789496 & -0.0525805 & $\\dots$ \\\\\n",
       "\t25 & 4.68955 & -0.795269 & 2.05814 & -0.276166 & 0.0317646 & -0.670591 & -0.0921888 & $\\dots$ \\\\\n",
       "\t26 & 5.37405 & -0.822864 & 1.95716 & -0.268404 & 0.0325762 & -0.683122 & -0.123383 & $\\dots$ \\\\\n",
       "\t27 & 4.0729 & -0.803499 & 2.66621 & -0.368712 & 0.0338197 & -0.774696 & -0.237184 & $\\dots$ \\\\\n",
       "\t28 & 3.30481 & -0.598957 & 1.99496 & -0.280004 & 0.00112482 & -0.87051 & -0.190765 & $\\dots$ \\\\\n",
       "\t29 & 4.66477 & -0.684524 & 1.65512 & -0.242086 & 0.0164044 & -0.730929 & -0.0982033 & $\\dots$ \\\\\n",
       "\t30 & 0.768289 & -0.397229 & 2.30299 & -0.320106 & -0.0163254 & -0.694104 & -0.171745 & $\\dots$ \\\\\n",
       "\t$\\dots$ & $\\dots$ & $\\dots$ & $\\dots$ & $\\dots$ & $\\dots$ & $\\dots$ & $\\dots$ &  \\\\\n",
       "\\end{tabular}\n"
      ],
      "text/plain": [
       "\u001b[1m1000×8 DataFrame\u001b[0m\n",
       "\u001b[1m  Row \u001b[0m│\u001b[1m (Intercept) \u001b[0m\u001b[1m lnnlinc   \u001b[0m\u001b[1m age     \u001b[0m\u001b[1m age ^ 2   \u001b[0m\u001b[1m educ        \u001b[0m\u001b[1m nyc       \u001b[0m\u001b[1m no\u001b[0m ⋯\n",
       "      │\u001b[90m Float64     \u001b[0m\u001b[90m Float64   \u001b[0m\u001b[90m Float64 \u001b[0m\u001b[90m Float64   \u001b[0m\u001b[90m Float64     \u001b[0m\u001b[90m Float64   \u001b[0m\u001b[90m Fl\u001b[0m ⋯\n",
       "──────┼─────────────────────────────────────────────────────────────────────────\n",
       "    1 │    3.89753   -0.683644  2.19622  -0.315711   0.00184476  -0.759661  -0 ⋯\n",
       "    2 │    6.03733   -0.808077  1.85422  -0.277391   0.00815517  -0.817424  -0\n",
       "    3 │    3.78851   -0.702459  2.09578  -0.289319   0.0274796   -0.560228  -0\n",
       "    4 │    3.84855   -0.673669  2.20824  -0.30794   -0.00995106  -0.817733  -0\n",
       "    5 │    3.86901   -0.677679  2.07178  -0.285416   0.00782889  -0.610081  -0 ⋯\n",
       "    6 │    4.24138   -0.678265  2.28935  -0.338982   0.0034059   -0.926661  -0\n",
       "    7 │    3.76902   -0.64247   1.91971  -0.278204   0.0287484   -0.727808  -0\n",
       "    8 │    5.15023   -0.798031  1.90498  -0.26878    0.0373576   -0.800226  -0\n",
       "    9 │    3.12347   -0.650024  2.37745  -0.335066   0.00352704  -0.768625  -0 ⋯\n",
       "   10 │    2.4329    -0.62523   2.32566  -0.321631   0.0426932   -0.541257  -0\n",
       "   11 │    3.06523   -0.625967  2.12135  -0.298013   0.0336568   -0.723162  -0\n",
       "  ⋮   │      ⋮           ⋮         ⋮         ⋮           ⋮           ⋮         ⋱\n",
       "  991 │    5.96651   -0.801122  1.67656  -0.244864   0.0157645   -0.802483  -0\n",
       "  992 │    1.9278    -0.500438  2.10367  -0.300194   0.0224147   -0.750327  -0 ⋯\n",
       "  993 │    4.37019   -0.750974  2.06325  -0.282058   0.0264602   -0.638799  -0\n",
       "  994 │    2.1564    -0.506433  2.12799  -0.299474  -0.00236112  -0.778277  -0\n",
       "  995 │    4.50008   -0.655927  1.85878  -0.270815  -0.026267    -0.595757  -0\n",
       "  996 │    3.65681   -0.631198  1.91247  -0.268847   0.00620034  -0.672621  -0 ⋯\n",
       "  997 │    3.82428   -0.583837  1.75444  -0.264595  -0.00302802  -0.737808  -0\n",
       "  998 │    4.3505    -0.707234  2.17916  -0.319459   0.00677002  -0.772209  -0\n",
       "  999 │    2.37425   -0.583229  2.25732  -0.315333   0.0342427   -0.846287  -0\n",
       " 1000 │    5.35087   -0.843876  2.16397  -0.29809    0.0140982   -0.483684  -0 ⋯\n",
       "\u001b[36m                                                  2 columns and 979 rows omitted\u001b[0m"
      ]
     },
     "execution_count": 35,
     "metadata": {},
     "output_type": "execute_result"
    }
   ],
   "source": [
    "Random.seed!(1234)\n",
    "@time coef_boot = run_boot(df, 1000)"
   ]
  },
  {
   "cell_type": "markdown",
   "id": "3548bfa2",
   "metadata": {},
   "source": [
    "Using this data calculate the 95% confidence interval using the percentile bootstrap:"
   ]
  },
  {
   "cell_type": "code",
   "execution_count": 36,
   "id": "513c4b2d",
   "metadata": {},
   "outputs": [
    {
     "data": {
      "text/html": [
       "<div><div style = \"float: left;\"><span>2×8 DataFrame</span></div><div style = \"clear: both;\"></div></div><div class = \"data-frame\" style = \"overflow-x: scroll;\"><table class = \"data-frame\" style = \"margin-bottom: 6px;\"><thead><tr class = \"header\"><th class = \"rowNumber\" style = \"font-weight: bold; text-align: right;\">Row</th><th style = \"text-align: left;\">(Intercept)</th><th style = \"text-align: left;\">lnnlinc</th><th style = \"text-align: left;\">age</th><th style = \"text-align: left;\">age ^ 2</th><th style = \"text-align: left;\">educ</th><th style = \"text-align: left;\">nyc</th><th style = \"text-align: left;\">noc</th><th style = \"text-align: left;\">foreign: yes</th></tr><tr class = \"subheader headerLastRow\"><th class = \"rowNumber\" style = \"font-weight: bold; text-align: right;\"></th><th title = \"Float64\" style = \"text-align: left;\">Float64</th><th title = \"Float64\" style = \"text-align: left;\">Float64</th><th title = \"Float64\" style = \"text-align: left;\">Float64</th><th title = \"Float64\" style = \"text-align: left;\">Float64</th><th title = \"Float64\" style = \"text-align: left;\">Float64</th><th title = \"Float64\" style = \"text-align: left;\">Float64</th><th title = \"Float64\" style = \"text-align: left;\">Float64</th><th title = \"Float64\" style = \"text-align: left;\">Float64</th></tr></thead><tbody><tr><td class = \"rowNumber\" style = \"font-weight: bold; text-align: right;\">1</td><td style = \"text-align: right;\">1.24129</td><td style = \"text-align: right;\">-0.947283</td><td style = \"text-align: right;\">1.29334</td><td style = \"text-align: right;\">-0.405375</td><td style = \"text-align: right;\">-0.015854</td><td style = \"text-align: right;\">-0.926779</td><td style = \"text-align: right;\">-0.259494</td><td style = \"text-align: right;\">0.478879</td></tr><tr><td class = \"rowNumber\" style = \"font-weight: bold; text-align: right;\">2</td><td style = \"text-align: right;\">6.79873</td><td style = \"text-align: right;\">-0.443171</td><td style = \"text-align: right;\">2.98478</td><td style = \"text-align: right;\">-0.19818</td><td style = \"text-align: right;\">0.0565269</td><td style = \"text-align: right;\">-0.52503</td><td style = \"text-align: right;\">-0.0525333</td><td style = \"text-align: right;\">0.961622</td></tr></tbody></table></div>"
      ],
      "text/latex": [
       "\\begin{tabular}{r|cccccccc}\n",
       "\t& (Intercept) & lnnlinc & age & age \\^ 2 & educ & nyc & noc & foreign: yes\\\\\n",
       "\t\\hline\n",
       "\t& Float64 & Float64 & Float64 & Float64 & Float64 & Float64 & Float64 & Float64\\\\\n",
       "\t\\hline\n",
       "\t1 & 1.24129 & -0.947283 & 1.29334 & -0.405375 & -0.015854 & -0.926779 & -0.259494 & 0.478879 \\\\\n",
       "\t2 & 6.79873 & -0.443171 & 2.98478 & -0.19818 & 0.0565269 & -0.52503 & -0.0525333 & 0.961622 \\\\\n",
       "\\end{tabular}\n"
      ],
      "text/plain": [
       "\u001b[1m2×8 DataFrame\u001b[0m\n",
       "\u001b[1m Row \u001b[0m│\u001b[1m (Intercept) \u001b[0m\u001b[1m lnnlinc   \u001b[0m\u001b[1m age     \u001b[0m\u001b[1m age ^ 2   \u001b[0m\u001b[1m educ       \u001b[0m\u001b[1m nyc       \u001b[0m\u001b[1m noc \u001b[0m ⋯\n",
       "     │\u001b[90m Float64     \u001b[0m\u001b[90m Float64   \u001b[0m\u001b[90m Float64 \u001b[0m\u001b[90m Float64   \u001b[0m\u001b[90m Float64    \u001b[0m\u001b[90m Float64   \u001b[0m\u001b[90m Floa\u001b[0m ⋯\n",
       "─────┼──────────────────────────────────────────────────────────────────────────\n",
       "   1 │     1.24129  -0.947283  1.29334  -0.405375  -0.015854   -0.926779  -0.2 ⋯\n",
       "   2 │     6.79873  -0.443171  2.98478  -0.19818    0.0565269  -0.52503   -0.0\n",
       "\u001b[36m                                                               2 columns omitted\u001b[0m"
      ]
     },
     "execution_count": 36,
     "metadata": {},
     "output_type": "execute_result"
    }
   ],
   "source": [
    "conf_boot = mapcols(x -> quantile(x, [0.025, 0.975]), coef_boot)"
   ]
  },
  {
   "cell_type": "markdown",
   "id": "12e0e950",
   "metadata": {},
   "source": [
    "Here are the parametric confidence intervals computed by GLM.jl. We will want to compare them against bootstrapping results:"
   ]
  },
  {
   "cell_type": "code",
   "execution_count": 37,
   "id": "71669a67",
   "metadata": {},
   "outputs": [
    {
     "data": {
      "text/plain": [
       "8×2 Matrix{Float64}:\n",
       "  0.992006   6.50591\n",
       " -0.92549   -0.408374\n",
       "  1.28073    2.86989\n",
       " -0.392235  -0.196456\n",
       " -0.015937   0.0543295\n",
       " -0.911238  -0.517691\n",
       " -0.246718  -0.0472509\n",
       "  0.476589   0.95217"
      ]
     },
     "execution_count": 37,
     "metadata": {},
     "output_type": "execute_result"
    }
   ],
   "source": [
    "confint(probit)"
   ]
  },
  {
   "cell_type": "markdown",
   "id": "ef5d962d",
   "metadata": {},
   "source": [
    "First we transform the above matrix and create a data frame using the same column names as in bootstrapping:"
   ]
  },
  {
   "cell_type": "code",
   "execution_count": 38,
   "id": "63939c35",
   "metadata": {},
   "outputs": [
    {
     "data": {
      "text/html": [
       "<div><div style = \"float: left;\"><span>2×8 DataFrame</span></div><div style = \"clear: both;\"></div></div><div class = \"data-frame\" style = \"overflow-x: scroll;\"><table class = \"data-frame\" style = \"margin-bottom: 6px;\"><thead><tr class = \"header\"><th class = \"rowNumber\" style = \"font-weight: bold; text-align: right;\">Row</th><th style = \"text-align: left;\">(Intercept)</th><th style = \"text-align: left;\">lnnlinc</th><th style = \"text-align: left;\">age</th><th style = \"text-align: left;\">age ^ 2</th><th style = \"text-align: left;\">educ</th><th style = \"text-align: left;\">nyc</th><th style = \"text-align: left;\">noc</th><th style = \"text-align: left;\">foreign: yes</th></tr><tr class = \"subheader headerLastRow\"><th class = \"rowNumber\" style = \"font-weight: bold; text-align: right;\"></th><th title = \"Float64\" style = \"text-align: left;\">Float64</th><th title = \"Float64\" style = \"text-align: left;\">Float64</th><th title = \"Float64\" style = \"text-align: left;\">Float64</th><th title = \"Float64\" style = \"text-align: left;\">Float64</th><th title = \"Float64\" style = \"text-align: left;\">Float64</th><th title = \"Float64\" style = \"text-align: left;\">Float64</th><th title = \"Float64\" style = \"text-align: left;\">Float64</th><th title = \"Float64\" style = \"text-align: left;\">Float64</th></tr></thead><tbody><tr><td class = \"rowNumber\" style = \"font-weight: bold; text-align: right;\">1</td><td style = \"text-align: right;\">0.992006</td><td style = \"text-align: right;\">-0.92549</td><td style = \"text-align: right;\">1.28073</td><td style = \"text-align: right;\">-0.392235</td><td style = \"text-align: right;\">-0.015937</td><td style = \"text-align: right;\">-0.911238</td><td style = \"text-align: right;\">-0.246718</td><td style = \"text-align: right;\">0.476589</td></tr><tr><td class = \"rowNumber\" style = \"font-weight: bold; text-align: right;\">2</td><td style = \"text-align: right;\">6.50591</td><td style = \"text-align: right;\">-0.408374</td><td style = \"text-align: right;\">2.86989</td><td style = \"text-align: right;\">-0.196456</td><td style = \"text-align: right;\">0.0543295</td><td style = \"text-align: right;\">-0.517691</td><td style = \"text-align: right;\">-0.0472509</td><td style = \"text-align: right;\">0.95217</td></tr></tbody></table></div>"
      ],
      "text/latex": [
       "\\begin{tabular}{r|cccccccc}\n",
       "\t& (Intercept) & lnnlinc & age & age \\^ 2 & educ & nyc & noc & foreign: yes\\\\\n",
       "\t\\hline\n",
       "\t& Float64 & Float64 & Float64 & Float64 & Float64 & Float64 & Float64 & Float64\\\\\n",
       "\t\\hline\n",
       "\t1 & 0.992006 & -0.92549 & 1.28073 & -0.392235 & -0.015937 & -0.911238 & -0.246718 & 0.476589 \\\\\n",
       "\t2 & 6.50591 & -0.408374 & 2.86989 & -0.196456 & 0.0543295 & -0.517691 & -0.0472509 & 0.95217 \\\\\n",
       "\\end{tabular}\n"
      ],
      "text/plain": [
       "\u001b[1m2×8 DataFrame\u001b[0m\n",
       "\u001b[1m Row \u001b[0m│\u001b[1m (Intercept) \u001b[0m\u001b[1m lnnlinc   \u001b[0m\u001b[1m age     \u001b[0m\u001b[1m age ^ 2   \u001b[0m\u001b[1m educ       \u001b[0m\u001b[1m nyc       \u001b[0m\u001b[1m noc \u001b[0m ⋯\n",
       "     │\u001b[90m Float64     \u001b[0m\u001b[90m Float64   \u001b[0m\u001b[90m Float64 \u001b[0m\u001b[90m Float64   \u001b[0m\u001b[90m Float64    \u001b[0m\u001b[90m Float64   \u001b[0m\u001b[90m Floa\u001b[0m ⋯\n",
       "─────┼──────────────────────────────────────────────────────────────────────────\n",
       "   1 │    0.992006  -0.92549   1.28073  -0.392235  -0.015937   -0.911238  -0.2 ⋯\n",
       "   2 │    6.50591   -0.408374  2.86989  -0.196456   0.0543295  -0.517691  -0.0\n",
       "\u001b[36m                                                               2 columns omitted\u001b[0m"
      ]
     },
     "execution_count": 38,
     "metadata": {},
     "output_type": "execute_result"
    }
   ],
   "source": [
    "conf_param = DataFrame(permutedims(confint(probit)), names(conf_boot))"
   ]
  },
  {
   "cell_type": "markdown",
   "id": "2c54f2dd",
   "metadata": {},
   "source": [
    "and we `append!` it to our `conf_boot` data frame:"
   ]
  },
  {
   "cell_type": "code",
   "execution_count": 39,
   "id": "f5e4c5f4",
   "metadata": {},
   "outputs": [
    {
     "data": {
      "text/html": [
       "<div><div style = \"float: left;\"><span>4×8 DataFrame</span></div><div style = \"clear: both;\"></div></div><div class = \"data-frame\" style = \"overflow-x: scroll;\"><table class = \"data-frame\" style = \"margin-bottom: 6px;\"><thead><tr class = \"header\"><th class = \"rowNumber\" style = \"font-weight: bold; text-align: right;\">Row</th><th style = \"text-align: left;\">(Intercept)</th><th style = \"text-align: left;\">lnnlinc</th><th style = \"text-align: left;\">age</th><th style = \"text-align: left;\">age ^ 2</th><th style = \"text-align: left;\">educ</th><th style = \"text-align: left;\">nyc</th><th style = \"text-align: left;\">noc</th><th style = \"text-align: left;\">foreign: yes</th></tr><tr class = \"subheader headerLastRow\"><th class = \"rowNumber\" style = \"font-weight: bold; text-align: right;\"></th><th title = \"Float64\" style = \"text-align: left;\">Float64</th><th title = \"Float64\" style = \"text-align: left;\">Float64</th><th title = \"Float64\" style = \"text-align: left;\">Float64</th><th title = \"Float64\" style = \"text-align: left;\">Float64</th><th title = \"Float64\" style = \"text-align: left;\">Float64</th><th title = \"Float64\" style = \"text-align: left;\">Float64</th><th title = \"Float64\" style = \"text-align: left;\">Float64</th><th title = \"Float64\" style = \"text-align: left;\">Float64</th></tr></thead><tbody><tr><td class = \"rowNumber\" style = \"font-weight: bold; text-align: right;\">1</td><td style = \"text-align: right;\">1.24129</td><td style = \"text-align: right;\">-0.947283</td><td style = \"text-align: right;\">1.29334</td><td style = \"text-align: right;\">-0.405375</td><td style = \"text-align: right;\">-0.015854</td><td style = \"text-align: right;\">-0.926779</td><td style = \"text-align: right;\">-0.259494</td><td style = \"text-align: right;\">0.478879</td></tr><tr><td class = \"rowNumber\" style = \"font-weight: bold; text-align: right;\">2</td><td style = \"text-align: right;\">6.79873</td><td style = \"text-align: right;\">-0.443171</td><td style = \"text-align: right;\">2.98478</td><td style = \"text-align: right;\">-0.19818</td><td style = \"text-align: right;\">0.0565269</td><td style = \"text-align: right;\">-0.52503</td><td style = \"text-align: right;\">-0.0525333</td><td style = \"text-align: right;\">0.961622</td></tr><tr><td class = \"rowNumber\" style = \"font-weight: bold; text-align: right;\">3</td><td style = \"text-align: right;\">0.992006</td><td style = \"text-align: right;\">-0.92549</td><td style = \"text-align: right;\">1.28073</td><td style = \"text-align: right;\">-0.392235</td><td style = \"text-align: right;\">-0.015937</td><td style = \"text-align: right;\">-0.911238</td><td style = \"text-align: right;\">-0.246718</td><td style = \"text-align: right;\">0.476589</td></tr><tr><td class = \"rowNumber\" style = \"font-weight: bold; text-align: right;\">4</td><td style = \"text-align: right;\">6.50591</td><td style = \"text-align: right;\">-0.408374</td><td style = \"text-align: right;\">2.86989</td><td style = \"text-align: right;\">-0.196456</td><td style = \"text-align: right;\">0.0543295</td><td style = \"text-align: right;\">-0.517691</td><td style = \"text-align: right;\">-0.0472509</td><td style = \"text-align: right;\">0.95217</td></tr></tbody></table></div>"
      ],
      "text/latex": [
       "\\begin{tabular}{r|cccccccc}\n",
       "\t& (Intercept) & lnnlinc & age & age \\^ 2 & educ & nyc & noc & foreign: yes\\\\\n",
       "\t\\hline\n",
       "\t& Float64 & Float64 & Float64 & Float64 & Float64 & Float64 & Float64 & Float64\\\\\n",
       "\t\\hline\n",
       "\t1 & 1.24129 & -0.947283 & 1.29334 & -0.405375 & -0.015854 & -0.926779 & -0.259494 & 0.478879 \\\\\n",
       "\t2 & 6.79873 & -0.443171 & 2.98478 & -0.19818 & 0.0565269 & -0.52503 & -0.0525333 & 0.961622 \\\\\n",
       "\t3 & 0.992006 & -0.92549 & 1.28073 & -0.392235 & -0.015937 & -0.911238 & -0.246718 & 0.476589 \\\\\n",
       "\t4 & 6.50591 & -0.408374 & 2.86989 & -0.196456 & 0.0543295 & -0.517691 & -0.0472509 & 0.95217 \\\\\n",
       "\\end{tabular}\n"
      ],
      "text/plain": [
       "\u001b[1m4×8 DataFrame\u001b[0m\n",
       "\u001b[1m Row \u001b[0m│\u001b[1m (Intercept) \u001b[0m\u001b[1m lnnlinc   \u001b[0m\u001b[1m age     \u001b[0m\u001b[1m age ^ 2   \u001b[0m\u001b[1m educ       \u001b[0m\u001b[1m nyc       \u001b[0m\u001b[1m noc \u001b[0m ⋯\n",
       "     │\u001b[90m Float64     \u001b[0m\u001b[90m Float64   \u001b[0m\u001b[90m Float64 \u001b[0m\u001b[90m Float64   \u001b[0m\u001b[90m Float64    \u001b[0m\u001b[90m Float64   \u001b[0m\u001b[90m Floa\u001b[0m ⋯\n",
       "─────┼──────────────────────────────────────────────────────────────────────────\n",
       "   1 │    1.24129   -0.947283  1.29334  -0.405375  -0.015854   -0.926779  -0.2 ⋯\n",
       "   2 │    6.79873   -0.443171  2.98478  -0.19818    0.0565269  -0.52503   -0.0\n",
       "   3 │    0.992006  -0.92549   1.28073  -0.392235  -0.015937   -0.911238  -0.2\n",
       "   4 │    6.50591   -0.408374  2.86989  -0.196456   0.0543295  -0.517691  -0.0\n",
       "\u001b[36m                                                               2 columns omitted\u001b[0m"
      ]
     },
     "execution_count": 39,
     "metadata": {},
     "output_type": "execute_result"
    }
   ],
   "source": [
    "append!(conf_boot, conf_param)"
   ]
  },
  {
   "cell_type": "markdown",
   "id": "c5134d48",
   "metadata": {},
   "source": [
    "It is good to keep track of what each row of our data holds. Therefore we insert a new column to our data farme. As we want to put it in front we use the `insertcols!` function."
   ]
  },
  {
   "cell_type": "code",
   "execution_count": 40,
   "id": "dd8ab64d",
   "metadata": {},
   "outputs": [
    {
     "data": {
      "text/html": [
       "<div><div style = \"float: left;\"><span>4×9 DataFrame</span></div><div style = \"clear: both;\"></div></div><div class = \"data-frame\" style = \"overflow-x: scroll;\"><table class = \"data-frame\" style = \"margin-bottom: 6px;\"><thead><tr class = \"header\"><th class = \"rowNumber\" style = \"font-weight: bold; text-align: right;\">Row</th><th style = \"text-align: left;\">statistic</th><th style = \"text-align: left;\">(Intercept)</th><th style = \"text-align: left;\">lnnlinc</th><th style = \"text-align: left;\">age</th><th style = \"text-align: left;\">age ^ 2</th><th style = \"text-align: left;\">educ</th><th style = \"text-align: left;\">nyc</th><th style = \"text-align: left;\">noc</th><th style = \"text-align: left;\">foreign: yes</th></tr><tr class = \"subheader headerLastRow\"><th class = \"rowNumber\" style = \"font-weight: bold; text-align: right;\"></th><th title = \"String\" style = \"text-align: left;\">String</th><th title = \"Float64\" style = \"text-align: left;\">Float64</th><th title = \"Float64\" style = \"text-align: left;\">Float64</th><th title = \"Float64\" style = \"text-align: left;\">Float64</th><th title = \"Float64\" style = \"text-align: left;\">Float64</th><th title = \"Float64\" style = \"text-align: left;\">Float64</th><th title = \"Float64\" style = \"text-align: left;\">Float64</th><th title = \"Float64\" style = \"text-align: left;\">Float64</th><th title = \"Float64\" style = \"text-align: left;\">Float64</th></tr></thead><tbody><tr><td class = \"rowNumber\" style = \"font-weight: bold; text-align: right;\">1</td><td style = \"text-align: left;\">boot lo</td><td style = \"text-align: right;\">1.24129</td><td style = \"text-align: right;\">-0.947283</td><td style = \"text-align: right;\">1.29334</td><td style = \"text-align: right;\">-0.405375</td><td style = \"text-align: right;\">-0.015854</td><td style = \"text-align: right;\">-0.926779</td><td style = \"text-align: right;\">-0.259494</td><td style = \"text-align: right;\">0.478879</td></tr><tr><td class = \"rowNumber\" style = \"font-weight: bold; text-align: right;\">2</td><td style = \"text-align: left;\">boot hi</td><td style = \"text-align: right;\">6.79873</td><td style = \"text-align: right;\">-0.443171</td><td style = \"text-align: right;\">2.98478</td><td style = \"text-align: right;\">-0.19818</td><td style = \"text-align: right;\">0.0565269</td><td style = \"text-align: right;\">-0.52503</td><td style = \"text-align: right;\">-0.0525333</td><td style = \"text-align: right;\">0.961622</td></tr><tr><td class = \"rowNumber\" style = \"font-weight: bold; text-align: right;\">3</td><td style = \"text-align: left;\">parametric lo</td><td style = \"text-align: right;\">0.992006</td><td style = \"text-align: right;\">-0.92549</td><td style = \"text-align: right;\">1.28073</td><td style = \"text-align: right;\">-0.392235</td><td style = \"text-align: right;\">-0.015937</td><td style = \"text-align: right;\">-0.911238</td><td style = \"text-align: right;\">-0.246718</td><td style = \"text-align: right;\">0.476589</td></tr><tr><td class = \"rowNumber\" style = \"font-weight: bold; text-align: right;\">4</td><td style = \"text-align: left;\">parametric hi</td><td style = \"text-align: right;\">6.50591</td><td style = \"text-align: right;\">-0.408374</td><td style = \"text-align: right;\">2.86989</td><td style = \"text-align: right;\">-0.196456</td><td style = \"text-align: right;\">0.0543295</td><td style = \"text-align: right;\">-0.517691</td><td style = \"text-align: right;\">-0.0472509</td><td style = \"text-align: right;\">0.95217</td></tr></tbody></table></div>"
      ],
      "text/latex": [
       "\\begin{tabular}{r|cccccccc}\n",
       "\t& statistic & (Intercept) & lnnlinc & age & age \\^ 2 & educ & nyc & \\\\\n",
       "\t\\hline\n",
       "\t& String & Float64 & Float64 & Float64 & Float64 & Float64 & Float64 & \\\\\n",
       "\t\\hline\n",
       "\t1 & boot lo & 1.24129 & -0.947283 & 1.29334 & -0.405375 & -0.015854 & -0.926779 & $\\dots$ \\\\\n",
       "\t2 & boot hi & 6.79873 & -0.443171 & 2.98478 & -0.19818 & 0.0565269 & -0.52503 & $\\dots$ \\\\\n",
       "\t3 & parametric lo & 0.992006 & -0.92549 & 1.28073 & -0.392235 & -0.015937 & -0.911238 & $\\dots$ \\\\\n",
       "\t4 & parametric hi & 6.50591 & -0.408374 & 2.86989 & -0.196456 & 0.0543295 & -0.517691 & $\\dots$ \\\\\n",
       "\\end{tabular}\n"
      ],
      "text/plain": [
       "\u001b[1m4×9 DataFrame\u001b[0m\n",
       "\u001b[1m Row \u001b[0m│\u001b[1m statistic     \u001b[0m\u001b[1m (Intercept) \u001b[0m\u001b[1m lnnlinc   \u001b[0m\u001b[1m age     \u001b[0m\u001b[1m age ^ 2   \u001b[0m\u001b[1m educ       \u001b[0m\u001b[1m \u001b[0m ⋯\n",
       "     │\u001b[90m String        \u001b[0m\u001b[90m Float64     \u001b[0m\u001b[90m Float64   \u001b[0m\u001b[90m Float64 \u001b[0m\u001b[90m Float64   \u001b[0m\u001b[90m Float64    \u001b[0m\u001b[90m \u001b[0m ⋯\n",
       "─────┼──────────────────────────────────────────────────────────────────────────\n",
       "   1 │ boot lo           1.24129   -0.947283  1.29334  -0.405375  -0.015854    ⋯\n",
       "   2 │ boot hi           6.79873   -0.443171  2.98478  -0.19818    0.0565269\n",
       "   3 │ parametric lo     0.992006  -0.92549   1.28073  -0.392235  -0.015937\n",
       "   4 │ parametric hi     6.50591   -0.408374  2.86989  -0.196456   0.0543295\n",
       "\u001b[36m                                                               3 columns omitted\u001b[0m"
      ]
     },
     "execution_count": 40,
     "metadata": {},
     "output_type": "execute_result"
    }
   ],
   "source": [
    "insertcols!(conf_boot, 1, :statistic => [\"boot lo\", \"boot hi\", \"parametric lo\", \"parametric hi\"])"
   ]
  },
  {
   "cell_type": "markdown",
   "id": "6aef4daa",
   "metadata": {},
   "source": [
    "Notice that data frame also can be transposed. However, we need to provide a column that we will use as column names in the target data frame (data frame objects must have column names):"
   ]
  },
  {
   "cell_type": "code",
   "execution_count": 41,
   "id": "f190f135",
   "metadata": {},
   "outputs": [
    {
     "data": {
      "text/html": [
       "<div><div style = \"float: left;\"><span>8×5 DataFrame</span></div><div style = \"clear: both;\"></div></div><div class = \"data-frame\" style = \"overflow-x: scroll;\"><table class = \"data-frame\" style = \"margin-bottom: 6px;\"><thead><tr class = \"header\"><th class = \"rowNumber\" style = \"font-weight: bold; text-align: right;\">Row</th><th style = \"text-align: left;\">statistic</th><th style = \"text-align: left;\">boot lo</th><th style = \"text-align: left;\">boot hi</th><th style = \"text-align: left;\">parametric lo</th><th style = \"text-align: left;\">parametric hi</th></tr><tr class = \"subheader headerLastRow\"><th class = \"rowNumber\" style = \"font-weight: bold; text-align: right;\"></th><th title = \"String\" style = \"text-align: left;\">String</th><th title = \"Float64\" style = \"text-align: left;\">Float64</th><th title = \"Float64\" style = \"text-align: left;\">Float64</th><th title = \"Float64\" style = \"text-align: left;\">Float64</th><th title = \"Float64\" style = \"text-align: left;\">Float64</th></tr></thead><tbody><tr><td class = \"rowNumber\" style = \"font-weight: bold; text-align: right;\">1</td><td style = \"text-align: left;\">(Intercept)</td><td style = \"text-align: right;\">1.24129</td><td style = \"text-align: right;\">6.79873</td><td style = \"text-align: right;\">0.992006</td><td style = \"text-align: right;\">6.50591</td></tr><tr><td class = \"rowNumber\" style = \"font-weight: bold; text-align: right;\">2</td><td style = \"text-align: left;\">lnnlinc</td><td style = \"text-align: right;\">-0.947283</td><td style = \"text-align: right;\">-0.443171</td><td style = \"text-align: right;\">-0.92549</td><td style = \"text-align: right;\">-0.408374</td></tr><tr><td class = \"rowNumber\" style = \"font-weight: bold; text-align: right;\">3</td><td style = \"text-align: left;\">age</td><td style = \"text-align: right;\">1.29334</td><td style = \"text-align: right;\">2.98478</td><td style = \"text-align: right;\">1.28073</td><td style = \"text-align: right;\">2.86989</td></tr><tr><td class = \"rowNumber\" style = \"font-weight: bold; text-align: right;\">4</td><td style = \"text-align: left;\">age ^ 2</td><td style = \"text-align: right;\">-0.405375</td><td style = \"text-align: right;\">-0.19818</td><td style = \"text-align: right;\">-0.392235</td><td style = \"text-align: right;\">-0.196456</td></tr><tr><td class = \"rowNumber\" style = \"font-weight: bold; text-align: right;\">5</td><td style = \"text-align: left;\">educ</td><td style = \"text-align: right;\">-0.015854</td><td style = \"text-align: right;\">0.0565269</td><td style = \"text-align: right;\">-0.015937</td><td style = \"text-align: right;\">0.0543295</td></tr><tr><td class = \"rowNumber\" style = \"font-weight: bold; text-align: right;\">6</td><td style = \"text-align: left;\">nyc</td><td style = \"text-align: right;\">-0.926779</td><td style = \"text-align: right;\">-0.52503</td><td style = \"text-align: right;\">-0.911238</td><td style = \"text-align: right;\">-0.517691</td></tr><tr><td class = \"rowNumber\" style = \"font-weight: bold; text-align: right;\">7</td><td style = \"text-align: left;\">noc</td><td style = \"text-align: right;\">-0.259494</td><td style = \"text-align: right;\">-0.0525333</td><td style = \"text-align: right;\">-0.246718</td><td style = \"text-align: right;\">-0.0472509</td></tr><tr><td class = \"rowNumber\" style = \"font-weight: bold; text-align: right;\">8</td><td style = \"text-align: left;\">foreign: yes</td><td style = \"text-align: right;\">0.478879</td><td style = \"text-align: right;\">0.961622</td><td style = \"text-align: right;\">0.476589</td><td style = \"text-align: right;\">0.95217</td></tr></tbody></table></div>"
      ],
      "text/latex": [
       "\\begin{tabular}{r|ccccc}\n",
       "\t& statistic & boot lo & boot hi & parametric lo & parametric hi\\\\\n",
       "\t\\hline\n",
       "\t& String & Float64 & Float64 & Float64 & Float64\\\\\n",
       "\t\\hline\n",
       "\t1 & (Intercept) & 1.24129 & 6.79873 & 0.992006 & 6.50591 \\\\\n",
       "\t2 & lnnlinc & -0.947283 & -0.443171 & -0.92549 & -0.408374 \\\\\n",
       "\t3 & age & 1.29334 & 2.98478 & 1.28073 & 2.86989 \\\\\n",
       "\t4 & age \\^ 2 & -0.405375 & -0.19818 & -0.392235 & -0.196456 \\\\\n",
       "\t5 & educ & -0.015854 & 0.0565269 & -0.015937 & 0.0543295 \\\\\n",
       "\t6 & nyc & -0.926779 & -0.52503 & -0.911238 & -0.517691 \\\\\n",
       "\t7 & noc & -0.259494 & -0.0525333 & -0.246718 & -0.0472509 \\\\\n",
       "\t8 & foreign: yes & 0.478879 & 0.961622 & 0.476589 & 0.95217 \\\\\n",
       "\\end{tabular}\n"
      ],
      "text/plain": [
       "\u001b[1m8×5 DataFrame\u001b[0m\n",
       "\u001b[1m Row \u001b[0m│\u001b[1m statistic    \u001b[0m\u001b[1m boot lo   \u001b[0m\u001b[1m boot hi    \u001b[0m\u001b[1m parametric lo \u001b[0m\u001b[1m parametric hi \u001b[0m\n",
       "     │\u001b[90m String       \u001b[0m\u001b[90m Float64   \u001b[0m\u001b[90m Float64    \u001b[0m\u001b[90m Float64       \u001b[0m\u001b[90m Float64       \u001b[0m\n",
       "─────┼───────────────────────────────────────────────────────────────────\n",
       "   1 │ (Intercept)    1.24129    6.79873         0.992006      6.50591\n",
       "   2 │ lnnlinc       -0.947283  -0.443171       -0.92549      -0.408374\n",
       "   3 │ age            1.29334    2.98478         1.28073       2.86989\n",
       "   4 │ age ^ 2       -0.405375  -0.19818        -0.392235     -0.196456\n",
       "   5 │ educ          -0.015854   0.0565269      -0.015937      0.0543295\n",
       "   6 │ nyc           -0.926779  -0.52503        -0.911238     -0.517691\n",
       "   7 │ noc           -0.259494  -0.0525333      -0.246718     -0.0472509\n",
       "   8 │ foreign: yes   0.478879   0.961622        0.476589      0.95217"
      ]
     },
     "execution_count": 41,
     "metadata": {},
     "output_type": "execute_result"
    }
   ],
   "source": [
    "conf_boot_t = permutedims(conf_boot, :statistic)"
   ]
  },
  {
   "cell_type": "markdown",
   "id": "e83705f0",
   "metadata": {},
   "source": [
    "Let us also add the estimates of the coefficients to the table:"
   ]
  },
  {
   "cell_type": "code",
   "execution_count": 42,
   "id": "574a4c53",
   "metadata": {},
   "outputs": [
    {
     "data": {
      "text/html": [
       "<div><div style = \"float: left;\"><span>8×6 DataFrame</span></div><div style = \"clear: both;\"></div></div><div class = \"data-frame\" style = \"overflow-x: scroll;\"><table class = \"data-frame\" style = \"margin-bottom: 6px;\"><thead><tr class = \"header\"><th class = \"rowNumber\" style = \"font-weight: bold; text-align: right;\">Row</th><th style = \"text-align: left;\">statistic</th><th style = \"text-align: left;\">estimate</th><th style = \"text-align: left;\">boot lo</th><th style = \"text-align: left;\">boot hi</th><th style = \"text-align: left;\">parametric lo</th><th style = \"text-align: left;\">parametric hi</th></tr><tr class = \"subheader headerLastRow\"><th class = \"rowNumber\" style = \"font-weight: bold; text-align: right;\"></th><th title = \"String\" style = \"text-align: left;\">String</th><th title = \"Float64\" style = \"text-align: left;\">Float64</th><th title = \"Float64\" style = \"text-align: left;\">Float64</th><th title = \"Float64\" style = \"text-align: left;\">Float64</th><th title = \"Float64\" style = \"text-align: left;\">Float64</th><th title = \"Float64\" style = \"text-align: left;\">Float64</th></tr></thead><tbody><tr><td class = \"rowNumber\" style = \"font-weight: bold; text-align: right;\">1</td><td style = \"text-align: left;\">(Intercept)</td><td style = \"text-align: right;\">3.74896</td><td style = \"text-align: right;\">1.24129</td><td style = \"text-align: right;\">6.79873</td><td style = \"text-align: right;\">0.992006</td><td style = \"text-align: right;\">6.50591</td></tr><tr><td class = \"rowNumber\" style = \"font-weight: bold; text-align: right;\">2</td><td style = \"text-align: left;\">lnnlinc</td><td style = \"text-align: right;\">-0.666932</td><td style = \"text-align: right;\">-0.947283</td><td style = \"text-align: right;\">-0.443171</td><td style = \"text-align: right;\">-0.92549</td><td style = \"text-align: right;\">-0.408374</td></tr><tr><td class = \"rowNumber\" style = \"font-weight: bold; text-align: right;\">3</td><td style = \"text-align: left;\">age</td><td style = \"text-align: right;\">2.07531</td><td style = \"text-align: right;\">1.29334</td><td style = \"text-align: right;\">2.98478</td><td style = \"text-align: right;\">1.28073</td><td style = \"text-align: right;\">2.86989</td></tr><tr><td class = \"rowNumber\" style = \"font-weight: bold; text-align: right;\">4</td><td style = \"text-align: left;\">age ^ 2</td><td style = \"text-align: right;\">-0.294345</td><td style = \"text-align: right;\">-0.405375</td><td style = \"text-align: right;\">-0.19818</td><td style = \"text-align: right;\">-0.392235</td><td style = \"text-align: right;\">-0.196456</td></tr><tr><td class = \"rowNumber\" style = \"font-weight: bold; text-align: right;\">5</td><td style = \"text-align: left;\">educ</td><td style = \"text-align: right;\">0.0191963</td><td style = \"text-align: right;\">-0.015854</td><td style = \"text-align: right;\">0.0565269</td><td style = \"text-align: right;\">-0.015937</td><td style = \"text-align: right;\">0.0543295</td></tr><tr><td class = \"rowNumber\" style = \"font-weight: bold; text-align: right;\">6</td><td style = \"text-align: left;\">nyc</td><td style = \"text-align: right;\">-0.714465</td><td style = \"text-align: right;\">-0.926779</td><td style = \"text-align: right;\">-0.52503</td><td style = \"text-align: right;\">-0.911238</td><td style = \"text-align: right;\">-0.517691</td></tr><tr><td class = \"rowNumber\" style = \"font-weight: bold; text-align: right;\">7</td><td style = \"text-align: left;\">noc</td><td style = \"text-align: right;\">-0.146985</td><td style = \"text-align: right;\">-0.259494</td><td style = \"text-align: right;\">-0.0525333</td><td style = \"text-align: right;\">-0.246718</td><td style = \"text-align: right;\">-0.0472509</td></tr><tr><td class = \"rowNumber\" style = \"font-weight: bold; text-align: right;\">8</td><td style = \"text-align: left;\">foreign: yes</td><td style = \"text-align: right;\">0.71438</td><td style = \"text-align: right;\">0.478879</td><td style = \"text-align: right;\">0.961622</td><td style = \"text-align: right;\">0.476589</td><td style = \"text-align: right;\">0.95217</td></tr></tbody></table></div>"
      ],
      "text/latex": [
       "\\begin{tabular}{r|cccccc}\n",
       "\t& statistic & estimate & boot lo & boot hi & parametric lo & parametric hi\\\\\n",
       "\t\\hline\n",
       "\t& String & Float64 & Float64 & Float64 & Float64 & Float64\\\\\n",
       "\t\\hline\n",
       "\t1 & (Intercept) & 3.74896 & 1.24129 & 6.79873 & 0.992006 & 6.50591 \\\\\n",
       "\t2 & lnnlinc & -0.666932 & -0.947283 & -0.443171 & -0.92549 & -0.408374 \\\\\n",
       "\t3 & age & 2.07531 & 1.29334 & 2.98478 & 1.28073 & 2.86989 \\\\\n",
       "\t4 & age \\^ 2 & -0.294345 & -0.405375 & -0.19818 & -0.392235 & -0.196456 \\\\\n",
       "\t5 & educ & 0.0191963 & -0.015854 & 0.0565269 & -0.015937 & 0.0543295 \\\\\n",
       "\t6 & nyc & -0.714465 & -0.926779 & -0.52503 & -0.911238 & -0.517691 \\\\\n",
       "\t7 & noc & -0.146985 & -0.259494 & -0.0525333 & -0.246718 & -0.0472509 \\\\\n",
       "\t8 & foreign: yes & 0.71438 & 0.478879 & 0.961622 & 0.476589 & 0.95217 \\\\\n",
       "\\end{tabular}\n"
      ],
      "text/plain": [
       "\u001b[1m8×6 DataFrame\u001b[0m\n",
       "\u001b[1m Row \u001b[0m│\u001b[1m statistic    \u001b[0m\u001b[1m estimate   \u001b[0m\u001b[1m boot lo   \u001b[0m\u001b[1m boot hi    \u001b[0m\u001b[1m parametric lo \u001b[0m\u001b[1m paramet\u001b[0m ⋯\n",
       "     │\u001b[90m String       \u001b[0m\u001b[90m Float64    \u001b[0m\u001b[90m Float64   \u001b[0m\u001b[90m Float64    \u001b[0m\u001b[90m Float64       \u001b[0m\u001b[90m Float64\u001b[0m ⋯\n",
       "─────┼──────────────────────────────────────────────────────────────────────────\n",
       "   1 │ (Intercept)    3.74896     1.24129    6.79873         0.992006      6.5 ⋯\n",
       "   2 │ lnnlinc       -0.666932   -0.947283  -0.443171       -0.92549      -0.4\n",
       "   3 │ age            2.07531     1.29334    2.98478         1.28073       2.8\n",
       "   4 │ age ^ 2       -0.294345   -0.405375  -0.19818        -0.392235     -0.1\n",
       "   5 │ educ           0.0191963  -0.015854   0.0565269      -0.015937      0.0 ⋯\n",
       "   6 │ nyc           -0.714465   -0.926779  -0.52503        -0.911238     -0.5\n",
       "   7 │ noc           -0.146985   -0.259494  -0.0525333      -0.246718     -0.0\n",
       "   8 │ foreign: yes   0.71438     0.478879   0.961622        0.476589      0.9\n",
       "\u001b[36m                                                                1 column omitted\u001b[0m"
      ]
     },
     "execution_count": 42,
     "metadata": {},
     "output_type": "execute_result"
    }
   ],
   "source": [
    "insertcols!(conf_boot_t, 2, :estimate => coef(probit))"
   ]
  },
  {
   "cell_type": "markdown",
   "id": "3cfc47a9",
   "metadata": {},
   "source": [
    "Now it is time for some more advanced stuff. We want to transform columns holding the ends of the confidence intervals (which are columns from 3 to 6) into absolute deviations from the estimate. Such a transformation will be useful for plotting:"
   ]
  },
  {
   "cell_type": "code",
   "execution_count": 43,
   "id": "55ae9719",
   "metadata": {},
   "outputs": [
    {
     "data": {
      "text/html": [
       "<div><div style = \"float: left;\"><span>8×6 DataFrame</span></div><div style = \"clear: both;\"></div></div><div class = \"data-frame\" style = \"overflow-x: scroll;\"><table class = \"data-frame\" style = \"margin-bottom: 6px;\"><thead><tr class = \"header\"><th class = \"rowNumber\" style = \"font-weight: bold; text-align: right;\">Row</th><th style = \"text-align: left;\">statistic</th><th style = \"text-align: left;\">estimate</th><th style = \"text-align: left;\">boot lo</th><th style = \"text-align: left;\">boot hi</th><th style = \"text-align: left;\">parametric lo</th><th style = \"text-align: left;\">parametric hi</th></tr><tr class = \"subheader headerLastRow\"><th class = \"rowNumber\" style = \"font-weight: bold; text-align: right;\"></th><th title = \"String\" style = \"text-align: left;\">String</th><th title = \"Float64\" style = \"text-align: left;\">Float64</th><th title = \"Float64\" style = \"text-align: left;\">Float64</th><th title = \"Float64\" style = \"text-align: left;\">Float64</th><th title = \"Float64\" style = \"text-align: left;\">Float64</th><th title = \"Float64\" style = \"text-align: left;\">Float64</th></tr></thead><tbody><tr><td class = \"rowNumber\" style = \"font-weight: bold; text-align: right;\">1</td><td style = \"text-align: left;\">(Intercept)</td><td style = \"text-align: right;\">3.74896</td><td style = \"text-align: right;\">2.50766</td><td style = \"text-align: right;\">3.04977</td><td style = \"text-align: right;\">2.75695</td><td style = \"text-align: right;\">2.75695</td></tr><tr><td class = \"rowNumber\" style = \"font-weight: bold; text-align: right;\">2</td><td style = \"text-align: left;\">lnnlinc</td><td style = \"text-align: right;\">-0.666932</td><td style = \"text-align: right;\">0.280351</td><td style = \"text-align: right;\">0.223761</td><td style = \"text-align: right;\">0.258558</td><td style = \"text-align: right;\">0.258558</td></tr><tr><td class = \"rowNumber\" style = \"font-weight: bold; text-align: right;\">3</td><td style = \"text-align: left;\">age</td><td style = \"text-align: right;\">2.07531</td><td style = \"text-align: right;\">0.78197</td><td style = \"text-align: right;\">0.909466</td><td style = \"text-align: right;\">0.794584</td><td style = \"text-align: right;\">0.794584</td></tr><tr><td class = \"rowNumber\" style = \"font-weight: bold; text-align: right;\">4</td><td style = \"text-align: left;\">age ^ 2</td><td style = \"text-align: right;\">-0.294345</td><td style = \"text-align: right;\">0.11103</td><td style = \"text-align: right;\">0.0961656</td><td style = \"text-align: right;\">0.0978895</td><td style = \"text-align: right;\">0.0978895</td></tr><tr><td class = \"rowNumber\" style = \"font-weight: bold; text-align: right;\">5</td><td style = \"text-align: left;\">educ</td><td style = \"text-align: right;\">0.0191963</td><td style = \"text-align: right;\">0.0350502</td><td style = \"text-align: right;\">0.0373307</td><td style = \"text-align: right;\">0.0351333</td><td style = \"text-align: right;\">0.0351333</td></tr><tr><td class = \"rowNumber\" style = \"font-weight: bold; text-align: right;\">6</td><td style = \"text-align: left;\">nyc</td><td style = \"text-align: right;\">-0.714465</td><td style = \"text-align: right;\">0.212315</td><td style = \"text-align: right;\">0.189435</td><td style = \"text-align: right;\">0.196774</td><td style = \"text-align: right;\">0.196774</td></tr><tr><td class = \"rowNumber\" style = \"font-weight: bold; text-align: right;\">7</td><td style = \"text-align: left;\">noc</td><td style = \"text-align: right;\">-0.146985</td><td style = \"text-align: right;\">0.112509</td><td style = \"text-align: right;\">0.0944512</td><td style = \"text-align: right;\">0.0997336</td><td style = \"text-align: right;\">0.0997336</td></tr><tr><td class = \"rowNumber\" style = \"font-weight: bold; text-align: right;\">8</td><td style = \"text-align: left;\">foreign: yes</td><td style = \"text-align: right;\">0.71438</td><td style = \"text-align: right;\">0.235501</td><td style = \"text-align: right;\">0.247242</td><td style = \"text-align: right;\">0.23779</td><td style = \"text-align: right;\">0.23779</td></tr></tbody></table></div>"
      ],
      "text/latex": [
       "\\begin{tabular}{r|cccccc}\n",
       "\t& statistic & estimate & boot lo & boot hi & parametric lo & parametric hi\\\\\n",
       "\t\\hline\n",
       "\t& String & Float64 & Float64 & Float64 & Float64 & Float64\\\\\n",
       "\t\\hline\n",
       "\t1 & (Intercept) & 3.74896 & 2.50766 & 3.04977 & 2.75695 & 2.75695 \\\\\n",
       "\t2 & lnnlinc & -0.666932 & 0.280351 & 0.223761 & 0.258558 & 0.258558 \\\\\n",
       "\t3 & age & 2.07531 & 0.78197 & 0.909466 & 0.794584 & 0.794584 \\\\\n",
       "\t4 & age \\^ 2 & -0.294345 & 0.11103 & 0.0961656 & 0.0978895 & 0.0978895 \\\\\n",
       "\t5 & educ & 0.0191963 & 0.0350502 & 0.0373307 & 0.0351333 & 0.0351333 \\\\\n",
       "\t6 & nyc & -0.714465 & 0.212315 & 0.189435 & 0.196774 & 0.196774 \\\\\n",
       "\t7 & noc & -0.146985 & 0.112509 & 0.0944512 & 0.0997336 & 0.0997336 \\\\\n",
       "\t8 & foreign: yes & 0.71438 & 0.235501 & 0.247242 & 0.23779 & 0.23779 \\\\\n",
       "\\end{tabular}\n"
      ],
      "text/plain": [
       "\u001b[1m8×6 DataFrame\u001b[0m\n",
       "\u001b[1m Row \u001b[0m│\u001b[1m statistic    \u001b[0m\u001b[1m estimate   \u001b[0m\u001b[1m boot lo   \u001b[0m\u001b[1m boot hi   \u001b[0m\u001b[1m parametric lo \u001b[0m\u001b[1m parametr\u001b[0m ⋯\n",
       "     │\u001b[90m String       \u001b[0m\u001b[90m Float64    \u001b[0m\u001b[90m Float64   \u001b[0m\u001b[90m Float64   \u001b[0m\u001b[90m Float64       \u001b[0m\u001b[90m Float64 \u001b[0m ⋯\n",
       "─────┼──────────────────────────────────────────────────────────────────────────\n",
       "   1 │ (Intercept)    3.74896    2.50766    3.04977        2.75695        2.75 ⋯\n",
       "   2 │ lnnlinc       -0.666932   0.280351   0.223761       0.258558       0.25\n",
       "   3 │ age            2.07531    0.78197    0.909466       0.794584       0.79\n",
       "   4 │ age ^ 2       -0.294345   0.11103    0.0961656      0.0978895      0.09\n",
       "   5 │ educ           0.0191963  0.0350502  0.0373307      0.0351333      0.03 ⋯\n",
       "   6 │ nyc           -0.714465   0.212315   0.189435       0.196774       0.19\n",
       "   7 │ noc           -0.146985   0.112509   0.0944512      0.0997336      0.09\n",
       "   8 │ foreign: yes   0.71438    0.235501   0.247242       0.23779        0.23\n",
       "\u001b[36m                                                                1 column omitted\u001b[0m"
      ]
     },
     "execution_count": 43,
     "metadata": {},
     "output_type": "execute_result"
    }
   ],
   "source": [
    "select!(conf_boot_t, :statistic, :estimate, 3:6 .=> x -> abs.(x .- conf_boot_t.estimate), renamecols=false)"
   ]
  },
  {
   "cell_type": "markdown",
   "id": "d6c40ddd",
   "metadata": {},
   "source": [
    "I have promised you a plot, so let us not hesitate producing it:"
   ]
  },
  {
   "cell_type": "code",
   "execution_count": 44,
   "id": "1fa4b3c3",
   "metadata": {},
   "outputs": [
    {
     "data": {
      "image/svg+xml": [
       "<?xml version=\"1.0\" encoding=\"utf-8\"?>\n",
       "<svg xmlns=\"http://www.w3.org/2000/svg\" xmlns:xlink=\"http://www.w3.org/1999/xlink\" width=\"600\" height=\"400\" viewBox=\"0 0 2400 1600\">\n",
       "<defs>\n",
       "  <clipPath id=\"clip490\">\n",
       "    <rect x=\"0\" y=\"0\" width=\"2400\" height=\"1600\"/>\n",
       "  </clipPath>\n",
       "</defs>\n",
       "<path clip-path=\"url(#clip490)\" d=\"M0 1600 L2400 1600 L2400 0 L0 0  Z\" fill=\"#ffffff\" fill-rule=\"evenodd\" fill-opacity=\"1\"/>\n",
       "<defs>\n",
       "  <clipPath id=\"clip491\">\n",
       "    <rect x=\"480\" y=\"0\" width=\"1681\" height=\"1600\"/>\n",
       "  </clipPath>\n",
       "</defs>\n",
       "<path clip-path=\"url(#clip490)\" d=\"M112.177 1366.38 L2352.76 1366.38 L2352.76 47.2441 L112.177 47.2441  Z\" fill=\"#ffffff\" fill-rule=\"evenodd\" fill-opacity=\"1\"/>\n",
       "<defs>\n",
       "  <clipPath id=\"clip492\">\n",
       "    <rect x=\"112\" y=\"47\" width=\"2242\" height=\"1320\"/>\n",
       "  </clipPath>\n",
       "</defs>\n",
       "<polyline clip-path=\"url(#clip492)\" style=\"stroke:#000000; stroke-linecap:round; stroke-linejoin:round; stroke-width:2; stroke-opacity:0.1; fill:none\" points=\"190.475,1366.38 190.475,47.2441 \"/>\n",
       "<polyline clip-path=\"url(#clip492)\" style=\"stroke:#000000; stroke-linecap:round; stroke-linejoin:round; stroke-width:2; stroke-opacity:0.1; fill:none\" points=\"488.187,1366.38 488.187,47.2441 \"/>\n",
       "<polyline clip-path=\"url(#clip492)\" style=\"stroke:#000000; stroke-linecap:round; stroke-linejoin:round; stroke-width:2; stroke-opacity:0.1; fill:none\" points=\"785.899,1366.38 785.899,47.2441 \"/>\n",
       "<polyline clip-path=\"url(#clip492)\" style=\"stroke:#000000; stroke-linecap:round; stroke-linejoin:round; stroke-width:2; stroke-opacity:0.1; fill:none\" points=\"1083.61,1366.38 1083.61,47.2441 \"/>\n",
       "<polyline clip-path=\"url(#clip492)\" style=\"stroke:#000000; stroke-linecap:round; stroke-linejoin:round; stroke-width:2; stroke-opacity:0.1; fill:none\" points=\"1381.32,1366.38 1381.32,47.2441 \"/>\n",
       "<polyline clip-path=\"url(#clip492)\" style=\"stroke:#000000; stroke-linecap:round; stroke-linejoin:round; stroke-width:2; stroke-opacity:0.1; fill:none\" points=\"1679.03,1366.38 1679.03,47.2441 \"/>\n",
       "<polyline clip-path=\"url(#clip492)\" style=\"stroke:#000000; stroke-linecap:round; stroke-linejoin:round; stroke-width:2; stroke-opacity:0.1; fill:none\" points=\"1976.75,1366.38 1976.75,47.2441 \"/>\n",
       "<polyline clip-path=\"url(#clip492)\" style=\"stroke:#000000; stroke-linecap:round; stroke-linejoin:round; stroke-width:2; stroke-opacity:0.1; fill:none\" points=\"2274.46,1366.38 2274.46,47.2441 \"/>\n",
       "<polyline clip-path=\"url(#clip490)\" style=\"stroke:#000000; stroke-linecap:round; stroke-linejoin:round; stroke-width:4; stroke-opacity:1; fill:none\" points=\"112.177,1366.38 2352.76,1366.38 \"/>\n",
       "<polyline clip-path=\"url(#clip490)\" style=\"stroke:#000000; stroke-linecap:round; stroke-linejoin:round; stroke-width:4; stroke-opacity:1; fill:none\" points=\"190.475,1366.38 190.475,1347.48 \"/>\n",
       "<polyline clip-path=\"url(#clip490)\" style=\"stroke:#000000; stroke-linecap:round; stroke-linejoin:round; stroke-width:4; stroke-opacity:1; fill:none\" points=\"488.187,1366.38 488.187,1347.48 \"/>\n",
       "<polyline clip-path=\"url(#clip490)\" style=\"stroke:#000000; stroke-linecap:round; stroke-linejoin:round; stroke-width:4; stroke-opacity:1; fill:none\" points=\"785.899,1366.38 785.899,1347.48 \"/>\n",
       "<polyline clip-path=\"url(#clip490)\" style=\"stroke:#000000; stroke-linecap:round; stroke-linejoin:round; stroke-width:4; stroke-opacity:1; fill:none\" points=\"1083.61,1366.38 1083.61,1347.48 \"/>\n",
       "<polyline clip-path=\"url(#clip490)\" style=\"stroke:#000000; stroke-linecap:round; stroke-linejoin:round; stroke-width:4; stroke-opacity:1; fill:none\" points=\"1381.32,1366.38 1381.32,1347.48 \"/>\n",
       "<polyline clip-path=\"url(#clip490)\" style=\"stroke:#000000; stroke-linecap:round; stroke-linejoin:round; stroke-width:4; stroke-opacity:1; fill:none\" points=\"1679.03,1366.38 1679.03,1347.48 \"/>\n",
       "<polyline clip-path=\"url(#clip490)\" style=\"stroke:#000000; stroke-linecap:round; stroke-linejoin:round; stroke-width:4; stroke-opacity:1; fill:none\" points=\"1976.75,1366.38 1976.75,1347.48 \"/>\n",
       "<polyline clip-path=\"url(#clip490)\" style=\"stroke:#000000; stroke-linecap:round; stroke-linejoin:round; stroke-width:4; stroke-opacity:1; fill:none\" points=\"2274.46,1366.38 2274.46,1347.48 \"/>\n",
       "<path clip-path=\"url(#clip490)\" d=\"M12.9549 1554.99 Q14.5262 1560.95 17.1451 1565.7 Q19.764 1570.44 23.545 1574.22 Q27.3261 1578.01 32.1056 1580.66 Q36.8851 1583.28 42.8103 1584.85 L40.1914 1587.47 Q33.8897 1586.08 28.9465 1583.59 Q24.0197 1581.08 20.3533 1577.42 Q16.7032 1573.77 14.2152 1568.86 Q11.7273 1563.95 10.336 1557.61 L12.9549 1554.99 Z\" fill=\"#000000\" fill-rule=\"evenodd\" fill-opacity=\"1\" /><path clip-path=\"url(#clip490)\" d=\"M19.9277 1550.02 L23.2341 1546.71 L47.6717 1571.15 L44.3653 1574.45 L19.9277 1550.02 Z\" fill=\"#000000\" fill-rule=\"evenodd\" fill-opacity=\"1\" /><path clip-path=\"url(#clip490)\" d=\"M58.2946 1538.4 L69.3594 1549.46 L66.3477 1552.47 L55.3811 1541.51 Q52.7785 1538.9 50.4706 1538.62 Q48.1627 1538.35 46.1331 1540.38 Q43.6942 1542.81 43.8415 1545.78 Q43.9888 1548.74 46.6732 1551.42 L57.0342 1561.79 L54.0061 1564.81 L35.6738 1546.48 L38.7019 1543.45 L41.55 1546.3 Q40.9771 1543.57 41.6155 1541.29 Q42.2702 1539 44.1853 1537.09 Q47.3443 1533.93 50.9289 1534.27 Q54.4972 1534.6 58.2946 1538.4 Z\" fill=\"#000000\" fill-rule=\"evenodd\" fill-opacity=\"1\" /><path clip-path=\"url(#clip490)\" d=\"M54.8082 1516.94 L60.0132 1522.14 L66.2168 1515.94 L68.5574 1518.28 L62.3539 1524.48 L72.3057 1534.43 Q74.5481 1536.68 75.7921 1536.71 Q77.0524 1536.73 78.9348 1534.84 L82.0284 1531.75 L84.5491 1534.27 L81.4555 1537.36 Q77.9691 1540.85 75.3502 1540.88 Q72.7149 1540.9 69.2776 1537.46 L59.3258 1527.51 L57.1161 1529.72 L54.7754 1527.38 L56.9851 1525.17 L51.7801 1519.96 L54.8082 1516.94 Z\" fill=\"#000000\" fill-rule=\"evenodd\" fill-opacity=\"1\" /><path clip-path=\"url(#clip490)\" d=\"M94.2717 1504.71 L95.7448 1506.18 L81.8974 1520.03 Q85.2038 1522.94 88.5101 1522.91 Q91.8165 1522.85 94.8119 1519.85 Q96.5469 1518.11 97.7418 1516.07 Q98.953 1514.01 99.7059 1511.55 L102.554 1514.4 Q101.621 1516.71 100.279 1518.77 Q98.9366 1520.83 97.1852 1522.58 Q92.7986 1526.97 87.6754 1526.99 Q82.5685 1526.99 78.2146 1522.63 Q73.7134 1518.13 73.5006 1513.07 Q73.2878 1507.98 77.4125 1503.86 Q81.1117 1500.16 85.6457 1500.4 Q90.1797 1500.62 94.2717 1504.71 M90.3761 1506.84 Q87.8718 1504.4 85.0401 1504.28 Q82.2248 1504.15 79.9987 1506.38 Q77.478 1508.9 77.3798 1511.85 Q77.298 1514.78 79.655 1517.59 L90.3761 1506.84 Z\" fill=\"#000000\" fill-rule=\"evenodd\" fill-opacity=\"1\" /><path clip-path=\"url(#clip490)\" d=\"M104.24 1483.55 Q103.438 1483.76 102.701 1484.23 Q101.965 1484.67 101.245 1485.4 Q98.6911 1487.95 98.9857 1490.99 Q99.2804 1494 102.39 1497.11 L112.047 1506.77 L109.019 1509.8 L90.6871 1491.47 L93.7152 1488.44 L96.5633 1491.29 Q95.8431 1488.67 96.5633 1486.34 Q97.2671 1484 99.444 1481.83 Q99.755 1481.52 100.181 1481.19 Q100.59 1480.84 101.13 1480.47 L104.24 1483.55 Z\" fill=\"#000000\" fill-rule=\"evenodd\" fill-opacity=\"1\" /><path clip-path=\"url(#clip490)\" d=\"M117.744 1465.82 L120.559 1468.63 Q118.578 1469.21 116.942 1470.16 Q115.305 1471.07 113.995 1472.38 Q111.065 1475.31 111.311 1478.8 Q111.54 1482.27 114.896 1485.62 Q118.251 1488.98 121.737 1489.23 Q125.207 1489.45 128.137 1486.52 Q129.447 1485.22 130.38 1483.59 Q131.313 1481.94 131.886 1479.96 L134.668 1482.74 Q133.997 1484.59 132.933 1486.25 Q131.886 1487.88 130.363 1489.41 Q126.222 1493.55 121.181 1493.38 Q116.14 1493.22 111.72 1488.8 Q107.235 1484.31 107.121 1479.29 Q107.022 1474.25 111.311 1469.96 Q112.702 1468.57 114.323 1467.54 Q115.927 1466.49 117.744 1465.82 Z\" fill=\"#000000\" fill-rule=\"evenodd\" fill-opacity=\"1\" /><path clip-path=\"url(#clip490)\" d=\"M146.371 1452.61 L147.845 1454.08 L133.997 1467.93 Q137.304 1470.84 140.61 1470.81 Q143.916 1470.75 146.912 1467.75 Q148.647 1466.02 149.842 1463.97 Q151.053 1461.91 151.806 1459.45 L154.654 1462.3 Q153.721 1464.61 152.379 1466.67 Q151.036 1468.73 149.285 1470.48 Q144.898 1474.87 139.775 1474.89 Q134.668 1474.89 130.314 1470.53 Q125.813 1466.03 125.6 1460.97 Q125.388 1455.88 129.512 1451.76 Q133.211 1448.06 137.745 1448.3 Q142.279 1448.52 146.371 1452.61 M142.476 1454.74 Q139.972 1452.3 137.14 1452.18 Q134.325 1452.05 132.098 1454.28 Q129.578 1456.8 129.48 1459.75 Q129.398 1462.68 131.755 1465.49 L142.476 1454.74 Z\" fill=\"#000000\" fill-rule=\"evenodd\" fill-opacity=\"1\" /><path clip-path=\"url(#clip490)\" d=\"M161.397 1451.92 L171.12 1461.64 L168.092 1464.67 L142.787 1439.37 L145.815 1436.34 L148.598 1439.12 Q147.91 1436.54 148.565 1434.31 Q149.22 1432.05 151.233 1430.04 Q154.572 1426.7 159.302 1427.27 Q164.049 1427.83 168.37 1432.15 Q172.691 1436.47 173.248 1441.22 Q173.821 1445.95 170.482 1449.29 Q168.468 1451.3 166.226 1451.97 Q163.984 1452.61 161.397 1451.92 M165.244 1435.28 Q161.921 1431.95 158.664 1431.45 Q155.407 1430.91 153.017 1433.3 Q150.627 1435.69 151.151 1438.96 Q151.675 1442.2 154.997 1445.52 Q158.32 1448.85 161.577 1449.39 Q164.835 1449.89 167.224 1447.5 Q169.614 1445.11 169.09 1441.87 Q168.567 1438.6 165.244 1435.28 Z\" fill=\"#000000\" fill-rule=\"evenodd\" fill-opacity=\"1\" /><path clip-path=\"url(#clip490)\" d=\"M161.954 1409.79 L167.159 1415 L173.362 1408.79 L175.703 1411.13 L169.5 1417.34 L179.451 1427.29 Q181.694 1429.53 182.938 1429.56 Q184.198 1429.58 186.081 1427.7 L189.174 1424.6 L191.695 1427.12 L188.601 1430.22 Q185.115 1433.7 182.496 1433.74 Q179.861 1433.75 176.423 1430.32 L166.472 1420.36 L164.262 1422.57 L161.921 1420.23 L164.131 1418.02 L158.926 1412.82 L161.954 1409.79 Z\" fill=\"#000000\" fill-rule=\"evenodd\" fill-opacity=\"1\" /><path clip-path=\"url(#clip490)\" d=\"M169.745 1398.2 L172.364 1395.58 Q178.682 1396.99 183.593 1399.48 Q188.519 1401.95 192.169 1405.6 Q195.836 1409.27 198.324 1414.21 Q200.828 1419.14 202.219 1425.44 L199.601 1428.06 Q198.029 1422.13 195.394 1417.37 Q192.759 1412.57 188.978 1408.79 Q185.197 1405.01 180.434 1402.41 Q175.687 1399.79 169.745 1398.2 Z\" fill=\"#000000\" fill-rule=\"evenodd\" fill-opacity=\"1\" /><path clip-path=\"url(#clip490)\" d=\"M370.067 1495.53 L373.078 1492.52 L398.547 1517.98 L395.535 1521 L370.067 1495.53 Z\" fill=\"#000000\" fill-rule=\"evenodd\" fill-opacity=\"1\" /><path clip-path=\"url(#clip490)\" d=\"M409.023 1485.38 L420.088 1496.44 L417.076 1499.46 L406.109 1488.49 Q403.507 1485.89 401.199 1485.61 Q398.891 1485.33 396.861 1487.36 Q394.422 1489.8 394.57 1492.76 Q394.717 1495.72 397.401 1498.41 L407.762 1508.77 L404.734 1511.8 L386.402 1493.46 L389.43 1490.44 L392.278 1493.28 Q391.705 1490.55 392.344 1488.28 Q392.998 1485.98 394.913 1484.07 Q398.072 1480.91 401.657 1481.25 Q405.225 1481.58 409.023 1485.38 Z\" fill=\"#000000\" fill-rule=\"evenodd\" fill-opacity=\"1\" /><path clip-path=\"url(#clip490)\" d=\"M430.269 1464.13 L441.333 1475.2 L438.322 1478.21 L427.355 1467.24 Q424.752 1464.64 422.445 1464.36 Q420.137 1464.08 418.107 1466.11 Q415.668 1468.55 415.815 1471.51 Q415.963 1474.48 418.647 1477.16 L429.008 1487.52 L425.98 1490.55 L407.648 1472.22 L410.676 1469.19 L413.524 1472.04 Q412.951 1469.31 413.589 1467.03 Q414.244 1464.74 416.159 1462.82 Q419.318 1459.66 422.903 1460.01 Q426.471 1460.34 430.269 1464.13 Z\" fill=\"#000000\" fill-rule=\"evenodd\" fill-opacity=\"1\" /><path clip-path=\"url(#clip490)\" d=\"M421.872 1443.72 L424.883 1440.71 L450.352 1466.18 L447.34 1469.19 L421.872 1443.72 Z\" fill=\"#000000\" fill-rule=\"evenodd\" fill-opacity=\"1\" /><path clip-path=\"url(#clip490)\" d=\"M438.322 1441.54 L441.333 1438.53 L459.666 1456.87 L456.654 1459.88 L438.322 1441.54 M431.185 1434.41 L434.197 1431.4 L438.011 1435.21 L434.999 1438.22 L431.185 1434.41 Z\" fill=\"#000000\" fill-rule=\"evenodd\" fill-opacity=\"1\" /><path clip-path=\"url(#clip490)\" d=\"M470.141 1424.26 L481.206 1435.33 L478.194 1438.34 L467.228 1427.37 Q464.625 1424.77 462.317 1424.49 Q460.009 1424.21 457.98 1426.24 Q455.541 1428.68 455.688 1431.64 Q455.836 1434.6 458.52 1437.29 L468.881 1447.65 L465.853 1450.68 L447.521 1432.35 L450.549 1429.32 L453.397 1432.17 Q452.824 1429.43 453.462 1427.16 Q454.117 1424.87 456.032 1422.95 Q459.191 1419.79 462.776 1420.14 Q466.344 1420.46 470.141 1424.26 Z\" fill=\"#000000\" fill-rule=\"evenodd\" fill-opacity=\"1\" /><path clip-path=\"url(#clip490)\" d=\"M482.777 1398.5 L485.593 1401.31 Q483.612 1401.88 481.975 1402.83 Q480.339 1403.75 479.029 1405.06 Q476.099 1407.99 476.345 1411.48 Q476.574 1414.95 479.929 1418.3 Q483.285 1421.66 486.771 1421.9 Q490.241 1422.13 493.171 1419.2 Q494.481 1417.89 495.414 1416.27 Q496.347 1414.62 496.92 1412.64 L499.702 1415.42 Q499.031 1417.27 497.967 1418.92 Q496.92 1420.56 495.397 1422.08 Q491.256 1426.22 486.215 1426.06 Q481.173 1425.9 476.754 1421.48 Q472.269 1416.99 472.155 1411.97 Q472.056 1406.93 476.345 1402.64 Q477.736 1401.25 479.357 1400.22 Q480.961 1399.17 482.777 1398.5 Z\" fill=\"#000000\" fill-rule=\"evenodd\" fill-opacity=\"1\" /><path clip-path=\"url(#clip490)\" d=\"M739.733 1456.08 Q736.083 1459.73 735.51 1461.97 Q734.937 1464.21 736.95 1466.23 Q738.554 1467.83 740.551 1467.73 Q742.548 1467.6 744.365 1465.79 Q746.869 1463.28 746.607 1460.01 Q746.345 1456.7 743.399 1453.76 L742.728 1453.08 L739.733 1456.08 M744.496 1448.83 L754.955 1459.29 L751.943 1462.3 L749.161 1459.52 Q749.799 1462.22 749.062 1464.56 Q748.309 1466.88 746.083 1469.11 Q743.268 1471.92 740.027 1472.02 Q736.786 1472.09 734.135 1469.44 Q731.041 1466.34 731.532 1462.71 Q732.04 1459.06 736.148 1454.95 L740.371 1450.73 L740.076 1450.43 Q737.998 1448.35 735.493 1448.6 Q732.989 1448.81 730.517 1451.28 Q728.946 1452.86 727.833 1454.72 Q726.72 1456.59 726.098 1458.72 L723.315 1455.93 Q724.33 1453.64 725.574 1451.77 Q726.802 1449.89 728.275 1448.42 Q732.252 1444.44 736.279 1444.54 Q740.305 1444.64 744.496 1448.83 Z\" fill=\"#000000\" fill-rule=\"evenodd\" fill-opacity=\"1\" /><path clip-path=\"url(#clip490)\" d=\"M763.843 1431.64 Q760.569 1428.37 757.41 1427.93 Q754.267 1427.47 751.829 1429.91 Q749.406 1432.33 749.848 1435.49 Q750.306 1438.63 753.58 1441.91 Q756.837 1445.16 759.98 1445.62 Q763.139 1446.06 765.562 1443.64 Q768 1441.2 767.542 1438.06 Q767.1 1434.9 763.843 1431.64 M773.958 1435.73 Q778.64 1440.42 778.836 1444.77 Q779.049 1449.14 774.76 1453.43 Q773.173 1455.02 771.519 1456.18 Q769.883 1457.36 768.066 1458.19 L765.136 1455.26 Q767.182 1454.66 768.819 1453.71 Q770.456 1452.76 771.798 1451.41 Q774.76 1448.45 774.679 1445.42 Q774.613 1442.41 771.487 1439.29 L769.997 1437.8 Q770.685 1440.35 770.03 1442.61 Q769.375 1444.87 767.346 1446.9 Q763.974 1450.27 759.342 1449.76 Q754.709 1449.25 750.47 1445.01 Q746.214 1440.76 745.707 1436.13 Q745.2 1431.49 748.571 1428.12 Q750.601 1426.09 752.86 1425.44 Q755.119 1424.78 757.672 1425.47 L754.889 1422.69 L757.901 1419.68 L773.958 1435.73 Z\" fill=\"#000000\" fill-rule=\"evenodd\" fill-opacity=\"1\" /><path clip-path=\"url(#clip490)\" d=\"M788.199 1406.21 L789.672 1407.68 L775.824 1421.53 Q779.131 1424.44 782.437 1424.41 Q785.743 1424.34 788.739 1421.35 Q790.474 1419.61 791.669 1417.57 Q792.88 1415.5 793.633 1413.05 L796.481 1415.9 Q795.548 1418.2 794.206 1420.27 Q792.864 1422.33 791.112 1424.08 Q786.725 1428.47 781.602 1428.48 Q776.495 1428.48 772.141 1424.13 Q767.64 1419.63 767.427 1414.57 Q767.215 1409.48 771.339 1405.35 Q775.039 1401.66 779.573 1401.9 Q784.107 1402.11 788.199 1406.21 M784.303 1408.33 Q781.799 1405.9 778.967 1405.78 Q776.152 1405.65 773.926 1407.88 Q771.405 1410.4 771.307 1413.34 Q771.225 1416.27 773.582 1419.09 L784.303 1408.33 Z\" fill=\"#000000\" fill-rule=\"evenodd\" fill-opacity=\"1\" /><path clip-path=\"url(#clip490)\" d=\"M968.289 1525.24 Q964.639 1528.89 964.066 1531.13 Q963.493 1533.37 965.506 1535.38 Q967.111 1536.99 969.107 1536.89 Q971.104 1536.76 972.921 1534.94 Q975.426 1532.44 975.164 1529.16 Q974.902 1525.86 971.955 1522.91 L971.284 1522.24 L968.289 1525.24 M973.052 1517.98 L983.511 1528.44 L980.5 1531.46 L977.717 1528.67 Q978.355 1531.37 977.619 1533.71 Q976.866 1536.04 974.64 1538.26 Q971.825 1541.08 968.584 1541.18 Q965.343 1541.24 962.691 1538.59 Q959.598 1535.5 960.089 1531.86 Q960.596 1528.21 964.704 1524.11 L968.927 1519.88 L968.633 1519.59 Q966.554 1517.51 964.05 1517.75 Q961.545 1517.97 959.074 1520.44 Q957.502 1522.01 956.389 1523.88 Q955.276 1525.74 954.654 1527.87 L951.872 1525.09 Q952.887 1522.8 954.131 1520.93 Q955.358 1519.05 956.831 1517.57 Q960.809 1513.6 964.835 1513.7 Q968.862 1513.79 973.052 1517.98 Z\" fill=\"#000000\" fill-rule=\"evenodd\" fill-opacity=\"1\" /><path clip-path=\"url(#clip490)\" d=\"M992.399 1500.8 Q989.126 1497.52 985.967 1497.08 Q982.824 1496.62 980.385 1499.06 Q977.963 1501.48 978.405 1504.64 Q978.863 1507.79 982.136 1511.06 Q985.394 1514.32 988.536 1514.78 Q991.695 1515.22 994.118 1512.8 Q996.557 1510.36 996.098 1507.21 Q995.657 1504.05 992.399 1500.8 M1002.51 1504.89 Q1007.2 1509.57 1007.39 1513.92 Q1007.61 1518.3 1003.32 1522.58 Q1001.73 1524.17 1000.08 1525.33 Q998.439 1526.51 996.622 1527.35 L993.692 1524.42 Q995.738 1523.81 997.375 1522.86 Q999.012 1521.91 1000.35 1520.57 Q1003.32 1517.61 1003.23 1514.58 Q1003.17 1511.57 1000.04 1508.44 L998.554 1506.95 Q999.241 1509.51 998.586 1511.76 Q997.932 1514.02 995.902 1516.05 Q992.53 1519.42 987.898 1518.92 Q983.266 1518.41 979.027 1514.17 Q974.771 1509.91 974.263 1505.28 Q973.756 1500.65 977.128 1497.28 Q979.157 1495.25 981.416 1494.59 Q983.675 1493.94 986.229 1494.63 L983.446 1491.84 L986.458 1488.83 L1002.51 1504.89 Z\" fill=\"#000000\" fill-rule=\"evenodd\" fill-opacity=\"1\" /><path clip-path=\"url(#clip490)\" d=\"M1016.76 1475.36 L1018.23 1476.83 L1004.38 1490.68 Q1007.69 1493.6 1010.99 1493.56 Q1014.3 1493.5 1017.3 1490.5 Q1019.03 1488.77 1020.23 1486.72 Q1021.44 1484.66 1022.19 1482.2 L1025.04 1485.05 Q1024.1 1487.36 1022.76 1489.42 Q1021.42 1491.48 1019.67 1493.24 Q1015.28 1497.62 1010.16 1497.64 Q1005.05 1497.64 1000.7 1493.28 Q996.197 1488.78 995.984 1483.73 Q995.771 1478.64 999.896 1474.51 Q1003.6 1470.81 1008.13 1471.06 Q1012.66 1471.27 1016.76 1475.36 M1012.86 1477.49 Q1010.36 1475.05 1007.52 1474.94 Q1004.71 1474.8 1002.48 1477.03 Q999.961 1479.55 999.863 1482.5 Q999.781 1485.43 1002.14 1488.24 L1012.86 1477.49 Z\" fill=\"#000000\" fill-rule=\"evenodd\" fill-opacity=\"1\" /><path clip-path=\"url(#clip490)\" d=\"M1030.32 1432.76 L1048.33 1432.98 L1045.04 1436.27 L1031.37 1437.01 L1030.64 1450.68 L1027.35 1453.97 L1027.12 1435.96 L1030.32 1432.76 Z\" fill=\"#000000\" fill-rule=\"evenodd\" fill-opacity=\"1\" /><path clip-path=\"url(#clip490)\" d=\"M1081.51 1424.88 L1093.05 1413.34 L1095.83 1416.13 L1080.31 1431.64 L1077.53 1428.86 Q1077.46 1425.03 1077.43 1418.51 Q1077.4 1411.97 1077.28 1410.18 Q1077.09 1406.81 1076.48 1404.96 Q1075.88 1403.08 1074.68 1401.88 Q1072.73 1399.94 1070.13 1400.08 Q1067.55 1400.22 1065.35 1402.41 Q1063.8 1403.96 1062.6 1406.24 Q1061.42 1408.5 1060.56 1411.56 L1057.22 1408.22 Q1058.41 1405.42 1059.74 1403.28 Q1061.06 1401.13 1062.5 1399.69 Q1066.3 1395.89 1070.46 1395.53 Q1074.62 1395.17 1077.79 1398.35 Q1079.3 1399.86 1080.08 1401.79 Q1080.87 1403.69 1081.21 1407.01 Q1081.28 1407.89 1081.36 1412.36 Q1081.43 1416.81 1081.51 1424.88 Z\" fill=\"#000000\" fill-rule=\"evenodd\" fill-opacity=\"1\" /><path clip-path=\"url(#clip490)\" d=\"M1322.96 1466.87 L1324.44 1468.34 L1310.59 1482.19 Q1313.89 1485.1 1317.2 1485.07 Q1320.51 1485 1323.5 1482.01 Q1325.24 1480.27 1326.43 1478.23 Q1327.64 1476.16 1328.4 1473.71 L1331.24 1476.56 Q1330.31 1478.86 1328.97 1480.93 Q1327.63 1482.99 1325.88 1484.74 Q1321.49 1489.13 1316.37 1489.14 Q1311.26 1489.14 1306.9 1484.79 Q1302.4 1480.29 1302.19 1475.23 Q1301.98 1470.14 1306.1 1466.02 Q1309.8 1462.32 1314.34 1462.56 Q1318.87 1462.77 1322.96 1466.87 M1319.07 1468.99 Q1316.56 1466.56 1313.73 1466.44 Q1310.91 1466.31 1308.69 1468.54 Q1306.17 1471.06 1306.07 1474 Q1305.99 1476.93 1308.35 1479.75 L1319.07 1468.99 Z\" fill=\"#000000\" fill-rule=\"evenodd\" fill-opacity=\"1\" /><path clip-path=\"url(#clip490)\" d=\"M1334.34 1444.23 L1324.42 1434.31 L1327.43 1431.3 L1352.9 1456.77 L1349.89 1459.78 L1347.14 1457.03 Q1347.83 1459.62 1347.17 1461.87 Q1346.52 1464.1 1344.49 1466.13 Q1341.16 1469.45 1336.42 1468.9 Q1331.69 1468.32 1327.36 1464 Q1323.04 1459.68 1322.47 1454.95 Q1321.91 1450.2 1325.24 1446.88 Q1327.27 1444.85 1329.51 1444.21 Q1331.75 1443.54 1334.34 1444.23 M1330.47 1460.89 Q1333.8 1464.21 1337.05 1464.75 Q1340.31 1465.26 1342.7 1462.87 Q1345.09 1460.48 1344.58 1457.23 Q1344.06 1453.95 1340.74 1450.63 Q1337.41 1447.31 1334.16 1446.8 Q1330.88 1446.28 1328.49 1448.67 Q1326.1 1451.05 1326.63 1454.33 Q1327.15 1457.57 1330.47 1460.89 Z\" fill=\"#000000\" fill-rule=\"evenodd\" fill-opacity=\"1\" /><path clip-path=\"url(#clip490)\" d=\"M1351.56 1443.64 L1340.46 1432.54 L1343.47 1429.53 L1354.45 1440.51 Q1357.06 1443.12 1359.38 1443.41 Q1361.69 1443.69 1363.72 1441.66 Q1366.16 1439.22 1366.01 1436.26 Q1365.88 1433.28 1363.19 1430.59 L1352.8 1420.2 L1355.81 1417.19 L1374.14 1435.52 L1371.13 1438.53 L1368.32 1435.72 Q1368.89 1438.48 1368.25 1440.76 Q1367.61 1443 1365.7 1444.92 Q1362.54 1448.08 1358.94 1447.75 Q1355.34 1447.42 1351.56 1443.64 M1347.6 1424.52 L1347.6 1424.52 Z\" fill=\"#000000\" fill-rule=\"evenodd\" fill-opacity=\"1\" /><path clip-path=\"url(#clip490)\" d=\"M1375.91 1398.5 L1378.73 1401.31 Q1376.75 1401.88 1375.11 1402.83 Q1373.47 1403.75 1372.16 1405.06 Q1369.23 1407.99 1369.48 1411.48 Q1369.71 1414.95 1373.06 1418.3 Q1376.42 1421.66 1379.91 1421.9 Q1383.38 1422.13 1386.31 1419.2 Q1387.62 1417.89 1388.55 1416.27 Q1389.48 1414.62 1390.05 1412.64 L1392.84 1415.42 Q1392.17 1417.27 1391.1 1418.92 Q1390.05 1420.56 1388.53 1422.08 Q1384.39 1426.22 1379.35 1426.06 Q1374.31 1425.9 1369.89 1421.48 Q1365.4 1416.99 1365.29 1411.97 Q1365.19 1406.93 1369.48 1402.64 Q1370.87 1401.25 1372.49 1400.22 Q1374.1 1399.17 1375.91 1398.5 Z\" fill=\"#000000\" fill-rule=\"evenodd\" fill-opacity=\"1\" /><path clip-path=\"url(#clip490)\" d=\"M1641.15 1444.1 L1652.22 1455.16 L1649.2 1458.17 L1638.24 1447.21 Q1635.63 1444.61 1633.33 1444.33 Q1631.02 1444.05 1628.99 1446.08 Q1626.55 1448.52 1626.7 1451.48 Q1626.84 1454.44 1629.53 1457.13 L1639.89 1467.49 L1636.86 1470.52 L1618.53 1452.18 L1621.56 1449.16 L1624.41 1452 Q1623.83 1449.27 1624.47 1447 Q1625.13 1444.7 1627.04 1442.79 Q1630.2 1439.63 1633.78 1439.97 Q1637.35 1440.3 1641.15 1444.1 Z\" fill=\"#000000\" fill-rule=\"evenodd\" fill-opacity=\"1\" /><path clip-path=\"url(#clip490)\" d=\"M1667.55 1443.23 Q1669.55 1447.78 1669.34 1449.99 Q1669.12 1452.2 1667.09 1454.23 L1664.69 1456.64 L1662.17 1454.12 L1663.93 1452.35 Q1665.18 1451.1 1665.28 1449.83 Q1665.37 1448.55 1664.02 1445.52 L1663.18 1443.61 L1637.73 1432.98 L1640.92 1429.79 L1660.99 1438.4 L1652.38 1418.33 L1655.57 1415.14 L1667.55 1443.23 Z\" fill=\"#000000\" fill-rule=\"evenodd\" fill-opacity=\"1\" /><path clip-path=\"url(#clip490)\" d=\"M1673.62 1398.5 L1676.44 1401.31 Q1674.46 1401.88 1672.82 1402.83 Q1671.19 1403.75 1669.88 1405.06 Q1666.95 1407.99 1667.19 1411.48 Q1667.42 1414.95 1670.78 1418.3 Q1674.13 1421.66 1677.62 1421.9 Q1681.09 1422.13 1684.02 1419.2 Q1685.33 1417.89 1686.26 1416.27 Q1687.19 1414.62 1687.77 1412.64 L1690.55 1415.42 Q1689.88 1417.27 1688.81 1418.92 Q1687.77 1420.56 1686.24 1422.08 Q1682.1 1426.22 1677.06 1426.06 Q1672.02 1425.9 1667.6 1421.48 Q1663.12 1416.99 1663 1411.97 Q1662.9 1406.93 1667.19 1402.64 Q1668.58 1401.25 1670.2 1400.22 Q1671.81 1399.17 1673.62 1398.5 Z\" fill=\"#000000\" fill-rule=\"evenodd\" fill-opacity=\"1\" /><path clip-path=\"url(#clip490)\" d=\"M1938.19 1444.77 L1949.26 1455.83 L1946.24 1458.85 L1935.28 1447.88 Q1932.67 1445.28 1930.37 1445 Q1928.06 1444.72 1926.03 1446.75 Q1923.59 1449.19 1923.74 1452.15 Q1923.89 1455.11 1926.57 1457.8 L1936.93 1468.16 L1933.9 1471.19 L1915.57 1452.86 L1918.6 1449.83 L1921.45 1452.68 Q1920.87 1449.94 1921.51 1447.67 Q1922.17 1445.38 1924.08 1443.46 Q1927.24 1440.3 1930.83 1440.64 Q1934.39 1440.97 1938.19 1444.77 Z\" fill=\"#000000\" fill-rule=\"evenodd\" fill-opacity=\"1\" /><path clip-path=\"url(#clip490)\" d=\"M1946.15 1426.5 Q1943.72 1428.93 1944.21 1432.23 Q1944.69 1435.52 1947.98 1438.81 Q1951.27 1442.1 1954.56 1442.61 Q1957.85 1443.08 1960.29 1440.64 Q1962.69 1438.24 1962.2 1434.93 Q1961.71 1431.63 1958.44 1428.35 Q1955.18 1425.09 1951.87 1424.6 Q1948.55 1424.1 1946.15 1426.5 M1943.59 1423.95 Q1947.52 1420.02 1952.32 1420.33 Q1957.11 1420.64 1961.63 1425.16 Q1966.13 1429.66 1966.46 1434.47 Q1966.77 1439.27 1962.84 1443.2 Q1958.9 1447.14 1954.1 1446.83 Q1949.3 1446.49 1944.8 1441.99 Q1940.29 1437.47 1939.96 1432.69 Q1939.65 1427.89 1943.59 1423.95 Z\" fill=\"#000000\" fill-rule=\"evenodd\" fill-opacity=\"1\" /><path clip-path=\"url(#clip490)\" d=\"M1971.34 1398.5 L1974.15 1401.31 Q1972.17 1401.88 1970.53 1402.83 Q1968.9 1403.75 1967.59 1405.06 Q1964.66 1407.99 1964.9 1411.48 Q1965.13 1414.95 1968.49 1418.3 Q1971.84 1421.66 1975.33 1421.9 Q1978.8 1422.13 1981.73 1419.2 Q1983.04 1417.89 1983.97 1416.27 Q1984.91 1414.62 1985.48 1412.64 L1988.26 1415.42 Q1987.59 1417.27 1986.53 1418.92 Q1985.48 1420.56 1983.96 1422.08 Q1979.81 1426.22 1974.77 1426.06 Q1969.73 1425.9 1965.31 1421.48 Q1960.83 1416.99 1960.71 1411.97 Q1960.62 1406.93 1964.9 1402.64 Q1966.29 1401.25 1967.92 1400.22 Q1969.52 1399.17 1971.34 1398.5 Z\" fill=\"#000000\" fill-rule=\"evenodd\" fill-opacity=\"1\" /><path clip-path=\"url(#clip490)\" d=\"M2077.59 1574.27 L2080.09 1576.78 L2077.21 1579.66 Q2075.59 1581.28 2075.61 1582.57 Q2075.64 1583.85 2077.34 1585.55 L2078.97 1587.17 L2083.92 1582.21 L2086.27 1584.55 L2081.31 1589.51 L2097.3 1605.5 L2094.27 1608.53 L2078.28 1592.54 L2075.4 1595.42 L2073.06 1593.08 L2075.94 1590.2 L2074.66 1588.92 Q2071.6 1585.86 2071.63 1583.05 Q2071.65 1580.22 2074.74 1577.12 L2077.59 1574.27 Z\" fill=\"#000000\" fill-rule=\"evenodd\" fill-opacity=\"1\" /><path clip-path=\"url(#clip490)\" d=\"M2096.46 1573.9 Q2094.04 1576.32 2094.53 1579.63 Q2095.01 1582.92 2098.3 1586.21 Q2101.59 1589.5 2104.88 1590 Q2108.17 1590.48 2110.6 1588.04 Q2113.01 1585.63 2112.52 1582.33 Q2112.03 1579.02 2108.76 1575.75 Q2105.5 1572.49 2102.19 1572 Q2098.87 1571.49 2096.46 1573.9 M2093.91 1571.34 Q2097.84 1567.42 2102.63 1567.73 Q2107.43 1568.04 2111.95 1572.56 Q2116.45 1577.06 2116.78 1581.87 Q2117.09 1586.66 2113.16 1590.59 Q2109.21 1594.54 2104.42 1594.23 Q2099.62 1593.88 2095.12 1589.38 Q2090.6 1584.86 2090.28 1580.08 Q2089.96 1575.29 2093.91 1571.34 Z\" fill=\"#000000\" fill-rule=\"evenodd\" fill-opacity=\"1\" /><path clip-path=\"url(#clip490)\" d=\"M2121.19 1550.57 Q2120.39 1550.79 2119.66 1551.26 Q2118.92 1551.7 2118.2 1552.42 Q2115.65 1554.98 2115.94 1558.02 Q2116.24 1561.03 2119.35 1564.14 L2129 1573.8 L2125.97 1576.83 L2107.64 1558.5 L2110.67 1555.47 L2113.52 1558.32 Q2112.8 1555.7 2113.52 1553.37 Q2114.22 1551.03 2116.4 1548.85 Q2116.71 1548.54 2117.14 1548.22 Q2117.54 1547.87 2118.08 1547.5 L2121.19 1550.57 Z\" fill=\"#000000\" fill-rule=\"evenodd\" fill-opacity=\"1\" /><path clip-path=\"url(#clip490)\" d=\"M2144.9 1538.07 L2146.37 1539.54 L2132.52 1553.39 Q2135.83 1556.3 2139.13 1556.27 Q2142.44 1556.2 2145.44 1553.21 Q2147.17 1551.47 2148.37 1549.43 Q2149.58 1547.36 2150.33 1544.91 L2153.18 1547.76 Q2152.25 1550.07 2150.9 1552.13 Q2149.56 1554.19 2147.81 1555.94 Q2143.42 1560.33 2138.3 1560.34 Q2133.19 1560.34 2128.84 1555.99 Q2124.34 1551.49 2124.12 1546.43 Q2123.91 1541.34 2128.04 1537.22 Q2131.74 1533.52 2136.27 1533.76 Q2140.8 1533.98 2144.9 1538.07 M2141 1540.2 Q2138.5 1537.76 2135.66 1537.64 Q2132.85 1537.51 2130.62 1539.74 Q2128.1 1542.26 2128 1545.2 Q2127.92 1548.13 2130.28 1550.95 L2141 1540.2 Z\" fill=\"#000000\" fill-rule=\"evenodd\" fill-opacity=\"1\" /><path clip-path=\"url(#clip490)\" d=\"M2141.43 1524.71 L2144.44 1521.7 L2162.77 1540.03 L2159.76 1543.04 L2141.43 1524.71 M2134.29 1517.57 L2137.3 1514.56 L2141.11 1518.38 L2138.1 1521.39 L2134.29 1517.57 Z\" fill=\"#000000\" fill-rule=\"evenodd\" fill-opacity=\"1\" /><path clip-path=\"url(#clip490)\" d=\"M2171.76 1512.29 Q2168.48 1509.01 2165.32 1508.57 Q2162.18 1508.11 2159.74 1510.55 Q2157.32 1512.98 2157.76 1516.13 Q2158.22 1519.28 2161.49 1522.55 Q2164.75 1525.81 2167.89 1526.27 Q2171.05 1526.71 2173.47 1524.29 Q2175.91 1521.85 2175.46 1518.7 Q2175.01 1515.55 2171.76 1512.29 M2181.87 1516.38 Q2186.55 1521.06 2186.75 1525.42 Q2186.96 1529.79 2182.67 1534.07 Q2181.09 1535.66 2179.43 1536.82 Q2177.8 1538 2175.98 1538.84 L2173.05 1535.91 Q2175.1 1535.3 2176.73 1534.35 Q2178.37 1533.4 2179.71 1532.06 Q2182.67 1529.1 2182.59 1526.07 Q2182.53 1523.06 2179.4 1519.93 L2177.91 1518.44 Q2178.6 1521 2177.94 1523.25 Q2177.29 1525.51 2175.26 1527.54 Q2171.89 1530.91 2167.25 1530.41 Q2162.62 1529.9 2158.38 1525.66 Q2154.13 1521.4 2153.62 1516.77 Q2153.11 1512.14 2156.48 1508.77 Q2158.51 1506.74 2160.77 1506.08 Q2163.03 1505.43 2165.59 1506.12 L2162.8 1503.33 L2165.81 1500.32 L2181.87 1516.38 Z\" fill=\"#000000\" fill-rule=\"evenodd\" fill-opacity=\"1\" /><path clip-path=\"url(#clip490)\" d=\"M2194.52 1486.15 L2205.59 1497.21 L2202.58 1500.22 L2191.61 1489.26 Q2189.01 1486.66 2186.7 1486.38 Q2184.39 1486.1 2182.36 1488.13 Q2179.92 1490.57 2180.07 1493.53 Q2180.22 1496.49 2182.9 1499.18 L2193.26 1509.54 L2190.24 1512.57 L2171.9 1494.23 L2174.93 1491.21 L2177.78 1494.05 Q2177.21 1491.32 2177.84 1489.05 Q2178.5 1486.75 2180.41 1484.84 Q2183.57 1481.68 2187.16 1482.02 Q2190.73 1482.35 2194.52 1486.15 Z\" fill=\"#000000\" fill-rule=\"evenodd\" fill-opacity=\"1\" /><path clip-path=\"url(#clip490)\" d=\"M2208.21 1486.28 L2211.66 1482.83 L2215.82 1486.98 L2212.37 1490.44 L2208.21 1486.28 M2195.03 1473.1 L2198.49 1469.65 L2202.64 1473.81 L2199.19 1477.26 L2195.03 1473.1 Z\" fill=\"#000000\" fill-rule=\"evenodd\" fill-opacity=\"1\" /><path clip-path=\"url(#clip490)\" d=\"M2242.88 1463.33 Q2244.87 1467.88 2244.66 1470.09 Q2244.45 1472.3 2242.42 1474.33 L2240.01 1476.74 L2237.49 1474.22 L2239.26 1472.45 Q2240.5 1471.2 2240.6 1469.93 Q2240.7 1468.65 2239.34 1465.62 L2238.51 1463.71 L2213.05 1453.08 L2216.24 1449.89 L2236.31 1458.5 L2227.7 1438.43 L2230.89 1435.24 L2242.88 1463.33 Z\" fill=\"#000000\" fill-rule=\"evenodd\" fill-opacity=\"1\" /><path clip-path=\"url(#clip490)\" d=\"M2259.15 1423.82 L2260.62 1425.29 L2246.77 1439.14 Q2250.08 1442.05 2253.38 1442.02 Q2256.69 1441.95 2259.69 1438.96 Q2261.42 1437.22 2262.62 1435.18 Q2263.83 1433.12 2264.58 1430.66 L2267.43 1433.51 Q2266.49 1435.82 2265.15 1437.88 Q2263.81 1439.94 2262.06 1441.69 Q2257.67 1446.08 2252.55 1446.1 Q2247.44 1446.1 2243.09 1441.74 Q2238.59 1437.24 2238.37 1432.18 Q2238.16 1427.09 2242.29 1422.97 Q2245.99 1419.27 2250.52 1419.51 Q2255.05 1419.73 2259.15 1423.82 M2255.25 1425.95 Q2252.75 1423.51 2249.91 1423.39 Q2247.1 1423.26 2244.87 1425.49 Q2242.35 1428.01 2242.25 1430.95 Q2242.17 1433.88 2244.53 1436.7 L2255.25 1425.95 Z\" fill=\"#000000\" fill-rule=\"evenodd\" fill-opacity=\"1\" /><path clip-path=\"url(#clip490)\" d=\"M2267.9 1399.32 L2270.75 1402.16 Q2268.82 1402.79 2267.12 1403.83 Q2265.41 1404.88 2263.94 1406.35 Q2261.7 1408.6 2261.26 1410.41 Q2260.83 1412.21 2262.21 1413.59 Q2263.25 1414.64 2264.66 1414.44 Q2266.05 1414.23 2269.02 1412.34 L2270.28 1411.54 Q2274.17 1409.02 2276.77 1408.94 Q2279.38 1408.83 2281.62 1411.07 Q2284.17 1413.62 2283.63 1417.14 Q2283.11 1420.64 2279.57 1424.18 Q2278.1 1425.65 2276.2 1426.96 Q2274.33 1428.27 2271.99 1429.47 L2268.88 1426.36 Q2271.42 1425.55 2273.48 1424.37 Q2275.53 1423.18 2277.12 1421.59 Q2279.25 1419.46 2279.67 1417.6 Q2280.08 1415.72 2278.75 1414.39 Q2277.53 1413.16 2276.04 1413.34 Q2274.56 1413.51 2271.16 1415.7 L2269.87 1416.5 Q2266.48 1418.71 2264.02 1418.74 Q2261.55 1418.76 2259.42 1416.63 Q2256.84 1414.05 2257.26 1410.81 Q2257.69 1407.56 2261.06 1404.19 Q2262.73 1402.52 2264.45 1401.3 Q2266.17 1400.07 2267.9 1399.32 Z\" fill=\"#000000\" fill-rule=\"evenodd\" fill-opacity=\"1\" /><polyline clip-path=\"url(#clip492)\" style=\"stroke:#000000; stroke-linecap:round; stroke-linejoin:round; stroke-width:2; stroke-opacity:0.1; fill:none\" points=\"112.177,1176.85 2352.76,1176.85 \"/>\n",
       "<polyline clip-path=\"url(#clip492)\" style=\"stroke:#000000; stroke-linecap:round; stroke-linejoin:round; stroke-width:2; stroke-opacity:0.1; fill:none\" points=\"112.177,855.537 2352.76,855.537 \"/>\n",
       "<polyline clip-path=\"url(#clip492)\" style=\"stroke:#000000; stroke-linecap:round; stroke-linejoin:round; stroke-width:2; stroke-opacity:0.1; fill:none\" points=\"112.177,534.219 2352.76,534.219 \"/>\n",
       "<polyline clip-path=\"url(#clip492)\" style=\"stroke:#000000; stroke-linecap:round; stroke-linejoin:round; stroke-width:2; stroke-opacity:0.1; fill:none\" points=\"112.177,212.901 2352.76,212.901 \"/>\n",
       "<polyline clip-path=\"url(#clip490)\" style=\"stroke:#000000; stroke-linecap:round; stroke-linejoin:round; stroke-width:4; stroke-opacity:1; fill:none\" points=\"112.177,1366.38 112.177,47.2441 \"/>\n",
       "<polyline clip-path=\"url(#clip490)\" style=\"stroke:#000000; stroke-linecap:round; stroke-linejoin:round; stroke-width:4; stroke-opacity:1; fill:none\" points=\"112.177,1176.85 131.075,1176.85 \"/>\n",
       "<polyline clip-path=\"url(#clip490)\" style=\"stroke:#000000; stroke-linecap:round; stroke-linejoin:round; stroke-width:4; stroke-opacity:1; fill:none\" points=\"112.177,855.537 131.075,855.537 \"/>\n",
       "<polyline clip-path=\"url(#clip490)\" style=\"stroke:#000000; stroke-linecap:round; stroke-linejoin:round; stroke-width:4; stroke-opacity:1; fill:none\" points=\"112.177,534.219 131.075,534.219 \"/>\n",
       "<polyline clip-path=\"url(#clip490)\" style=\"stroke:#000000; stroke-linecap:round; stroke-linejoin:round; stroke-width:4; stroke-opacity:1; fill:none\" points=\"112.177,212.901 131.075,212.901 \"/>\n",
       "<path clip-path=\"url(#clip490)\" d=\"M64.2328 1162.65 Q60.6217 1162.65 58.793 1166.22 Q56.9875 1169.76 56.9875 1176.89 Q56.9875 1184 58.793 1187.56 Q60.6217 1191.1 64.2328 1191.1 Q67.867 1191.1 69.6726 1187.56 Q71.5013 1184 71.5013 1176.89 Q71.5013 1169.76 69.6726 1166.22 Q67.867 1162.65 64.2328 1162.65 M64.2328 1158.95 Q70.0429 1158.95 73.0985 1163.56 Q76.1772 1168.14 76.1772 1176.89 Q76.1772 1185.62 73.0985 1190.22 Q70.0429 1194.81 64.2328 1194.81 Q58.4226 1194.81 55.344 1190.22 Q52.2884 1185.62 52.2884 1176.89 Q52.2884 1168.14 55.344 1163.56 Q58.4226 1158.95 64.2328 1158.95 Z\" fill=\"#000000\" fill-rule=\"evenodd\" fill-opacity=\"1\" /><path clip-path=\"url(#clip490)\" d=\"M59.8578 868.882 L76.1772 868.882 L76.1772 872.817 L54.2328 872.817 L54.2328 868.882 Q56.8949 866.127 61.4782 861.498 Q66.0846 856.845 67.2652 855.502 Q69.5105 852.979 70.3902 851.243 Q71.2929 849.484 71.2929 847.794 Q71.2929 845.039 69.3485 843.303 Q67.4272 841.567 64.3254 841.567 Q62.1263 841.567 59.6726 842.331 Q57.2421 843.095 54.4643 844.646 L54.4643 839.924 Q57.2884 838.789 59.7421 838.211 Q62.1958 837.632 64.2328 837.632 Q69.6031 837.632 72.7976 840.317 Q75.992 843.002 75.992 847.493 Q75.992 849.623 75.1818 851.544 Q74.3948 853.442 72.2883 856.035 Q71.7096 856.706 68.6078 859.923 Q65.5059 863.118 59.8578 868.882 Z\" fill=\"#000000\" fill-rule=\"evenodd\" fill-opacity=\"1\" /><path clip-path=\"url(#clip490)\" d=\"M66.5939 521.013 L54.7884 539.462 L66.5939 539.462 L66.5939 521.013 M65.367 516.939 L71.2466 516.939 L71.2466 539.462 L76.1772 539.462 L76.1772 543.351 L71.2466 543.351 L71.2466 551.499 L66.5939 551.499 L66.5939 543.351 L50.9921 543.351 L50.9921 538.837 L65.367 516.939 Z\" fill=\"#000000\" fill-rule=\"evenodd\" fill-opacity=\"1\" /><path clip-path=\"url(#clip490)\" d=\"M64.6495 211.038 Q61.5013 211.038 59.6495 213.191 Q57.8208 215.343 57.8208 219.093 Q57.8208 222.82 59.6495 224.996 Q61.5013 227.149 64.6495 227.149 Q67.7976 227.149 69.6263 224.996 Q71.4781 222.82 71.4781 219.093 Q71.4781 215.343 69.6263 213.191 Q67.7976 211.038 64.6495 211.038 M73.9318 196.385 L73.9318 200.644 Q72.1726 199.811 70.367 199.371 Q68.5846 198.931 66.8254 198.931 Q62.1958 198.931 59.7421 202.056 Q57.3115 205.181 56.9643 211.501 Q58.33 209.487 60.3902 208.422 Q62.4504 207.334 64.9272 207.334 Q70.1355 207.334 73.1448 210.505 Q76.1772 213.653 76.1772 219.093 Q76.1772 224.417 73.029 227.635 Q69.8809 230.852 64.6495 230.852 Q58.6541 230.852 55.4828 226.269 Q52.3116 221.663 52.3116 212.936 Q52.3116 204.742 56.2004 199.88 Q60.0893 194.996 66.6402 194.996 Q68.3994 194.996 70.1818 195.343 Q71.9874 195.691 73.9318 196.385 Z\" fill=\"#000000\" fill-rule=\"evenodd\" fill-opacity=\"1\" /><polyline clip-path=\"url(#clip492)\" style=\"stroke:#000000; stroke-linecap:round; stroke-linejoin:round; stroke-width:4; stroke-opacity:1; fill:none\" points=\"205.361,977.43 205.361,84.5781 \"/>\n",
       "<polyline clip-path=\"url(#clip492)\" style=\"stroke:#000000; stroke-linecap:round; stroke-linejoin:round; stroke-width:4; stroke-opacity:1; fill:none\" points=\"503.073,1329.04 503.073,1248.05 \"/>\n",
       "<polyline clip-path=\"url(#clip492)\" style=\"stroke:#000000; stroke-linecap:round; stroke-linejoin:round; stroke-width:4; stroke-opacity:1; fill:none\" points=\"800.784,969.068 800.784,697.324 \"/>\n",
       "<polyline clip-path=\"url(#clip492)\" style=\"stroke:#000000; stroke-linecap:round; stroke-linejoin:round; stroke-width:4; stroke-opacity:1; fill:none\" points=\"1098.5,1241.98 1098.5,1208.69 \"/>\n",
       "<polyline clip-path=\"url(#clip492)\" style=\"stroke:#000000; stroke-linecap:round; stroke-linejoin:round; stroke-width:4; stroke-opacity:1; fill:none\" points=\"1396.21,1179.4 1396.21,1167.77 \"/>\n",
       "<polyline clip-path=\"url(#clip492)\" style=\"stroke:#000000; stroke-linecap:round; stroke-linejoin:round; stroke-width:4; stroke-opacity:1; fill:none\" points=\"1693.92,1325.75 1693.92,1261.21 \"/>\n",
       "<polyline clip-path=\"url(#clip492)\" style=\"stroke:#000000; stroke-linecap:round; stroke-linejoin:round; stroke-width:4; stroke-opacity:1; fill:none\" points=\"1991.63,1218.54 1991.63,1185.29 \"/>\n",
       "<polyline clip-path=\"url(#clip492)\" style=\"stroke:#000000; stroke-linecap:round; stroke-linejoin:round; stroke-width:4; stroke-opacity:1; fill:none\" points=\"2289.34,1099.92 2289.34,1022.36 \"/>\n",
       "<line clip-path=\"url(#clip492)\" x1=\"221.361\" y1=\"977.43\" x2=\"189.361\" y2=\"977.43\" style=\"stroke:#000000; stroke-width:3.2; stroke-opacity:1\"/>\n",
       "<line clip-path=\"url(#clip492)\" x1=\"221.361\" y1=\"84.5781\" x2=\"189.361\" y2=\"84.5781\" style=\"stroke:#000000; stroke-width:3.2; stroke-opacity:1\"/>\n",
       "<line clip-path=\"url(#clip492)\" x1=\"519.073\" y1=\"1329.04\" x2=\"487.073\" y2=\"1329.04\" style=\"stroke:#000000; stroke-width:3.2; stroke-opacity:1\"/>\n",
       "<line clip-path=\"url(#clip492)\" x1=\"519.073\" y1=\"1248.05\" x2=\"487.073\" y2=\"1248.05\" style=\"stroke:#000000; stroke-width:3.2; stroke-opacity:1\"/>\n",
       "<line clip-path=\"url(#clip492)\" x1=\"816.784\" y1=\"969.068\" x2=\"784.784\" y2=\"969.068\" style=\"stroke:#000000; stroke-width:3.2; stroke-opacity:1\"/>\n",
       "<line clip-path=\"url(#clip492)\" x1=\"816.784\" y1=\"697.324\" x2=\"784.784\" y2=\"697.324\" style=\"stroke:#000000; stroke-width:3.2; stroke-opacity:1\"/>\n",
       "<line clip-path=\"url(#clip492)\" x1=\"1114.5\" y1=\"1241.98\" x2=\"1082.5\" y2=\"1241.98\" style=\"stroke:#000000; stroke-width:3.2; stroke-opacity:1\"/>\n",
       "<line clip-path=\"url(#clip492)\" x1=\"1114.5\" y1=\"1208.69\" x2=\"1082.5\" y2=\"1208.69\" style=\"stroke:#000000; stroke-width:3.2; stroke-opacity:1\"/>\n",
       "<line clip-path=\"url(#clip492)\" x1=\"1412.21\" y1=\"1179.4\" x2=\"1380.21\" y2=\"1179.4\" style=\"stroke:#000000; stroke-width:3.2; stroke-opacity:1\"/>\n",
       "<line clip-path=\"url(#clip492)\" x1=\"1412.21\" y1=\"1167.77\" x2=\"1380.21\" y2=\"1167.77\" style=\"stroke:#000000; stroke-width:3.2; stroke-opacity:1\"/>\n",
       "<line clip-path=\"url(#clip492)\" x1=\"1709.92\" y1=\"1325.75\" x2=\"1677.92\" y2=\"1325.75\" style=\"stroke:#000000; stroke-width:3.2; stroke-opacity:1\"/>\n",
       "<line clip-path=\"url(#clip492)\" x1=\"1709.92\" y1=\"1261.21\" x2=\"1677.92\" y2=\"1261.21\" style=\"stroke:#000000; stroke-width:3.2; stroke-opacity:1\"/>\n",
       "<line clip-path=\"url(#clip492)\" x1=\"2007.63\" y1=\"1218.54\" x2=\"1975.63\" y2=\"1218.54\" style=\"stroke:#000000; stroke-width:3.2; stroke-opacity:1\"/>\n",
       "<line clip-path=\"url(#clip492)\" x1=\"2007.63\" y1=\"1185.29\" x2=\"1975.63\" y2=\"1185.29\" style=\"stroke:#000000; stroke-width:3.2; stroke-opacity:1\"/>\n",
       "<line clip-path=\"url(#clip492)\" x1=\"2305.34\" y1=\"1099.92\" x2=\"2273.34\" y2=\"1099.92\" style=\"stroke:#000000; stroke-width:3.2; stroke-opacity:1\"/>\n",
       "<line clip-path=\"url(#clip492)\" x1=\"2305.34\" y1=\"1022.36\" x2=\"2273.34\" y2=\"1022.36\" style=\"stroke:#000000; stroke-width:3.2; stroke-opacity:1\"/>\n",
       "<circle clip-path=\"url(#clip492)\" cx=\"205.361\" cy=\"574.552\" r=\"14.4\" fill=\"#009af9\" fill-rule=\"evenodd\" fill-opacity=\"1\" stroke=\"#000000\" stroke-opacity=\"1\" stroke-width=\"3.2\"/>\n",
       "<circle clip-path=\"url(#clip492)\" cx=\"503.073\" cy=\"1284\" r=\"14.4\" fill=\"#009af9\" fill-rule=\"evenodd\" fill-opacity=\"1\" stroke=\"#000000\" stroke-opacity=\"1\" stroke-width=\"3.2\"/>\n",
       "<circle clip-path=\"url(#clip492)\" cx=\"800.784\" cy=\"843.438\" r=\"14.4\" fill=\"#009af9\" fill-rule=\"evenodd\" fill-opacity=\"1\" stroke=\"#000000\" stroke-opacity=\"1\" stroke-width=\"3.2\"/>\n",
       "<circle clip-path=\"url(#clip492)\" cx=\"1098.5\" cy=\"1224.14\" r=\"14.4\" fill=\"#009af9\" fill-rule=\"evenodd\" fill-opacity=\"1\" stroke=\"#000000\" stroke-opacity=\"1\" stroke-width=\"3.2\"/>\n",
       "<circle clip-path=\"url(#clip492)\" cx=\"1396.21\" cy=\"1173.77\" r=\"14.4\" fill=\"#009af9\" fill-rule=\"evenodd\" fill-opacity=\"1\" stroke=\"#000000\" stroke-opacity=\"1\" stroke-width=\"3.2\"/>\n",
       "<circle clip-path=\"url(#clip492)\" cx=\"1693.92\" cy=\"1291.64\" r=\"14.4\" fill=\"#009af9\" fill-rule=\"evenodd\" fill-opacity=\"1\" stroke=\"#000000\" stroke-opacity=\"1\" stroke-width=\"3.2\"/>\n",
       "<circle clip-path=\"url(#clip492)\" cx=\"1991.63\" cy=\"1200.47\" r=\"14.4\" fill=\"#009af9\" fill-rule=\"evenodd\" fill-opacity=\"1\" stroke=\"#000000\" stroke-opacity=\"1\" stroke-width=\"3.2\"/>\n",
       "<circle clip-path=\"url(#clip492)\" cx=\"2289.34\" cy=\"1062.08\" r=\"14.4\" fill=\"#009af9\" fill-rule=\"evenodd\" fill-opacity=\"1\" stroke=\"#000000\" stroke-opacity=\"1\" stroke-width=\"3.2\"/>\n",
       "<polyline clip-path=\"url(#clip492)\" style=\"stroke:#000000; stroke-linecap:round; stroke-linejoin:round; stroke-width:4; stroke-opacity:1; fill:none\" points=\"175.59,1017.48 175.59,131.623 \"/>\n",
       "<polyline clip-path=\"url(#clip492)\" style=\"stroke:#000000; stroke-linecap:round; stroke-linejoin:round; stroke-width:4; stroke-opacity:1; fill:none\" points=\"473.302,1325.54 473.302,1242.46 \"/>\n",
       "<polyline clip-path=\"url(#clip492)\" style=\"stroke:#000000; stroke-linecap:round; stroke-linejoin:round; stroke-width:4; stroke-opacity:1; fill:none\" points=\"771.013,971.095 771.013,715.781 \"/>\n",
       "<polyline clip-path=\"url(#clip492)\" style=\"stroke:#000000; stroke-linecap:round; stroke-linejoin:round; stroke-width:4; stroke-opacity:1; fill:none\" points=\"1068.73,1239.87 1068.73,1208.42 \"/>\n",
       "<polyline clip-path=\"url(#clip492)\" style=\"stroke:#000000; stroke-linecap:round; stroke-linejoin:round; stroke-width:4; stroke-opacity:1; fill:none\" points=\"1366.44,1179.42 1366.44,1168.13 \"/>\n",
       "<polyline clip-path=\"url(#clip492)\" style=\"stroke:#000000; stroke-linecap:round; stroke-linejoin:round; stroke-width:4; stroke-opacity:1; fill:none\" points=\"1664.15,1323.25 1664.15,1260.03 \"/>\n",
       "<polyline clip-path=\"url(#clip492)\" style=\"stroke:#000000; stroke-linecap:round; stroke-linejoin:round; stroke-width:4; stroke-opacity:1; fill:none\" points=\"1961.86,1216.49 1961.86,1184.45 \"/>\n",
       "<polyline clip-path=\"url(#clip492)\" style=\"stroke:#000000; stroke-linecap:round; stroke-linejoin:round; stroke-width:4; stroke-opacity:1; fill:none\" points=\"2259.57,1100.29 2259.57,1023.88 \"/>\n",
       "<line clip-path=\"url(#clip492)\" x1=\"191.59\" y1=\"1017.48\" x2=\"159.59\" y2=\"1017.48\" style=\"stroke:#000000; stroke-width:3.2; stroke-opacity:1\"/>\n",
       "<line clip-path=\"url(#clip492)\" x1=\"191.59\" y1=\"131.623\" x2=\"159.59\" y2=\"131.623\" style=\"stroke:#000000; stroke-width:3.2; stroke-opacity:1\"/>\n",
       "<line clip-path=\"url(#clip492)\" x1=\"489.302\" y1=\"1325.54\" x2=\"457.302\" y2=\"1325.54\" style=\"stroke:#000000; stroke-width:3.2; stroke-opacity:1\"/>\n",
       "<line clip-path=\"url(#clip492)\" x1=\"489.302\" y1=\"1242.46\" x2=\"457.302\" y2=\"1242.46\" style=\"stroke:#000000; stroke-width:3.2; stroke-opacity:1\"/>\n",
       "<line clip-path=\"url(#clip492)\" x1=\"787.013\" y1=\"971.095\" x2=\"755.013\" y2=\"971.095\" style=\"stroke:#000000; stroke-width:3.2; stroke-opacity:1\"/>\n",
       "<line clip-path=\"url(#clip492)\" x1=\"787.013\" y1=\"715.781\" x2=\"755.013\" y2=\"715.781\" style=\"stroke:#000000; stroke-width:3.2; stroke-opacity:1\"/>\n",
       "<line clip-path=\"url(#clip492)\" x1=\"1084.73\" y1=\"1239.87\" x2=\"1052.73\" y2=\"1239.87\" style=\"stroke:#000000; stroke-width:3.2; stroke-opacity:1\"/>\n",
       "<line clip-path=\"url(#clip492)\" x1=\"1084.73\" y1=\"1208.42\" x2=\"1052.73\" y2=\"1208.42\" style=\"stroke:#000000; stroke-width:3.2; stroke-opacity:1\"/>\n",
       "<line clip-path=\"url(#clip492)\" x1=\"1382.44\" y1=\"1179.42\" x2=\"1350.44\" y2=\"1179.42\" style=\"stroke:#000000; stroke-width:3.2; stroke-opacity:1\"/>\n",
       "<line clip-path=\"url(#clip492)\" x1=\"1382.44\" y1=\"1168.13\" x2=\"1350.44\" y2=\"1168.13\" style=\"stroke:#000000; stroke-width:3.2; stroke-opacity:1\"/>\n",
       "<line clip-path=\"url(#clip492)\" x1=\"1680.15\" y1=\"1323.25\" x2=\"1648.15\" y2=\"1323.25\" style=\"stroke:#000000; stroke-width:3.2; stroke-opacity:1\"/>\n",
       "<line clip-path=\"url(#clip492)\" x1=\"1680.15\" y1=\"1260.03\" x2=\"1648.15\" y2=\"1260.03\" style=\"stroke:#000000; stroke-width:3.2; stroke-opacity:1\"/>\n",
       "<line clip-path=\"url(#clip492)\" x1=\"1977.86\" y1=\"1216.49\" x2=\"1945.86\" y2=\"1216.49\" style=\"stroke:#000000; stroke-width:3.2; stroke-opacity:1\"/>\n",
       "<line clip-path=\"url(#clip492)\" x1=\"1977.86\" y1=\"1184.45\" x2=\"1945.86\" y2=\"1184.45\" style=\"stroke:#000000; stroke-width:3.2; stroke-opacity:1\"/>\n",
       "<line clip-path=\"url(#clip492)\" x1=\"2275.57\" y1=\"1100.29\" x2=\"2243.57\" y2=\"1100.29\" style=\"stroke:#000000; stroke-width:3.2; stroke-opacity:1\"/>\n",
       "<line clip-path=\"url(#clip492)\" x1=\"2275.57\" y1=\"1023.88\" x2=\"2243.57\" y2=\"1023.88\" style=\"stroke:#000000; stroke-width:3.2; stroke-opacity:1\"/>\n",
       "<circle clip-path=\"url(#clip492)\" cx=\"175.59\" cy=\"574.552\" r=\"14.4\" fill=\"#e26f46\" fill-rule=\"evenodd\" fill-opacity=\"1\" stroke=\"#000000\" stroke-opacity=\"1\" stroke-width=\"3.2\"/>\n",
       "<circle clip-path=\"url(#clip492)\" cx=\"473.302\" cy=\"1284\" r=\"14.4\" fill=\"#e26f46\" fill-rule=\"evenodd\" fill-opacity=\"1\" stroke=\"#000000\" stroke-opacity=\"1\" stroke-width=\"3.2\"/>\n",
       "<circle clip-path=\"url(#clip492)\" cx=\"771.013\" cy=\"843.438\" r=\"14.4\" fill=\"#e26f46\" fill-rule=\"evenodd\" fill-opacity=\"1\" stroke=\"#000000\" stroke-opacity=\"1\" stroke-width=\"3.2\"/>\n",
       "<circle clip-path=\"url(#clip492)\" cx=\"1068.73\" cy=\"1224.14\" r=\"14.4\" fill=\"#e26f46\" fill-rule=\"evenodd\" fill-opacity=\"1\" stroke=\"#000000\" stroke-opacity=\"1\" stroke-width=\"3.2\"/>\n",
       "<circle clip-path=\"url(#clip492)\" cx=\"1366.44\" cy=\"1173.77\" r=\"14.4\" fill=\"#e26f46\" fill-rule=\"evenodd\" fill-opacity=\"1\" stroke=\"#000000\" stroke-opacity=\"1\" stroke-width=\"3.2\"/>\n",
       "<circle clip-path=\"url(#clip492)\" cx=\"1664.15\" cy=\"1291.64\" r=\"14.4\" fill=\"#e26f46\" fill-rule=\"evenodd\" fill-opacity=\"1\" stroke=\"#000000\" stroke-opacity=\"1\" stroke-width=\"3.2\"/>\n",
       "<circle clip-path=\"url(#clip492)\" cx=\"1961.86\" cy=\"1200.47\" r=\"14.4\" fill=\"#e26f46\" fill-rule=\"evenodd\" fill-opacity=\"1\" stroke=\"#000000\" stroke-opacity=\"1\" stroke-width=\"3.2\"/>\n",
       "<circle clip-path=\"url(#clip492)\" cx=\"2259.57\" cy=\"1062.08\" r=\"14.4\" fill=\"#e26f46\" fill-rule=\"evenodd\" fill-opacity=\"1\" stroke=\"#000000\" stroke-opacity=\"1\" stroke-width=\"3.2\"/>\n",
       "<path clip-path=\"url(#clip490)\" d=\"M1800.91 246.735 L2278.07 246.735 L2278.07 91.2152 L1800.91 91.2152  Z\" fill=\"#ffffff\" fill-rule=\"evenodd\" fill-opacity=\"1\"/>\n",
       "<polyline clip-path=\"url(#clip490)\" style=\"stroke:#000000; stroke-linecap:round; stroke-linejoin:round; stroke-width:4; stroke-opacity:1; fill:none\" points=\"1800.91,246.735 2278.07,246.735 2278.07,91.2152 1800.91,91.2152 1800.91,246.735 \"/>\n",
       "<circle clip-path=\"url(#clip490)\" cx=\"1900.49\" cy=\"143.055\" r=\"23.04\" fill=\"#009af9\" fill-rule=\"evenodd\" fill-opacity=\"1\" stroke=\"#000000\" stroke-opacity=\"1\" stroke-width=\"5.12\"/>\n",
       "<path clip-path=\"url(#clip490)\" d=\"M2018.85 147.395 Q2018.85 142.696 2016.9 140.034 Q2014.98 137.349 2011.6 137.349 Q2008.22 137.349 2006.28 140.034 Q2004.36 142.696 2004.36 147.395 Q2004.36 152.095 2006.28 154.78 Q2008.22 157.442 2011.6 157.442 Q2014.98 157.442 2016.9 154.78 Q2018.85 152.095 2018.85 147.395 M2004.36 138.345 Q2005.7 136.03 2007.74 134.919 Q2009.8 133.784 2012.64 133.784 Q2017.37 133.784 2020.31 137.534 Q2023.27 141.284 2023.27 147.395 Q2023.27 153.507 2020.31 157.257 Q2017.37 161.007 2012.64 161.007 Q2009.8 161.007 2007.74 159.895 Q2005.7 158.761 2004.36 156.446 L2004.36 160.335 L2000.07 160.335 L2000.07 124.317 L2004.36 124.317 L2004.36 138.345 Z\" fill=\"#000000\" fill-rule=\"evenodd\" fill-opacity=\"1\" /><path clip-path=\"url(#clip490)\" d=\"M2040.37 137.396 Q2036.95 137.396 2034.96 140.081 Q2032.97 142.743 2032.97 147.395 Q2032.97 152.048 2034.94 154.733 Q2036.93 157.395 2040.37 157.395 Q2043.78 157.395 2045.77 154.71 Q2047.76 152.025 2047.76 147.395 Q2047.76 142.789 2045.77 140.104 Q2043.78 137.396 2040.37 137.396 M2040.37 133.784 Q2045.93 133.784 2049.1 137.396 Q2052.27 141.007 2052.27 147.395 Q2052.27 153.761 2049.1 157.395 Q2045.93 161.007 2040.37 161.007 Q2034.8 161.007 2031.62 157.395 Q2028.48 153.761 2028.48 147.395 Q2028.48 141.007 2031.62 137.396 Q2034.8 133.784 2040.37 133.784 Z\" fill=\"#000000\" fill-rule=\"evenodd\" fill-opacity=\"1\" /><path clip-path=\"url(#clip490)\" d=\"M2069.38 137.396 Q2065.95 137.396 2063.96 140.081 Q2061.97 142.743 2061.97 147.395 Q2061.97 152.048 2063.94 154.733 Q2065.93 157.395 2069.38 157.395 Q2072.78 157.395 2074.77 154.71 Q2076.76 152.025 2076.76 147.395 Q2076.76 142.789 2074.77 140.104 Q2072.78 137.396 2069.38 137.396 M2069.38 133.784 Q2074.93 133.784 2078.11 137.396 Q2081.28 141.007 2081.28 147.395 Q2081.28 153.761 2078.11 157.395 Q2074.93 161.007 2069.38 161.007 Q2063.8 161.007 2060.63 157.395 Q2057.48 153.761 2057.48 147.395 Q2057.48 141.007 2060.63 137.396 Q2063.8 133.784 2069.38 133.784 Z\" fill=\"#000000\" fill-rule=\"evenodd\" fill-opacity=\"1\" /><path clip-path=\"url(#clip490)\" d=\"M2092.55 127.048 L2092.55 134.409 L2101.32 134.409 L2101.32 137.72 L2092.55 137.72 L2092.55 151.794 Q2092.55 154.965 2093.41 155.868 Q2094.29 156.77 2096.95 156.77 L2101.32 156.77 L2101.32 160.335 L2096.95 160.335 Q2092.02 160.335 2090.14 158.507 Q2088.27 156.655 2088.27 151.794 L2088.27 137.72 L2085.14 137.72 L2085.14 134.409 L2088.27 134.409 L2088.27 127.048 L2092.55 127.048 Z\" fill=\"#000000\" fill-rule=\"evenodd\" fill-opacity=\"1\" /><path clip-path=\"url(#clip490)\" d=\"M2123.45 135.173 L2123.45 139.201 Q2121.65 138.275 2119.7 137.812 Q2117.76 137.349 2115.68 137.349 Q2112.5 137.349 2110.91 138.321 Q2109.33 139.294 2109.33 141.238 Q2109.33 142.72 2110.47 143.576 Q2111.6 144.409 2115.03 145.173 L2116.49 145.497 Q2121.02 146.47 2122.92 148.252 Q2124.84 150.011 2124.84 153.182 Q2124.84 156.794 2121.97 158.9 Q2119.12 161.007 2114.12 161.007 Q2112.04 161.007 2109.77 160.59 Q2107.53 160.196 2105.03 159.386 L2105.03 154.988 Q2107.39 156.215 2109.68 156.84 Q2111.97 157.442 2114.22 157.442 Q2117.23 157.442 2118.85 156.423 Q2120.47 155.382 2120.47 153.507 Q2120.47 151.77 2119.29 150.845 Q2118.13 149.919 2114.17 149.062 L2112.69 148.715 Q2108.73 147.882 2106.97 146.169 Q2105.21 144.433 2105.21 141.423 Q2105.21 137.766 2107.81 135.775 Q2110.4 133.784 2115.17 133.784 Q2117.53 133.784 2119.61 134.132 Q2121.69 134.479 2123.45 135.173 Z\" fill=\"#000000\" fill-rule=\"evenodd\" fill-opacity=\"1\" /><path clip-path=\"url(#clip490)\" d=\"M2135.84 127.048 L2135.84 134.409 L2144.61 134.409 L2144.61 137.72 L2135.84 137.72 L2135.84 151.794 Q2135.84 154.965 2136.69 155.868 Q2137.57 156.77 2140.24 156.77 L2144.61 156.77 L2144.61 160.335 L2140.24 160.335 Q2135.3 160.335 2133.43 158.507 Q2131.55 156.655 2131.55 151.794 L2131.55 137.72 L2128.43 137.72 L2128.43 134.409 L2131.55 134.409 L2131.55 127.048 L2135.84 127.048 Z\" fill=\"#000000\" fill-rule=\"evenodd\" fill-opacity=\"1\" /><path clip-path=\"url(#clip490)\" d=\"M2165.24 138.391 Q2164.52 137.974 2163.66 137.789 Q2162.83 137.581 2161.81 137.581 Q2158.2 137.581 2156.25 139.942 Q2154.33 142.28 2154.33 146.678 L2154.33 160.335 L2150.05 160.335 L2150.05 134.409 L2154.33 134.409 L2154.33 138.437 Q2155.68 136.076 2157.83 134.942 Q2159.98 133.784 2163.06 133.784 Q2163.5 133.784 2164.03 133.854 Q2164.56 133.9 2165.21 134.016 L2165.24 138.391 Z\" fill=\"#000000\" fill-rule=\"evenodd\" fill-opacity=\"1\" /><path clip-path=\"url(#clip490)\" d=\"M2181.49 147.303 Q2176.32 147.303 2174.33 148.483 Q2172.34 149.664 2172.34 152.511 Q2172.34 154.78 2173.82 156.122 Q2175.33 157.442 2177.9 157.442 Q2181.44 157.442 2183.57 154.942 Q2185.72 152.419 2185.72 148.252 L2185.72 147.303 L2181.49 147.303 M2189.98 145.544 L2189.98 160.335 L2185.72 160.335 L2185.72 156.4 Q2184.26 158.761 2182.09 159.895 Q2179.91 161.007 2176.76 161.007 Q2172.78 161.007 2170.42 158.784 Q2168.08 156.539 2168.08 152.789 Q2168.08 148.414 2171 146.192 Q2173.94 143.97 2179.75 143.97 L2185.72 143.97 L2185.72 143.553 Q2185.72 140.613 2183.78 139.016 Q2181.86 137.396 2178.36 137.396 Q2176.14 137.396 2174.03 137.928 Q2171.93 138.46 2169.98 139.525 L2169.98 135.59 Q2172.32 134.687 2174.52 134.247 Q2176.72 133.784 2178.8 133.784 Q2184.42 133.784 2187.2 136.701 Q2189.98 139.618 2189.98 145.544 Z\" fill=\"#000000\" fill-rule=\"evenodd\" fill-opacity=\"1\" /><path clip-path=\"url(#clip490)\" d=\"M2202.87 156.446 L2202.87 170.196 L2198.59 170.196 L2198.59 134.409 L2202.87 134.409 L2202.87 138.345 Q2204.22 136.03 2206.25 134.919 Q2208.31 133.784 2211.16 133.784 Q2215.88 133.784 2218.82 137.534 Q2221.79 141.284 2221.79 147.395 Q2221.79 153.507 2218.82 157.257 Q2215.88 161.007 2211.16 161.007 Q2208.31 161.007 2206.25 159.895 Q2204.22 158.761 2202.87 156.446 M2217.36 147.395 Q2217.36 142.696 2215.42 140.034 Q2213.5 137.349 2210.12 137.349 Q2206.74 137.349 2204.8 140.034 Q2202.87 142.696 2202.87 147.395 Q2202.87 152.095 2204.8 154.78 Q2206.74 157.442 2210.12 157.442 Q2213.5 157.442 2215.42 154.78 Q2217.36 152.095 2217.36 147.395 Z\" fill=\"#000000\" fill-rule=\"evenodd\" fill-opacity=\"1\" /><circle clip-path=\"url(#clip490)\" cx=\"1900.49\" cy=\"194.895\" r=\"23.04\" fill=\"#e26f46\" fill-rule=\"evenodd\" fill-opacity=\"1\" stroke=\"#000000\" stroke-opacity=\"1\" stroke-width=\"5.12\"/>\n",
       "<path clip-path=\"url(#clip490)\" d=\"M2004.36 208.286 L2004.36 222.036 L2000.07 222.036 L2000.07 186.249 L2004.36 186.249 L2004.36 190.185 Q2005.7 187.87 2007.74 186.759 Q2009.8 185.624 2012.64 185.624 Q2017.37 185.624 2020.31 189.374 Q2023.27 193.124 2023.27 199.235 Q2023.27 205.347 2020.31 209.097 Q2017.37 212.847 2012.64 212.847 Q2009.8 212.847 2007.74 211.735 Q2005.7 210.601 2004.36 208.286 M2018.85 199.235 Q2018.85 194.536 2016.9 191.874 Q2014.98 189.189 2011.6 189.189 Q2008.22 189.189 2006.28 191.874 Q2004.36 194.536 2004.36 199.235 Q2004.36 203.935 2006.28 206.62 Q2008.22 209.282 2011.6 209.282 Q2014.98 209.282 2016.9 206.62 Q2018.85 203.935 2018.85 199.235 Z\" fill=\"#000000\" fill-rule=\"evenodd\" fill-opacity=\"1\" /><path clip-path=\"url(#clip490)\" d=\"M2042.11 199.143 Q2036.95 199.143 2034.96 200.323 Q2032.97 201.504 2032.97 204.351 Q2032.97 206.62 2034.45 207.962 Q2035.95 209.282 2038.52 209.282 Q2042.06 209.282 2044.19 206.782 Q2046.35 204.259 2046.35 200.092 L2046.35 199.143 L2042.11 199.143 M2050.61 197.384 L2050.61 212.175 L2046.35 212.175 L2046.35 208.24 Q2044.89 210.601 2042.71 211.735 Q2040.54 212.847 2037.39 212.847 Q2033.41 212.847 2031.05 210.624 Q2028.71 208.379 2028.71 204.629 Q2028.71 200.254 2031.62 198.032 Q2034.56 195.81 2040.37 195.81 L2046.35 195.81 L2046.35 195.393 Q2046.35 192.453 2044.4 190.856 Q2042.48 189.236 2038.99 189.236 Q2036.76 189.236 2034.66 189.768 Q2032.55 190.3 2030.61 191.365 L2030.61 187.43 Q2032.94 186.527 2035.14 186.087 Q2037.34 185.624 2039.43 185.624 Q2045.05 185.624 2047.83 188.541 Q2050.61 191.458 2050.61 197.384 Z\" fill=\"#000000\" fill-rule=\"evenodd\" fill-opacity=\"1\" /><path clip-path=\"url(#clip490)\" d=\"M2074.4 190.231 Q2073.68 189.814 2072.83 189.629 Q2072 189.421 2070.98 189.421 Q2067.37 189.421 2065.42 191.782 Q2063.5 194.12 2063.5 198.518 L2063.5 212.175 L2059.22 212.175 L2059.22 186.249 L2063.5 186.249 L2063.5 190.277 Q2064.84 187.916 2067 186.782 Q2069.15 185.624 2072.23 185.624 Q2072.67 185.624 2073.2 185.694 Q2073.73 185.74 2074.38 185.856 L2074.4 190.231 Z\" fill=\"#000000\" fill-rule=\"evenodd\" fill-opacity=\"1\" /><path clip-path=\"url(#clip490)\" d=\"M2090.65 199.143 Q2085.49 199.143 2083.5 200.323 Q2081.51 201.504 2081.51 204.351 Q2081.51 206.62 2082.99 207.962 Q2084.49 209.282 2087.06 209.282 Q2090.61 209.282 2092.74 206.782 Q2094.89 204.259 2094.89 200.092 L2094.89 199.143 L2090.65 199.143 M2099.15 197.384 L2099.15 212.175 L2094.89 212.175 L2094.89 208.24 Q2093.43 210.601 2091.25 211.735 Q2089.08 212.847 2085.93 212.847 Q2081.95 212.847 2079.59 210.624 Q2077.25 208.379 2077.25 204.629 Q2077.25 200.254 2080.17 198.032 Q2083.11 195.81 2088.92 195.81 L2094.89 195.81 L2094.89 195.393 Q2094.89 192.453 2092.94 190.856 Q2091.02 189.236 2087.53 189.236 Q2085.31 189.236 2083.2 189.768 Q2081.09 190.3 2079.15 191.365 L2079.15 187.43 Q2081.49 186.527 2083.68 186.087 Q2085.88 185.624 2087.97 185.624 Q2093.59 185.624 2096.37 188.541 Q2099.15 191.458 2099.15 197.384 Z\" fill=\"#000000\" fill-rule=\"evenodd\" fill-opacity=\"1\" /><path clip-path=\"url(#clip490)\" d=\"M2128.11 191.226 Q2129.7 188.356 2131.93 186.99 Q2134.15 185.624 2137.16 185.624 Q2141.21 185.624 2143.41 188.472 Q2145.61 191.296 2145.61 196.527 L2145.61 212.175 L2141.32 212.175 L2141.32 196.666 Q2141.32 192.939 2140 191.134 Q2138.68 189.328 2135.98 189.328 Q2132.67 189.328 2130.74 191.527 Q2128.82 193.726 2128.82 197.523 L2128.82 212.175 L2124.54 212.175 L2124.54 196.666 Q2124.54 192.916 2123.22 191.134 Q2121.9 189.328 2119.15 189.328 Q2115.88 189.328 2113.96 191.55 Q2112.04 193.749 2112.04 197.523 L2112.04 212.175 L2107.76 212.175 L2107.76 186.249 L2112.04 186.249 L2112.04 190.277 Q2113.5 187.893 2115.54 186.759 Q2117.57 185.624 2120.37 185.624 Q2123.2 185.624 2125.17 187.06 Q2127.16 188.495 2128.11 191.226 Z\" fill=\"#000000\" fill-rule=\"evenodd\" fill-opacity=\"1\" /><path clip-path=\"url(#clip490)\" d=\"M2176.28 198.148 L2176.28 200.231 L2156.69 200.231 Q2156.97 204.629 2159.33 206.944 Q2161.72 209.235 2165.95 209.235 Q2168.41 209.235 2170.7 208.634 Q2173.01 208.032 2175.28 206.828 L2175.28 210.856 Q2172.99 211.828 2170.58 212.337 Q2168.18 212.847 2165.7 212.847 Q2159.49 212.847 2155.86 209.235 Q2152.25 205.624 2152.25 199.467 Q2152.25 193.101 2155.68 189.374 Q2159.12 185.624 2164.96 185.624 Q2170.19 185.624 2173.22 189.004 Q2176.28 192.361 2176.28 198.148 M2172.02 196.898 Q2171.97 193.402 2170.05 191.319 Q2168.15 189.236 2165 189.236 Q2161.44 189.236 2159.29 191.249 Q2157.16 193.263 2156.83 196.921 L2172.02 196.898 Z\" fill=\"#000000\" fill-rule=\"evenodd\" fill-opacity=\"1\" /><path clip-path=\"url(#clip490)\" d=\"M2187.48 178.888 L2187.48 186.249 L2196.25 186.249 L2196.25 189.56 L2187.48 189.56 L2187.48 203.634 Q2187.48 206.805 2188.34 207.708 Q2189.22 208.61 2191.88 208.61 L2196.25 208.61 L2196.25 212.175 L2191.88 212.175 Q2186.95 212.175 2185.07 210.347 Q2183.2 208.495 2183.2 203.634 L2183.2 189.56 L2180.07 189.56 L2180.07 186.249 L2183.2 186.249 L2183.2 178.888 L2187.48 178.888 Z\" fill=\"#000000\" fill-rule=\"evenodd\" fill-opacity=\"1\" /><path clip-path=\"url(#clip490)\" d=\"M2216.88 190.231 Q2216.16 189.814 2215.3 189.629 Q2214.47 189.421 2213.45 189.421 Q2209.84 189.421 2207.9 191.782 Q2205.98 194.12 2205.98 198.518 L2205.98 212.175 L2201.69 212.175 L2201.69 186.249 L2205.98 186.249 L2205.98 190.277 Q2207.32 187.916 2209.47 186.782 Q2211.62 185.624 2214.7 185.624 Q2215.14 185.624 2215.67 185.694 Q2216.21 185.74 2216.86 185.856 L2216.88 190.231 Z\" fill=\"#000000\" fill-rule=\"evenodd\" fill-opacity=\"1\" /><path clip-path=\"url(#clip490)\" d=\"M2221.35 186.249 L2225.61 186.249 L2225.61 212.175 L2221.35 212.175 L2221.35 186.249 M2221.35 176.157 L2225.61 176.157 L2225.61 181.55 L2221.35 181.55 L2221.35 176.157 Z\" fill=\"#000000\" fill-rule=\"evenodd\" fill-opacity=\"1\" /><path clip-path=\"url(#clip490)\" d=\"M2253.17 187.245 L2253.17 191.226 Q2251.37 190.231 2249.54 189.745 Q2247.73 189.236 2245.88 189.236 Q2241.74 189.236 2239.45 191.874 Q2237.16 194.49 2237.16 199.235 Q2237.16 203.981 2239.45 206.62 Q2241.74 209.235 2245.88 209.235 Q2247.73 209.235 2249.54 208.749 Q2251.37 208.24 2253.17 207.245 L2253.17 211.18 Q2251.39 212.013 2249.47 212.43 Q2247.57 212.847 2245.42 212.847 Q2239.56 212.847 2236.11 209.166 Q2232.67 205.485 2232.67 199.235 Q2232.67 192.893 2236.14 189.259 Q2239.63 185.624 2245.7 185.624 Q2247.67 185.624 2249.54 186.041 Q2251.42 186.435 2253.17 187.245 Z\" fill=\"#000000\" fill-rule=\"evenodd\" fill-opacity=\"1\" /></svg>\n"
      ]
     },
     "execution_count": 44,
     "metadata": {},
     "output_type": "execute_result"
    }
   ],
   "source": [
    "scatter(0.05 .+ (1:8), conf_boot_t.estimate,\n",
    "        yerror=(conf_boot_t.\"boot lo\", conf_boot_t.\"boot hi\"),\n",
    "        label=\"bootstrap\",\n",
    "        xticks=(1:8, conf_boot_t.statistic), xrotation=45)\n",
    "scatter!(-0.05 .+ (1:8), conf_boot_t.estimate,\n",
    "         yerror=(conf_boot_t.\"parametric lo\", conf_boot_t.\"parametric hi\"),\n",
    "         label=\"parametric\")"
   ]
  },
  {
   "cell_type": "markdown",
   "id": "886241ab",
   "metadata": {},
   "source": [
    "As you can see both types of intervals are quite close in this case."
   ]
  },
  {
   "cell_type": "markdown",
   "id": "b9174206",
   "metadata": {},
   "source": [
    "Before we finish let us get a sample of how the same task could have been done using the Bootstrap.jl package."
   ]
  },
  {
   "cell_type": "markdown",
   "id": "f7a48f62",
   "metadata": {},
   "source": [
    "This time the function compiting the statistics does not have to perform sampling as this is handled by the Bootstrap.jl package:"
   ]
  },
  {
   "cell_type": "code",
   "execution_count": 45,
   "id": "4e742fa8",
   "metadata": {},
   "outputs": [
    {
     "data": {
      "text/plain": [
       "boot_probit (generic function with 1 method)"
      ]
     },
     "execution_count": 45,
     "metadata": {},
     "output_type": "execute_result"
    }
   ],
   "source": [
    "function boot_probit(df_boot)\n",
    "    probit_boot = glm(@formula(lfp ~ lnnlinc + age + age^2 + educ + nyc + noc + foreign),\n",
    "                      df_boot, Binomial(), ProbitLink())\n",
    "    return (; (Symbol.(coefnames(probit_boot)) .=> coef(probit_boot))...)\n",
    "end"
   ]
  },
  {
   "cell_type": "markdown",
   "id": "38a10aeb",
   "metadata": {},
   "source": [
    "First we create a bootstrap sample:"
   ]
  },
  {
   "cell_type": "code",
   "execution_count": 46,
   "id": "72676d1a",
   "metadata": {},
   "outputs": [
    {
     "name": "stdout",
     "output_type": "stream",
     "text": [
      "  1.938398 seconds (2.44 M allocations: 718.817 MiB, 8.89% gc time, 61.97% compilation time)\n"
     ]
    },
    {
     "data": {
      "text/plain": [
       "Bootstrap Sampling\n",
       "  Estimates:\n",
       "     Var │ Estimate    Bias         StdError\n",
       "         │ Float64     Float64      Float64\n",
       "    ─────┼────────────────────────────────────\n",
       "       1 │  3.74896     0.140457    1.40631\n",
       "       2 │ -0.666932   -0.0153319   0.129736\n",
       "       3 │  2.07531     0.0181637   0.425717\n",
       "       4 │ -0.294345   -0.00301596  0.0527653\n",
       "       5 │  0.0191963   0.00079884  0.0181964\n",
       "       6 │ -0.714465   -0.0113149   0.103201\n",
       "       7 │ -0.146985   -0.00136068  0.0522856\n",
       "       8 │  0.71438     0.00181945  0.12334\n",
       "  Sampling: BasicSampling\n",
       "  Samples:  1000\n",
       "  Data:     DataFrame: { 872 × 8 }\n"
      ]
     },
     "execution_count": 46,
     "metadata": {},
     "output_type": "execute_result"
    }
   ],
   "source": [
    "Random.seed!(1234)\n",
    "@time bs = bootstrap(boot_probit, df, BasicSampling(1000))"
   ]
  },
  {
   "cell_type": "markdown",
   "id": "5cc5d5a3",
   "metadata": {},
   "source": [
    "and next we compute 95% percentile confidence intervals:"
   ]
  },
  {
   "cell_type": "code",
   "execution_count": 47,
   "id": "fb116658",
   "metadata": {},
   "outputs": [
    {
     "data": {
      "text/plain": [
       "((3.7489556492270126, 1.2412907300091875, 6.798729981241089), (-0.6669318467301517, -0.9472825354846399, -0.4431707323683886), (2.0753100253099714, 1.2933397235684985, 2.9847762345144604), (-0.29434520313638074, -0.4053753283179081, -0.1981796050182594), (0.01919626008510484, -0.01585397748961644, 0.0565269367203404), (-0.714464748168672, -0.9267794739575894, -0.525029649023963), (-0.14698450450783618, -0.25949386579672606, -0.05253327657352294), (0.7143798526957524, 0.4788791797099515, 0.9616215302542082))"
      ]
     },
     "execution_count": 47,
     "metadata": {},
     "output_type": "execute_result"
    }
   ],
   "source": [
    "bs_ci = confint(bs, PercentileConfInt(0.95))"
   ]
  },
  {
   "cell_type": "markdown",
   "id": "a097882f",
   "metadata": {},
   "source": [
    "Let us chceck if the result matches our manual invervals. First create a new column in our data frame containing tuples. This is a typical example of *nested* data structure, that is handled by DataFrames.jl without any problems.\n",
    "\n",
    "Notice that I compute the deviations of lower and upper ends of confidence intervals from the estimate to match our earlier computations."
   ]
  },
  {
   "cell_type": "code",
   "execution_count": 48,
   "id": "9dfbef2b",
   "metadata": {},
   "outputs": [
    {
     "data": {
      "text/plain": [
       "8-element Vector{Tuple{Float64, Float64, Float64}}:\n",
       " (3.7489556492270126, 2.507664919217825, 3.0497743320140764)\n",
       " (-0.6669318467301517, 0.2803506887544882, 0.2237611143617631)\n",
       " (2.0753100253099714, 0.781970301741473, 0.909466209204489)\n",
       " (-0.29434520313638074, 0.11103012518152738, 0.09616559811812134)\n",
       " (0.01919626008510484, 0.03505023757472128, 0.03733067663523556)\n",
       " (-0.714464748168672, 0.2123147257889174, 0.18943509914470902)\n",
       " (-0.14698450450783618, 0.11250936128888989, 0.09445122793431324)\n",
       " (0.7143798526957524, 0.23550067298580096, 0.24724167755845572)"
      ]
     },
     "execution_count": 48,
     "metadata": {},
     "output_type": "execute_result"
    }
   ],
   "source": [
    "conf_boot_t.bootstrap = [(ci[1], ci[1] - ci[2], ci[3] - ci[1]) for ci in bs_ci]"
   ]
  },
  {
   "cell_type": "markdown",
   "id": "09660eeb",
   "metadata": {},
   "source": [
    "We could have inspected our data frame now:"
   ]
  },
  {
   "cell_type": "code",
   "execution_count": 49,
   "id": "e5f7090a",
   "metadata": {},
   "outputs": [
    {
     "data": {
      "text/html": [
       "<div><div style = \"float: left;\"><span>8×7 DataFrame</span></div><div style = \"clear: both;\"></div></div><div class = \"data-frame\" style = \"overflow-x: scroll;\"><table class = \"data-frame\" style = \"margin-bottom: 6px;\"><thead><tr class = \"header\"><th class = \"rowNumber\" style = \"font-weight: bold; text-align: right;\">Row</th><th style = \"text-align: left;\">statistic</th><th style = \"text-align: left;\">estimate</th><th style = \"text-align: left;\">boot lo</th><th style = \"text-align: left;\">boot hi</th><th style = \"text-align: left;\">parametric lo</th><th style = \"text-align: left;\">parametric hi</th><th style = \"text-align: left;\">bootstrap</th></tr><tr class = \"subheader headerLastRow\"><th class = \"rowNumber\" style = \"font-weight: bold; text-align: right;\"></th><th title = \"String\" style = \"text-align: left;\">String</th><th title = \"Float64\" style = \"text-align: left;\">Float64</th><th title = \"Float64\" style = \"text-align: left;\">Float64</th><th title = \"Float64\" style = \"text-align: left;\">Float64</th><th title = \"Float64\" style = \"text-align: left;\">Float64</th><th title = \"Float64\" style = \"text-align: left;\">Float64</th><th title = \"Tuple{Float64, Float64, Float64}\" style = \"text-align: left;\">Tuple…</th></tr></thead><tbody><tr><td class = \"rowNumber\" style = \"font-weight: bold; text-align: right;\">1</td><td style = \"text-align: left;\">(Intercept)</td><td style = \"text-align: right;\">3.74896</td><td style = \"text-align: right;\">2.50766</td><td style = \"text-align: right;\">3.04977</td><td style = \"text-align: right;\">2.75695</td><td style = \"text-align: right;\">2.75695</td><td style = \"text-align: left;\">(3.74896, 2.50766, 3.04977)</td></tr><tr><td class = \"rowNumber\" style = \"font-weight: bold; text-align: right;\">2</td><td style = \"text-align: left;\">lnnlinc</td><td style = \"text-align: right;\">-0.666932</td><td style = \"text-align: right;\">0.280351</td><td style = \"text-align: right;\">0.223761</td><td style = \"text-align: right;\">0.258558</td><td style = \"text-align: right;\">0.258558</td><td style = \"text-align: left;\">(-0.666932, 0.280351, 0.223761)</td></tr><tr><td class = \"rowNumber\" style = \"font-weight: bold; text-align: right;\">3</td><td style = \"text-align: left;\">age</td><td style = \"text-align: right;\">2.07531</td><td style = \"text-align: right;\">0.78197</td><td style = \"text-align: right;\">0.909466</td><td style = \"text-align: right;\">0.794584</td><td style = \"text-align: right;\">0.794584</td><td style = \"text-align: left;\">(2.07531, 0.78197, 0.909466)</td></tr><tr><td class = \"rowNumber\" style = \"font-weight: bold; text-align: right;\">4</td><td style = \"text-align: left;\">age ^ 2</td><td style = \"text-align: right;\">-0.294345</td><td style = \"text-align: right;\">0.11103</td><td style = \"text-align: right;\">0.0961656</td><td style = \"text-align: right;\">0.0978895</td><td style = \"text-align: right;\">0.0978895</td><td style = \"text-align: left;\">(-0.294345, 0.11103, 0.0961656)</td></tr><tr><td class = \"rowNumber\" style = \"font-weight: bold; text-align: right;\">5</td><td style = \"text-align: left;\">educ</td><td style = \"text-align: right;\">0.0191963</td><td style = \"text-align: right;\">0.0350502</td><td style = \"text-align: right;\">0.0373307</td><td style = \"text-align: right;\">0.0351333</td><td style = \"text-align: right;\">0.0351333</td><td style = \"text-align: left;\">(0.0191963, 0.0350502, 0.0373307)</td></tr><tr><td class = \"rowNumber\" style = \"font-weight: bold; text-align: right;\">6</td><td style = \"text-align: left;\">nyc</td><td style = \"text-align: right;\">-0.714465</td><td style = \"text-align: right;\">0.212315</td><td style = \"text-align: right;\">0.189435</td><td style = \"text-align: right;\">0.196774</td><td style = \"text-align: right;\">0.196774</td><td style = \"text-align: left;\">(-0.714465, 0.212315, 0.189435)</td></tr><tr><td class = \"rowNumber\" style = \"font-weight: bold; text-align: right;\">7</td><td style = \"text-align: left;\">noc</td><td style = \"text-align: right;\">-0.146985</td><td style = \"text-align: right;\">0.112509</td><td style = \"text-align: right;\">0.0944512</td><td style = \"text-align: right;\">0.0997336</td><td style = \"text-align: right;\">0.0997336</td><td style = \"text-align: left;\">(-0.146985, 0.112509, 0.0944512)</td></tr><tr><td class = \"rowNumber\" style = \"font-weight: bold; text-align: right;\">8</td><td style = \"text-align: left;\">foreign: yes</td><td style = \"text-align: right;\">0.71438</td><td style = \"text-align: right;\">0.235501</td><td style = \"text-align: right;\">0.247242</td><td style = \"text-align: right;\">0.23779</td><td style = \"text-align: right;\">0.23779</td><td style = \"text-align: left;\">(0.71438, 0.235501, 0.247242)</td></tr></tbody></table></div>"
      ],
      "text/latex": [
       "\\begin{tabular}{r|ccccccc}\n",
       "\t& statistic & estimate & boot lo & boot hi & parametric lo & parametric hi & bootstrap\\\\\n",
       "\t\\hline\n",
       "\t& String & Float64 & Float64 & Float64 & Float64 & Float64 & Tuple…\\\\\n",
       "\t\\hline\n",
       "\t1 & (Intercept) & 3.74896 & 2.50766 & 3.04977 & 2.75695 & 2.75695 & (3.74896, 2.50766, 3.04977) \\\\\n",
       "\t2 & lnnlinc & -0.666932 & 0.280351 & 0.223761 & 0.258558 & 0.258558 & (-0.666932, 0.280351, 0.223761) \\\\\n",
       "\t3 & age & 2.07531 & 0.78197 & 0.909466 & 0.794584 & 0.794584 & (2.07531, 0.78197, 0.909466) \\\\\n",
       "\t4 & age \\^ 2 & -0.294345 & 0.11103 & 0.0961656 & 0.0978895 & 0.0978895 & (-0.294345, 0.11103, 0.0961656) \\\\\n",
       "\t5 & educ & 0.0191963 & 0.0350502 & 0.0373307 & 0.0351333 & 0.0351333 & (0.0191963, 0.0350502, 0.0373307) \\\\\n",
       "\t6 & nyc & -0.714465 & 0.212315 & 0.189435 & 0.196774 & 0.196774 & (-0.714465, 0.212315, 0.189435) \\\\\n",
       "\t7 & noc & -0.146985 & 0.112509 & 0.0944512 & 0.0997336 & 0.0997336 & (-0.146985, 0.112509, 0.0944512) \\\\\n",
       "\t8 & foreign: yes & 0.71438 & 0.235501 & 0.247242 & 0.23779 & 0.23779 & (0.71438, 0.235501, 0.247242) \\\\\n",
       "\\end{tabular}\n"
      ],
      "text/plain": [
       "\u001b[1m8×7 DataFrame\u001b[0m\n",
       "\u001b[1m Row \u001b[0m│\u001b[1m statistic    \u001b[0m\u001b[1m estimate   \u001b[0m\u001b[1m boot lo   \u001b[0m\u001b[1m boot hi   \u001b[0m\u001b[1m parametric lo \u001b[0m\u001b[1m parametr\u001b[0m ⋯\n",
       "     │\u001b[90m String       \u001b[0m\u001b[90m Float64    \u001b[0m\u001b[90m Float64   \u001b[0m\u001b[90m Float64   \u001b[0m\u001b[90m Float64       \u001b[0m\u001b[90m Float64 \u001b[0m ⋯\n",
       "─────┼──────────────────────────────────────────────────────────────────────────\n",
       "   1 │ (Intercept)    3.74896    2.50766    3.04977        2.75695        2.75 ⋯\n",
       "   2 │ lnnlinc       -0.666932   0.280351   0.223761       0.258558       0.25\n",
       "   3 │ age            2.07531    0.78197    0.909466       0.794584       0.79\n",
       "   4 │ age ^ 2       -0.294345   0.11103    0.0961656      0.0978895      0.09\n",
       "   5 │ educ           0.0191963  0.0350502  0.0373307      0.0351333      0.03 ⋯\n",
       "   6 │ nyc           -0.714465   0.212315   0.189435       0.196774       0.19\n",
       "   7 │ noc           -0.146985   0.112509   0.0944512      0.0997336      0.09\n",
       "   8 │ foreign: yes   0.71438    0.235501   0.247242       0.23779        0.23\n",
       "\u001b[36m                                                               2 columns omitted\u001b[0m"
      ]
     },
     "execution_count": 49,
     "metadata": {},
     "output_type": "execute_result"
    }
   ],
   "source": [
    "conf_boot_t"
   ]
  },
  {
   "cell_type": "markdown",
   "id": "c048b6f1",
   "metadata": {},
   "source": [
    "But it is a bit inconvenient."
   ]
  },
  {
   "cell_type": "markdown",
   "id": "1552992b",
   "metadata": {},
   "source": [
    "First un-nest the `:bootstrap` column into three columns:"
   ]
  },
  {
   "cell_type": "code",
   "execution_count": 50,
   "id": "6b606849",
   "metadata": {},
   "outputs": [
    {
     "data": {
      "text/html": [
       "<div><div style = \"float: left;\"><span>8×9 DataFrame</span></div><div style = \"clear: both;\"></div></div><div class = \"data-frame\" style = \"overflow-x: scroll;\"><table class = \"data-frame\" style = \"margin-bottom: 6px;\"><thead><tr class = \"header\"><th class = \"rowNumber\" style = \"font-weight: bold; text-align: right;\">Row</th><th style = \"text-align: left;\">statistic</th><th style = \"text-align: left;\">estimate</th><th style = \"text-align: left;\">boot lo</th><th style = \"text-align: left;\">boot hi</th><th style = \"text-align: left;\">parametric lo</th><th style = \"text-align: left;\">parametric hi</th><th style = \"text-align: left;\">estimate 2</th><th style = \"text-align: left;\">boot lo 2</th><th style = \"text-align: left;\">boot hi 2</th></tr><tr class = \"subheader headerLastRow\"><th class = \"rowNumber\" style = \"font-weight: bold; text-align: right;\"></th><th title = \"String\" style = \"text-align: left;\">String</th><th title = \"Float64\" style = \"text-align: left;\">Float64</th><th title = \"Float64\" style = \"text-align: left;\">Float64</th><th title = \"Float64\" style = \"text-align: left;\">Float64</th><th title = \"Float64\" style = \"text-align: left;\">Float64</th><th title = \"Float64\" style = \"text-align: left;\">Float64</th><th title = \"Float64\" style = \"text-align: left;\">Float64</th><th title = \"Float64\" style = \"text-align: left;\">Float64</th><th title = \"Float64\" style = \"text-align: left;\">Float64</th></tr></thead><tbody><tr><td class = \"rowNumber\" style = \"font-weight: bold; text-align: right;\">1</td><td style = \"text-align: left;\">(Intercept)</td><td style = \"text-align: right;\">3.74896</td><td style = \"text-align: right;\">2.50766</td><td style = \"text-align: right;\">3.04977</td><td style = \"text-align: right;\">2.75695</td><td style = \"text-align: right;\">2.75695</td><td style = \"text-align: right;\">3.74896</td><td style = \"text-align: right;\">2.50766</td><td style = \"text-align: right;\">3.04977</td></tr><tr><td class = \"rowNumber\" style = \"font-weight: bold; text-align: right;\">2</td><td style = \"text-align: left;\">lnnlinc</td><td style = \"text-align: right;\">-0.666932</td><td style = \"text-align: right;\">0.280351</td><td style = \"text-align: right;\">0.223761</td><td style = \"text-align: right;\">0.258558</td><td style = \"text-align: right;\">0.258558</td><td style = \"text-align: right;\">-0.666932</td><td style = \"text-align: right;\">0.280351</td><td style = \"text-align: right;\">0.223761</td></tr><tr><td class = \"rowNumber\" style = \"font-weight: bold; text-align: right;\">3</td><td style = \"text-align: left;\">age</td><td style = \"text-align: right;\">2.07531</td><td style = \"text-align: right;\">0.78197</td><td style = \"text-align: right;\">0.909466</td><td style = \"text-align: right;\">0.794584</td><td style = \"text-align: right;\">0.794584</td><td style = \"text-align: right;\">2.07531</td><td style = \"text-align: right;\">0.78197</td><td style = \"text-align: right;\">0.909466</td></tr><tr><td class = \"rowNumber\" style = \"font-weight: bold; text-align: right;\">4</td><td style = \"text-align: left;\">age ^ 2</td><td style = \"text-align: right;\">-0.294345</td><td style = \"text-align: right;\">0.11103</td><td style = \"text-align: right;\">0.0961656</td><td style = \"text-align: right;\">0.0978895</td><td style = \"text-align: right;\">0.0978895</td><td style = \"text-align: right;\">-0.294345</td><td style = \"text-align: right;\">0.11103</td><td style = \"text-align: right;\">0.0961656</td></tr><tr><td class = \"rowNumber\" style = \"font-weight: bold; text-align: right;\">5</td><td style = \"text-align: left;\">educ</td><td style = \"text-align: right;\">0.0191963</td><td style = \"text-align: right;\">0.0350502</td><td style = \"text-align: right;\">0.0373307</td><td style = \"text-align: right;\">0.0351333</td><td style = \"text-align: right;\">0.0351333</td><td style = \"text-align: right;\">0.0191963</td><td style = \"text-align: right;\">0.0350502</td><td style = \"text-align: right;\">0.0373307</td></tr><tr><td class = \"rowNumber\" style = \"font-weight: bold; text-align: right;\">6</td><td style = \"text-align: left;\">nyc</td><td style = \"text-align: right;\">-0.714465</td><td style = \"text-align: right;\">0.212315</td><td style = \"text-align: right;\">0.189435</td><td style = \"text-align: right;\">0.196774</td><td style = \"text-align: right;\">0.196774</td><td style = \"text-align: right;\">-0.714465</td><td style = \"text-align: right;\">0.212315</td><td style = \"text-align: right;\">0.189435</td></tr><tr><td class = \"rowNumber\" style = \"font-weight: bold; text-align: right;\">7</td><td style = \"text-align: left;\">noc</td><td style = \"text-align: right;\">-0.146985</td><td style = \"text-align: right;\">0.112509</td><td style = \"text-align: right;\">0.0944512</td><td style = \"text-align: right;\">0.0997336</td><td style = \"text-align: right;\">0.0997336</td><td style = \"text-align: right;\">-0.146985</td><td style = \"text-align: right;\">0.112509</td><td style = \"text-align: right;\">0.0944512</td></tr><tr><td class = \"rowNumber\" style = \"font-weight: bold; text-align: right;\">8</td><td style = \"text-align: left;\">foreign: yes</td><td style = \"text-align: right;\">0.71438</td><td style = \"text-align: right;\">0.235501</td><td style = \"text-align: right;\">0.247242</td><td style = \"text-align: right;\">0.23779</td><td style = \"text-align: right;\">0.23779</td><td style = \"text-align: right;\">0.71438</td><td style = \"text-align: right;\">0.235501</td><td style = \"text-align: right;\">0.247242</td></tr></tbody></table></div>"
      ],
      "text/latex": [
       "\\begin{tabular}{r|cccccccc}\n",
       "\t& statistic & estimate & boot lo & boot hi & parametric lo & parametric hi & estimate 2 & \\\\\n",
       "\t\\hline\n",
       "\t& String & Float64 & Float64 & Float64 & Float64 & Float64 & Float64 & \\\\\n",
       "\t\\hline\n",
       "\t1 & (Intercept) & 3.74896 & 2.50766 & 3.04977 & 2.75695 & 2.75695 & 3.74896 & $\\dots$ \\\\\n",
       "\t2 & lnnlinc & -0.666932 & 0.280351 & 0.223761 & 0.258558 & 0.258558 & -0.666932 & $\\dots$ \\\\\n",
       "\t3 & age & 2.07531 & 0.78197 & 0.909466 & 0.794584 & 0.794584 & 2.07531 & $\\dots$ \\\\\n",
       "\t4 & age \\^ 2 & -0.294345 & 0.11103 & 0.0961656 & 0.0978895 & 0.0978895 & -0.294345 & $\\dots$ \\\\\n",
       "\t5 & educ & 0.0191963 & 0.0350502 & 0.0373307 & 0.0351333 & 0.0351333 & 0.0191963 & $\\dots$ \\\\\n",
       "\t6 & nyc & -0.714465 & 0.212315 & 0.189435 & 0.196774 & 0.196774 & -0.714465 & $\\dots$ \\\\\n",
       "\t7 & noc & -0.146985 & 0.112509 & 0.0944512 & 0.0997336 & 0.0997336 & -0.146985 & $\\dots$ \\\\\n",
       "\t8 & foreign: yes & 0.71438 & 0.235501 & 0.247242 & 0.23779 & 0.23779 & 0.71438 & $\\dots$ \\\\\n",
       "\\end{tabular}\n"
      ],
      "text/plain": [
       "\u001b[1m8×9 DataFrame\u001b[0m\n",
       "\u001b[1m Row \u001b[0m│\u001b[1m statistic    \u001b[0m\u001b[1m estimate   \u001b[0m\u001b[1m boot lo   \u001b[0m\u001b[1m boot hi   \u001b[0m\u001b[1m parametric lo \u001b[0m\u001b[1m parametr\u001b[0m ⋯\n",
       "     │\u001b[90m String       \u001b[0m\u001b[90m Float64    \u001b[0m\u001b[90m Float64   \u001b[0m\u001b[90m Float64   \u001b[0m\u001b[90m Float64       \u001b[0m\u001b[90m Float64 \u001b[0m ⋯\n",
       "─────┼──────────────────────────────────────────────────────────────────────────\n",
       "   1 │ (Intercept)    3.74896    2.50766    3.04977        2.75695        2.75 ⋯\n",
       "   2 │ lnnlinc       -0.666932   0.280351   0.223761       0.258558       0.25\n",
       "   3 │ age            2.07531    0.78197    0.909466       0.794584       0.79\n",
       "   4 │ age ^ 2       -0.294345   0.11103    0.0961656      0.0978895      0.09\n",
       "   5 │ educ           0.0191963  0.0350502  0.0373307      0.0351333      0.03 ⋯\n",
       "   6 │ nyc           -0.714465   0.212315   0.189435       0.196774       0.19\n",
       "   7 │ noc           -0.146985   0.112509   0.0944512      0.0997336      0.09\n",
       "   8 │ foreign: yes   0.71438    0.235501   0.247242       0.23779        0.23\n",
       "\u001b[36m                                                               4 columns omitted\u001b[0m"
      ]
     },
     "execution_count": 50,
     "metadata": {},
     "output_type": "execute_result"
    }
   ],
   "source": [
    "select!(conf_boot_t, Not(:bootstrap), :bootstrap => [\"estimate 2\", \"boot lo 2\", \"boot hi 2\"])"
   ]
  },
  {
   "cell_type": "markdown",
   "id": "210860c5",
   "metadata": {},
   "source": [
    "Next reorder the columns using regular expressions."
   ]
  },
  {
   "cell_type": "code",
   "execution_count": 51,
   "id": "ff8bda17",
   "metadata": {},
   "outputs": [
    {
     "data": {
      "text/html": [
       "<div><div style = \"float: left;\"><span>8×9 DataFrame</span></div><div style = \"clear: both;\"></div></div><div class = \"data-frame\" style = \"overflow-x: scroll;\"><table class = \"data-frame\" style = \"margin-bottom: 6px;\"><thead><tr class = \"header\"><th class = \"rowNumber\" style = \"font-weight: bold; text-align: right;\">Row</th><th style = \"text-align: left;\">statistic</th><th style = \"text-align: left;\">estimate</th><th style = \"text-align: left;\">estimate 2</th><th style = \"text-align: left;\">boot lo</th><th style = \"text-align: left;\">parametric lo</th><th style = \"text-align: left;\">boot lo 2</th><th style = \"text-align: left;\">boot hi</th><th style = \"text-align: left;\">parametric hi</th><th style = \"text-align: left;\">boot hi 2</th></tr><tr class = \"subheader headerLastRow\"><th class = \"rowNumber\" style = \"font-weight: bold; text-align: right;\"></th><th title = \"String\" style = \"text-align: left;\">String</th><th title = \"Float64\" style = \"text-align: left;\">Float64</th><th title = \"Float64\" style = \"text-align: left;\">Float64</th><th title = \"Float64\" style = \"text-align: left;\">Float64</th><th title = \"Float64\" style = \"text-align: left;\">Float64</th><th title = \"Float64\" style = \"text-align: left;\">Float64</th><th title = \"Float64\" style = \"text-align: left;\">Float64</th><th title = \"Float64\" style = \"text-align: left;\">Float64</th><th title = \"Float64\" style = \"text-align: left;\">Float64</th></tr></thead><tbody><tr><td class = \"rowNumber\" style = \"font-weight: bold; text-align: right;\">1</td><td style = \"text-align: left;\">(Intercept)</td><td style = \"text-align: right;\">3.74896</td><td style = \"text-align: right;\">3.74896</td><td style = \"text-align: right;\">2.50766</td><td style = \"text-align: right;\">2.75695</td><td style = \"text-align: right;\">2.50766</td><td style = \"text-align: right;\">3.04977</td><td style = \"text-align: right;\">2.75695</td><td style = \"text-align: right;\">3.04977</td></tr><tr><td class = \"rowNumber\" style = \"font-weight: bold; text-align: right;\">2</td><td style = \"text-align: left;\">lnnlinc</td><td style = \"text-align: right;\">-0.666932</td><td style = \"text-align: right;\">-0.666932</td><td style = \"text-align: right;\">0.280351</td><td style = \"text-align: right;\">0.258558</td><td style = \"text-align: right;\">0.280351</td><td style = \"text-align: right;\">0.223761</td><td style = \"text-align: right;\">0.258558</td><td style = \"text-align: right;\">0.223761</td></tr><tr><td class = \"rowNumber\" style = \"font-weight: bold; text-align: right;\">3</td><td style = \"text-align: left;\">age</td><td style = \"text-align: right;\">2.07531</td><td style = \"text-align: right;\">2.07531</td><td style = \"text-align: right;\">0.78197</td><td style = \"text-align: right;\">0.794584</td><td style = \"text-align: right;\">0.78197</td><td style = \"text-align: right;\">0.909466</td><td style = \"text-align: right;\">0.794584</td><td style = \"text-align: right;\">0.909466</td></tr><tr><td class = \"rowNumber\" style = \"font-weight: bold; text-align: right;\">4</td><td style = \"text-align: left;\">age ^ 2</td><td style = \"text-align: right;\">-0.294345</td><td style = \"text-align: right;\">-0.294345</td><td style = \"text-align: right;\">0.11103</td><td style = \"text-align: right;\">0.0978895</td><td style = \"text-align: right;\">0.11103</td><td style = \"text-align: right;\">0.0961656</td><td style = \"text-align: right;\">0.0978895</td><td style = \"text-align: right;\">0.0961656</td></tr><tr><td class = \"rowNumber\" style = \"font-weight: bold; text-align: right;\">5</td><td style = \"text-align: left;\">educ</td><td style = \"text-align: right;\">0.0191963</td><td style = \"text-align: right;\">0.0191963</td><td style = \"text-align: right;\">0.0350502</td><td style = \"text-align: right;\">0.0351333</td><td style = \"text-align: right;\">0.0350502</td><td style = \"text-align: right;\">0.0373307</td><td style = \"text-align: right;\">0.0351333</td><td style = \"text-align: right;\">0.0373307</td></tr><tr><td class = \"rowNumber\" style = \"font-weight: bold; text-align: right;\">6</td><td style = \"text-align: left;\">nyc</td><td style = \"text-align: right;\">-0.714465</td><td style = \"text-align: right;\">-0.714465</td><td style = \"text-align: right;\">0.212315</td><td style = \"text-align: right;\">0.196774</td><td style = \"text-align: right;\">0.212315</td><td style = \"text-align: right;\">0.189435</td><td style = \"text-align: right;\">0.196774</td><td style = \"text-align: right;\">0.189435</td></tr><tr><td class = \"rowNumber\" style = \"font-weight: bold; text-align: right;\">7</td><td style = \"text-align: left;\">noc</td><td style = \"text-align: right;\">-0.146985</td><td style = \"text-align: right;\">-0.146985</td><td style = \"text-align: right;\">0.112509</td><td style = \"text-align: right;\">0.0997336</td><td style = \"text-align: right;\">0.112509</td><td style = \"text-align: right;\">0.0944512</td><td style = \"text-align: right;\">0.0997336</td><td style = \"text-align: right;\">0.0944512</td></tr><tr><td class = \"rowNumber\" style = \"font-weight: bold; text-align: right;\">8</td><td style = \"text-align: left;\">foreign: yes</td><td style = \"text-align: right;\">0.71438</td><td style = \"text-align: right;\">0.71438</td><td style = \"text-align: right;\">0.235501</td><td style = \"text-align: right;\">0.23779</td><td style = \"text-align: right;\">0.235501</td><td style = \"text-align: right;\">0.247242</td><td style = \"text-align: right;\">0.23779</td><td style = \"text-align: right;\">0.247242</td></tr></tbody></table></div>"
      ],
      "text/latex": [
       "\\begin{tabular}{r|cccccccc}\n",
       "\t& statistic & estimate & estimate 2 & boot lo & parametric lo & boot lo 2 & boot hi & \\\\\n",
       "\t\\hline\n",
       "\t& String & Float64 & Float64 & Float64 & Float64 & Float64 & Float64 & \\\\\n",
       "\t\\hline\n",
       "\t1 & (Intercept) & 3.74896 & 3.74896 & 2.50766 & 2.75695 & 2.50766 & 3.04977 & $\\dots$ \\\\\n",
       "\t2 & lnnlinc & -0.666932 & -0.666932 & 0.280351 & 0.258558 & 0.280351 & 0.223761 & $\\dots$ \\\\\n",
       "\t3 & age & 2.07531 & 2.07531 & 0.78197 & 0.794584 & 0.78197 & 0.909466 & $\\dots$ \\\\\n",
       "\t4 & age \\^ 2 & -0.294345 & -0.294345 & 0.11103 & 0.0978895 & 0.11103 & 0.0961656 & $\\dots$ \\\\\n",
       "\t5 & educ & 0.0191963 & 0.0191963 & 0.0350502 & 0.0351333 & 0.0350502 & 0.0373307 & $\\dots$ \\\\\n",
       "\t6 & nyc & -0.714465 & -0.714465 & 0.212315 & 0.196774 & 0.212315 & 0.189435 & $\\dots$ \\\\\n",
       "\t7 & noc & -0.146985 & -0.146985 & 0.112509 & 0.0997336 & 0.112509 & 0.0944512 & $\\dots$ \\\\\n",
       "\t8 & foreign: yes & 0.71438 & 0.71438 & 0.235501 & 0.23779 & 0.235501 & 0.247242 & $\\dots$ \\\\\n",
       "\\end{tabular}\n"
      ],
      "text/plain": [
       "\u001b[1m8×9 DataFrame\u001b[0m\n",
       "\u001b[1m Row \u001b[0m│\u001b[1m statistic    \u001b[0m\u001b[1m estimate   \u001b[0m\u001b[1m estimate 2 \u001b[0m\u001b[1m boot lo   \u001b[0m\u001b[1m parametric lo \u001b[0m\u001b[1m boot lo\u001b[0m ⋯\n",
       "     │\u001b[90m String       \u001b[0m\u001b[90m Float64    \u001b[0m\u001b[90m Float64    \u001b[0m\u001b[90m Float64   \u001b[0m\u001b[90m Float64       \u001b[0m\u001b[90m Float64\u001b[0m ⋯\n",
       "─────┼──────────────────────────────────────────────────────────────────────────\n",
       "   1 │ (Intercept)    3.74896     3.74896    2.50766        2.75695    2.50766 ⋯\n",
       "   2 │ lnnlinc       -0.666932   -0.666932   0.280351       0.258558   0.28035\n",
       "   3 │ age            2.07531     2.07531    0.78197        0.794584   0.78197\n",
       "   4 │ age ^ 2       -0.294345   -0.294345   0.11103        0.0978895  0.11103\n",
       "   5 │ educ           0.0191963   0.0191963  0.0350502      0.0351333  0.03505 ⋯\n",
       "   6 │ nyc           -0.714465   -0.714465   0.212315       0.196774   0.21231\n",
       "   7 │ noc           -0.146985   -0.146985   0.112509       0.0997336  0.11250\n",
       "   8 │ foreign: yes   0.71438     0.71438    0.235501       0.23779    0.23550\n",
       "\u001b[36m                                                               4 columns omitted\u001b[0m"
      ]
     },
     "execution_count": 51,
     "metadata": {},
     "output_type": "execute_result"
    }
   ],
   "source": [
    "select(conf_boot_t, :statistic, r\"estimate\", r\"lo\", r\"hi\")"
   ]
  },
  {
   "cell_type": "markdown",
   "id": "f6105ee8",
   "metadata": {},
   "source": [
    "More discussion of various column selectors supported can be found [here](https://bkamins.github.io/julialang/2021/02/06/colsel.html)."
   ]
  },
  {
   "cell_type": "markdown",
   "id": "3f118c31",
   "metadata": {},
   "source": [
    "Now we can more easily see that our manual computations produce exactly the same results as the Bootstrap.jl package."
   ]
  },
  {
   "cell_type": "markdown",
   "id": "49d7372a",
   "metadata": {},
   "source": [
    "Before we finish sort our data frame by the `:estimate`:"
   ]
  },
  {
   "cell_type": "code",
   "execution_count": 52,
   "id": "d2352f4c",
   "metadata": {},
   "outputs": [
    {
     "data": {
      "text/html": [
       "<div><div style = \"float: left;\"><span>8×9 DataFrame</span></div><div style = \"clear: both;\"></div></div><div class = \"data-frame\" style = \"overflow-x: scroll;\"><table class = \"data-frame\" style = \"margin-bottom: 6px;\"><thead><tr class = \"header\"><th class = \"rowNumber\" style = \"font-weight: bold; text-align: right;\">Row</th><th style = \"text-align: left;\">statistic</th><th style = \"text-align: left;\">estimate</th><th style = \"text-align: left;\">boot lo</th><th style = \"text-align: left;\">boot hi</th><th style = \"text-align: left;\">parametric lo</th><th style = \"text-align: left;\">parametric hi</th><th style = \"text-align: left;\">estimate 2</th><th style = \"text-align: left;\">boot lo 2</th><th style = \"text-align: left;\">boot hi 2</th></tr><tr class = \"subheader headerLastRow\"><th class = \"rowNumber\" style = \"font-weight: bold; text-align: right;\"></th><th title = \"String\" style = \"text-align: left;\">String</th><th title = \"Float64\" style = \"text-align: left;\">Float64</th><th title = \"Float64\" style = \"text-align: left;\">Float64</th><th title = \"Float64\" style = \"text-align: left;\">Float64</th><th title = \"Float64\" style = \"text-align: left;\">Float64</th><th title = \"Float64\" style = \"text-align: left;\">Float64</th><th title = \"Float64\" style = \"text-align: left;\">Float64</th><th title = \"Float64\" style = \"text-align: left;\">Float64</th><th title = \"Float64\" style = \"text-align: left;\">Float64</th></tr></thead><tbody><tr><td class = \"rowNumber\" style = \"font-weight: bold; text-align: right;\">1</td><td style = \"text-align: left;\">nyc</td><td style = \"text-align: right;\">-0.714465</td><td style = \"text-align: right;\">0.212315</td><td style = \"text-align: right;\">0.189435</td><td style = \"text-align: right;\">0.196774</td><td style = \"text-align: right;\">0.196774</td><td style = \"text-align: right;\">-0.714465</td><td style = \"text-align: right;\">0.212315</td><td style = \"text-align: right;\">0.189435</td></tr><tr><td class = \"rowNumber\" style = \"font-weight: bold; text-align: right;\">2</td><td style = \"text-align: left;\">lnnlinc</td><td style = \"text-align: right;\">-0.666932</td><td style = \"text-align: right;\">0.280351</td><td style = \"text-align: right;\">0.223761</td><td style = \"text-align: right;\">0.258558</td><td style = \"text-align: right;\">0.258558</td><td style = \"text-align: right;\">-0.666932</td><td style = \"text-align: right;\">0.280351</td><td style = \"text-align: right;\">0.223761</td></tr><tr><td class = \"rowNumber\" style = \"font-weight: bold; text-align: right;\">3</td><td style = \"text-align: left;\">age ^ 2</td><td style = \"text-align: right;\">-0.294345</td><td style = \"text-align: right;\">0.11103</td><td style = \"text-align: right;\">0.0961656</td><td style = \"text-align: right;\">0.0978895</td><td style = \"text-align: right;\">0.0978895</td><td style = \"text-align: right;\">-0.294345</td><td style = \"text-align: right;\">0.11103</td><td style = \"text-align: right;\">0.0961656</td></tr><tr><td class = \"rowNumber\" style = \"font-weight: bold; text-align: right;\">4</td><td style = \"text-align: left;\">noc</td><td style = \"text-align: right;\">-0.146985</td><td style = \"text-align: right;\">0.112509</td><td style = \"text-align: right;\">0.0944512</td><td style = \"text-align: right;\">0.0997336</td><td style = \"text-align: right;\">0.0997336</td><td style = \"text-align: right;\">-0.146985</td><td style = \"text-align: right;\">0.112509</td><td style = \"text-align: right;\">0.0944512</td></tr><tr><td class = \"rowNumber\" style = \"font-weight: bold; text-align: right;\">5</td><td style = \"text-align: left;\">educ</td><td style = \"text-align: right;\">0.0191963</td><td style = \"text-align: right;\">0.0350502</td><td style = \"text-align: right;\">0.0373307</td><td style = \"text-align: right;\">0.0351333</td><td style = \"text-align: right;\">0.0351333</td><td style = \"text-align: right;\">0.0191963</td><td style = \"text-align: right;\">0.0350502</td><td style = \"text-align: right;\">0.0373307</td></tr><tr><td class = \"rowNumber\" style = \"font-weight: bold; text-align: right;\">6</td><td style = \"text-align: left;\">foreign: yes</td><td style = \"text-align: right;\">0.71438</td><td style = \"text-align: right;\">0.235501</td><td style = \"text-align: right;\">0.247242</td><td style = \"text-align: right;\">0.23779</td><td style = \"text-align: right;\">0.23779</td><td style = \"text-align: right;\">0.71438</td><td style = \"text-align: right;\">0.235501</td><td style = \"text-align: right;\">0.247242</td></tr><tr><td class = \"rowNumber\" style = \"font-weight: bold; text-align: right;\">7</td><td style = \"text-align: left;\">age</td><td style = \"text-align: right;\">2.07531</td><td style = \"text-align: right;\">0.78197</td><td style = \"text-align: right;\">0.909466</td><td style = \"text-align: right;\">0.794584</td><td style = \"text-align: right;\">0.794584</td><td style = \"text-align: right;\">2.07531</td><td style = \"text-align: right;\">0.78197</td><td style = \"text-align: right;\">0.909466</td></tr><tr><td class = \"rowNumber\" style = \"font-weight: bold; text-align: right;\">8</td><td style = \"text-align: left;\">(Intercept)</td><td style = \"text-align: right;\">3.74896</td><td style = \"text-align: right;\">2.50766</td><td style = \"text-align: right;\">3.04977</td><td style = \"text-align: right;\">2.75695</td><td style = \"text-align: right;\">2.75695</td><td style = \"text-align: right;\">3.74896</td><td style = \"text-align: right;\">2.50766</td><td style = \"text-align: right;\">3.04977</td></tr></tbody></table></div>"
      ],
      "text/latex": [
       "\\begin{tabular}{r|cccccccc}\n",
       "\t& statistic & estimate & boot lo & boot hi & parametric lo & parametric hi & estimate 2 & \\\\\n",
       "\t\\hline\n",
       "\t& String & Float64 & Float64 & Float64 & Float64 & Float64 & Float64 & \\\\\n",
       "\t\\hline\n",
       "\t1 & nyc & -0.714465 & 0.212315 & 0.189435 & 0.196774 & 0.196774 & -0.714465 & $\\dots$ \\\\\n",
       "\t2 & lnnlinc & -0.666932 & 0.280351 & 0.223761 & 0.258558 & 0.258558 & -0.666932 & $\\dots$ \\\\\n",
       "\t3 & age \\^ 2 & -0.294345 & 0.11103 & 0.0961656 & 0.0978895 & 0.0978895 & -0.294345 & $\\dots$ \\\\\n",
       "\t4 & noc & -0.146985 & 0.112509 & 0.0944512 & 0.0997336 & 0.0997336 & -0.146985 & $\\dots$ \\\\\n",
       "\t5 & educ & 0.0191963 & 0.0350502 & 0.0373307 & 0.0351333 & 0.0351333 & 0.0191963 & $\\dots$ \\\\\n",
       "\t6 & foreign: yes & 0.71438 & 0.235501 & 0.247242 & 0.23779 & 0.23779 & 0.71438 & $\\dots$ \\\\\n",
       "\t7 & age & 2.07531 & 0.78197 & 0.909466 & 0.794584 & 0.794584 & 2.07531 & $\\dots$ \\\\\n",
       "\t8 & (Intercept) & 3.74896 & 2.50766 & 3.04977 & 2.75695 & 2.75695 & 3.74896 & $\\dots$ \\\\\n",
       "\\end{tabular}\n"
      ],
      "text/plain": [
       "\u001b[1m8×9 DataFrame\u001b[0m\n",
       "\u001b[1m Row \u001b[0m│\u001b[1m statistic    \u001b[0m\u001b[1m estimate   \u001b[0m\u001b[1m boot lo   \u001b[0m\u001b[1m boot hi   \u001b[0m\u001b[1m parametric lo \u001b[0m\u001b[1m parametr\u001b[0m ⋯\n",
       "     │\u001b[90m String       \u001b[0m\u001b[90m Float64    \u001b[0m\u001b[90m Float64   \u001b[0m\u001b[90m Float64   \u001b[0m\u001b[90m Float64       \u001b[0m\u001b[90m Float64 \u001b[0m ⋯\n",
       "─────┼──────────────────────────────────────────────────────────────────────────\n",
       "   1 │ nyc           -0.714465   0.212315   0.189435       0.196774       0.19 ⋯\n",
       "   2 │ lnnlinc       -0.666932   0.280351   0.223761       0.258558       0.25\n",
       "   3 │ age ^ 2       -0.294345   0.11103    0.0961656      0.0978895      0.09\n",
       "   4 │ noc           -0.146985   0.112509   0.0944512      0.0997336      0.09\n",
       "   5 │ educ           0.0191963  0.0350502  0.0373307      0.0351333      0.03 ⋯\n",
       "   6 │ foreign: yes   0.71438    0.235501   0.247242       0.23779        0.23\n",
       "   7 │ age            2.07531    0.78197    0.909466       0.794584       0.79\n",
       "   8 │ (Intercept)    3.74896    2.50766    3.04977        2.75695        2.75\n",
       "\u001b[36m                                                               4 columns omitted\u001b[0m"
      ]
     },
     "execution_count": 52,
     "metadata": {},
     "output_type": "execute_result"
    }
   ],
   "source": [
    "sort(conf_boot_t, :estimate)"
   ]
  },
  {
   "cell_type": "markdown",
   "id": "a71d91f3",
   "metadata": {},
   "source": [
    "Here is some more advanced example, where we sort the rows by the width of the confidence interval:"
   ]
  },
  {
   "cell_type": "code",
   "execution_count": 53,
   "id": "b7d1d9ee",
   "metadata": {},
   "outputs": [
    {
     "data": {
      "text/html": [
       "<div><div style = \"float: left;\"><span>8×9 DataFrame</span></div><div style = \"clear: both;\"></div></div><div class = \"data-frame\" style = \"overflow-x: scroll;\"><table class = \"data-frame\" style = \"margin-bottom: 6px;\"><thead><tr class = \"header\"><th class = \"rowNumber\" style = \"font-weight: bold; text-align: right;\">Row</th><th style = \"text-align: left;\">statistic</th><th style = \"text-align: left;\">estimate</th><th style = \"text-align: left;\">boot lo</th><th style = \"text-align: left;\">boot hi</th><th style = \"text-align: left;\">parametric lo</th><th style = \"text-align: left;\">parametric hi</th><th style = \"text-align: left;\">estimate 2</th><th style = \"text-align: left;\">boot lo 2</th><th style = \"text-align: left;\">boot hi 2</th></tr><tr class = \"subheader headerLastRow\"><th class = \"rowNumber\" style = \"font-weight: bold; text-align: right;\"></th><th title = \"String\" style = \"text-align: left;\">String</th><th title = \"Float64\" style = \"text-align: left;\">Float64</th><th title = \"Float64\" style = \"text-align: left;\">Float64</th><th title = \"Float64\" style = \"text-align: left;\">Float64</th><th title = \"Float64\" style = \"text-align: left;\">Float64</th><th title = \"Float64\" style = \"text-align: left;\">Float64</th><th title = \"Float64\" style = \"text-align: left;\">Float64</th><th title = \"Float64\" style = \"text-align: left;\">Float64</th><th title = \"Float64\" style = \"text-align: left;\">Float64</th></tr></thead><tbody><tr><td class = \"rowNumber\" style = \"font-weight: bold; text-align: right;\">1</td><td style = \"text-align: left;\">educ</td><td style = \"text-align: right;\">0.0191963</td><td style = \"text-align: right;\">0.0350502</td><td style = \"text-align: right;\">0.0373307</td><td style = \"text-align: right;\">0.0351333</td><td style = \"text-align: right;\">0.0351333</td><td style = \"text-align: right;\">0.0191963</td><td style = \"text-align: right;\">0.0350502</td><td style = \"text-align: right;\">0.0373307</td></tr><tr><td class = \"rowNumber\" style = \"font-weight: bold; text-align: right;\">2</td><td style = \"text-align: left;\">noc</td><td style = \"text-align: right;\">-0.146985</td><td style = \"text-align: right;\">0.112509</td><td style = \"text-align: right;\">0.0944512</td><td style = \"text-align: right;\">0.0997336</td><td style = \"text-align: right;\">0.0997336</td><td style = \"text-align: right;\">-0.146985</td><td style = \"text-align: right;\">0.112509</td><td style = \"text-align: right;\">0.0944512</td></tr><tr><td class = \"rowNumber\" style = \"font-weight: bold; text-align: right;\">3</td><td style = \"text-align: left;\">age ^ 2</td><td style = \"text-align: right;\">-0.294345</td><td style = \"text-align: right;\">0.11103</td><td style = \"text-align: right;\">0.0961656</td><td style = \"text-align: right;\">0.0978895</td><td style = \"text-align: right;\">0.0978895</td><td style = \"text-align: right;\">-0.294345</td><td style = \"text-align: right;\">0.11103</td><td style = \"text-align: right;\">0.0961656</td></tr><tr><td class = \"rowNumber\" style = \"font-weight: bold; text-align: right;\">4</td><td style = \"text-align: left;\">nyc</td><td style = \"text-align: right;\">-0.714465</td><td style = \"text-align: right;\">0.212315</td><td style = \"text-align: right;\">0.189435</td><td style = \"text-align: right;\">0.196774</td><td style = \"text-align: right;\">0.196774</td><td style = \"text-align: right;\">-0.714465</td><td style = \"text-align: right;\">0.212315</td><td style = \"text-align: right;\">0.189435</td></tr><tr><td class = \"rowNumber\" style = \"font-weight: bold; text-align: right;\">5</td><td style = \"text-align: left;\">foreign: yes</td><td style = \"text-align: right;\">0.71438</td><td style = \"text-align: right;\">0.235501</td><td style = \"text-align: right;\">0.247242</td><td style = \"text-align: right;\">0.23779</td><td style = \"text-align: right;\">0.23779</td><td style = \"text-align: right;\">0.71438</td><td style = \"text-align: right;\">0.235501</td><td style = \"text-align: right;\">0.247242</td></tr><tr><td class = \"rowNumber\" style = \"font-weight: bold; text-align: right;\">6</td><td style = \"text-align: left;\">lnnlinc</td><td style = \"text-align: right;\">-0.666932</td><td style = \"text-align: right;\">0.280351</td><td style = \"text-align: right;\">0.223761</td><td style = \"text-align: right;\">0.258558</td><td style = \"text-align: right;\">0.258558</td><td style = \"text-align: right;\">-0.666932</td><td style = \"text-align: right;\">0.280351</td><td style = \"text-align: right;\">0.223761</td></tr><tr><td class = \"rowNumber\" style = \"font-weight: bold; text-align: right;\">7</td><td style = \"text-align: left;\">age</td><td style = \"text-align: right;\">2.07531</td><td style = \"text-align: right;\">0.78197</td><td style = \"text-align: right;\">0.909466</td><td style = \"text-align: right;\">0.794584</td><td style = \"text-align: right;\">0.794584</td><td style = \"text-align: right;\">2.07531</td><td style = \"text-align: right;\">0.78197</td><td style = \"text-align: right;\">0.909466</td></tr><tr><td class = \"rowNumber\" style = \"font-weight: bold; text-align: right;\">8</td><td style = \"text-align: left;\">(Intercept)</td><td style = \"text-align: right;\">3.74896</td><td style = \"text-align: right;\">2.50766</td><td style = \"text-align: right;\">3.04977</td><td style = \"text-align: right;\">2.75695</td><td style = \"text-align: right;\">2.75695</td><td style = \"text-align: right;\">3.74896</td><td style = \"text-align: right;\">2.50766</td><td style = \"text-align: right;\">3.04977</td></tr></tbody></table></div>"
      ],
      "text/latex": [
       "\\begin{tabular}{r|cccccccc}\n",
       "\t& statistic & estimate & boot lo & boot hi & parametric lo & parametric hi & estimate 2 & \\\\\n",
       "\t\\hline\n",
       "\t& String & Float64 & Float64 & Float64 & Float64 & Float64 & Float64 & \\\\\n",
       "\t\\hline\n",
       "\t1 & educ & 0.0191963 & 0.0350502 & 0.0373307 & 0.0351333 & 0.0351333 & 0.0191963 & $\\dots$ \\\\\n",
       "\t2 & noc & -0.146985 & 0.112509 & 0.0944512 & 0.0997336 & 0.0997336 & -0.146985 & $\\dots$ \\\\\n",
       "\t3 & age \\^ 2 & -0.294345 & 0.11103 & 0.0961656 & 0.0978895 & 0.0978895 & -0.294345 & $\\dots$ \\\\\n",
       "\t4 & nyc & -0.714465 & 0.212315 & 0.189435 & 0.196774 & 0.196774 & -0.714465 & $\\dots$ \\\\\n",
       "\t5 & foreign: yes & 0.71438 & 0.235501 & 0.247242 & 0.23779 & 0.23779 & 0.71438 & $\\dots$ \\\\\n",
       "\t6 & lnnlinc & -0.666932 & 0.280351 & 0.223761 & 0.258558 & 0.258558 & -0.666932 & $\\dots$ \\\\\n",
       "\t7 & age & 2.07531 & 0.78197 & 0.909466 & 0.794584 & 0.794584 & 2.07531 & $\\dots$ \\\\\n",
       "\t8 & (Intercept) & 3.74896 & 2.50766 & 3.04977 & 2.75695 & 2.75695 & 3.74896 & $\\dots$ \\\\\n",
       "\\end{tabular}\n"
      ],
      "text/plain": [
       "\u001b[1m8×9 DataFrame\u001b[0m\n",
       "\u001b[1m Row \u001b[0m│\u001b[1m statistic    \u001b[0m\u001b[1m estimate   \u001b[0m\u001b[1m boot lo   \u001b[0m\u001b[1m boot hi   \u001b[0m\u001b[1m parametric lo \u001b[0m\u001b[1m parametr\u001b[0m ⋯\n",
       "     │\u001b[90m String       \u001b[0m\u001b[90m Float64    \u001b[0m\u001b[90m Float64   \u001b[0m\u001b[90m Float64   \u001b[0m\u001b[90m Float64       \u001b[0m\u001b[90m Float64 \u001b[0m ⋯\n",
       "─────┼──────────────────────────────────────────────────────────────────────────\n",
       "   1 │ educ           0.0191963  0.0350502  0.0373307      0.0351333      0.03 ⋯\n",
       "   2 │ noc           -0.146985   0.112509   0.0944512      0.0997336      0.09\n",
       "   3 │ age ^ 2       -0.294345   0.11103    0.0961656      0.0978895      0.09\n",
       "   4 │ nyc           -0.714465   0.212315   0.189435       0.196774       0.19\n",
       "   5 │ foreign: yes   0.71438    0.235501   0.247242       0.23779        0.23 ⋯\n",
       "   6 │ lnnlinc       -0.666932   0.280351   0.223761       0.258558       0.25\n",
       "   7 │ age            2.07531    0.78197    0.909466       0.794584       0.79\n",
       "   8 │ (Intercept)    3.74896    2.50766    3.04977        2.75695        2.75\n",
       "\u001b[36m                                                               4 columns omitted\u001b[0m"
      ]
     },
     "execution_count": 53,
     "metadata": {},
     "output_type": "execute_result"
    }
   ],
   "source": [
    "conf_boot_t[sortperm(conf_boot_t.\"boot hi\" + conf_boot_t.\"boot lo\"), :]"
   ]
  },
  {
   "cell_type": "markdown",
   "id": "f76e6583",
   "metadata": {},
   "source": [
    "More examples of sorting data frames can be found [here](https://bkamins.github.io/julialang/2021/03/12/sorting.html)."
   ]
  },
  {
   "cell_type": "markdown",
   "id": "1c8bae3c",
   "metadata": {},
   "source": [
    "## That is all for today"
   ]
  },
  {
   "cell_type": "markdown",
   "id": "e43d40c1",
   "metadata": {},
   "source": [
    "I hope you enjoyed the tutorial.\n",
    "\n",
    "If you would like to learn more about [DataFrames.jl](https://github.com/JuliaData/DataFrames.jl) please do not hesitate to visit its documentation [here](https://dataframes.juliadata.org/stable/)."
   ]
  }
 ],
 "metadata": {
  "kernelspec": {
   "display_name": "Julia 1.9.0",
   "language": "julia",
   "name": "julia-1.9"
  },
  "language_info": {
   "file_extension": ".jl",
   "mimetype": "application/julia",
   "name": "julia",
   "version": "1.9.0"
  }
 },
 "nbformat": 4,
 "nbformat_minor": 5
}
